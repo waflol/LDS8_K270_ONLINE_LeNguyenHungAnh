{
 "cells": [
  {
   "cell_type": "code",
   "execution_count": 1,
   "id": "2185d589",
   "metadata": {},
   "outputs": [],
   "source": [
    "import warnings\n",
    "warnings.filterwarnings('ignore')"
   ]
  },
  {
   "cell_type": "code",
   "execution_count": 4,
   "id": "a0db68a6",
   "metadata": {},
   "outputs": [],
   "source": [
    "from tensorflow.keras.layers import Dense, Conv2D, Flatten\n",
    "from tensorflow.keras.layers import MaxPooling2D, Dropout,InputLayer\n",
    "import matplotlib.pyplot as plt\n",
    "from tensorflow.keras.utils import to_categorical\n",
    "import numpy as np\n",
    "import tensorflow as tf\n",
    "from tensorflow.keras.models import Model,Sequential\n",
    "from tensorflow.keras import Input\n",
    "from tensorflow.keras.datasets import fashion_mnist"
   ]
  },
  {
   "cell_type": "code",
   "execution_count": 5,
   "id": "cd93f5b2",
   "metadata": {},
   "outputs": [
    {
     "name": "stdout",
     "output_type": "stream",
     "text": [
      "Downloading data from https://storage.googleapis.com/tensorflow/tf-keras-datasets/train-labels-idx1-ubyte.gz\n",
      "32768/29515 [=================================] - 1s 24us/step\n",
      "40960/29515 [=========================================] - 1s 19us/step\n",
      "Downloading data from https://storage.googleapis.com/tensorflow/tf-keras-datasets/train-images-idx3-ubyte.gz\n",
      "26427392/26421880 [==============================] - 11s 0us/step\n",
      "26435584/26421880 [==============================] - 11s 0us/step\n",
      "Downloading data from https://storage.googleapis.com/tensorflow/tf-keras-datasets/t10k-labels-idx1-ubyte.gz\n",
      "16384/5148 [===============================================================================================] - 0s 0s/step\n",
      "Downloading data from https://storage.googleapis.com/tensorflow/tf-keras-datasets/t10k-images-idx3-ubyte.gz\n",
      "4423680/4422102 [==============================] - 27s 6us/step\n",
      "4431872/4422102 [==============================] - 27s 6us/step\n"
     ]
    }
   ],
   "source": [
    "(X_train, y_train), (X_test, y_test) = fashion_mnist.load_data()"
   ]
  },
  {
   "cell_type": "code",
   "execution_count": 6,
   "id": "8ed897ca",
   "metadata": {},
   "outputs": [],
   "source": [
    "assert len(np.unique(y_train)) == len(np.unique(y_test))\n",
    "assert X_train.shape[1:] == X_test.shape[1:]"
   ]
  },
  {
   "cell_type": "code",
   "execution_count": 7,
   "id": "3d639efe",
   "metadata": {},
   "outputs": [],
   "source": [
    "num_classes = len(np.unique(y_train))\n",
    "epochs = 50"
   ]
  },
  {
   "cell_type": "code",
   "execution_count": 8,
   "id": "97552e8f",
   "metadata": {},
   "outputs": [],
   "source": [
    "y_train = to_categorical(y_train, num_classes)\n",
    "y_test = to_categorical(y_test, num_classes)"
   ]
  },
  {
   "cell_type": "code",
   "execution_count": 9,
   "id": "43b68706",
   "metadata": {},
   "outputs": [
    {
     "data": {
      "text/plain": [
       "(5, 28, 28)"
      ]
     },
     "execution_count": 9,
     "metadata": {},
     "output_type": "execute_result"
    }
   ],
   "source": [
    "test_images = X_test[:5]\n",
    "test_images.shape"
   ]
  },
  {
   "cell_type": "code",
   "execution_count": 10,
   "id": "92a06bce",
   "metadata": {},
   "outputs": [
    {
     "data": {
      "text/plain": [
       "<matplotlib.image.AxesImage at 0x13879da8910>"
      ]
     },
     "execution_count": 10,
     "metadata": {},
     "output_type": "execute_result"
    },
    {
     "data": {
      "image/png": "[encoded data removed]",
      "text/plain": [
       "<Figure size 432x288 with 1 Axes>"
      ]
     },
     "metadata": {
      "needs_background": "light"
     },
     "output_type": "display_data"
    }
   ],
   "source": [
    "plt.imshow(test_images[0])"
   ]
  },
  {
   "cell_type": "code",
   "execution_count": 11,
   "id": "bc7eefdc",
   "metadata": {},
   "outputs": [],
   "source": [
    "X_train = X_train.reshape(X_train.shape[0], X_train.shape[1], X_train.shape[2], 1)\n",
    "X_train = X_train.astype('float32')\n",
    "X_train /= 255\n",
    "\n",
    "X_test = X_test.reshape(X_test.shape[0], X_test.shape[1], X_test.shape[2], 1)\n",
    "X_test = X_test.astype('float32')\n",
    "X_test /= 255"
   ]
  },
  {
   "cell_type": "code",
   "execution_count": 12,
   "id": "69f0b584",
   "metadata": {},
   "outputs": [],
   "source": [
    "def createModel(input_shape,num_classes=10):\n",
    "    model = Sequential()\n",
    "    model.add(Conv2D(32, (3, 3), padding='same', activation='relu', input_shape=input_shape))\n",
    "    model.add(Conv2D(32, (3, 3), activation='relu'))\n",
    "    model.add(MaxPooling2D(pool_size=(2, 2)))\n",
    "    model.add(Dropout(0.25))\n",
    " \n",
    "    model.add(Conv2D(64, (3, 3), padding='same', activation='relu'))\n",
    "    model.add(Conv2D(64, (3, 3), activation='relu'))\n",
    "    model.add(MaxPooling2D(pool_size=(2, 2)))\n",
    "    model.add(Dropout(0.25))\n",
    " \n",
    "    model.add(Conv2D(64, (3, 3), padding='same', activation='relu'))\n",
    "    model.add(Conv2D(64, (3, 3), activation='relu'))\n",
    "    model.add(MaxPooling2D(pool_size=(2, 2)))\n",
    "    model.add(Dropout(0.25))\n",
    " \n",
    "    model.add(Flatten())\n",
    "    model.add(Dense(512, activation='relu'))\n",
    "    model.add(Dropout(0.5))\n",
    "    model.add(Dense(num_classes, activation='softmax'))\n",
    "     \n",
    "    return model"
   ]
  },
  {
   "cell_type": "code",
   "execution_count": 13,
   "id": "90d418a8",
   "metadata": {},
   "outputs": [
    {
     "name": "stdout",
     "output_type": "stream",
     "text": [
      "Model: \"sequential\"\n",
      "_________________________________________________________________\n",
      "Layer (type)                 Output Shape              Param #   \n",
      "=================================================================\n",
      "conv2d (Conv2D)              (None, 28, 28, 32)        320       \n",
      "_________________________________________________________________\n",
      "conv2d_1 (Conv2D)            (None, 26, 26, 32)        9248      \n",
      "_________________________________________________________________\n",
      "max_pooling2d (MaxPooling2D) (None, 13, 13, 32)        0         \n",
      "_________________________________________________________________\n",
      "dropout (Dropout)            (None, 13, 13, 32)        0         \n",
      "_________________________________________________________________\n",
      "conv2d_2 (Conv2D)            (None, 13, 13, 64)        18496     \n",
      "_________________________________________________________________\n",
      "conv2d_3 (Conv2D)            (None, 11, 11, 64)        36928     \n",
      "_________________________________________________________________\n",
      "max_pooling2d_1 (MaxPooling2 (None, 5, 5, 64)          0         \n",
      "_________________________________________________________________\n",
      "dropout_1 (Dropout)          (None, 5, 5, 64)          0         \n",
      "_________________________________________________________________\n",
      "conv2d_4 (Conv2D)            (None, 5, 5, 64)          36928     \n",
      "_________________________________________________________________\n",
      "conv2d_5 (Conv2D)            (None, 3, 3, 64)          36928     \n",
      "_________________________________________________________________\n",
      "max_pooling2d_2 (MaxPooling2 (None, 1, 1, 64)          0         \n",
      "_________________________________________________________________\n",
      "dropout_2 (Dropout)          (None, 1, 1, 64)          0         \n",
      "_________________________________________________________________\n",
      "flatten (Flatten)            (None, 64)                0         \n",
      "_________________________________________________________________\n",
      "dense (Dense)                (None, 512)               33280     \n",
      "_________________________________________________________________\n",
      "dropout_3 (Dropout)          (None, 512)               0         \n",
      "_________________________________________________________________\n",
      "dense_1 (Dense)              (None, 10)                5130      \n",
      "=================================================================\n",
      "Total params: 177,258\n",
      "Trainable params: 177,258\n",
      "Non-trainable params: 0\n",
      "_________________________________________________________________\n"
     ]
    }
   ],
   "source": [
    "model = createModel(X_train.shape[1:],10)\n",
    "model.summary()"
   ]
  },
  {
   "cell_type": "code",
   "execution_count": 14,
   "id": "03f2a3a5",
   "metadata": {},
   "outputs": [],
   "source": [
    "loss = 'categorical_crossentropy'\n",
    "metrics=['accuracy']\n",
    "model.compile(optimizer='adam',loss=loss,metrics=metrics)"
   ]
  },
  {
   "cell_type": "code",
   "execution_count": 15,
   "id": "8d8b8131",
   "metadata": {},
   "outputs": [],
   "source": [
    "from ann_visualizer.visualize import ann_viz"
   ]
  },
  {
   "cell_type": "code",
   "execution_count": 16,
   "id": "4b298c52",
   "metadata": {},
   "outputs": [],
   "source": [
    "ann_viz(model, title=\"chapter4_Ex2\",filename='chapter4_Ex2.gv')"
   ]
  },
  {
   "cell_type": "code",
   "execution_count": 18,
   "id": "fb4a0f18",
   "metadata": {},
   "outputs": [],
   "source": [
    "from tensorflow.keras.callbacks import EarlyStopping,ModelCheckpoint\n",
    "from tensorflow.keras.preprocessing.image import ImageDataGenerator \n",
    "callbacks=[EarlyStopping(monitor='val_accuracy',patience=20),\n",
    "          ModelCheckpoint('model_ex2.h5',save_best_only=True, mode='max')\n",
    "          ]"
   ]
  },
  {
   "cell_type": "code",
   "execution_count": 19,
   "id": "1e6a7469",
   "metadata": {},
   "outputs": [],
   "source": [
    "from sklearn.model_selection import train_test_split\n",
    "X_train,X_valid,y_train,y_valid = train_test_split(X_train,y_train,test_size=0.3,shuffle=True,random_state=12)"
   ]
  },
  {
   "cell_type": "code",
   "execution_count": 20,
   "id": "dd2c0a91",
   "metadata": {},
   "outputs": [
    {
     "name": "stdout",
     "output_type": "stream",
     "text": [
      "Epoch 1/50\n",
      "1313/1313 [==============================] - 14s 8ms/step - loss: 0.7370 - accuracy: 0.7217 - val_loss: 0.4552 - val_accuracy: 0.8309\n",
      "Epoch 2/50\n",
      "1313/1313 [==============================] - 9s 7ms/step - loss: 0.4464 - accuracy: 0.8379 - val_loss: 0.3335 - val_accuracy: 0.8736\n",
      "Epoch 3/50\n",
      "1313/1313 [==============================] - 9s 7ms/step - loss: 0.3714 - accuracy: 0.8668 - val_loss: 0.2924 - val_accuracy: 0.8900\n",
      "Epoch 4/50\n",
      "1313/1313 [==============================] - 9s 7ms/step - loss: 0.3331 - accuracy: 0.8784 - val_loss: 0.2945 - val_accuracy: 0.8906\n",
      "Epoch 5/50\n",
      "1313/1313 [==============================] - 9s 7ms/step - loss: 0.3092 - accuracy: 0.8886 - val_loss: 0.2576 - val_accuracy: 0.9048\n",
      "Epoch 6/50\n",
      "1313/1313 [==============================] - 9s 7ms/step - loss: 0.2947 - accuracy: 0.8938 - val_loss: 0.2582 - val_accuracy: 0.9064\n",
      "Epoch 7/50\n",
      "1313/1313 [==============================] - 10s 7ms/step - loss: 0.2760 - accuracy: 0.9001 - val_loss: 0.2409 - val_accuracy: 0.9133\n",
      "Epoch 8/50\n",
      "1313/1313 [==============================] - 9s 7ms/step - loss: 0.2694 - accuracy: 0.9051 - val_loss: 0.2384 - val_accuracy: 0.9117\n",
      "Epoch 9/50\n",
      "1313/1313 [==============================] - 10s 7ms/step - loss: 0.2610 - accuracy: 0.9060 - val_loss: 0.2413 - val_accuracy: 0.9109\n",
      "Epoch 10/50\n",
      "1313/1313 [==============================] - 9s 7ms/step - loss: 0.2530 - accuracy: 0.9097 - val_loss: 0.2322 - val_accuracy: 0.9172\n",
      "Epoch 11/50\n",
      "1313/1313 [==============================] - 9s 7ms/step - loss: 0.2455 - accuracy: 0.9123 - val_loss: 0.2348 - val_accuracy: 0.9167\n",
      "Epoch 12/50\n",
      "1313/1313 [==============================] - 10s 7ms/step - loss: 0.2425 - accuracy: 0.9121 - val_loss: 0.2265 - val_accuracy: 0.9173\n",
      "Epoch 13/50\n",
      "1313/1313 [==============================] - 10s 7ms/step - loss: 0.2384 - accuracy: 0.9147 - val_loss: 0.2246 - val_accuracy: 0.9168\n",
      "Epoch 14/50\n",
      "1313/1313 [==============================] - 9s 7ms/step - loss: 0.2330 - accuracy: 0.9159 - val_loss: 0.2263 - val_accuracy: 0.9197\n",
      "Epoch 15/50\n",
      "1313/1313 [==============================] - 9s 7ms/step - loss: 0.2292 - accuracy: 0.9176 - val_loss: 0.2302 - val_accuracy: 0.9171\n",
      "Epoch 16/50\n",
      "1313/1313 [==============================] - 9s 7ms/step - loss: 0.2269 - accuracy: 0.9183 - val_loss: 0.2241 - val_accuracy: 0.9207\n",
      "Epoch 17/50\n",
      "1313/1313 [==============================] - 10s 7ms/step - loss: 0.2223 - accuracy: 0.9195 - val_loss: 0.2297 - val_accuracy: 0.9171\n",
      "Epoch 18/50\n",
      "1313/1313 [==============================] - 9s 7ms/step - loss: 0.2203 - accuracy: 0.9199 - val_loss: 0.2299 - val_accuracy: 0.9170\n",
      "Epoch 19/50\n",
      "1313/1313 [==============================] - 9s 7ms/step - loss: 0.2187 - accuracy: 0.9222 - val_loss: 0.2202 - val_accuracy: 0.9214\n",
      "Epoch 20/50\n",
      "1313/1313 [==============================] - 9s 7ms/step - loss: 0.2168 - accuracy: 0.9214 - val_loss: 0.2202 - val_accuracy: 0.9199\n",
      "Epoch 21/50\n",
      "1313/1313 [==============================] - 10s 7ms/step - loss: 0.2119 - accuracy: 0.9229 - val_loss: 0.2205 - val_accuracy: 0.9217\n",
      "Epoch 22/50\n",
      "1313/1313 [==============================] - 9s 7ms/step - loss: 0.2119 - accuracy: 0.9256 - val_loss: 0.2183 - val_accuracy: 0.9201\n",
      "Epoch 23/50\n",
      "1313/1313 [==============================] - 9s 7ms/step - loss: 0.2102 - accuracy: 0.9239 - val_loss: 0.2215 - val_accuracy: 0.9206\n",
      "Epoch 24/50\n",
      "1313/1313 [==============================] - 9s 7ms/step - loss: 0.2111 - accuracy: 0.9245 - val_loss: 0.2148 - val_accuracy: 0.9243\n",
      "Epoch 25/50\n",
      "1313/1313 [==============================] - 9s 7ms/step - loss: 0.2056 - accuracy: 0.9270 - val_loss: 0.2254 - val_accuracy: 0.9191\n",
      "Epoch 26/50\n",
      "1313/1313 [==============================] - 9s 7ms/step - loss: 0.2055 - accuracy: 0.9280 - val_loss: 0.2146 - val_accuracy: 0.9242\n",
      "Epoch 27/50\n",
      "1313/1313 [==============================] - 9s 7ms/step - loss: 0.2024 - accuracy: 0.9276 - val_loss: 0.2234 - val_accuracy: 0.9228\n",
      "Epoch 28/50\n",
      "1313/1313 [==============================] - 10s 7ms/step - loss: 0.1996 - accuracy: 0.9283 - val_loss: 0.2224 - val_accuracy: 0.9236\n",
      "Epoch 29/50\n",
      "1313/1313 [==============================] - 10s 7ms/step - loss: 0.2031 - accuracy: 0.9264 - val_loss: 0.2207 - val_accuracy: 0.9231\n",
      "Epoch 30/50\n",
      "1313/1313 [==============================] - 9s 7ms/step - loss: 0.1986 - accuracy: 0.9277 - val_loss: 0.2099 - val_accuracy: 0.9234\n",
      "Epoch 31/50\n",
      "1313/1313 [==============================] - 9s 7ms/step - loss: 0.1914 - accuracy: 0.9315 - val_loss: 0.2094 - val_accuracy: 0.9261\n",
      "Epoch 32/50\n",
      "1313/1313 [==============================] - 10s 7ms/step - loss: 0.2018 - accuracy: 0.9282 - val_loss: 0.2156 - val_accuracy: 0.9244\n",
      "Epoch 33/50\n",
      "1313/1313 [==============================] - 10s 7ms/step - loss: 0.1982 - accuracy: 0.9289 - val_loss: 0.2184 - val_accuracy: 0.9243\n",
      "Epoch 34/50\n",
      "1313/1313 [==============================] - 10s 7ms/step - loss: 0.1939 - accuracy: 0.9303 - val_loss: 0.2111 - val_accuracy: 0.9282\n",
      "Epoch 35/50\n",
      "1313/1313 [==============================] - 9s 7ms/step - loss: 0.1959 - accuracy: 0.9302 - val_loss: 0.2120 - val_accuracy: 0.9262\n",
      "Epoch 36/50\n",
      "1313/1313 [==============================] - 9s 7ms/step - loss: 0.1934 - accuracy: 0.9323 - val_loss: 0.2163 - val_accuracy: 0.9261\n",
      "Epoch 37/50\n",
      "1313/1313 [==============================] - 9s 7ms/step - loss: 0.1966 - accuracy: 0.9302 - val_loss: 0.2306 - val_accuracy: 0.9223\n",
      "Epoch 38/50\n",
      "1313/1313 [==============================] - 9s 7ms/step - loss: 0.1963 - accuracy: 0.9300 - val_loss: 0.2165 - val_accuracy: 0.9232\n",
      "Epoch 39/50\n",
      "1313/1313 [==============================] - 10s 7ms/step - loss: 0.1963 - accuracy: 0.9296 - val_loss: 0.2222 - val_accuracy: 0.9228\n",
      "Epoch 40/50\n",
      "1313/1313 [==============================] - 9s 7ms/step - loss: 0.1929 - accuracy: 0.9318 - val_loss: 0.2160 - val_accuracy: 0.9246\n",
      "Epoch 41/50\n",
      "1313/1313 [==============================] - 9s 7ms/step - loss: 0.1880 - accuracy: 0.9333 - val_loss: 0.2234 - val_accuracy: 0.9237\n",
      "Epoch 42/50\n",
      "1313/1313 [==============================] - 9s 7ms/step - loss: 0.1907 - accuracy: 0.9325 - val_loss: 0.2149 - val_accuracy: 0.9258\n",
      "Epoch 43/50\n",
      "1313/1313 [==============================] - 9s 7ms/step - loss: 0.1926 - accuracy: 0.9314 - val_loss: 0.2088 - val_accuracy: 0.9266\n",
      "Epoch 44/50\n",
      "1313/1313 [==============================] - 9s 7ms/step - loss: 0.1871 - accuracy: 0.9326 - val_loss: 0.2135 - val_accuracy: 0.9253\n",
      "Epoch 45/50\n",
      "1313/1313 [==============================] - 9s 7ms/step - loss: 0.1896 - accuracy: 0.9326 - val_loss: 0.2262 - val_accuracy: 0.9213\n",
      "Epoch 46/50\n",
      "1313/1313 [==============================] - 9s 7ms/step - loss: 0.1921 - accuracy: 0.9323 - val_loss: 0.2390 - val_accuracy: 0.9198\n",
      "Epoch 47/50\n",
      "1313/1313 [==============================] - 9s 7ms/step - loss: 0.1871 - accuracy: 0.9330 - val_loss: 0.2274 - val_accuracy: 0.9204\n",
      "Epoch 48/50\n",
      "1313/1313 [==============================] - 9s 7ms/step - loss: 0.1854 - accuracy: 0.9347 - val_loss: 0.2229 - val_accuracy: 0.9250\n",
      "Epoch 49/50\n",
      "1313/1313 [==============================] - 9s 7ms/step - loss: 0.1845 - accuracy: 0.9340 - val_loss: 0.2234 - val_accuracy: 0.9249\n",
      "Epoch 50/50\n",
      "1313/1313 [==============================] - 9s 7ms/step - loss: 0.1875 - accuracy: 0.9341 - val_loss: 0.2286 - val_accuracy: 0.9233\n"
     ]
    }
   ],
   "source": [
    "history = model.fit(X_train,y_train,\n",
    "                    validation_data=(X_valid,y_valid),\n",
    "                    epochs=50,callbacks=callbacks)"
   ]
  },
  {
   "cell_type": "code",
   "execution_count": 21,
   "id": "8962026f",
   "metadata": {},
   "outputs": [],
   "source": [
    "import pandas as pd\n",
    "history_frame = pd.DataFrame(history.history)"
   ]
  },
  {
   "cell_type": "code",
   "execution_count": 22,
   "id": "8d2acc16",
   "metadata": {},
   "outputs": [
    {
     "data": {
      "text/plain": [
       "<AxesSubplot:>"
      ]
     },
     "execution_count": 22,
     "metadata": {},
     "output_type": "execute_result"
    },
    {
     "data": {
      "image/png": "[encoded data removed]",
      "text/plain": [
       "<Figure size 432x288 with 1 Axes>"
      ]
     },
     "metadata": {
      "needs_background": "light"
     },
     "output_type": "display_data"
    },
    {
     "data": {
      "image/png": "[encoded data removed]",
      "text/plain": [
       "<Figure size 432x288 with 1 Axes>"
      ]
     },
     "metadata": {
      "needs_background": "light"
     },
     "output_type": "display_data"
    }
   ],
   "source": [
    "history_frame.loc[:,['loss','val_loss']].plot()\n",
    "history_frame.loc[:,['accuracy','val_accuracy']].plot()"
   ]
  },
  {
   "cell_type": "code",
   "execution_count": 23,
   "id": "6d045f88",
   "metadata": {},
   "outputs": [],
   "source": [
    "model.save('chapter4_Ex2.h5')"
   ]
  },
  {
   "cell_type": "code",
   "execution_count": 24,
   "id": "bc05cf96",
   "metadata": {},
   "outputs": [],
   "source": [
    "from tensorflow.keras.models import load_model\n",
    "model_load = load_model('chapter4_Ex2.h5')"
   ]
  },
  {
   "cell_type": "code",
   "execution_count": 25,
   "id": "a1d518a9",
   "metadata": {},
   "outputs": [
    {
     "name": "stdout",
     "output_type": "stream",
     "text": [
      "1313/1313 [==============================] - 4s 3ms/step - loss: 0.1234 - accuracy: 0.9577\n"
     ]
    },
    {
     "data": {
      "text/plain": [
       "[0.12342817336320877, 0.9576666951179504]"
      ]
     },
     "execution_count": 25,
     "metadata": {},
     "output_type": "execute_result"
    }
   ],
   "source": [
    "model_load.evaluate(X_train,y_train)"
   ]
  },
  {
   "cell_type": "code",
   "execution_count": 26,
   "id": "8f59cd4b",
   "metadata": {},
   "outputs": [
    {
     "name": "stdout",
     "output_type": "stream",
     "text": [
      "563/563 [==============================] - 2s 3ms/step - loss: 0.2286 - accuracy: 0.9233\n"
     ]
    },
    {
     "data": {
      "text/plain": [
       "[0.22863300144672394, 0.9233333468437195]"
      ]
     },
     "execution_count": 26,
     "metadata": {},
     "output_type": "execute_result"
    }
   ],
   "source": [
    "model_load.evaluate(X_valid,y_valid)"
   ]
  },
  {
   "cell_type": "code",
   "execution_count": 27,
   "id": "575360ca",
   "metadata": {},
   "outputs": [
    {
     "name": "stdout",
     "output_type": "stream",
     "text": [
      "313/313 [==============================] - 1s 3ms/step - loss: 0.2423 - accuracy: 0.9189\n"
     ]
    },
    {
     "data": {
      "text/plain": [
       "[0.24230915307998657, 0.9189000129699707]"
      ]
     },
     "execution_count": 27,
     "metadata": {},
     "output_type": "execute_result"
    }
   ],
   "source": [
    "model_load.evaluate(X_test,y_test)"
   ]
  },
  {
   "cell_type": "code",
   "execution_count": null,
   "id": "ed392e01",
   "metadata": {},
   "outputs": [],
   "source": []
  }
 ],
 "metadata": {
  "kernelspec": {
   "display_name": "Python 3",
   "language": "python",
   "name": "python3"
  },
  "language_info": {
   "codemirror_mode": {
    "name": "ipython",
    "version": 3
   },
   "file_extension": ".py",
   "mimetype": "text/x-python",
   "name": "python",
   "nbconvert_exporter": "python",
   "pygments_lexer": "ipython3",
   "version": "3.8.8"
  }
 },
 "nbformat": 4,
 "nbformat_minor": 5
}
