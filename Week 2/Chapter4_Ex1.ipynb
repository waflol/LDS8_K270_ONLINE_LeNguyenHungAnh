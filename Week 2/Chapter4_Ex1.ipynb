{
 "cells": [
  {
   "cell_type": "code",
   "execution_count": 1,
   "id": "ebfd5026",
   "metadata": {},
   "outputs": [],
   "source": [
    "import warnings\n",
    "warnings.filterwarnings('ignore')"
   ]
  },
  {
   "cell_type": "code",
   "execution_count": 2,
   "id": "cd370138",
   "metadata": {},
   "outputs": [],
   "source": [
    "from tensorflow.keras.layers import Dense, Conv2D, Flatten\n",
    "from tensorflow.keras.layers import MaxPooling2D, Dropout,InputLayer\n",
    "import matplotlib.pyplot as plt\n",
    "from tensorflow.keras.datasets import mnist\n",
    "from tensorflow.keras.utils import to_categorical\n",
    "import numpy as np\n",
    "import tensorflow as tf\n",
    "from tensorflow.keras.models import Model,Sequential\n",
    "from tensorflow.keras import Input"
   ]
  },
  {
   "cell_type": "code",
   "execution_count": 3,
   "id": "934070f3",
   "metadata": {},
   "outputs": [
    {
     "data": {
      "text/plain": [
       "'2.6.0'"
      ]
     },
     "execution_count": 3,
     "metadata": {},
     "output_type": "execute_result"
    }
   ],
   "source": [
    "tf.__version__"
   ]
  },
  {
   "cell_type": "code",
   "execution_count": 4,
   "id": "5bd6d70e",
   "metadata": {},
   "outputs": [],
   "source": [
    "(X_train, y_train), (X_test, y_test) = mnist.load_data()"
   ]
  },
  {
   "cell_type": "code",
   "execution_count": 5,
   "id": "dcd295b7",
   "metadata": {},
   "outputs": [],
   "source": [
    "assert len(np.unique(y_train)) == len(np.unique(y_test))\n",
    "assert X_train.shape[1:] == X_test.shape[1:]"
   ]
  },
  {
   "cell_type": "code",
   "execution_count": 6,
   "id": "e30bef53",
   "metadata": {},
   "outputs": [],
   "source": [
    "num_classes = len(np.unique(y_train))\n",
    "epochs = 50\n",
    "batch_size = 32\n",
    "lr = 0.0001"
   ]
  },
  {
   "cell_type": "code",
   "execution_count": 7,
   "id": "d9db8463",
   "metadata": {},
   "outputs": [],
   "source": [
    "y_train = to_categorical(y_train, num_classes)\n",
    "y_test = to_categorical(y_test, num_classes)"
   ]
  },
  {
   "cell_type": "code",
   "execution_count": 8,
   "id": "5f118812",
   "metadata": {},
   "outputs": [
    {
     "data": {
      "text/plain": [
       "array([0., 0., 0., 0., 0., 1., 0., 0., 0., 0.], dtype=float32)"
      ]
     },
     "execution_count": 8,
     "metadata": {},
     "output_type": "execute_result"
    }
   ],
   "source": [
    "y_train[0]"
   ]
  },
  {
   "cell_type": "code",
   "execution_count": 9,
   "id": "2a9e9436",
   "metadata": {},
   "outputs": [
    {
     "data": {
      "text/plain": [
       "(5, 28, 28)"
      ]
     },
     "execution_count": 9,
     "metadata": {},
     "output_type": "execute_result"
    }
   ],
   "source": [
    "test_images = X_test[:5]\n",
    "test_images.shape"
   ]
  },
  {
   "cell_type": "code",
   "execution_count": 10,
   "id": "b5e1aa2f",
   "metadata": {},
   "outputs": [
    {
     "data": {
      "text/plain": [
       "<matplotlib.image.AxesImage at 0x2394b910370>"
      ]
     },
     "execution_count": 10,
     "metadata": {},
     "output_type": "execute_result"
    },
    {
     "data": {
      "image/png": "[encoded data removed]",
      "text/plain": [
       "<Figure size 432x288 with 1 Axes>"
      ]
     },
     "metadata": {
      "needs_background": "light"
     },
     "output_type": "display_data"
    }
   ],
   "source": [
    "plt.imshow(test_images[0])"
   ]
  },
  {
   "cell_type": "code",
   "execution_count": 11,
   "id": "da75b9c8",
   "metadata": {},
   "outputs": [],
   "source": [
    "X_train = X_train.reshape(X_train.shape[0], X_train.shape[1], X_train.shape[2], 1)\n",
    "X_train = X_train.astype('float32')\n",
    "X_train /= 255\n",
    "\n",
    "X_test = X_test.reshape(X_test.shape[0], X_test.shape[1], X_test.shape[2], 1)\n",
    "X_test = X_test.astype('float32')\n",
    "X_test /= 255"
   ]
  },
  {
   "cell_type": "code",
   "execution_count": 12,
   "id": "067f7714",
   "metadata": {},
   "outputs": [],
   "source": [
    "def createModel(input_shape,num_classes=10):\n",
    "    model = Sequential()\n",
    "    model.add(Conv2D(32, (3, 3), padding='same', activation='relu', input_shape=input_shape))\n",
    "    model.add(Conv2D(32, (3, 3), activation='relu'))\n",
    "    model.add(MaxPooling2D(pool_size=(2, 2)))\n",
    "    model.add(Dropout(0.25))\n",
    " \n",
    "    model.add(Conv2D(64, (3, 3), padding='same', activation='relu'))\n",
    "    model.add(Conv2D(64, (3, 3), activation='relu'))\n",
    "    model.add(MaxPooling2D(pool_size=(2, 2)))\n",
    "    model.add(Dropout(0.25))\n",
    " \n",
    "    model.add(Conv2D(64, (3, 3), padding='same', activation='relu'))\n",
    "    model.add(Conv2D(64, (3, 3), activation='relu'))\n",
    "    model.add(MaxPooling2D(pool_size=(2, 2)))\n",
    "    model.add(Dropout(0.25))\n",
    " \n",
    "    model.add(Flatten())\n",
    "    model.add(Dense(512, activation='relu'))\n",
    "    model.add(Dropout(0.5))\n",
    "    model.add(Dense(num_classes, activation='softmax'))\n",
    "     \n",
    "    return model"
   ]
  },
  {
   "cell_type": "code",
   "execution_count": 13,
   "id": "5498757b",
   "metadata": {},
   "outputs": [
    {
     "data": {
      "text/plain": [
       "(60000, 28, 28, 1)"
      ]
     },
     "execution_count": 13,
     "metadata": {},
     "output_type": "execute_result"
    }
   ],
   "source": [
    "X_train.shape"
   ]
  },
  {
   "cell_type": "code",
   "execution_count": 14,
   "id": "f5ef2266",
   "metadata": {},
   "outputs": [
    {
     "name": "stdout",
     "output_type": "stream",
     "text": [
      "Model: \"sequential\"\n",
      "_________________________________________________________________\n",
      "Layer (type)                 Output Shape              Param #   \n",
      "=================================================================\n",
      "conv2d (Conv2D)              (None, 28, 28, 32)        320       \n",
      "_________________________________________________________________\n",
      "conv2d_1 (Conv2D)            (None, 26, 26, 32)        9248      \n",
      "_________________________________________________________________\n",
      "max_pooling2d (MaxPooling2D) (None, 13, 13, 32)        0         \n",
      "_________________________________________________________________\n",
      "dropout (Dropout)            (None, 13, 13, 32)        0         \n",
      "_________________________________________________________________\n",
      "conv2d_2 (Conv2D)            (None, 13, 13, 64)        18496     \n",
      "_________________________________________________________________\n",
      "conv2d_3 (Conv2D)            (None, 11, 11, 64)        36928     \n",
      "_________________________________________________________________\n",
      "max_pooling2d_1 (MaxPooling2 (None, 5, 5, 64)          0         \n",
      "_________________________________________________________________\n",
      "dropout_1 (Dropout)          (None, 5, 5, 64)          0         \n",
      "_________________________________________________________________\n",
      "conv2d_4 (Conv2D)            (None, 5, 5, 64)          36928     \n",
      "_________________________________________________________________\n",
      "conv2d_5 (Conv2D)            (None, 3, 3, 64)          36928     \n",
      "_________________________________________________________________\n",
      "max_pooling2d_2 (MaxPooling2 (None, 1, 1, 64)          0         \n",
      "_________________________________________________________________\n",
      "dropout_2 (Dropout)          (None, 1, 1, 64)          0         \n",
      "_________________________________________________________________\n",
      "flatten (Flatten)            (None, 64)                0         \n",
      "_________________________________________________________________\n",
      "dense (Dense)                (None, 512)               33280     \n",
      "_________________________________________________________________\n",
      "dropout_3 (Dropout)          (None, 512)               0         \n",
      "_________________________________________________________________\n",
      "dense_1 (Dense)              (None, 10)                5130      \n",
      "=================================================================\n",
      "Total params: 177,258\n",
      "Trainable params: 177,258\n",
      "Non-trainable params: 0\n",
      "_________________________________________________________________\n"
     ]
    }
   ],
   "source": [
    "model = createModel(X_train.shape[1:],10)\n",
    "model.summary()"
   ]
  },
  {
   "cell_type": "code",
   "execution_count": 15,
   "id": "3ec6c29d",
   "metadata": {},
   "outputs": [],
   "source": [
    "loss = 'categorical_crossentropy'\n",
    "metrics=['accuracy']\n",
    "model.compile(optimizer='adam',loss=loss,metrics=metrics)"
   ]
  },
  {
   "cell_type": "code",
   "execution_count": 16,
   "id": "eaf6ab03",
   "metadata": {},
   "outputs": [],
   "source": [
    "from tensorflow.keras.callbacks import EarlyStopping,ModelCheckpoint\n",
    "from tensorflow.keras.preprocessing.image import ImageDataGenerator \n",
    "callbacks=[EarlyStopping(monitor='val_accuracy',patience=20),\n",
    "          ModelCheckpoint('model_ex4.h5',save_best_only=True, mode='max')\n",
    "          ]"
   ]
  },
  {
   "cell_type": "code",
   "execution_count": 17,
   "id": "99bbceed",
   "metadata": {},
   "outputs": [],
   "source": [
    "from sklearn.model_selection import train_test_split\n",
    "X_train,X_valid,y_train,y_valid = train_test_split(X_train,y_train,test_size=0.3,shuffle=True,random_state=12)"
   ]
  },
  {
   "cell_type": "code",
   "execution_count": 18,
   "id": "8613c971",
   "metadata": {},
   "outputs": [
    {
     "data": {
      "text/plain": [
       "(18000, 10)"
      ]
     },
     "execution_count": 18,
     "metadata": {},
     "output_type": "execute_result"
    }
   ],
   "source": [
    "y_valid.shape"
   ]
  },
  {
   "cell_type": "code",
   "execution_count": 19,
   "id": "ecf465b8",
   "metadata": {},
   "outputs": [
    {
     "name": "stdout",
     "output_type": "stream",
     "text": [
      "Epoch 1/50\n",
      "1313/1313 [==============================] - 13s 7ms/step - loss: 0.3320 - accuracy: 0.8945 - val_loss: 0.0672 - val_accuracy: 0.9809\n",
      "Epoch 2/50\n",
      "1313/1313 [==============================] - 9s 7ms/step - loss: 0.0957 - accuracy: 0.9733 - val_loss: 0.0502 - val_accuracy: 0.9856\n",
      "Epoch 3/50\n",
      "1313/1313 [==============================] - 9s 7ms/step - loss: 0.0746 - accuracy: 0.9794 - val_loss: 0.0373 - val_accuracy: 0.9902\n",
      "Epoch 4/50\n",
      "1313/1313 [==============================] - 9s 7ms/step - loss: 0.0643 - accuracy: 0.9825 - val_loss: 0.0389 - val_accuracy: 0.9894\n",
      "Epoch 5/50\n",
      "1313/1313 [==============================] - 9s 7ms/step - loss: 0.0557 - accuracy: 0.9846 - val_loss: 0.0346 - val_accuracy: 0.9913\n",
      "Epoch 6/50\n",
      "1313/1313 [==============================] - 9s 7ms/step - loss: 0.0490 - accuracy: 0.9864 - val_loss: 0.0344 - val_accuracy: 0.9908\n",
      "Epoch 7/50\n",
      "1313/1313 [==============================] - 9s 7ms/step - loss: 0.0477 - accuracy: 0.9867 - val_loss: 0.0316 - val_accuracy: 0.9913\n",
      "Epoch 8/50\n",
      "1313/1313 [==============================] - 9s 7ms/step - loss: 0.0428 - accuracy: 0.9882 - val_loss: 0.0292 - val_accuracy: 0.9922\n",
      "Epoch 9/50\n",
      "1313/1313 [==============================] - 9s 7ms/step - loss: 0.0404 - accuracy: 0.9894 - val_loss: 0.0406 - val_accuracy: 0.9891\n",
      "Epoch 10/50\n",
      "1313/1313 [==============================] - 9s 7ms/step - loss: 0.0376 - accuracy: 0.9895 - val_loss: 0.0314 - val_accuracy: 0.9911\n",
      "Epoch 11/50\n",
      "1313/1313 [==============================] - 10s 8ms/step - loss: 0.0340 - accuracy: 0.9905 - val_loss: 0.0306 - val_accuracy: 0.9913\n",
      "Epoch 12/50\n",
      "1313/1313 [==============================] - 9s 7ms/step - loss: 0.0338 - accuracy: 0.9907 - val_loss: 0.0316 - val_accuracy: 0.9909\n",
      "Epoch 13/50\n",
      "1313/1313 [==============================] - 9s 7ms/step - loss: 0.0331 - accuracy: 0.9907 - val_loss: 0.0329 - val_accuracy: 0.9923\n",
      "Epoch 14/50\n",
      "1313/1313 [==============================] - 9s 7ms/step - loss: 0.0328 - accuracy: 0.9909 - val_loss: 0.0269 - val_accuracy: 0.9930\n",
      "Epoch 15/50\n",
      "1313/1313 [==============================] - 9s 7ms/step - loss: 0.0330 - accuracy: 0.9908 - val_loss: 0.0339 - val_accuracy: 0.9917\n",
      "Epoch 16/50\n",
      "1313/1313 [==============================] - 9s 7ms/step - loss: 0.0301 - accuracy: 0.9918 - val_loss: 0.0305 - val_accuracy: 0.9924\n",
      "Epoch 17/50\n",
      "1313/1313 [==============================] - 9s 7ms/step - loss: 0.0296 - accuracy: 0.9919 - val_loss: 0.0317 - val_accuracy: 0.9927\n",
      "Epoch 18/50\n",
      "1313/1313 [==============================] - 9s 7ms/step - loss: 0.0289 - accuracy: 0.9924 - val_loss: 0.0345 - val_accuracy: 0.9922\n",
      "Epoch 19/50\n",
      "1313/1313 [==============================] - 9s 7ms/step - loss: 0.0287 - accuracy: 0.9921 - val_loss: 0.0283 - val_accuracy: 0.9934\n",
      "Epoch 20/50\n",
      "1313/1313 [==============================] - 10s 7ms/step - loss: 0.0247 - accuracy: 0.9935 - val_loss: 0.0412 - val_accuracy: 0.9901\n",
      "Epoch 21/50\n",
      "1313/1313 [==============================] - 9s 7ms/step - loss: 0.0286 - accuracy: 0.9925 - val_loss: 0.0299 - val_accuracy: 0.9931\n",
      "Epoch 22/50\n",
      "1313/1313 [==============================] - 9s 7ms/step - loss: 0.0280 - accuracy: 0.9924 - val_loss: 0.0282 - val_accuracy: 0.9930\n",
      "Epoch 23/50\n",
      "1313/1313 [==============================] - 9s 7ms/step - loss: 0.0290 - accuracy: 0.9920 - val_loss: 0.0333 - val_accuracy: 0.9919\n",
      "Epoch 24/50\n",
      "1313/1313 [==============================] - 9s 7ms/step - loss: 0.0256 - accuracy: 0.9930 - val_loss: 0.0406 - val_accuracy: 0.9923\n",
      "Epoch 25/50\n",
      "1313/1313 [==============================] - 9s 7ms/step - loss: 0.0277 - accuracy: 0.9930 - val_loss: 0.0306 - val_accuracy: 0.9934\n",
      "Epoch 26/50\n",
      "1313/1313 [==============================] - 9s 7ms/step - loss: 0.0279 - accuracy: 0.9929 - val_loss: 0.0406 - val_accuracy: 0.9921\n",
      "Epoch 27/50\n",
      "1313/1313 [==============================] - 9s 7ms/step - loss: 0.0232 - accuracy: 0.9935 - val_loss: 0.0362 - val_accuracy: 0.9929\n",
      "Epoch 28/50\n",
      "1313/1313 [==============================] - 9s 7ms/step - loss: 0.0281 - accuracy: 0.9930 - val_loss: 0.0275 - val_accuracy: 0.9931\n",
      "Epoch 29/50\n",
      "1313/1313 [==============================] - 9s 7ms/step - loss: 0.0238 - accuracy: 0.9937 - val_loss: 0.0332 - val_accuracy: 0.9929\n",
      "Epoch 30/50\n",
      "1313/1313 [==============================] - 9s 7ms/step - loss: 0.0270 - accuracy: 0.9928 - val_loss: 0.0357 - val_accuracy: 0.9927\n",
      "Epoch 31/50\n",
      "1313/1313 [==============================] - 9s 7ms/step - loss: 0.0281 - accuracy: 0.9929 - val_loss: 0.0390 - val_accuracy: 0.9909\n",
      "Epoch 32/50\n",
      "1313/1313 [==============================] - 9s 7ms/step - loss: 0.0243 - accuracy: 0.9937 - val_loss: 0.0295 - val_accuracy: 0.9930\n",
      "Epoch 33/50\n",
      "1313/1313 [==============================] - 9s 7ms/step - loss: 0.0237 - accuracy: 0.9936 - val_loss: 0.0332 - val_accuracy: 0.9928\n",
      "Epoch 34/50\n",
      "1313/1313 [==============================] - 9s 7ms/step - loss: 0.0279 - accuracy: 0.9930 - val_loss: 0.0321 - val_accuracy: 0.9942\n",
      "Epoch 35/50\n",
      "1313/1313 [==============================] - 9s 7ms/step - loss: 0.0237 - accuracy: 0.9938 - val_loss: 0.0305 - val_accuracy: 0.9926\n",
      "Epoch 36/50\n",
      "1313/1313 [==============================] - 9s 7ms/step - loss: 0.0242 - accuracy: 0.9937 - val_loss: 0.0336 - val_accuracy: 0.9934\n",
      "Epoch 37/50\n",
      "1313/1313 [==============================] - 9s 7ms/step - loss: 0.0256 - accuracy: 0.9931 - val_loss: 0.0316 - val_accuracy: 0.9933\n",
      "Epoch 38/50\n",
      "1313/1313 [==============================] - 9s 7ms/step - loss: 0.0225 - accuracy: 0.9938 - val_loss: 0.0384 - val_accuracy: 0.9938\n",
      "Epoch 39/50\n",
      "1313/1313 [==============================] - 9s 7ms/step - loss: 0.0256 - accuracy: 0.9942 - val_loss: 0.0408 - val_accuracy: 0.9916\n",
      "Epoch 40/50\n",
      "1313/1313 [==============================] - 9s 7ms/step - loss: 0.0267 - accuracy: 0.9934 - val_loss: 0.0491 - val_accuracy: 0.9924\n",
      "Epoch 41/50\n",
      "1313/1313 [==============================] - 10s 7ms/step - loss: 0.0234 - accuracy: 0.9944 - val_loss: 0.0349 - val_accuracy: 0.9937\n",
      "Epoch 42/50\n",
      "1313/1313 [==============================] - 9s 7ms/step - loss: 0.0257 - accuracy: 0.9934 - val_loss: 0.0374 - val_accuracy: 0.9919\n",
      "Epoch 43/50\n",
      "1313/1313 [==============================] - 9s 7ms/step - loss: 0.0283 - accuracy: 0.9935 - val_loss: 0.0393 - val_accuracy: 0.9927\n",
      "Epoch 44/50\n",
      "1313/1313 [==============================] - 9s 7ms/step - loss: 0.0269 - accuracy: 0.9938 - val_loss: 0.0434 - val_accuracy: 0.9924\n",
      "Epoch 45/50\n",
      "1313/1313 [==============================] - 9s 7ms/step - loss: 0.0274 - accuracy: 0.9932 - val_loss: 0.0379 - val_accuracy: 0.9919\n",
      "Epoch 46/50\n",
      "1313/1313 [==============================] - 9s 7ms/step - loss: 0.0227 - accuracy: 0.9941 - val_loss: 0.0375 - val_accuracy: 0.9918\n",
      "Epoch 47/50\n",
      "1313/1313 [==============================] - 10s 7ms/step - loss: 0.0257 - accuracy: 0.9937 - val_loss: 0.0370 - val_accuracy: 0.9919\n",
      "Epoch 48/50\n",
      "1313/1313 [==============================] - 9s 7ms/step - loss: 0.0227 - accuracy: 0.9940 - val_loss: 0.0412 - val_accuracy: 0.9929\n",
      "Epoch 49/50\n",
      "1313/1313 [==============================] - 9s 7ms/step - loss: 0.0241 - accuracy: 0.9943 - val_loss: 0.0352 - val_accuracy: 0.9932\n",
      "Epoch 50/50\n",
      "1313/1313 [==============================] - 10s 7ms/step - loss: 0.0236 - accuracy: 0.9942 - val_loss: 0.0548 - val_accuracy: 0.9919\n"
     ]
    }
   ],
   "source": [
    "history = model.fit(X_train,y_train,\n",
    "                    validation_data=(X_valid,y_valid),\n",
    "                    epochs=50,callbacks=callbacks)"
   ]
  },
  {
   "cell_type": "code",
   "execution_count": 20,
   "id": "84fb676a",
   "metadata": {},
   "outputs": [],
   "source": [
    "import pandas as pd\n",
    "history_frame = pd.DataFrame(history.history)"
   ]
  },
  {
   "cell_type": "code",
   "execution_count": 21,
   "id": "0f91d388",
   "metadata": {},
   "outputs": [
    {
     "data": {
      "text/plain": [
       "<AxesSubplot:>"
      ]
     },
     "execution_count": 21,
     "metadata": {},
     "output_type": "execute_result"
    },
    {
     "data": {
      "image/png": "[encoded data removed]",
      "text/plain": [
       "<Figure size 432x288 with 1 Axes>"
      ]
     },
     "metadata": {
      "needs_background": "light"
     },
     "output_type": "display_data"
    },
    {
     "data": {
      "image/png": "[encoded data removed]",
      "text/plain": [
       "<Figure size 432x288 with 1 Axes>"
      ]
     },
     "metadata": {
      "needs_background": "light"
     },
     "output_type": "display_data"
    }
   ],
   "source": [
    "history_frame.loc[:,['loss','val_loss']].plot()\n",
    "history_frame.loc[:,['accuracy','val_accuracy']].plot()"
   ]
  },
  {
   "cell_type": "code",
   "execution_count": 25,
   "id": "f692fc93",
   "metadata": {},
   "outputs": [
    {
     "name": "stdout",
     "output_type": "stream",
     "text": [
      "1313/1313 [==============================] - 4s 3ms/step - loss: 0.0056 - accuracy: 0.9980\n"
     ]
    },
    {
     "data": {
      "text/plain": [
       "[0.005570185836404562, 0.9980475902557373]"
      ]
     },
     "execution_count": 25,
     "metadata": {},
     "output_type": "execute_result"
    }
   ],
   "source": [
    "model.evaluate(X_train,y_train)"
   ]
  },
  {
   "cell_type": "code",
   "execution_count": 23,
   "id": "ce1e9a12",
   "metadata": {},
   "outputs": [
    {
     "name": "stdout",
     "output_type": "stream",
     "text": [
      "563/563 [==============================] - 2s 3ms/step - loss: 0.0548 - accuracy: 0.9919\n"
     ]
    },
    {
     "data": {
      "text/plain": [
       "[0.054817087948322296, 0.991944432258606]"
      ]
     },
     "execution_count": 23,
     "metadata": {},
     "output_type": "execute_result"
    }
   ],
   "source": [
    "model.evaluate(X_valid,y_valid)"
   ]
  },
  {
   "cell_type": "code",
   "execution_count": 24,
   "id": "129c9baf",
   "metadata": {},
   "outputs": [
    {
     "name": "stdout",
     "output_type": "stream",
     "text": [
      "313/313 [==============================] - 1s 3ms/step - loss: 0.0443 - accuracy: 0.9920\n"
     ]
    },
    {
     "data": {
      "text/plain": [
       "[0.044317953288555145, 0.9919999837875366]"
      ]
     },
     "execution_count": 24,
     "metadata": {},
     "output_type": "execute_result"
    }
   ],
   "source": [
    "model.evaluate(X_test,y_test)"
   ]
  },
  {
   "cell_type": "code",
   "execution_count": null,
   "id": "d738f8dc",
   "metadata": {},
   "outputs": [],
   "source": []
  }
 ],
 "metadata": {
  "kernelspec": {
   "display_name": "Python 3",
   "language": "python",
   "name": "python3"
  },
  "language_info": {
   "codemirror_mode": {
    "name": "ipython",
    "version": 3
   },
   "file_extension": ".py",
   "mimetype": "text/x-python",
   "name": "python",
   "nbconvert_exporter": "python",
   "pygments_lexer": "ipython3",
   "version": "3.8.8"
  }
 },
 "nbformat": 4,
 "nbformat_minor": 5
}
