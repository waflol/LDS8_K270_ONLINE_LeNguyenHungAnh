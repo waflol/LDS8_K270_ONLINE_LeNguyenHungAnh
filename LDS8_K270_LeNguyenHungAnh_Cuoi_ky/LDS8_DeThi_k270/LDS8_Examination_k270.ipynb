{
 "cells": [
  {
   "cell_type": "markdown",
   "metadata": {
    "id": "ePbsYp9CqYaJ"
   },
   "source": [
    "### Đề thi KHÓA 270:\n",
    "# <b> <font color='red'> LDS8 - DEEP LEARNING WITH PYTHON </font></b> \n",
    "### <i> Hạn chót nộp bài : 23h00 ngày Chủ Nhật 14/11/2021 </i>"
   ]
  },
  {
   "cell_type": "markdown",
   "metadata": {
    "id": "-u70KkFPrBkE"
   },
   "source": [
    "- HV tạo 1 thư mục là LDS8_K270_HoVaTen_Cuoi_ky nằm trong thư mục Googgle Drive đã share LDS8_K270_ONLINE_HoVaTen , lưu tất cả bài làm vào để nộp chấm điểm\n",
    "- HV được sử dụng tài liệu\n",
    "- Điểm trừ : Bài làm giống nhau"
   ]
  },
  {
   "cell_type": "markdown",
   "metadata": {
    "id": "3KfOVvUzrTzk"
   },
   "source": [
    "### Chú ý, với mỗi câu:\n",
    "- HV cần tiền xử lý dữ liệu\n",
    "- Mỗi câu là 1 file, các yêu cầu nhận xét kết quả trong từng câu được viết trong cell dưới định dạng Markdown."
   ]
  },
  {
   "cell_type": "markdown",
   "metadata": {
    "id": "3SWgVfPJrkHK"
   },
   "source": [
    "# Question 1: ANN\n",
    "- Use MELBOURNE_HOUSE_PRICE dataset (MELBOURNE_HOUSE_PRICES_LESS.csv) to precdict house prices from other features.\n",
    "- Read more: https://www.kaggle.com/anthonypino/melbourne-housing-market/data\n",
    "### Requirement:\n",
    "- Apply ANN to build a model that predicts house prices from the provided features.\n",
    "- Make new predictions for samples that have no prices in the dataset."
   ]
  },
  {
   "cell_type": "markdown",
   "metadata": {
    "id": "ZQmwKoBxsFG_"
   },
   "source": [
    "# Question 2: ANN\n",
    "- Software to detect network intrusions protects a computer network\n",
    "from unauthorized users, including perhaps insiders. The intrusion\n",
    "detector learning task is to build a predictive model (i.e. a classifier)\n",
    "capable of distinguishing between 'bad' connections, called intrusions\n",
    "or attacks, and 'good' normal connections.\n",
    "- Read more: https://archive.ics.uci.edu/ml/datasets/KDD+Cup+1999+Data\n",
    "### Requirement: \n",
    "- Use KDD dataset (kddcup.data.gz)  to try to classify a connection as 'normal.' or others.\n",
    "- Make a new prediction for each sample in KDD test dataset (kddcup.testdata.unlabeled.gz)."
   ]
  },
  {
   "cell_type": "markdown",
   "metadata": {
    "id": "ZaqZEONwAovU"
   },
   "source": [
    "# Question 3: CNN\n",
    "- Choose a topic in classification (such as: brand classification, cosmetic classification, traditional costumes classification, healthy and unhealthy dishes classification...) => apply CNN to build a model to classify class of each sample.\n",
    "## Note:\n",
    "- Create dataset (like dog/cat dataset): with at least 2 classes, each class has at least 3000 training samples, 700 testing samples)"
   ]
  },
  {
   "cell_type": "markdown",
   "metadata": {
    "id": "h-3OjxnyaP17"
   },
   "source": [
    "# Question 4: Transfer Learning\n",
    "- Basing on your dataset in Question 3: CNN, please choose a suitable pre-trained model (VGG16, Resnet50, InceptionV3, MobileNet....) and a strategy (Chapter 5: Transfer Learling from Pre-trained model) to build a model to classify class of each sample.\n",
    "- Compare execution time and accuracy of two models (Question 3 vs. Question 4)"
   ]
  },
  {
   "cell_type": "markdown",
   "metadata": {
    "id": "pH8sbd3oLYRp"
   },
   "source": [
    "# Question 5: RNN - LSTM\n",
    "- Use AAPL.csv dataset or dowload from link https://finance.yahoo.com/quote/AAPL/history?period1=1479081600&period2=1605312000&interval=1d&filter=history&frequency=1d&includeAdjustedClose=true\n",
    "### Requirement:\n",
    "- Build a model to predict the tomorrow's **Open** value based on the today's **Open** value.\n",
    "- Build a model to predict the tomorrow's **Open** value based on the today's **Open, High, Low, Close, Adj Close, Volume**"
   ]
  },
  {
   "cell_type": "markdown",
   "metadata": {
    "id": "MaYpW4T8ykPv"
   },
   "source": [
    "# Question 6: RNN - LSTM - NLP\n",
    "- Use Clothing, Shoes and Jewelry dataset (file Clothing_Shoes_and_Jewelry_5.json in reviews_Clothing_Shoes_and_Jewelry_5.json.gz) to build a model to predict customer sentiment (You can categories into 3 groups such as like: 4 or 5 stars, dislike: 1 or 2 stars, neutral :3 stars; or categories into 2 groups...) (**overall** column) based on their review (**reviewText** column)\n",
    "- Read more information here: http://jmcauley.ucsd.edu/data/amazon/"
   ]
  },
  {
   "cell_type": "markdown",
   "metadata": {
    "id": "ZzubKkSnY6ca"
   },
   "source": [
    "# Question 7: Object Detection\n",
    "- Let's build an object detection model to recognize the class and location of objects from image file, movie file and camera.\n",
    "- Note: Use dataset from Question 3 to label and draw rectangle => obj.zip (image file + image text file) => Inputs of the object detection model."
   ]
  },
  {
   "cell_type": "code",
   "execution_count": null,
   "metadata": {
    "id": "2YLDFGnbZiZE"
   },
   "outputs": [],
   "source": [
    "# Chỉ còn 1 câu 8 nữa thôi là hết đề thi rồi :)"
   ]
  },
  {
   "cell_type": "markdown",
   "metadata": {
    "id": "wKVOfKrk0K2a"
   },
   "source": [
    "#### <font color='red'> Các câu trong Đề thi LDS8 sẽ lần lượt được thêm vào sau khi học xong mỗi chương. Chúc các bạn làm bài thật tốt nha!!! </font>"
   ]
  }
 ],
 "metadata": {
  "accelerator": "GPU",
  "colab": {
   "authorship_tag": "ABX9TyOb1ozK2rdRVj4jIiHH6tDk",
   "collapsed_sections": [],
   "name": "LDS8_Examination_k270.ipynb",
   "provenance": []
  },
  "kernelspec": {
   "display_name": "Python 3",
   "language": "python",
   "name": "python3"
  },
  "language_info": {
   "codemirror_mode": {
    "name": "ipython",
    "version": 3
   },
   "file_extension": ".py",
   "mimetype": "text/x-python",
   "name": "python",
   "nbconvert_exporter": "python",
   "pygments_lexer": "ipython3",
   "version": "3.8.8"
  }
 },
 "nbformat": 4,
 "nbformat_minor": 1
}
