{
 "cells": [
  {
   "cell_type": "code",
   "execution_count": 1,
   "id": "a8ed2a1b",
   "metadata": {},
   "outputs": [],
   "source": [
    "import numpy as np\n",
    "import matplotlib.pyplot as plt\n",
    "import seaborn as sns\n",
    "from sklearn.model_selection import train_test_split\n",
    "from sklearn.preprocessing import LabelEncoder\n",
    "from sklearn import metrics\n",
    "import tensorflow as tf\n",
    "from tensorflow.keras import Model\n",
    "from tensorflow.keras.models import Sequential\n",
    "from tensorflow.keras.layers import LSTM, Activation, Dense, Dropout, Input, Embedding,Conv1D,MaxPooling1D\n",
    "from tensorflow.keras.optimizers import RMSprop\n",
    "from tensorflow.keras.preprocessing.text import Tokenizer\n",
    "from tensorflow.keras.preprocessing import sequence\n",
    "from tensorflow.keras.utils import to_categorical\n",
    "from tensorflow.keras.callbacks import EarlyStopping,ReduceLROnPlateau\n",
    "%matplotlib inline"
   ]
  },
  {
   "cell_type": "code",
   "execution_count": 2,
   "id": "46af1c1f",
   "metadata": {},
   "outputs": [],
   "source": [
    "import glob\n",
    "import json\n",
    "import pandas as pd\n",
    "import gzip\n",
    "\n",
    "def parse(path):\n",
    "    g = gzip.open(path, 'rb')\n",
    "    for l in g:\n",
    "        yield eval(l)\n",
    "\n",
    "def getDF(path):\n",
    "    i = 0\n",
    "    df = {}\n",
    "    for d in parse(path):\n",
    "        df[i] = d\n",
    "        i += 1\n",
    "    return pd.DataFrame.from_dict(df, orient='index')"
   ]
  },
  {
   "cell_type": "code",
   "execution_count": 3,
   "id": "5b789a87",
   "metadata": {},
   "outputs": [],
   "source": [
    "dir_data = 'LDS8_DeThi_k270/Dataset/reviews_Clothing_Shoes_and_Jewelry_5.json.gz'"
   ]
  },
  {
   "cell_type": "code",
   "execution_count": 4,
   "id": "48a0a0c3",
   "metadata": {},
   "outputs": [],
   "source": [
    "data = getDF(dir_data)"
   ]
  },
  {
   "cell_type": "code",
   "execution_count": 5,
   "id": "16f539fa",
   "metadata": {},
   "outputs": [
    {
     "name": "stdout",
     "output_type": "stream",
     "text": [
      "<class 'pandas.core.frame.DataFrame'>\n",
      "Int64Index: 278677 entries, 0 to 278676\n",
      "Data columns (total 9 columns):\n",
      " #   Column          Non-Null Count   Dtype  \n",
      "---  ------          --------------   -----  \n",
      " 0   reviewerID      278677 non-null  object \n",
      " 1   asin            278677 non-null  object \n",
      " 2   reviewerName    278225 non-null  object \n",
      " 3   helpful         278677 non-null  object \n",
      " 4   reviewText      278677 non-null  object \n",
      " 5   overall         278677 non-null  float64\n",
      " 6   summary         278677 non-null  object \n",
      " 7   unixReviewTime  278677 non-null  int64  \n",
      " 8   reviewTime      278677 non-null  object \n",
      "dtypes: float64(1), int64(1), object(7)\n",
      "memory usage: 21.3+ MB\n"
     ]
    }
   ],
   "source": [
    "data.info()"
   ]
  },
  {
   "cell_type": "code",
   "execution_count": 6,
   "id": "b3854650",
   "metadata": {},
   "outputs": [
    {
     "data": {
      "text/html": [
       "<div>\n",
       "<style scoped>\n",
       "    .dataframe tbody tr th:only-of-type {\n",
       "        vertical-align: middle;\n",
       "    }\n",
       "\n",
       "    .dataframe tbody tr th {\n",
       "        vertical-align: top;\n",
       "    }\n",
       "\n",
       "    .dataframe thead th {\n",
       "        text-align: right;\n",
       "    }\n",
       "</style>\n",
       "<table border=\"1\" class=\"dataframe\">\n",
       "  <thead>\n",
       "    <tr style=\"text-align: right;\">\n",
       "      <th></th>\n",
       "      <th>reviewerID</th>\n",
       "      <th>asin</th>\n",
       "      <th>reviewerName</th>\n",
       "      <th>helpful</th>\n",
       "      <th>reviewText</th>\n",
       "      <th>overall</th>\n",
       "      <th>summary</th>\n",
       "      <th>unixReviewTime</th>\n",
       "      <th>reviewTime</th>\n",
       "    </tr>\n",
       "  </thead>\n",
       "  <tbody>\n",
       "    <tr>\n",
       "      <th>0</th>\n",
       "      <td>A1KLRMWW2FWPL4</td>\n",
       "      <td>0000031887</td>\n",
       "      <td>Amazon Customer \"cameramom\"</td>\n",
       "      <td>[0, 0]</td>\n",
       "      <td>This is a great tutu and at a really great pri...</td>\n",
       "      <td>5.0</td>\n",
       "      <td>Great tutu-  not cheaply made</td>\n",
       "      <td>1297468800</td>\n",
       "      <td>02 12, 2011</td>\n",
       "    </tr>\n",
       "    <tr>\n",
       "      <th>1</th>\n",
       "      <td>A2G5TCU2WDFZ65</td>\n",
       "      <td>0000031887</td>\n",
       "      <td>Amazon Customer</td>\n",
       "      <td>[0, 0]</td>\n",
       "      <td>I bought this for my 4 yr old daughter for dan...</td>\n",
       "      <td>5.0</td>\n",
       "      <td>Very Cute!!</td>\n",
       "      <td>1358553600</td>\n",
       "      <td>01 19, 2013</td>\n",
       "    </tr>\n",
       "    <tr>\n",
       "      <th>2</th>\n",
       "      <td>A1RLQXYNCMWRWN</td>\n",
       "      <td>0000031887</td>\n",
       "      <td>Carola</td>\n",
       "      <td>[0, 0]</td>\n",
       "      <td>What can I say... my daughters have it in oran...</td>\n",
       "      <td>5.0</td>\n",
       "      <td>I have buy more than one</td>\n",
       "      <td>1357257600</td>\n",
       "      <td>01 4, 2013</td>\n",
       "    </tr>\n",
       "    <tr>\n",
       "      <th>3</th>\n",
       "      <td>A8U3FAMSJVHS5</td>\n",
       "      <td>0000031887</td>\n",
       "      <td>Caromcg</td>\n",
       "      <td>[0, 0]</td>\n",
       "      <td>We bought several tutus at once, and they are ...</td>\n",
       "      <td>5.0</td>\n",
       "      <td>Adorable, Sturdy</td>\n",
       "      <td>1398556800</td>\n",
       "      <td>04 27, 2014</td>\n",
       "    </tr>\n",
       "    <tr>\n",
       "      <th>4</th>\n",
       "      <td>A3GEOILWLK86XM</td>\n",
       "      <td>0000031887</td>\n",
       "      <td>CJ</td>\n",
       "      <td>[0, 0]</td>\n",
       "      <td>Thank you Halo Heaven great product for Little...</td>\n",
       "      <td>5.0</td>\n",
       "      <td>Grammy's Angels Love it</td>\n",
       "      <td>1394841600</td>\n",
       "      <td>03 15, 2014</td>\n",
       "    </tr>\n",
       "  </tbody>\n",
       "</table>\n",
       "</div>"
      ],
      "text/plain": [
       "       reviewerID        asin                 reviewerName helpful  \\\n",
       "0  A1KLRMWW2FWPL4  0000031887  Amazon Customer \"cameramom\"  [0, 0]   \n",
       "1  A2G5TCU2WDFZ65  0000031887              Amazon Customer  [0, 0]   \n",
       "2  A1RLQXYNCMWRWN  0000031887                       Carola  [0, 0]   \n",
       "3   A8U3FAMSJVHS5  0000031887                      Caromcg  [0, 0]   \n",
       "4  A3GEOILWLK86XM  0000031887                           CJ  [0, 0]   \n",
       "\n",
       "                                          reviewText  overall  \\\n",
       "0  This is a great tutu and at a really great pri...      5.0   \n",
       "1  I bought this for my 4 yr old daughter for dan...      5.0   \n",
       "2  What can I say... my daughters have it in oran...      5.0   \n",
       "3  We bought several tutus at once, and they are ...      5.0   \n",
       "4  Thank you Halo Heaven great product for Little...      5.0   \n",
       "\n",
       "                         summary  unixReviewTime   reviewTime  \n",
       "0  Great tutu-  not cheaply made      1297468800  02 12, 2011  \n",
       "1                    Very Cute!!      1358553600  01 19, 2013  \n",
       "2       I have buy more than one      1357257600   01 4, 2013  \n",
       "3               Adorable, Sturdy      1398556800  04 27, 2014  \n",
       "4        Grammy's Angels Love it      1394841600  03 15, 2014  "
      ]
     },
     "execution_count": 6,
     "metadata": {},
     "output_type": "execute_result"
    }
   ],
   "source": [
    "data.head()"
   ]
  },
  {
   "cell_type": "code",
   "execution_count": 7,
   "id": "7108c3f8",
   "metadata": {},
   "outputs": [
    {
     "data": {
      "text/html": [
       "<div>\n",
       "<style scoped>\n",
       "    .dataframe tbody tr th:only-of-type {\n",
       "        vertical-align: middle;\n",
       "    }\n",
       "\n",
       "    .dataframe tbody tr th {\n",
       "        vertical-align: top;\n",
       "    }\n",
       "\n",
       "    .dataframe thead th {\n",
       "        text-align: right;\n",
       "    }\n",
       "</style>\n",
       "<table border=\"1\" class=\"dataframe\">\n",
       "  <thead>\n",
       "    <tr style=\"text-align: right;\">\n",
       "      <th></th>\n",
       "      <th>reviewerID</th>\n",
       "      <th>asin</th>\n",
       "      <th>reviewerName</th>\n",
       "      <th>helpful</th>\n",
       "      <th>reviewText</th>\n",
       "      <th>overall</th>\n",
       "      <th>summary</th>\n",
       "      <th>unixReviewTime</th>\n",
       "      <th>reviewTime</th>\n",
       "    </tr>\n",
       "  </thead>\n",
       "  <tbody>\n",
       "    <tr>\n",
       "      <th>278672</th>\n",
       "      <td>A2DG63DN704LOI</td>\n",
       "      <td>B00KKXCJQU</td>\n",
       "      <td>ESlayd</td>\n",
       "      <td>[0, 1]</td>\n",
       "      <td>I don't normally go ga-ga over a product very ...</td>\n",
       "      <td>5.0</td>\n",
       "      <td>These have literally changed the way I travel!</td>\n",
       "      <td>1403568000</td>\n",
       "      <td>06 24, 2014</td>\n",
       "    </tr>\n",
       "    <tr>\n",
       "      <th>278673</th>\n",
       "      <td>A1EVV74UQYVKRY</td>\n",
       "      <td>B00KKXCJQU</td>\n",
       "      <td>K. Groh</td>\n",
       "      <td>[0, 0]</td>\n",
       "      <td>I've been traveling back and forth to England ...</td>\n",
       "      <td>5.0</td>\n",
       "      <td>Wonderful for Better Packing</td>\n",
       "      <td>1403740800</td>\n",
       "      <td>06 26, 2014</td>\n",
       "    </tr>\n",
       "    <tr>\n",
       "      <th>278674</th>\n",
       "      <td>A1UQBFCERIP7VJ</td>\n",
       "      <td>B00KKXCJQU</td>\n",
       "      <td>Margaret Picky</td>\n",
       "      <td>[1, 1]</td>\n",
       "      <td>These are very nice packing cubes and the 18 x...</td>\n",
       "      <td>5.0</td>\n",
       "      <td>Convenient, lightweight, and durable</td>\n",
       "      <td>1402185600</td>\n",
       "      <td>06 8, 2014</td>\n",
       "    </tr>\n",
       "    <tr>\n",
       "      <th>278675</th>\n",
       "      <td>A22CW0ZHY3NJH8</td>\n",
       "      <td>B00KKXCJQU</td>\n",
       "      <td>Noname</td>\n",
       "      <td>[2, 2]</td>\n",
       "      <td>I am on vacation with my family of four and th...</td>\n",
       "      <td>5.0</td>\n",
       "      <td>Holds Up Well In Real World Test</td>\n",
       "      <td>1404691200</td>\n",
       "      <td>07 7, 2014</td>\n",
       "    </tr>\n",
       "    <tr>\n",
       "      <th>278676</th>\n",
       "      <td>A30VWT3R25QAVD</td>\n",
       "      <td>B00KKXCJQU</td>\n",
       "      <td>THE-DEADLY-DOG \"Living and Loving Life.\"</td>\n",
       "      <td>[0, 1]</td>\n",
       "      <td>When I signed up to receive a free set of Shac...</td>\n",
       "      <td>5.0</td>\n",
       "      <td>Don't Travel? Still Way too Useful for 'Averag...</td>\n",
       "      <td>1403481600</td>\n",
       "      <td>06 23, 2014</td>\n",
       "    </tr>\n",
       "  </tbody>\n",
       "</table>\n",
       "</div>"
      ],
      "text/plain": [
       "            reviewerID        asin                              reviewerName  \\\n",
       "278672  A2DG63DN704LOI  B00KKXCJQU                                    ESlayd   \n",
       "278673  A1EVV74UQYVKRY  B00KKXCJQU                                   K. Groh   \n",
       "278674  A1UQBFCERIP7VJ  B00KKXCJQU                            Margaret Picky   \n",
       "278675  A22CW0ZHY3NJH8  B00KKXCJQU                                    Noname   \n",
       "278676  A30VWT3R25QAVD  B00KKXCJQU  THE-DEADLY-DOG \"Living and Loving Life.\"   \n",
       "\n",
       "       helpful                                         reviewText  overall  \\\n",
       "278672  [0, 1]  I don't normally go ga-ga over a product very ...      5.0   \n",
       "278673  [0, 0]  I've been traveling back and forth to England ...      5.0   \n",
       "278674  [1, 1]  These are very nice packing cubes and the 18 x...      5.0   \n",
       "278675  [2, 2]  I am on vacation with my family of four and th...      5.0   \n",
       "278676  [0, 1]  When I signed up to receive a free set of Shac...      5.0   \n",
       "\n",
       "                                                  summary  unixReviewTime  \\\n",
       "278672     These have literally changed the way I travel!      1403568000   \n",
       "278673                       Wonderful for Better Packing      1403740800   \n",
       "278674               Convenient, lightweight, and durable      1402185600   \n",
       "278675                   Holds Up Well In Real World Test      1404691200   \n",
       "278676  Don't Travel? Still Way too Useful for 'Averag...      1403481600   \n",
       "\n",
       "         reviewTime  \n",
       "278672  06 24, 2014  \n",
       "278673  06 26, 2014  \n",
       "278674   06 8, 2014  \n",
       "278675   07 7, 2014  \n",
       "278676  06 23, 2014  "
      ]
     },
     "execution_count": 7,
     "metadata": {},
     "output_type": "execute_result"
    }
   ],
   "source": [
    "data.tail()"
   ]
  },
  {
   "cell_type": "code",
   "execution_count": 8,
   "id": "e48e9046",
   "metadata": {},
   "outputs": [
    {
     "data": {
      "text/plain": [
       "Index(['reviewerID', 'asin', 'reviewerName', 'helpful', 'reviewText',\n",
       "       'overall', 'summary', 'unixReviewTime', 'reviewTime'],\n",
       "      dtype='object')"
      ]
     },
     "execution_count": 8,
     "metadata": {},
     "output_type": "execute_result"
    }
   ],
   "source": [
    "data.columns"
   ]
  },
  {
   "cell_type": "code",
   "execution_count": 9,
   "id": "839eae0a",
   "metadata": {},
   "outputs": [
    {
     "data": {
      "text/html": [
       "<div>\n",
       "<style scoped>\n",
       "    .dataframe tbody tr th:only-of-type {\n",
       "        vertical-align: middle;\n",
       "    }\n",
       "\n",
       "    .dataframe tbody tr th {\n",
       "        vertical-align: top;\n",
       "    }\n",
       "\n",
       "    .dataframe thead th {\n",
       "        text-align: right;\n",
       "    }\n",
       "</style>\n",
       "<table border=\"1\" class=\"dataframe\">\n",
       "  <thead>\n",
       "    <tr style=\"text-align: right;\">\n",
       "      <th></th>\n",
       "      <th>reviewerID</th>\n",
       "      <th>asin</th>\n",
       "      <th>reviewerName</th>\n",
       "      <th>helpful</th>\n",
       "      <th>reviewText</th>\n",
       "      <th>overall</th>\n",
       "      <th>summary</th>\n",
       "      <th>unixReviewTime</th>\n",
       "      <th>reviewTime</th>\n",
       "      <th>words</th>\n",
       "    </tr>\n",
       "  </thead>\n",
       "  <tbody>\n",
       "    <tr>\n",
       "      <th>0</th>\n",
       "      <td>A1KLRMWW2FWPL4</td>\n",
       "      <td>0000031887</td>\n",
       "      <td>Amazon Customer \"cameramom\"</td>\n",
       "      <td>[0, 0]</td>\n",
       "      <td>This is a great tutu and at a really great pri...</td>\n",
       "      <td>5.0</td>\n",
       "      <td>Great tutu-  not cheaply made</td>\n",
       "      <td>1297468800</td>\n",
       "      <td>02 12, 2011</td>\n",
       "      <td>35</td>\n",
       "    </tr>\n",
       "    <tr>\n",
       "      <th>1</th>\n",
       "      <td>A2G5TCU2WDFZ65</td>\n",
       "      <td>0000031887</td>\n",
       "      <td>Amazon Customer</td>\n",
       "      <td>[0, 0]</td>\n",
       "      <td>I bought this for my 4 yr old daughter for dan...</td>\n",
       "      <td>5.0</td>\n",
       "      <td>Very Cute!!</td>\n",
       "      <td>1358553600</td>\n",
       "      <td>01 19, 2013</td>\n",
       "      <td>61</td>\n",
       "    </tr>\n",
       "    <tr>\n",
       "      <th>2</th>\n",
       "      <td>A1RLQXYNCMWRWN</td>\n",
       "      <td>0000031887</td>\n",
       "      <td>Carola</td>\n",
       "      <td>[0, 0]</td>\n",
       "      <td>What can I say... my daughters have it in oran...</td>\n",
       "      <td>5.0</td>\n",
       "      <td>I have buy more than one</td>\n",
       "      <td>1357257600</td>\n",
       "      <td>01 4, 2013</td>\n",
       "      <td>62</td>\n",
       "    </tr>\n",
       "    <tr>\n",
       "      <th>3</th>\n",
       "      <td>A8U3FAMSJVHS5</td>\n",
       "      <td>0000031887</td>\n",
       "      <td>Caromcg</td>\n",
       "      <td>[0, 0]</td>\n",
       "      <td>We bought several tutus at once, and they are ...</td>\n",
       "      <td>5.0</td>\n",
       "      <td>Adorable, Sturdy</td>\n",
       "      <td>1398556800</td>\n",
       "      <td>04 27, 2014</td>\n",
       "      <td>76</td>\n",
       "    </tr>\n",
       "    <tr>\n",
       "      <th>4</th>\n",
       "      <td>A3GEOILWLK86XM</td>\n",
       "      <td>0000031887</td>\n",
       "      <td>CJ</td>\n",
       "      <td>[0, 0]</td>\n",
       "      <td>Thank you Halo Heaven great product for Little...</td>\n",
       "      <td>5.0</td>\n",
       "      <td>Grammy's Angels Love it</td>\n",
       "      <td>1394841600</td>\n",
       "      <td>03 15, 2014</td>\n",
       "      <td>80</td>\n",
       "    </tr>\n",
       "  </tbody>\n",
       "</table>\n",
       "</div>"
      ],
      "text/plain": [
       "       reviewerID        asin                 reviewerName helpful  \\\n",
       "0  A1KLRMWW2FWPL4  0000031887  Amazon Customer \"cameramom\"  [0, 0]   \n",
       "1  A2G5TCU2WDFZ65  0000031887              Amazon Customer  [0, 0]   \n",
       "2  A1RLQXYNCMWRWN  0000031887                       Carola  [0, 0]   \n",
       "3   A8U3FAMSJVHS5  0000031887                      Caromcg  [0, 0]   \n",
       "4  A3GEOILWLK86XM  0000031887                           CJ  [0, 0]   \n",
       "\n",
       "                                          reviewText  overall  \\\n",
       "0  This is a great tutu and at a really great pri...      5.0   \n",
       "1  I bought this for my 4 yr old daughter for dan...      5.0   \n",
       "2  What can I say... my daughters have it in oran...      5.0   \n",
       "3  We bought several tutus at once, and they are ...      5.0   \n",
       "4  Thank you Halo Heaven great product for Little...      5.0   \n",
       "\n",
       "                         summary  unixReviewTime   reviewTime  words  \n",
       "0  Great tutu-  not cheaply made      1297468800  02 12, 2011     35  \n",
       "1                    Very Cute!!      1358553600  01 19, 2013     61  \n",
       "2       I have buy more than one      1357257600   01 4, 2013     62  \n",
       "3               Adorable, Sturdy      1398556800  04 27, 2014     76  \n",
       "4        Grammy's Angels Love it      1394841600  03 15, 2014     80  "
      ]
     },
     "execution_count": 9,
     "metadata": {},
     "output_type": "execute_result"
    }
   ],
   "source": [
    "data['words'] = data['reviewText'].map(lambda x: len(x.split()))\n",
    "data.head()"
   ]
  },
  {
   "cell_type": "code",
   "execution_count": 10,
   "id": "c419dc9e",
   "metadata": {},
   "outputs": [
    {
     "data": {
      "text/plain": [
       "count    278677.000000\n",
       "mean         59.953046\n",
       "std          61.289861\n",
       "min           0.000000\n",
       "25%          26.000000\n",
       "50%          41.000000\n",
       "75%          70.000000\n",
       "max        3882.000000\n",
       "Name: words, dtype: float64"
      ]
     },
     "execution_count": 10,
     "metadata": {},
     "output_type": "execute_result"
    }
   ],
   "source": [
    "data['words'].describe()"
   ]
  },
  {
   "cell_type": "code",
   "execution_count": 11,
   "id": "01337224",
   "metadata": {},
   "outputs": [
    {
     "data": {
      "text/html": [
       "<div>\n",
       "<style scoped>\n",
       "    .dataframe tbody tr th:only-of-type {\n",
       "        vertical-align: middle;\n",
       "    }\n",
       "\n",
       "    .dataframe tbody tr th {\n",
       "        vertical-align: top;\n",
       "    }\n",
       "\n",
       "    .dataframe thead th {\n",
       "        text-align: right;\n",
       "    }\n",
       "</style>\n",
       "<table border=\"1\" class=\"dataframe\">\n",
       "  <thead>\n",
       "    <tr style=\"text-align: right;\">\n",
       "      <th></th>\n",
       "      <th>words</th>\n",
       "    </tr>\n",
       "    <tr>\n",
       "      <th>overall</th>\n",
       "      <th></th>\n",
       "    </tr>\n",
       "  </thead>\n",
       "  <tbody>\n",
       "    <tr>\n",
       "      <th>1.0</th>\n",
       "      <td>63.988295</td>\n",
       "    </tr>\n",
       "    <tr>\n",
       "      <th>2.0</th>\n",
       "      <td>65.800750</td>\n",
       "    </tr>\n",
       "    <tr>\n",
       "      <th>3.0</th>\n",
       "      <td>64.584552</td>\n",
       "    </tr>\n",
       "    <tr>\n",
       "      <th>4.0</th>\n",
       "      <td>65.105026</td>\n",
       "    </tr>\n",
       "    <tr>\n",
       "      <th>5.0</th>\n",
       "      <td>56.417434</td>\n",
       "    </tr>\n",
       "  </tbody>\n",
       "</table>\n",
       "</div>"
      ],
      "text/plain": [
       "             words\n",
       "overall           \n",
       "1.0      63.988295\n",
       "2.0      65.800750\n",
       "3.0      64.584552\n",
       "4.0      65.105026\n",
       "5.0      56.417434"
      ]
     },
     "execution_count": 11,
     "metadata": {},
     "output_type": "execute_result"
    }
   ],
   "source": [
    "data[['overall','words']].groupby(\"overall\").mean(\"words\")"
   ]
  },
  {
   "cell_type": "code",
   "execution_count": 12,
   "id": "1046a438",
   "metadata": {},
   "outputs": [
    {
     "name": "stderr",
     "output_type": "stream",
     "text": [
      "/home/waflol/anaconda3/lib/python3.8/site-packages/seaborn/_decorators.py:36: FutureWarning: Pass the following variable as a keyword arg: x. From version 0.12, the only valid positional argument will be `data`, and passing other arguments without an explicit keyword will result in an error or misinterpretation.\n",
      "  warnings.warn(\n"
     ]
    },
    {
     "data": {
      "text/plain": [
       "Text(0.5, 1.0, 'Number of each overall')"
      ]
     },
     "execution_count": 12,
     "metadata": {},
     "output_type": "execute_result"
    },
    {
     "data": {
      "image/png": "[encoded data removed]",
      "text/plain": [
       "<Figure size 432x288 with 1 Axes>"
      ]
     },
     "metadata": {
      "needs_background": "light"
     },
     "output_type": "display_data"
    }
   ],
   "source": [
    "sns.countplot(data.overall)\n",
    "plt.xlabel(\"overall\")\n",
    "plt.title(\"Number of each overall\")"
   ]
  },
  {
   "cell_type": "code",
   "execution_count": 13,
   "id": "065da122",
   "metadata": {},
   "outputs": [],
   "source": [
    "def split_overall(x):\n",
    "    if x == 1. or x == 2. or x == 3.:\n",
    "        return 0 #  'unsatisfied'\n",
    "    else:\n",
    "        return 1 # 'pleasure'"
   ]
  },
  {
   "cell_type": "code",
   "execution_count": 14,
   "id": "bc39d0cc",
   "metadata": {},
   "outputs": [],
   "source": [
    "data['status'] = data['overall'].map(lambda x: split_overall(x))"
   ]
  },
  {
   "cell_type": "code",
   "execution_count": 15,
   "id": "899474cb",
   "metadata": {},
   "outputs": [
    {
     "name": "stderr",
     "output_type": "stream",
     "text": [
      "/home/waflol/anaconda3/lib/python3.8/site-packages/seaborn/_decorators.py:36: FutureWarning: Pass the following variable as a keyword arg: x. From version 0.12, the only valid positional argument will be `data`, and passing other arguments without an explicit keyword will result in an error or misinterpretation.\n",
      "  warnings.warn(\n"
     ]
    },
    {
     "data": {
      "text/plain": [
       "Text(0.5, 1.0, 'Number of each status')"
      ]
     },
     "execution_count": 15,
     "metadata": {},
     "output_type": "execute_result"
    },
    {
     "data": {
      "image/png": "[encoded data removed]",
      "text/plain": [
       "<Figure size 432x288 with 1 Axes>"
      ]
     },
     "metadata": {
      "needs_background": "light"
     },
     "output_type": "display_data"
    }
   ],
   "source": [
    "sns.countplot(data.status)\n",
    "plt.xlabel(\"status\")\n",
    "plt.title(\"Number of each status\")"
   ]
  },
  {
   "cell_type": "markdown",
   "id": "45f35cbc",
   "metadata": {},
   "source": [
    "<h3>Nhận xét</h3>\n",
    "<li>Tập dữ liệu bị mất cân bằng ở cột target</li>\n",
    "<li>Ở biểu đồ countplot của cột overral thì đánh giá 5 sao cao hơn hẳn so với cột còn lại</li>\n",
    "<li>Do bị ảnh hưởng bới cột 5 sao ở trên nên trên bảng status, cột 1 (pleasure) cũng có số lượng hơn hẳn cột còn lại</li>"
   ]
  },
  {
   "cell_type": "markdown",
   "id": "b2446672",
   "metadata": {},
   "source": [
    "<h1>Split data</h1>"
   ]
  },
  {
   "cell_type": "code",
   "execution_count": 16,
   "id": "1cf94087",
   "metadata": {},
   "outputs": [],
   "source": [
    "train,test = train_test_split(data[['reviewText','overall','status']],test_size=0.3,random_state=42,shuffle=True)"
   ]
  },
  {
   "cell_type": "code",
   "execution_count": 17,
   "id": "2c510739",
   "metadata": {},
   "outputs": [],
   "source": [
    "X_train,y1_train,y2_train = train.reviewText,train.overall.astype('object'),train.status"
   ]
  },
  {
   "cell_type": "code",
   "execution_count": 18,
   "id": "5f719fb7",
   "metadata": {},
   "outputs": [],
   "source": [
    "X_test,y1_test,y2_test = test.reviewText,test.overall.astype('object'),test.status"
   ]
  },
  {
   "cell_type": "markdown",
   "id": "9e7b0f3e",
   "metadata": {},
   "source": [
    "<h1>Process outputs data</h1>"
   ]
  },
  {
   "cell_type": "code",
   "execution_count": 19,
   "id": "2395318b",
   "metadata": {},
   "outputs": [],
   "source": [
    "y1_train = pd.get_dummies(y1_train)"
   ]
  },
  {
   "cell_type": "code",
   "execution_count": 20,
   "id": "84b233a0",
   "metadata": {},
   "outputs": [
    {
     "data": {
      "text/plain": [
       "(195073, 5)"
      ]
     },
     "execution_count": 20,
     "metadata": {},
     "output_type": "execute_result"
    }
   ],
   "source": [
    "y1_train.shape"
   ]
  },
  {
   "cell_type": "code",
   "execution_count": 21,
   "id": "1873032b",
   "metadata": {},
   "outputs": [],
   "source": [
    "y2_train = pd.get_dummies(y2_train,drop_first=True)"
   ]
  },
  {
   "cell_type": "code",
   "execution_count": 22,
   "id": "f718980d",
   "metadata": {},
   "outputs": [
    {
     "data": {
      "text/plain": [
       "(195073, 1)"
      ]
     },
     "execution_count": 22,
     "metadata": {},
     "output_type": "execute_result"
    }
   ],
   "source": [
    "y2_train.shape"
   ]
  },
  {
   "cell_type": "code",
   "execution_count": 23,
   "id": "bb9fc518",
   "metadata": {},
   "outputs": [
    {
     "data": {
      "text/html": [
       "<div>\n",
       "<style scoped>\n",
       "    .dataframe tbody tr th:only-of-type {\n",
       "        vertical-align: middle;\n",
       "    }\n",
       "\n",
       "    .dataframe tbody tr th {\n",
       "        vertical-align: top;\n",
       "    }\n",
       "\n",
       "    .dataframe thead th {\n",
       "        text-align: right;\n",
       "    }\n",
       "</style>\n",
       "<table border=\"1\" class=\"dataframe\">\n",
       "  <thead>\n",
       "    <tr style=\"text-align: right;\">\n",
       "      <th></th>\n",
       "      <th>1.0</th>\n",
       "      <th>2.0</th>\n",
       "      <th>3.0</th>\n",
       "      <th>4.0</th>\n",
       "      <th>5.0</th>\n",
       "    </tr>\n",
       "  </thead>\n",
       "  <tbody>\n",
       "    <tr>\n",
       "      <th>69234</th>\n",
       "      <td>0</td>\n",
       "      <td>0</td>\n",
       "      <td>0</td>\n",
       "      <td>1</td>\n",
       "      <td>0</td>\n",
       "    </tr>\n",
       "    <tr>\n",
       "      <th>79668</th>\n",
       "      <td>0</td>\n",
       "      <td>0</td>\n",
       "      <td>0</td>\n",
       "      <td>1</td>\n",
       "      <td>0</td>\n",
       "    </tr>\n",
       "    <tr>\n",
       "      <th>267519</th>\n",
       "      <td>0</td>\n",
       "      <td>1</td>\n",
       "      <td>0</td>\n",
       "      <td>0</td>\n",
       "      <td>0</td>\n",
       "    </tr>\n",
       "    <tr>\n",
       "      <th>105955</th>\n",
       "      <td>0</td>\n",
       "      <td>1</td>\n",
       "      <td>0</td>\n",
       "      <td>0</td>\n",
       "      <td>0</td>\n",
       "    </tr>\n",
       "    <tr>\n",
       "      <th>44011</th>\n",
       "      <td>0</td>\n",
       "      <td>0</td>\n",
       "      <td>0</td>\n",
       "      <td>0</td>\n",
       "      <td>1</td>\n",
       "    </tr>\n",
       "    <tr>\n",
       "      <th>...</th>\n",
       "      <td>...</td>\n",
       "      <td>...</td>\n",
       "      <td>...</td>\n",
       "      <td>...</td>\n",
       "      <td>...</td>\n",
       "    </tr>\n",
       "    <tr>\n",
       "      <th>119879</th>\n",
       "      <td>0</td>\n",
       "      <td>0</td>\n",
       "      <td>1</td>\n",
       "      <td>0</td>\n",
       "      <td>0</td>\n",
       "    </tr>\n",
       "    <tr>\n",
       "      <th>259178</th>\n",
       "      <td>0</td>\n",
       "      <td>0</td>\n",
       "      <td>0</td>\n",
       "      <td>0</td>\n",
       "      <td>1</td>\n",
       "    </tr>\n",
       "    <tr>\n",
       "      <th>131932</th>\n",
       "      <td>0</td>\n",
       "      <td>0</td>\n",
       "      <td>0</td>\n",
       "      <td>0</td>\n",
       "      <td>1</td>\n",
       "    </tr>\n",
       "    <tr>\n",
       "      <th>146867</th>\n",
       "      <td>0</td>\n",
       "      <td>0</td>\n",
       "      <td>1</td>\n",
       "      <td>0</td>\n",
       "      <td>0</td>\n",
       "    </tr>\n",
       "    <tr>\n",
       "      <th>121958</th>\n",
       "      <td>0</td>\n",
       "      <td>0</td>\n",
       "      <td>0</td>\n",
       "      <td>0</td>\n",
       "      <td>1</td>\n",
       "    </tr>\n",
       "  </tbody>\n",
       "</table>\n",
       "<p>195073 rows × 5 columns</p>\n",
       "</div>"
      ],
      "text/plain": [
       "        1.0  2.0  3.0  4.0  5.0\n",
       "69234     0    0    0    1    0\n",
       "79668     0    0    0    1    0\n",
       "267519    0    1    0    0    0\n",
       "105955    0    1    0    0    0\n",
       "44011     0    0    0    0    1\n",
       "...     ...  ...  ...  ...  ...\n",
       "119879    0    0    1    0    0\n",
       "259178    0    0    0    0    1\n",
       "131932    0    0    0    0    1\n",
       "146867    0    0    1    0    0\n",
       "121958    0    0    0    0    1\n",
       "\n",
       "[195073 rows x 5 columns]"
      ]
     },
     "execution_count": 23,
     "metadata": {},
     "output_type": "execute_result"
    }
   ],
   "source": [
    "y1_train"
   ]
  },
  {
   "cell_type": "code",
   "execution_count": 24,
   "id": "988f6d96",
   "metadata": {},
   "outputs": [
    {
     "data": {
      "text/html": [
       "<div>\n",
       "<style scoped>\n",
       "    .dataframe tbody tr th:only-of-type {\n",
       "        vertical-align: middle;\n",
       "    }\n",
       "\n",
       "    .dataframe tbody tr th {\n",
       "        vertical-align: top;\n",
       "    }\n",
       "\n",
       "    .dataframe thead th {\n",
       "        text-align: right;\n",
       "    }\n",
       "</style>\n",
       "<table border=\"1\" class=\"dataframe\">\n",
       "  <thead>\n",
       "    <tr style=\"text-align: right;\">\n",
       "      <th></th>\n",
       "      <th>1</th>\n",
       "    </tr>\n",
       "  </thead>\n",
       "  <tbody>\n",
       "    <tr>\n",
       "      <th>69234</th>\n",
       "      <td>1</td>\n",
       "    </tr>\n",
       "    <tr>\n",
       "      <th>79668</th>\n",
       "      <td>1</td>\n",
       "    </tr>\n",
       "    <tr>\n",
       "      <th>267519</th>\n",
       "      <td>0</td>\n",
       "    </tr>\n",
       "    <tr>\n",
       "      <th>105955</th>\n",
       "      <td>0</td>\n",
       "    </tr>\n",
       "    <tr>\n",
       "      <th>44011</th>\n",
       "      <td>1</td>\n",
       "    </tr>\n",
       "    <tr>\n",
       "      <th>...</th>\n",
       "      <td>...</td>\n",
       "    </tr>\n",
       "    <tr>\n",
       "      <th>119879</th>\n",
       "      <td>0</td>\n",
       "    </tr>\n",
       "    <tr>\n",
       "      <th>259178</th>\n",
       "      <td>1</td>\n",
       "    </tr>\n",
       "    <tr>\n",
       "      <th>131932</th>\n",
       "      <td>1</td>\n",
       "    </tr>\n",
       "    <tr>\n",
       "      <th>146867</th>\n",
       "      <td>0</td>\n",
       "    </tr>\n",
       "    <tr>\n",
       "      <th>121958</th>\n",
       "      <td>1</td>\n",
       "    </tr>\n",
       "  </tbody>\n",
       "</table>\n",
       "<p>195073 rows × 1 columns</p>\n",
       "</div>"
      ],
      "text/plain": [
       "        1\n",
       "69234   1\n",
       "79668   1\n",
       "267519  0\n",
       "105955  0\n",
       "44011   1\n",
       "...    ..\n",
       "119879  0\n",
       "259178  1\n",
       "131932  1\n",
       "146867  0\n",
       "121958  1\n",
       "\n",
       "[195073 rows x 1 columns]"
      ]
     },
     "execution_count": 24,
     "metadata": {},
     "output_type": "execute_result"
    }
   ],
   "source": [
    "y2_train"
   ]
  },
  {
   "cell_type": "markdown",
   "id": "bb0afb2d",
   "metadata": {},
   "source": [
    "<h1>Process input data</h1>"
   ]
  },
  {
   "cell_type": "code",
   "execution_count": 25,
   "id": "18bc62eb",
   "metadata": {},
   "outputs": [],
   "source": [
    "max_words = 2000\n",
    "max_len=300\n",
    "tok = Tokenizer(num_words=max_words)\n",
    "tok.fit_on_texts(X_train)\n",
    "\n",
    "\n",
    "sequences = tok.texts_to_sequences(X_train)\n",
    "sequences_matrix = sequence.pad_sequences(sequences,maxlen=max_len)"
   ]
  },
  {
   "cell_type": "code",
   "execution_count": 26,
   "id": "0adc1d4e",
   "metadata": {
    "scrolled": true
   },
   "outputs": [
    {
     "name": "stdout",
     "output_type": "stream",
     "text": [
      "[[24, 115, 18, 15, 79, 132, 6, 144, 32, 190, 26, 4, 137, 10, 7, 47, 28, 4, 139, 3, 251, 374, 2, 61, 1365, 69, 29, 321], [502, 257, 190, 6, 300, 15, 6, 275, 5, 80, 1, 1504, 87, 140, 55, 1, 76, 676, 798, 278, 6, 18, 3, 6, 275, 28, 6, 44, 107, 8, 12, 608]]\n"
     ]
    }
   ],
   "source": [
    "print(sequences[:2])"
   ]
  },
  {
   "cell_type": "markdown",
   "id": "6fef9487",
   "metadata": {},
   "source": [
    "<h1>Build and Train model</h1>"
   ]
  },
  {
   "cell_type": "code",
   "execution_count": 27,
   "id": "5bc6673b",
   "metadata": {},
   "outputs": [],
   "source": [
    "def RNN():\n",
    "    inputs = Input(name='inputs',shape=[max_len])\n",
    "    x = Embedding(max_words,50,input_length=max_len)(inputs)\n",
    "    layer_overall = Conv1D(filters=64, kernel_size=3, padding='same', activation='relu')(x)\n",
    "    layer_overall = MaxPooling1D(pool_size=2)(layer_overall)\n",
    "    layer_overall = LSTM(100)(layer_overall)\n",
    "    layer_overall = Dense(512,name='FC1_overall',activation='relu')(layer_overall)\n",
    "    layer_overall = Dropout(0.3)(layer_overall)\n",
    "    layer_overall = Dense(50,name='FC2_overall',activation='relu')(layer_overall)\n",
    "    layer_overall = Dropout(0.3)(layer_overall)\n",
    "    output_2 = Dense(5,activation='softmax',name='overall_output')(layer_overall)\n",
    "    \n",
    "    \n",
    "    layer_status = LSTM(64)(x)\n",
    "    layer_status= Dense(512,name='FC1_status',activation='relu')(layer_status)\n",
    "    layer_status = Dropout(0.5)(layer_status)\n",
    "    layer_status= Dense(32,name='FC2_status',activation='relu')(layer_status)\n",
    "    layer_status = Dropout(0.5)(layer_status)\n",
    "    output_1 = Dense(1,activation='sigmoid',name='status_output')(layer_status)\n",
    "    \n",
    "    return Model(inputs=inputs,outputs=[output_1,output_2])\n",
    "    #return Model(inputs=inputs,outputs=[output_2])"
   ]
  },
  {
   "cell_type": "code",
   "execution_count": 28,
   "id": "cb564c70",
   "metadata": {},
   "outputs": [],
   "source": [
    "model = RNN()"
   ]
  },
  {
   "cell_type": "code",
   "execution_count": 29,
   "id": "d9a2d98a",
   "metadata": {},
   "outputs": [],
   "source": [
    "model.compile(optimizer='adam',\n",
    "              loss={\n",
    "                  'overall_output':'categorical_crossentropy',\n",
    "                  'status_output':'binary_crossentropy'},\n",
    "              metrics={'overall_output':'accuracy',\n",
    "                       'status_output':'accuracy'})"
   ]
  },
  {
   "cell_type": "code",
   "execution_count": 30,
   "id": "8ffef6f4",
   "metadata": {},
   "outputs": [],
   "source": [
    "# model.compile(optimizer='adam',\n",
    "#               loss='categorical_crossentropy',metrics=['accuracy'])"
   ]
  },
  {
   "cell_type": "code",
   "execution_count": 31,
   "id": "c603ca68",
   "metadata": {},
   "outputs": [
    {
     "name": "stdout",
     "output_type": "stream",
     "text": [
      "Model: \"model\"\n",
      "__________________________________________________________________________________________________\n",
      " Layer (type)                   Output Shape         Param #     Connected to                     \n",
      "==================================================================================================\n",
      " inputs (InputLayer)            [(None, 300)]        0           []                               \n",
      "                                                                                                  \n",
      " embedding (Embedding)          (None, 300, 50)      100000      ['inputs[0][0]']                 \n",
      "                                                                                                  \n",
      " conv1d (Conv1D)                (None, 300, 64)      9664        ['embedding[0][0]']              \n",
      "                                                                                                  \n",
      " max_pooling1d (MaxPooling1D)   (None, 150, 64)      0           ['conv1d[0][0]']                 \n",
      "                                                                                                  \n",
      " lstm_1 (LSTM)                  (None, 64)           29440       ['embedding[0][0]']              \n",
      "                                                                                                  \n",
      " lstm (LSTM)                    (None, 100)          66000       ['max_pooling1d[0][0]']          \n",
      "                                                                                                  \n",
      " FC1_status (Dense)             (None, 512)          33280       ['lstm_1[0][0]']                 \n",
      "                                                                                                  \n",
      " FC1_overall (Dense)            (None, 512)          51712       ['lstm[0][0]']                   \n",
      "                                                                                                  \n",
      " dropout_2 (Dropout)            (None, 512)          0           ['FC1_status[0][0]']             \n",
      "                                                                                                  \n",
      " dropout (Dropout)              (None, 512)          0           ['FC1_overall[0][0]']            \n",
      "                                                                                                  \n",
      " FC2_status (Dense)             (None, 32)           16416       ['dropout_2[0][0]']              \n",
      "                                                                                                  \n",
      " FC2_overall (Dense)            (None, 50)           25650       ['dropout[0][0]']                \n",
      "                                                                                                  \n",
      " dropout_3 (Dropout)            (None, 32)           0           ['FC2_status[0][0]']             \n",
      "                                                                                                  \n",
      " dropout_1 (Dropout)            (None, 50)           0           ['FC2_overall[0][0]']            \n",
      "                                                                                                  \n",
      " status_output (Dense)          (None, 1)            33          ['dropout_3[0][0]']              \n",
      "                                                                                                  \n",
      " overall_output (Dense)         (None, 5)            255         ['dropout_1[0][0]']              \n",
      "                                                                                                  \n",
      "==================================================================================================\n",
      "Total params: 332,450\n",
      "Trainable params: 332,450\n",
      "Non-trainable params: 0\n",
      "__________________________________________________________________________________________________\n"
     ]
    }
   ],
   "source": [
    "model.summary()"
   ]
  },
  {
   "cell_type": "code",
   "execution_count": 32,
   "id": "4199c49e",
   "metadata": {},
   "outputs": [
    {
     "data": {
      "image/png": "[encoded data removed]",
      "text/plain": [
       "<IPython.core.display.Image object>"
      ]
     },
     "execution_count": 32,
     "metadata": {},
     "output_type": "execute_result"
    }
   ],
   "source": [
    "from tensorflow.keras.utils import plot_model\n",
    "from IPython.display import Image\n",
    "plot_model(model, to_file='Ex6_RNN_NLP_LSTM.png', show_shapes=True)\n",
    "Image(filename='Ex6_RNN_NLP_LSTM.png')"
   ]
  },
  {
   "cell_type": "code",
   "execution_count": 33,
   "id": "a8e32ec5",
   "metadata": {},
   "outputs": [],
   "source": [
    "early_stopping = EarlyStopping(monitor='val_loss', patience=30,restore_best_weights=True,mode='min',verbose=1)\n",
    "learning_rate = ReduceLROnPlateau(verbose=1,factor=0.5,min_delta=0.000001,patience=30)"
   ]
  },
  {
   "cell_type": "code",
   "execution_count": 34,
   "id": "7709a521",
   "metadata": {},
   "outputs": [
    {
     "name": "stdout",
     "output_type": "stream",
     "text": [
      "Epoch 1/500\n",
      "1220/1220 [==============================] - 52s 40ms/step - loss: 1.2029 - status_output_loss: 0.3153 - overall_output_loss: 0.8876 - status_output_accuracy: 0.8649 - overall_output_accuracy: 0.6407 - val_loss: 1.0590 - val_status_output_loss: 0.2655 - val_overall_output_loss: 0.7935 - val_status_output_accuracy: 0.8888 - val_overall_output_accuracy: 0.6749 - lr: 0.0010\n",
      "Epoch 2/500\n",
      "1220/1220 [==============================] - 48s 39ms/step - loss: 1.0348 - status_output_loss: 0.2557 - overall_output_loss: 0.7791 - status_output_accuracy: 0.8951 - overall_output_accuracy: 0.6809 - val_loss: 1.0081 - val_status_output_loss: 0.2476 - val_overall_output_loss: 0.7605 - val_status_output_accuracy: 0.8998 - val_overall_output_accuracy: 0.6881 - lr: 0.0010\n",
      "Epoch 3/500\n",
      "1220/1220 [==============================] - 48s 39ms/step - loss: 0.9804 - status_output_loss: 0.2356 - overall_output_loss: 0.7448 - status_output_accuracy: 0.9043 - overall_output_accuracy: 0.6944 - val_loss: 0.9860 - val_status_output_loss: 0.2359 - val_overall_output_loss: 0.7501 - val_status_output_accuracy: 0.9017 - val_overall_output_accuracy: 0.6897 - lr: 0.0010\n",
      "Epoch 4/500\n",
      "1220/1220 [==============================] - 48s 39ms/step - loss: 0.9404 - status_output_loss: 0.2242 - overall_output_loss: 0.7161 - status_output_accuracy: 0.9094 - overall_output_accuracy: 0.7047 - val_loss: 0.9841 - val_status_output_loss: 0.2394 - val_overall_output_loss: 0.7446 - val_status_output_accuracy: 0.8966 - val_overall_output_accuracy: 0.6943 - lr: 0.0010\n",
      "Epoch 5/500\n",
      "1220/1220 [==============================] - 48s 39ms/step - loss: 0.9090 - status_output_loss: 0.2156 - overall_output_loss: 0.6934 - status_output_accuracy: 0.9134 - overall_output_accuracy: 0.7135 - val_loss: 0.9784 - val_status_output_loss: 0.2372 - val_overall_output_loss: 0.7412 - val_status_output_accuracy: 0.9009 - val_overall_output_accuracy: 0.6976 - lr: 0.0010\n",
      "Epoch 6/500\n",
      "1220/1220 [==============================] - 48s 39ms/step - loss: 0.8808 - status_output_loss: 0.2082 - overall_output_loss: 0.6726 - status_output_accuracy: 0.9158 - overall_output_accuracy: 0.7220 - val_loss: 1.0080 - val_status_output_loss: 0.2399 - val_overall_output_loss: 0.7682 - val_status_output_accuracy: 0.9021 - val_overall_output_accuracy: 0.6978 - lr: 0.0010\n",
      "Epoch 7/500\n",
      "1220/1220 [==============================] - 48s 39ms/step - loss: 0.8520 - status_output_loss: 0.1999 - overall_output_loss: 0.6520 - status_output_accuracy: 0.9185 - overall_output_accuracy: 0.7290 - val_loss: 0.9831 - val_status_output_loss: 0.2366 - val_overall_output_loss: 0.7466 - val_status_output_accuracy: 0.9038 - val_overall_output_accuracy: 0.7027 - lr: 0.0010\n",
      "Epoch 8/500\n",
      "1220/1220 [==============================] - 48s 40ms/step - loss: 0.8280 - status_output_loss: 0.1952 - overall_output_loss: 0.6328 - status_output_accuracy: 0.9208 - overall_output_accuracy: 0.7358 - val_loss: 1.0005 - val_status_output_loss: 0.2430 - val_overall_output_loss: 0.7575 - val_status_output_accuracy: 0.9047 - val_overall_output_accuracy: 0.7010 - lr: 0.0010\n",
      "Epoch 9/500\n",
      "1220/1220 [==============================] - 48s 39ms/step - loss: 0.8019 - status_output_loss: 0.1881 - overall_output_loss: 0.6138 - status_output_accuracy: 0.9238 - overall_output_accuracy: 0.7435 - val_loss: 1.0213 - val_status_output_loss: 0.2512 - val_overall_output_loss: 0.7701 - val_status_output_accuracy: 0.9050 - val_overall_output_accuracy: 0.6975 - lr: 0.0010\n",
      "Epoch 10/500\n",
      "1220/1220 [==============================] - 48s 39ms/step - loss: 0.7801 - status_output_loss: 0.1828 - overall_output_loss: 0.5973 - status_output_accuracy: 0.9256 - overall_output_accuracy: 0.7497 - val_loss: 1.0739 - val_status_output_loss: 0.2527 - val_overall_output_loss: 0.8212 - val_status_output_accuracy: 0.9027 - val_overall_output_accuracy: 0.6902 - lr: 0.0010\n",
      "Epoch 11/500\n",
      "1220/1220 [==============================] - 48s 39ms/step - loss: 0.7543 - status_output_loss: 0.1757 - overall_output_loss: 0.5787 - status_output_accuracy: 0.9283 - overall_output_accuracy: 0.7585 - val_loss: 1.0827 - val_status_output_loss: 0.2663 - val_overall_output_loss: 0.8164 - val_status_output_accuracy: 0.9049 - val_overall_output_accuracy: 0.6980 - lr: 0.0010\n",
      "Epoch 12/500\n",
      "1220/1220 [==============================] - 48s 39ms/step - loss: 0.7329 - status_output_loss: 0.1719 - overall_output_loss: 0.5610 - status_output_accuracy: 0.9298 - overall_output_accuracy: 0.7647 - val_loss: 1.1139 - val_status_output_loss: 0.2643 - val_overall_output_loss: 0.8497 - val_status_output_accuracy: 0.9032 - val_overall_output_accuracy: 0.6788 - lr: 0.0010\n",
      "Epoch 13/500\n",
      "1220/1220 [==============================] - 48s 39ms/step - loss: 0.7135 - status_output_loss: 0.1663 - overall_output_loss: 0.5472 - status_output_accuracy: 0.9321 - overall_output_accuracy: 0.7704 - val_loss: 1.1235 - val_status_output_loss: 0.2635 - val_overall_output_loss: 0.8600 - val_status_output_accuracy: 0.8992 - val_overall_output_accuracy: 0.6930 - lr: 0.0010\n",
      "Epoch 14/500\n",
      "1220/1220 [==============================] - 48s 39ms/step - loss: 0.6922 - status_output_loss: 0.1619 - overall_output_loss: 0.5303 - status_output_accuracy: 0.9335 - overall_output_accuracy: 0.7784 - val_loss: 1.1991 - val_status_output_loss: 0.2891 - val_overall_output_loss: 0.9101 - val_status_output_accuracy: 0.9024 - val_overall_output_accuracy: 0.6876 - lr: 0.0010\n",
      "Epoch 15/500\n",
      "1220/1220 [==============================] - 48s 39ms/step - loss: 0.6697 - status_output_loss: 0.1567 - overall_output_loss: 0.5130 - status_output_accuracy: 0.9361 - overall_output_accuracy: 0.7839 - val_loss: 1.1930 - val_status_output_loss: 0.2751 - val_overall_output_loss: 0.9179 - val_status_output_accuracy: 0.9000 - val_overall_output_accuracy: 0.6855 - lr: 0.0010\n",
      "Epoch 16/500\n",
      "1220/1220 [==============================] - 48s 39ms/step - loss: 0.6525 - status_output_loss: 0.1530 - overall_output_loss: 0.4995 - status_output_accuracy: 0.9372 - overall_output_accuracy: 0.7902 - val_loss: 1.2387 - val_status_output_loss: 0.2845 - val_overall_output_loss: 0.9542 - val_status_output_accuracy: 0.8996 - val_overall_output_accuracy: 0.6840 - lr: 0.0010\n",
      "Epoch 17/500\n",
      "1220/1220 [==============================] - 48s 40ms/step - loss: 0.6312 - status_output_loss: 0.1480 - overall_output_loss: 0.4832 - status_output_accuracy: 0.9386 - overall_output_accuracy: 0.7974 - val_loss: 1.2937 - val_status_output_loss: 0.2924 - val_overall_output_loss: 1.0013 - val_status_output_accuracy: 0.9009 - val_overall_output_accuracy: 0.6820 - lr: 0.0010\n",
      "Epoch 18/500\n",
      "1220/1220 [==============================] - 48s 40ms/step - loss: 0.6163 - status_output_loss: 0.1446 - overall_output_loss: 0.4717 - status_output_accuracy: 0.9399 - overall_output_accuracy: 0.8033 - val_loss: 1.2934 - val_status_output_loss: 0.2967 - val_overall_output_loss: 0.9967 - val_status_output_accuracy: 0.8987 - val_overall_output_accuracy: 0.6818 - lr: 0.0010\n",
      "Epoch 19/500\n",
      "1220/1220 [==============================] - 48s 40ms/step - loss: 0.5959 - status_output_loss: 0.1405 - overall_output_loss: 0.4555 - status_output_accuracy: 0.9415 - overall_output_accuracy: 0.8091 - val_loss: 1.3548 - val_status_output_loss: 0.2838 - val_overall_output_loss: 1.0710 - val_status_output_accuracy: 0.8975 - val_overall_output_accuracy: 0.6777 - lr: 0.0010\n",
      "Epoch 20/500\n",
      "1220/1220 [==============================] - 48s 40ms/step - loss: 0.5782 - status_output_loss: 0.1368 - overall_output_loss: 0.4414 - status_output_accuracy: 0.9429 - overall_output_accuracy: 0.8160 - val_loss: 1.4060 - val_status_output_loss: 0.3039 - val_overall_output_loss: 1.1022 - val_status_output_accuracy: 0.8951 - val_overall_output_accuracy: 0.6774 - lr: 0.0010\n",
      "Epoch 21/500\n",
      "1220/1220 [==============================] - 48s 40ms/step - loss: 0.5604 - status_output_loss: 0.1328 - overall_output_loss: 0.4277 - status_output_accuracy: 0.9445 - overall_output_accuracy: 0.8216 - val_loss: 1.5296 - val_status_output_loss: 0.3687 - val_overall_output_loss: 1.1609 - val_status_output_accuracy: 0.9000 - val_overall_output_accuracy: 0.6765 - lr: 0.0010\n",
      "Epoch 22/500\n"
     ]
    },
    {
     "name": "stdout",
     "output_type": "stream",
     "text": [
      "1220/1220 [==============================] - 48s 39ms/step - loss: 0.5448 - status_output_loss: 0.1297 - overall_output_loss: 0.4151 - status_output_accuracy: 0.9447 - overall_output_accuracy: 0.8271 - val_loss: 1.4207 - val_status_output_loss: 0.3458 - val_overall_output_loss: 1.0749 - val_status_output_accuracy: 0.8964 - val_overall_output_accuracy: 0.6686 - lr: 0.0010\n",
      "Epoch 23/500\n",
      "1220/1220 [==============================] - 48s 39ms/step - loss: 0.5264 - status_output_loss: 0.1255 - overall_output_loss: 0.4009 - status_output_accuracy: 0.9471 - overall_output_accuracy: 0.8328 - val_loss: 1.7224 - val_status_output_loss: 0.3739 - val_overall_output_loss: 1.3485 - val_status_output_accuracy: 0.8952 - val_overall_output_accuracy: 0.6480 - lr: 0.0010\n",
      "Epoch 24/500\n",
      "1220/1220 [==============================] - 48s 39ms/step - loss: 0.5215 - status_output_loss: 0.1320 - overall_output_loss: 0.3895 - status_output_accuracy: 0.9450 - overall_output_accuracy: 0.8379 - val_loss: 1.6818 - val_status_output_loss: 0.3775 - val_overall_output_loss: 1.3043 - val_status_output_accuracy: 0.8971 - val_overall_output_accuracy: 0.6749 - lr: 0.0010\n",
      "Epoch 25/500\n",
      "1220/1220 [==============================] - 48s 39ms/step - loss: 0.4938 - status_output_loss: 0.1195 - overall_output_loss: 0.3743 - status_output_accuracy: 0.9494 - overall_output_accuracy: 0.8445 - val_loss: 1.6838 - val_status_output_loss: 0.3668 - val_overall_output_loss: 1.3170 - val_status_output_accuracy: 0.8954 - val_overall_output_accuracy: 0.6601 - lr: 0.0010\n",
      "Epoch 26/500\n",
      "1220/1220 [==============================] - 48s 39ms/step - loss: 0.4776 - status_output_loss: 0.1144 - overall_output_loss: 0.3633 - status_output_accuracy: 0.9513 - overall_output_accuracy: 0.8485 - val_loss: 1.8703 - val_status_output_loss: 0.4165 - val_overall_output_loss: 1.4538 - val_status_output_accuracy: 0.8949 - val_overall_output_accuracy: 0.6721 - lr: 0.0010\n",
      "Epoch 27/500\n",
      "1220/1220 [==============================] - 48s 39ms/step - loss: 0.4643 - status_output_loss: 0.1130 - overall_output_loss: 0.3514 - status_output_accuracy: 0.9520 - overall_output_accuracy: 0.8558 - val_loss: 1.9241 - val_status_output_loss: 0.4285 - val_overall_output_loss: 1.4955 - val_status_output_accuracy: 0.8959 - val_overall_output_accuracy: 0.6668 - lr: 0.0010\n",
      "Epoch 28/500\n",
      "1220/1220 [==============================] - 48s 39ms/step - loss: 0.4464 - status_output_loss: 0.1101 - overall_output_loss: 0.3363 - status_output_accuracy: 0.9530 - overall_output_accuracy: 0.8603 - val_loss: 2.1498 - val_status_output_loss: 0.4680 - val_overall_output_loss: 1.6817 - val_status_output_accuracy: 0.8946 - val_overall_output_accuracy: 0.6601 - lr: 0.0010\n",
      "Epoch 29/500\n",
      "1220/1220 [==============================] - 48s 39ms/step - loss: 0.4361 - status_output_loss: 0.1082 - overall_output_loss: 0.3279 - status_output_accuracy: 0.9533 - overall_output_accuracy: 0.8637 - val_loss: 2.1583 - val_status_output_loss: 0.4633 - val_overall_output_loss: 1.6950 - val_status_output_accuracy: 0.8946 - val_overall_output_accuracy: 0.6652 - lr: 0.0010\n",
      "Epoch 30/500\n",
      "1220/1220 [==============================] - 48s 40ms/step - loss: 0.4199 - status_output_loss: 0.1034 - overall_output_loss: 0.3166 - status_output_accuracy: 0.9554 - overall_output_accuracy: 0.8696 - val_loss: 2.0781 - val_status_output_loss: 0.4334 - val_overall_output_loss: 1.6447 - val_status_output_accuracy: 0.8894 - val_overall_output_accuracy: 0.6492 - lr: 0.0010\n",
      "Epoch 31/500\n",
      "1220/1220 [==============================] - 48s 39ms/step - loss: 0.4050 - status_output_loss: 0.1008 - overall_output_loss: 0.3042 - status_output_accuracy: 0.9565 - overall_output_accuracy: 0.8746 - val_loss: 2.2537 - val_status_output_loss: 0.4777 - val_overall_output_loss: 1.7760 - val_status_output_accuracy: 0.8915 - val_overall_output_accuracy: 0.6631 - lr: 0.0010\n",
      "Epoch 32/500\n",
      "1220/1220 [==============================] - 48s 39ms/step - loss: 0.3956 - status_output_loss: 0.0995 - overall_output_loss: 0.2962 - status_output_accuracy: 0.9575 - overall_output_accuracy: 0.8776 - val_loss: 2.3731 - val_status_output_loss: 0.5069 - val_overall_output_loss: 1.8662 - val_status_output_accuracy: 0.8904 - val_overall_output_accuracy: 0.6552 - lr: 0.0010\n",
      "Epoch 33/500\n",
      "1220/1220 [==============================] - 48s 39ms/step - loss: 0.3801 - status_output_loss: 0.0957 - overall_output_loss: 0.2843 - status_output_accuracy: 0.9584 - overall_output_accuracy: 0.8829 - val_loss: 2.3605 - val_status_output_loss: 0.5145 - val_overall_output_loss: 1.8460 - val_status_output_accuracy: 0.8939 - val_overall_output_accuracy: 0.6540 - lr: 0.0010\n",
      "Epoch 34/500\n",
      "1220/1220 [==============================] - 48s 39ms/step - loss: 0.3764 - status_output_loss: 0.0992 - overall_output_loss: 0.2772 - status_output_accuracy: 0.9572 - overall_output_accuracy: 0.8861 - val_loss: 2.3091 - val_status_output_loss: 0.4208 - val_overall_output_loss: 1.8883 - val_status_output_accuracy: 0.8873 - val_overall_output_accuracy: 0.6481 - lr: 0.0010\n",
      "Epoch 35/500\n",
      "1219/1220 [============================>.] - ETA: 0s - loss: 0.3590 - status_output_loss: 0.0919 - overall_output_loss: 0.2671 - status_output_accuracy: 0.9596 - overall_output_accuracy: 0.8895Restoring model weights from the end of the best epoch: 5.\n",
      "\n",
      "Epoch 00035: ReduceLROnPlateau reducing learning rate to 0.0005000000237487257.\n",
      "1220/1220 [==============================] - 48s 39ms/step - loss: 0.3590 - status_output_loss: 0.0919 - overall_output_loss: 0.2671 - status_output_accuracy: 0.9596 - overall_output_accuracy: 0.8895 - val_loss: 2.7244 - val_status_output_loss: 0.6535 - val_overall_output_loss: 2.0709 - val_status_output_accuracy: 0.8943 - val_overall_output_accuracy: 0.6534 - lr: 0.0010\n",
      "Epoch 00035: early stopping\n"
     ]
    }
   ],
   "source": [
    "history = model.fit(x = sequences_matrix,y = {'overall_output':y1_train,'status_output':y2_train},\n",
    "                    batch_size=128,epochs=500,validation_split=0.2,\n",
    "                    callbacks=[early_stopping,learning_rate])"
   ]
  },
  {
   "cell_type": "markdown",
   "id": "3c31ede8",
   "metadata": {},
   "source": [
    "<h1>Evaluation</h1>"
   ]
  },
  {
   "cell_type": "code",
   "execution_count": 44,
   "id": "79c7105f",
   "metadata": {},
   "outputs": [
    {
     "data": {
      "text/plain": [
       "<matplotlib.legend.Legend at 0x7f055f1ad1f0>"
      ]
     },
     "execution_count": 44,
     "metadata": {},
     "output_type": "execute_result"
    },
    {
     "data": {
      "image/png": "[encoded data removed]",
      "text/plain": [
       "<Figure size 432x288 with 1 Axes>"
      ]
     },
     "metadata": {
      "needs_background": "light"
     },
     "output_type": "display_data"
    }
   ],
   "source": [
    "plt.plot(history.history['overall_output_accuracy'])\n",
    "plt.plot(history.history['val_overall_output_accuracy'])\n",
    "plt.legend(['train','val'])"
   ]
  },
  {
   "cell_type": "code",
   "execution_count": 45,
   "id": "a9d6955a",
   "metadata": {},
   "outputs": [
    {
     "data": {
      "text/plain": [
       "<matplotlib.legend.Legend at 0x7f055c87c7c0>"
      ]
     },
     "execution_count": 45,
     "metadata": {},
     "output_type": "execute_result"
    },
    {
     "data": {
      "image/png": "[encoded data removed]",
      "text/plain": [
       "<Figure size 432x288 with 1 Axes>"
      ]
     },
     "metadata": {
      "needs_background": "light"
     },
     "output_type": "display_data"
    }
   ],
   "source": [
    "plt.plot(history.history['overall_output_loss'])\n",
    "plt.plot(history.history['val_overall_output_loss'])\n",
    "plt.legend(['train','val'])"
   ]
  },
  {
   "cell_type": "code",
   "execution_count": 46,
   "id": "90fa01c5",
   "metadata": {},
   "outputs": [
    {
     "data": {
      "text/plain": [
       "<matplotlib.legend.Legend at 0x7f0561f109a0>"
      ]
     },
     "execution_count": 46,
     "metadata": {},
     "output_type": "execute_result"
    },
    {
     "data": {
      "image/png": "[encoded data removed]",
      "text/plain": [
       "<Figure size 432x288 with 1 Axes>"
      ]
     },
     "metadata": {
      "needs_background": "light"
     },
     "output_type": "display_data"
    }
   ],
   "source": [
    "plt.plot(history.history['status_output_accuracy'])\n",
    "plt.plot(history.history['val_status_output_accuracy'])\n",
    "plt.legend(['train','val'])"
   ]
  },
  {
   "cell_type": "code",
   "execution_count": 47,
   "id": "3886a645",
   "metadata": {},
   "outputs": [
    {
     "data": {
      "text/plain": [
       "<matplotlib.legend.Legend at 0x7f0561fabfa0>"
      ]
     },
     "execution_count": 47,
     "metadata": {},
     "output_type": "execute_result"
    },
    {
     "data": {
      "image/png": "[encoded data removed]",
      "text/plain": [
       "<Figure size 432x288 with 1 Axes>"
      ]
     },
     "metadata": {
      "needs_background": "light"
     },
     "output_type": "display_data"
    }
   ],
   "source": [
    "plt.plot(history.history['status_output_loss'])\n",
    "plt.plot(history.history['val_status_output_loss'])\n",
    "plt.legend(['train','val'])"
   ]
  },
  {
   "cell_type": "code",
   "execution_count": 48,
   "id": "3bdc63eb",
   "metadata": {},
   "outputs": [],
   "source": [
    "sequences_test = tok.texts_to_sequences(X_test)\n",
    "sequences_matrix_test = sequence.pad_sequences(sequences_test,maxlen=max_len)"
   ]
  },
  {
   "cell_type": "code",
   "execution_count": 49,
   "id": "c84a2be9",
   "metadata": {},
   "outputs": [],
   "source": [
    "y1_test = pd.get_dummies(y1_test)\n",
    "y2_test = pd.get_dummies(y2_test,drop_first=True)"
   ]
  },
  {
   "cell_type": "code",
   "execution_count": 50,
   "id": "8593aa67",
   "metadata": {},
   "outputs": [
    {
     "name": "stdout",
     "output_type": "stream",
     "text": [
      "2613/2613 [==============================] - 20s 8ms/step - loss: 0.9720 - status_output_loss: 0.2349 - overall_output_loss: 0.7370 - status_output_accuracy: 0.9021 - overall_output_accuracy: 0.6968\n"
     ]
    },
    {
     "data": {
      "text/plain": [
       "[0.9719582796096802,\n",
       " 0.2349136918783188,\n",
       " 0.7370453476905823,\n",
       " 0.9020501375198364,\n",
       " 0.6967848539352417]"
      ]
     },
     "execution_count": 50,
     "metadata": {},
     "output_type": "execute_result"
    }
   ],
   "source": [
    "scores = model.evaluate(sequences_matrix_test,{'overall_output':y1_test,'status_output':y2_test})\n",
    "scores"
   ]
  },
  {
   "cell_type": "markdown",
   "id": "f3131c49",
   "metadata": {},
   "source": [
    "<h1>Nhận xét:</h1>\n",
    "    <li>Model bị overfiting bắt đầu từ epoch thứ 3</li>"
   ]
  },
  {
   "cell_type": "code",
   "execution_count": 52,
   "id": "1fee4de6",
   "metadata": {},
   "outputs": [
    {
     "name": "stdout",
     "output_type": "stream",
     "text": [
      "/home/waflol/LDS8_K270_ONLINE_LeNguyenHungAnh/LDS8_K270_LeNguyenHungAnh_Cuoi_ky\r\n"
     ]
    }
   ],
   "source": [
    "!pwd"
   ]
  },
  {
   "cell_type": "code",
   "execution_count": 56,
   "id": "97f0aff3",
   "metadata": {},
   "outputs": [],
   "source": [
    "model.save('checkpoint/Ex6/ex6Model.h5')"
   ]
  },
  {
   "cell_type": "code",
   "execution_count": null,
   "id": "cccf8568",
   "metadata": {},
   "outputs": [],
   "source": []
  }
 ],
 "metadata": {
  "kernelspec": {
   "display_name": "Python 3",
   "language": "python",
   "name": "python3"
  },
  "language_info": {
   "codemirror_mode": {
    "name": "ipython",
    "version": 3
   },
   "file_extension": ".py",
   "mimetype": "text/x-python",
   "name": "python",
   "nbconvert_exporter": "python",
   "pygments_lexer": "ipython3",
   "version": "3.8.8"
  }
 },
 "nbformat": 4,
 "nbformat_minor": 5
}
