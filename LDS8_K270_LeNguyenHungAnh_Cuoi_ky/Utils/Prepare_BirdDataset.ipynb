{
 "cells": [
  {
   "cell_type": "code",
   "execution_count": 8,
   "id": "be72b477",
   "metadata": {},
   "outputs": [],
   "source": [
    "import os\n",
    "import glob\n",
    "import shutil"
   ]
  },
  {
   "cell_type": "code",
   "execution_count": 5,
   "id": "63734bdd",
   "metadata": {},
   "outputs": [],
   "source": [
    "chim_va_dir = '../chim_vang_anh/*'\n",
    "vet_dir = '../vet/*'"
   ]
  },
  {
   "cell_type": "code",
   "execution_count": 14,
   "id": "cc9fad04",
   "metadata": {},
   "outputs": [],
   "source": [
    "def move_file(files,class_file = 0):\n",
    "    dem = 0\n",
    "    for file in files:\n",
    "        if dem < 700:\n",
    "            shutil.move(file,'../Bird_DataClassification/Train/'+str(class_file))\n",
    "        elif dem > 899:\n",
    "            shutil.move(file,'../Bird_DataClassification/Test/'+str(class_file))\n",
    "        else:\n",
    "            shutil.move(file,'../Bird_DataClassification/Valid/'+str(class_file))\n",
    "        dem+=1\n",
    "    print('Done')"
   ]
  },
  {
   "cell_type": "code",
   "execution_count": 19,
   "id": "e7d75fc0",
   "metadata": {},
   "outputs": [
    {
     "name": "stdout",
     "output_type": "stream",
     "text": [
      "Done\n"
     ]
    }
   ],
   "source": [
    "move_file(glob.glob(vet_dir))"
   ]
  },
  {
   "cell_type": "code",
   "execution_count": 20,
   "id": "f7d6dd87",
   "metadata": {},
   "outputs": [
    {
     "name": "stdout",
     "output_type": "stream",
     "text": [
      "Done\n"
     ]
    }
   ],
   "source": [
    "move_file(glob.glob(chim_va_dir),1)"
   ]
  },
  {
   "cell_type": "code",
   "execution_count": null,
   "id": "05a7302e",
   "metadata": {},
   "outputs": [],
   "source": []
  }
 ],
 "metadata": {
  "kernelspec": {
   "display_name": "Python 3",
   "language": "python",
   "name": "python3"
  },
  "language_info": {
   "codemirror_mode": {
    "name": "ipython",
    "version": 3
   },
   "file_extension": ".py",
   "mimetype": "text/x-python",
   "name": "python",
   "nbconvert_exporter": "python",
   "pygments_lexer": "ipython3",
   "version": "3.8.8"
  }
 },
 "nbformat": 4,
 "nbformat_minor": 5
}
