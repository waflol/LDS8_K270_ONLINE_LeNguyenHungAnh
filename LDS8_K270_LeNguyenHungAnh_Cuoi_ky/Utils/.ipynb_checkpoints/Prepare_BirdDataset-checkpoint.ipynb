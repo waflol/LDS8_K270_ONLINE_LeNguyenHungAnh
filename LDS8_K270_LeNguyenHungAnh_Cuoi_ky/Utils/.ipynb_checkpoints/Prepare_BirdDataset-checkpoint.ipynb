{
 "cells": [
  {
   "cell_type": "code",
   "execution_count": 8,
   "id": "07483c79",
   "metadata": {},
   "outputs": [],
   "source": [
    "import os\n",
    "import glob\n",
    "import shutil"
   ]
  },
  {
   "cell_type": "code",
   "execution_count": 5,
   "id": "ffdc9274",
   "metadata": {},
   "outputs": [],
   "source": [
    "chim_va_dir = '../chim_vang_anh/*'\n",
    "vet_dir = '../vet/*'"
   ]
  },
  {
   "cell_type": "code",
   "execution_count": 14,
   "id": "b9c14c65",
   "metadata": {},
   "outputs": [],
   "source": [
    "def move_file(files,class_file = 0):\n",
    "    dem = 0\n",
    "    for file in files:\n",
    "        if dem < 700:\n",
    "            shutil.move(file,'../Bird_DataClassification/Train/'+str(class_file))\n",
    "        elif dem > 899:\n",
    "            shutil.move(file,'../Bird_DataClassification/Test/'+str(class_file))\n",
    "        else:\n",
    "            shutil.move(file,'../Bird_DataClassification/Valid/'+str(class_file))\n",
    "        dem+=1\n",
    "    print('Done')"
   ]
  },
  {
   "cell_type": "code",
   "execution_count": 17,
   "id": "89b79c61",
   "metadata": {},
   "outputs": [
    {
     "name": "stdout",
     "output_type": "stream",
     "text": [
      "Done\n"
     ]
    }
   ],
   "source": [
    "move_file(glob.glob(vet_dir))"
   ]
  },
  {
   "cell_type": "code",
   "execution_count": 18,
   "id": "a1755f9b",
   "metadata": {},
   "outputs": [
    {
     "name": "stdout",
     "output_type": "stream",
     "text": [
      "Done\n"
     ]
    }
   ],
   "source": [
    "move_file(glob.glob(chim_va_dir),1)"
   ]
  },
  {
   "cell_type": "code",
   "execution_count": null,
   "id": "aea5f0b9",
   "metadata": {},
   "outputs": [],
   "source": []
  }
 ],
 "metadata": {
  "kernelspec": {
   "display_name": "Python 3",
   "language": "python",
   "name": "python3"
  },
  "language_info": {
   "codemirror_mode": {
    "name": "ipython",
    "version": 3
   },
   "file_extension": ".py",
   "mimetype": "text/x-python",
   "name": "python",
   "nbconvert_exporter": "python",
   "pygments_lexer": "ipython3",
   "version": "3.8.8"
  }
 },
 "nbformat": 4,
 "nbformat_minor": 5
}
