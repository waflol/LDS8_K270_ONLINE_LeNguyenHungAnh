{
 "cells": [
  {
   "cell_type": "code",
   "execution_count": null,
   "id": "0ebb4921",
   "metadata": {},
   "outputs": [],
   "source": [
    "import tensorflow as tf\n",
    "from tensorflow import keras\n",
    "from tensorflow.keras import Sequential\n",
    "from tensorflow.keras.layers import Conv2D,MaxPooling2D,Flatten,Dense,Dropout\n",
    "\n",
    "import numpy as np\n"
   ]
  },
  {
   "cell_type": "code",
   "execution_count": null,
   "id": "91cab81f",
   "metadata": {},
   "outputs": [],
   "source": [
    "classifier1 = Sequential()"
   ]
  },
  {
   "cell_type": "code",
   "execution_count": null,
   "id": "3f96f8b3",
   "metadata": {},
   "outputs": [],
   "source": [
    "classifier1.add(Conv2D(filters=256,kernel_size = 3,input_shape=(256,256,3),activation='relu'))\n",
    "classifier1.add(MaxPooling2D(pool_size=(2,2)))\n",
    "classifier1.add(Conv2D(filters=128,kernel_size=3,activation='relu'))\n",
    "classifier1.add(MaxPooling2D(pool_size=(2,2)))\n",
    "classifier1.add(Conv2D(filters=64,kernel_size=3,activation='relu'))\n",
    "classifier1.add(MaxPooling2D(pool_size=(2,2)))\n",
    "classifier1.add(Conv2D(filters=32,kernel_size=3,activation='relu'))\n",
    "classifier1.add(MaxPooling2D(pool_size=(2,2)))\n",
    "classifier1.add(Conv2D(filters=16,kernel_size=3,activation='relu'))\n",
    "classifier1.add(Flatten())\n",
    "classifier1.add(Dense(units=256,activation='relu'))\n",
    "classifier1.add(Dropout(0.2))\n",
    "classifier1.add(Dense(units=128,activation='relu'))\n",
    "classifier1.add(Dense(units=64,activation='relu'))\n",
    "classifier1.add(Dropout(0.2))\n",
    "classifier1.add(Dense(units=32,activation='relu'))\n",
    "classifier1.add(Dense(units=1,activation='sigmoid'))"
   ]
  },
  {
   "cell_type": "code",
   "execution_count": null,
   "id": "b8a7ad17",
   "metadata": {},
   "outputs": [],
   "source": [
    "loss = 'binary_crossentropy'\n",
    "metrics=['accuracy']\n",
    "classifier1.compile(optimizer='adam',loss=loss,metrics=metrics)"
   ]
  },
  {
   "cell_type": "code",
   "execution_count": null,
   "id": "a338f616",
   "metadata": {},
   "outputs": [],
   "source": [
    "classifier1.summary()"
   ]
  },
  {
   "cell_type": "code",
   "execution_count": null,
   "id": "94f895b2",
   "metadata": {},
   "outputs": [],
   "source": [
    "from tensorflow.keras.preprocessing.image import ImageDataGenerator"
   ]
  },
  {
   "cell_type": "code",
   "execution_count": null,
   "id": "66ffdeaf",
   "metadata": {},
   "outputs": [],
   "source": [
    "train_datagen = ImageDataGenerator(rescale=1./255,\n",
    "                                  shear_range=0.2,\n",
    "                                  zoom_range=0.2,\n",
    "                                  horizontal_flip=True)\n",
    "\n",
    "test_datagen = ImageDataGenerator(rescale=1./255)"
   ]
  },
  {
   "cell_type": "code",
   "execution_count": null,
   "id": "1ab5dbc4",
   "metadata": {},
   "outputs": [],
   "source": [
    "training_set = train_datagen.flow_from_directory('Bird_DataClassification/Train',\n",
    "                                                target_size=(256,256),\n",
    "                                                class_mode='binary',\n",
    "                                                batch_size=32)\n",
    "test_set = test_datagen.flow_from_directory('Bird_DataClassification/Test',\n",
    "                                                target_size=(256,256),\n",
    "                                                class_mode='binary',\n",
    "                                                batch_size=32)"
   ]
  },
  {
   "cell_type": "code",
   "execution_count": null,
   "id": "30151d0d",
   "metadata": {},
   "outputs": [],
   "source": [
    "from tensorflow.keras.callbacks import EarlyStopping,ModelCheckpoint, ReduceLROnPlateau\n",
    "checkpoint1 = ModelCheckpoint('./checkpoint/Ex3/Classifier1.h5',monitor='val_loss',save_best_only=True,save_weights_only=True,mode='min')\n",
    "learning_rate1 = ReduceLROnPlateau(patience=5,verbose=1,factor=0.5,min_delta=0.000001)\n",
    "early_stopping1 = EarlyStopping(patience=30,monitor='val_loss',verbose=1,restore_best_weights=True,mode='min')"
   ]
  },
  {
   "cell_type": "code",
   "execution_count": null,
   "id": "ee91ddc4",
   "metadata": {},
   "outputs": [],
   "source": [
    "from datetime import datetime"
   ]
  },
  {
   "cell_type": "code",
   "execution_count": null,
   "id": "dd2c7446",
   "metadata": {},
   "outputs": [],
   "source": [
    "import time\n",
    "pre_train = time.time()\n",
    "history = classifier1.fit(training_set,validation_data=test_set,\n",
    "                          epochs=500,callbacks=[checkpoint1,learning_rate1,early_stopping1])\n",
    "time_training = time.time() - pre_train1"
   ]
  },
  {
   "cell_type": "code",
   "execution_count": null,
   "id": "b9acc36f",
   "metadata": {},
   "outputs": [],
   "source": []
  }
 ],
 "metadata": {
  "kernelspec": {
   "display_name": "Python 3",
   "language": "python",
   "name": "python3"
  },
  "language_info": {
   "codemirror_mode": {
    "name": "ipython",
    "version": 3
   },
   "file_extension": ".py",
   "mimetype": "text/x-python",
   "name": "python",
   "nbconvert_exporter": "python",
   "pygments_lexer": "ipython3",
   "version": "3.8.8"
  }
 },
 "nbformat": 4,
 "nbformat_minor": 5
}
