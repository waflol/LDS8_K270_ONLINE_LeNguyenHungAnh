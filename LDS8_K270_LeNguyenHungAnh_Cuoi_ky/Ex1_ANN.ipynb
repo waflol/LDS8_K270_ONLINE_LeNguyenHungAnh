{
 "cells": [
  {
   "cell_type": "code",
   "execution_count": 1,
   "id": "e9f57cf8",
   "metadata": {},
   "outputs": [
    {
     "name": "stdout",
     "output_type": "stream",
     "text": [
      "[name: \"/device:CPU:0\"\n",
      "device_type: \"CPU\"\n",
      "memory_limit: 268435456\n",
      "locality {\n",
      "}\n",
      "incarnation: 15051238987174952812\n",
      ", name: \"/device:GPU:0\"\n",
      "device_type: \"GPU\"\n",
      "memory_limit: 5767102464\n",
      "locality {\n",
      "  bus_id: 1\n",
      "  links {\n",
      "  }\n",
      "}\n",
      "incarnation: 9933348564481151500\n",
      "physical_device_desc: \"device: 0, name: NVIDIA GeForce RTX 3060 Ti, pci bus id: 0000:01:00.0, compute capability: 8.6\"\n",
      "]\n"
     ]
    }
   ],
   "source": [
    "# kiểm tra GPU\n",
    "import tensorflow as tf\n",
    "from tensorflow.python.client import device_lib\n",
    "print(device_lib.list_local_devices())"
   ]
  },
  {
   "cell_type": "code",
   "execution_count": 2,
   "id": "cab36820",
   "metadata": {},
   "outputs": [
    {
     "name": "stdout",
     "output_type": "stream",
     "text": [
      "Mon Nov  8 02:24:54 2021       \n",
      "+-----------------------------------------------------------------------------+\n",
      "| NVIDIA-SMI 496.49       Driver Version: 496.49       CUDA Version: 11.5     |\n",
      "|-------------------------------+----------------------+----------------------+\n",
      "| GPU  Name            TCC/WDDM | Bus-Id        Disp.A | Volatile Uncorr. ECC |\n",
      "| Fan  Temp  Perf  Pwr:Usage/Cap|         Memory-Usage | GPU-Util  Compute M. |\n",
      "|                               |                      |               MIG M. |\n",
      "|===============================+======================+======================|\n",
      "|   0  NVIDIA GeForce ... WDDM  | 00000000:01:00.0  On |                  N/A |\n",
      "|  0%   42C    P2    32W / 240W |   1489MiB /  8192MiB |      9%      Default |\n",
      "|                               |                      |                  N/A |\n",
      "+-------------------------------+----------------------+----------------------+\n",
      "                                                                               \n",
      "+-----------------------------------------------------------------------------+\n",
      "| Processes:                                                                  |\n",
      "|  GPU   GI   CI        PID   Type   Process name                  GPU Memory |\n",
      "|        ID   ID                                                   Usage      |\n",
      "|=============================================================================|\n",
      "|    0   N/A  N/A      1352    C+G   Insufficient Permissions        N/A      |\n",
      "|    0   N/A  N/A      1508    C+G   ...y\\ShellExperienceHost.exe    N/A      |\n",
      "|    0   N/A  N/A      3040    C+G   ...b3d8bbwe\\WinStore.App.exe    N/A      |\n",
      "|    0   N/A  N/A      5652    C+G   ...s\\Win64\\EpicWebHelper.exe    N/A      |\n",
      "|    0   N/A  N/A      9752    C+G   C:\\Windows\\explorer.exe         N/A      |\n",
      "|    0   N/A  N/A     10972    C+G   ...5n1h2txyewy\\SearchApp.exe    N/A      |\n",
      "|    0   N/A  N/A     11644    C+G   ...ekyb3d8bbwe\\YourPhone.exe    N/A      |\n",
      "|    0   N/A  N/A     12168    C+G   ...\\app-1.0.9003\\Discord.exe    N/A      |\n",
      "|    0   N/A  N/A     12756    C+G   ...nputApp\\TextInputHost.exe    N/A      |\n",
      "|    0   N/A  N/A     13508    C+G   ...perience\\NVIDIA Share.exe    N/A      |\n",
      "|    0   N/A  N/A     14180    C+G   ...gins\\capture\\ZaloCall.exe    N/A      |\n",
      "|    0   N/A  N/A     14876    C+G   ...\\app-1.0.9003\\Discord.exe    N/A      |\n",
      "|    0   N/A  N/A     15120    C+G   ...n64\\EpicGamesLauncher.exe    N/A      |\n",
      "|    0   N/A  N/A     15920    C+G   ...alo\\Zalo-21.11.1\\Zalo.exe    N/A      |\n",
      "|    0   N/A  N/A     16152    C+G   ...lPanel\\SystemSettings.exe    N/A      |\n",
      "|    0   N/A  N/A     16908    C+G   ...e\\root\\Office16\\EXCEL.EXE    N/A      |\n",
      "|    0   N/A  N/A     17328    C+G   ...8wekyb3d8bbwe\\Cortana.exe    N/A      |\n",
      "|    0   N/A  N/A     17692    C+G   ...gins\\capture\\ZaviMeet.exe    N/A      |\n",
      "|    0   N/A  N/A     19760    C+G   ...icrosoft VS Code\\Code.exe    N/A      |\n",
      "|    0   N/A  N/A     20120      C   ...mins\\anaconda3\\python.exe    N/A      |\n",
      "+-----------------------------------------------------------------------------+\n"
     ]
    }
   ],
   "source": [
    "!nvidia-smi"
   ]
  },
  {
   "cell_type": "code",
   "execution_count": 3,
   "id": "2423728e",
   "metadata": {},
   "outputs": [],
   "source": [
    "# Khởi tạo môi trường\n",
    "import pandas as pd\n",
    "import numpy as np\n",
    "import matplotlib.pyplot as plt\n",
    "import seaborn as sns"
   ]
  },
  {
   "cell_type": "code",
   "execution_count": 4,
   "id": "f4a7af30",
   "metadata": {},
   "outputs": [
    {
     "name": "stdout",
     "output_type": "stream",
     "text": [
      "(63023, 13)\n"
     ]
    },
    {
     "data": {
      "text/html": [
       "<div>\n",
       "<style scoped>\n",
       "    .dataframe tbody tr th:only-of-type {\n",
       "        vertical-align: middle;\n",
       "    }\n",
       "\n",
       "    .dataframe tbody tr th {\n",
       "        vertical-align: top;\n",
       "    }\n",
       "\n",
       "    .dataframe thead th {\n",
       "        text-align: right;\n",
       "    }\n",
       "</style>\n",
       "<table border=\"1\" class=\"dataframe\">\n",
       "  <thead>\n",
       "    <tr style=\"text-align: right;\">\n",
       "      <th></th>\n",
       "      <th>Suburb</th>\n",
       "      <th>Address</th>\n",
       "      <th>Rooms</th>\n",
       "      <th>Type</th>\n",
       "      <th>Price</th>\n",
       "      <th>Method</th>\n",
       "      <th>SellerG</th>\n",
       "      <th>Date</th>\n",
       "      <th>Postcode</th>\n",
       "      <th>Regionname</th>\n",
       "      <th>Propertycount</th>\n",
       "      <th>Distance</th>\n",
       "      <th>CouncilArea</th>\n",
       "    </tr>\n",
       "  </thead>\n",
       "  <tbody>\n",
       "    <tr>\n",
       "      <th>0</th>\n",
       "      <td>Abbotsford</td>\n",
       "      <td>49 Lithgow St</td>\n",
       "      <td>3</td>\n",
       "      <td>h</td>\n",
       "      <td>1490000.0</td>\n",
       "      <td>S</td>\n",
       "      <td>Jellis</td>\n",
       "      <td>1/04/2017</td>\n",
       "      <td>3067</td>\n",
       "      <td>Northern Metropolitan</td>\n",
       "      <td>4019</td>\n",
       "      <td>3.0</td>\n",
       "      <td>Yarra City Council</td>\n",
       "    </tr>\n",
       "    <tr>\n",
       "      <th>1</th>\n",
       "      <td>Abbotsford</td>\n",
       "      <td>59A Turner St</td>\n",
       "      <td>3</td>\n",
       "      <td>h</td>\n",
       "      <td>1220000.0</td>\n",
       "      <td>S</td>\n",
       "      <td>Marshall</td>\n",
       "      <td>1/04/2017</td>\n",
       "      <td>3067</td>\n",
       "      <td>Northern Metropolitan</td>\n",
       "      <td>4019</td>\n",
       "      <td>3.0</td>\n",
       "      <td>Yarra City Council</td>\n",
       "    </tr>\n",
       "    <tr>\n",
       "      <th>2</th>\n",
       "      <td>Abbotsford</td>\n",
       "      <td>119B Yarra St</td>\n",
       "      <td>3</td>\n",
       "      <td>h</td>\n",
       "      <td>1420000.0</td>\n",
       "      <td>S</td>\n",
       "      <td>Nelson</td>\n",
       "      <td>1/04/2017</td>\n",
       "      <td>3067</td>\n",
       "      <td>Northern Metropolitan</td>\n",
       "      <td>4019</td>\n",
       "      <td>3.0</td>\n",
       "      <td>Yarra City Council</td>\n",
       "    </tr>\n",
       "    <tr>\n",
       "      <th>3</th>\n",
       "      <td>Aberfeldie</td>\n",
       "      <td>68 Vida St</td>\n",
       "      <td>3</td>\n",
       "      <td>h</td>\n",
       "      <td>1515000.0</td>\n",
       "      <td>S</td>\n",
       "      <td>Barry</td>\n",
       "      <td>1/04/2017</td>\n",
       "      <td>3040</td>\n",
       "      <td>Western Metropolitan</td>\n",
       "      <td>1543</td>\n",
       "      <td>7.5</td>\n",
       "      <td>Moonee Valley City Council</td>\n",
       "    </tr>\n",
       "    <tr>\n",
       "      <th>4</th>\n",
       "      <td>Airport West</td>\n",
       "      <td>92 Clydesdale Rd</td>\n",
       "      <td>2</td>\n",
       "      <td>h</td>\n",
       "      <td>670000.0</td>\n",
       "      <td>S</td>\n",
       "      <td>Nelson</td>\n",
       "      <td>1/04/2017</td>\n",
       "      <td>3042</td>\n",
       "      <td>Western Metropolitan</td>\n",
       "      <td>3464</td>\n",
       "      <td>10.4</td>\n",
       "      <td>Moonee Valley City Council</td>\n",
       "    </tr>\n",
       "  </tbody>\n",
       "</table>\n",
       "</div>"
      ],
      "text/plain": [
       "         Suburb           Address  Rooms Type      Price Method   SellerG  \\\n",
       "0    Abbotsford     49 Lithgow St      3    h  1490000.0      S    Jellis   \n",
       "1    Abbotsford     59A Turner St      3    h  1220000.0      S  Marshall   \n",
       "2    Abbotsford     119B Yarra St      3    h  1420000.0      S    Nelson   \n",
       "3    Aberfeldie        68 Vida St      3    h  1515000.0      S     Barry   \n",
       "4  Airport West  92 Clydesdale Rd      2    h   670000.0      S    Nelson   \n",
       "\n",
       "        Date  Postcode             Regionname  Propertycount  Distance  \\\n",
       "0  1/04/2017      3067  Northern Metropolitan           4019       3.0   \n",
       "1  1/04/2017      3067  Northern Metropolitan           4019       3.0   \n",
       "2  1/04/2017      3067  Northern Metropolitan           4019       3.0   \n",
       "3  1/04/2017      3040   Western Metropolitan           1543       7.5   \n",
       "4  1/04/2017      3042   Western Metropolitan           3464      10.4   \n",
       "\n",
       "                  CouncilArea  \n",
       "0          Yarra City Council  \n",
       "1          Yarra City Council  \n",
       "2          Yarra City Council  \n",
       "3  Moonee Valley City Council  \n",
       "4  Moonee Valley City Council  "
      ]
     },
     "execution_count": 4,
     "metadata": {},
     "output_type": "execute_result"
    }
   ],
   "source": [
    "data = pd.read_csv('LDS8_DeThi_k270\\Dataset\\MELBOURNE_HOUSE_PRICES_LESS.csv')\n",
    "print(data.shape)\n",
    "data.head()"
   ]
  },
  {
   "cell_type": "markdown",
   "id": "ceeb4ca4",
   "metadata": {},
   "source": [
    "<h2>Features of the dataset</h2>"
   ]
  },
  {
   "cell_type": "code",
   "execution_count": 5,
   "id": "e93d86c3",
   "metadata": {},
   "outputs": [
    {
     "name": "stdout",
     "output_type": "stream",
     "text": [
      "<class 'pandas.core.frame.DataFrame'>\n",
      "RangeIndex: 63023 entries, 0 to 63022\n",
      "Data columns (total 13 columns):\n",
      " #   Column         Non-Null Count  Dtype  \n",
      "---  ------         --------------  -----  \n",
      " 0   Suburb         63023 non-null  object \n",
      " 1   Address        63023 non-null  object \n",
      " 2   Rooms          63023 non-null  int64  \n",
      " 3   Type           63023 non-null  object \n",
      " 4   Price          48433 non-null  float64\n",
      " 5   Method         63023 non-null  object \n",
      " 6   SellerG        63023 non-null  object \n",
      " 7   Date           63023 non-null  object \n",
      " 8   Postcode       63023 non-null  int64  \n",
      " 9   Regionname     63023 non-null  object \n",
      " 10  Propertycount  63023 non-null  int64  \n",
      " 11  Distance       63023 non-null  float64\n",
      " 12  CouncilArea    63023 non-null  object \n",
      "dtypes: float64(2), int64(3), object(8)\n",
      "memory usage: 6.3+ MB\n"
     ]
    }
   ],
   "source": [
    "data.info()"
   ]
  },
  {
   "cell_type": "code",
   "execution_count": 6,
   "id": "fd8ad1ff",
   "metadata": {},
   "outputs": [
    {
     "data": {
      "text/html": [
       "<div>\n",
       "<style scoped>\n",
       "    .dataframe tbody tr th:only-of-type {\n",
       "        vertical-align: middle;\n",
       "    }\n",
       "\n",
       "    .dataframe tbody tr th {\n",
       "        vertical-align: top;\n",
       "    }\n",
       "\n",
       "    .dataframe thead th {\n",
       "        text-align: right;\n",
       "    }\n",
       "</style>\n",
       "<table border=\"1\" class=\"dataframe\">\n",
       "  <thead>\n",
       "    <tr style=\"text-align: right;\">\n",
       "      <th></th>\n",
       "      <th>Rooms</th>\n",
       "      <th>Price</th>\n",
       "      <th>Postcode</th>\n",
       "      <th>Propertycount</th>\n",
       "      <th>Distance</th>\n",
       "    </tr>\n",
       "  </thead>\n",
       "  <tbody>\n",
       "    <tr>\n",
       "      <th>count</th>\n",
       "      <td>63023.000000</td>\n",
       "      <td>4.843300e+04</td>\n",
       "      <td>63023.000000</td>\n",
       "      <td>63023.000000</td>\n",
       "      <td>63023.000000</td>\n",
       "    </tr>\n",
       "    <tr>\n",
       "      <th>mean</th>\n",
       "      <td>3.110595</td>\n",
       "      <td>9.978982e+05</td>\n",
       "      <td>3125.673897</td>\n",
       "      <td>7617.728131</td>\n",
       "      <td>12.684829</td>\n",
       "    </tr>\n",
       "    <tr>\n",
       "      <th>std</th>\n",
       "      <td>0.957551</td>\n",
       "      <td>5.934989e+05</td>\n",
       "      <td>125.626877</td>\n",
       "      <td>4424.423167</td>\n",
       "      <td>7.592015</td>\n",
       "    </tr>\n",
       "    <tr>\n",
       "      <th>min</th>\n",
       "      <td>1.000000</td>\n",
       "      <td>8.500000e+04</td>\n",
       "      <td>3000.000000</td>\n",
       "      <td>39.000000</td>\n",
       "      <td>0.000000</td>\n",
       "    </tr>\n",
       "    <tr>\n",
       "      <th>25%</th>\n",
       "      <td>3.000000</td>\n",
       "      <td>6.200000e+05</td>\n",
       "      <td>3056.000000</td>\n",
       "      <td>4380.000000</td>\n",
       "      <td>7.000000</td>\n",
       "    </tr>\n",
       "    <tr>\n",
       "      <th>50%</th>\n",
       "      <td>3.000000</td>\n",
       "      <td>8.300000e+05</td>\n",
       "      <td>3107.000000</td>\n",
       "      <td>6795.000000</td>\n",
       "      <td>11.400000</td>\n",
       "    </tr>\n",
       "    <tr>\n",
       "      <th>75%</th>\n",
       "      <td>4.000000</td>\n",
       "      <td>1.220000e+06</td>\n",
       "      <td>3163.000000</td>\n",
       "      <td>10412.000000</td>\n",
       "      <td>16.700000</td>\n",
       "    </tr>\n",
       "    <tr>\n",
       "      <th>max</th>\n",
       "      <td>31.000000</td>\n",
       "      <td>1.120000e+07</td>\n",
       "      <td>3980.000000</td>\n",
       "      <td>21650.000000</td>\n",
       "      <td>64.100000</td>\n",
       "    </tr>\n",
       "  </tbody>\n",
       "</table>\n",
       "</div>"
      ],
      "text/plain": [
       "              Rooms         Price      Postcode  Propertycount      Distance\n",
       "count  63023.000000  4.843300e+04  63023.000000   63023.000000  63023.000000\n",
       "mean       3.110595  9.978982e+05   3125.673897    7617.728131     12.684829\n",
       "std        0.957551  5.934989e+05    125.626877    4424.423167      7.592015\n",
       "min        1.000000  8.500000e+04   3000.000000      39.000000      0.000000\n",
       "25%        3.000000  6.200000e+05   3056.000000    4380.000000      7.000000\n",
       "50%        3.000000  8.300000e+05   3107.000000    6795.000000     11.400000\n",
       "75%        4.000000  1.220000e+06   3163.000000   10412.000000     16.700000\n",
       "max       31.000000  1.120000e+07   3980.000000   21650.000000     64.100000"
      ]
     },
     "execution_count": 6,
     "metadata": {},
     "output_type": "execute_result"
    }
   ],
   "source": [
    "data.describe()"
   ]
  },
  {
   "cell_type": "code",
   "execution_count": 7,
   "id": "e585c954",
   "metadata": {},
   "outputs": [
    {
     "name": "stdout",
     "output_type": "stream",
     "text": [
      "Categorical Features \n",
      "Index(['Suburb', 'Address', 'Type', 'Method', 'SellerG', 'Date', 'Regionname',\n",
      "       'CouncilArea'],\n",
      "      dtype='object')\n",
      "\n",
      "Numeric Features\n",
      "Index(['Rooms', 'Price', 'Postcode', 'Propertycount', 'Distance'], dtype='object')\n"
     ]
    }
   ],
   "source": [
    "print('Categorical Features ')\n",
    "print(data.select_dtypes(['object']).columns)\n",
    "print('\\nNumeric Features')\n",
    "print(data.select_dtypes(['int64','float64']).columns)"
   ]
  },
  {
   "cell_type": "markdown",
   "id": "e41204cb",
   "metadata": {},
   "source": [
    "<h2>Cleaning Data</h2>\n",
    "<h3>Xóa các cột không có ý nghĩa</h3>\n",
    "<p>Cột Address,SellerG, Property Count sẽ bị bỏ vì các cột đó không có giá trị phân tích</p>"
   ]
  },
  {
   "cell_type": "code",
   "execution_count": 8,
   "id": "7108887b",
   "metadata": {},
   "outputs": [],
   "source": [
    "data = data.drop(['Propertycount','SellerG','Address'], axis = 1)"
   ]
  },
  {
   "cell_type": "code",
   "execution_count": 9,
   "id": "3a222d2f",
   "metadata": {},
   "outputs": [],
   "source": [
    "data['Date'] = pd.to_datetime(data['Date'])\n",
    "data['Month'] = data['Date'].apply(lambda date:date.month)\n",
    "data['Year'] = data['Date'].apply(lambda date:date.year)\n",
    "data['Day'] = data['Date'].apply(lambda date:date.day)"
   ]
  },
  {
   "cell_type": "code",
   "execution_count": 10,
   "id": "04252e31",
   "metadata": {},
   "outputs": [
    {
     "data": {
      "text/plain": [
       "Suburb             0\n",
       "Rooms              0\n",
       "Type               0\n",
       "Price          14590\n",
       "Method             0\n",
       "Date               0\n",
       "Postcode           0\n",
       "Regionname         0\n",
       "Distance           0\n",
       "CouncilArea        0\n",
       "Month              0\n",
       "Year               0\n",
       "Day                0\n",
       "dtype: int64"
      ]
     },
     "execution_count": 10,
     "metadata": {},
     "output_type": "execute_result"
    }
   ],
   "source": [
    "data.isnull().sum()"
   ]
  },
  {
   "cell_type": "markdown",
   "id": "d1ed3946",
   "metadata": {},
   "source": [
    "<h3>Nhận xét:</h3>\n",
    "<p>Có 2 cách để làm mất Nan trong cột Prices:</p>\n",
    "<ol>\n",
    "    <li>Thay Nan bằng mean để không thay đổi mean của toàn bộ cột </li>\n",
    "    <li>Xóa các hàng có giá trị Nan </li> \n",
    "</ol>\n",
    "<strong>Do dữ liệu khá nhiều và chỉ có cột Price có giá trị Nan nên sẽ xóa các hàng chứa giá trị Nan</strong>"
   ]
  },
  {
   "cell_type": "code",
   "execution_count": 11,
   "id": "cb2a05ef",
   "metadata": {},
   "outputs": [],
   "source": [
    "NonPricing_data = data[data['Price'].isna()]"
   ]
  },
  {
   "cell_type": "code",
   "execution_count": 12,
   "id": "d8ece581",
   "metadata": {},
   "outputs": [
    {
     "data": {
      "text/plain": [
       "(14590, 13)"
      ]
     },
     "execution_count": 12,
     "metadata": {},
     "output_type": "execute_result"
    }
   ],
   "source": [
    "NonPricing_data.shape"
   ]
  },
  {
   "cell_type": "code",
   "execution_count": 13,
   "id": "44f75949",
   "metadata": {},
   "outputs": [],
   "source": [
    "NonNan_data = data.dropna(axis=0)"
   ]
  },
  {
   "cell_type": "code",
   "execution_count": 14,
   "id": "bb92d40f",
   "metadata": {},
   "outputs": [
    {
     "data": {
      "text/plain": [
       "Suburb         0\n",
       "Rooms          0\n",
       "Type           0\n",
       "Price          0\n",
       "Method         0\n",
       "Date           0\n",
       "Postcode       0\n",
       "Regionname     0\n",
       "Distance       0\n",
       "CouncilArea    0\n",
       "Month          0\n",
       "Year           0\n",
       "Day            0\n",
       "dtype: int64"
      ]
     },
     "execution_count": 14,
     "metadata": {},
     "output_type": "execute_result"
    }
   ],
   "source": [
    "NonNan_data.isnull().sum()"
   ]
  },
  {
   "cell_type": "markdown",
   "id": "703a4b4e",
   "metadata": {},
   "source": [
    "<h2>Data Visualization</h2>"
   ]
  },
  {
   "cell_type": "code",
   "execution_count": 15,
   "id": "0e374d27",
   "metadata": {},
   "outputs": [
    {
     "name": "stderr",
     "output_type": "stream",
     "text": [
      "C:\\Users\\Admins\\anaconda3\\lib\\site-packages\\seaborn\\distributions.py:2557: FutureWarning: `distplot` is a deprecated function and will be removed in a future version. Please adapt your code to use either `displot` (a figure-level function with similar flexibility) or `histplot` (an axes-level function for histograms).\n",
      "  warnings.warn(msg, FutureWarning)\n"
     ]
    },
    {
     "data": {
      "text/plain": [
       "<AxesSubplot:xlabel='Price'>"
      ]
     },
     "execution_count": 15,
     "metadata": {},
     "output_type": "execute_result"
    },
    {
     "data": {
      "image/png": "[encoded data removed]",
      "text/plain": [
       "<Figure size 1080x576 with 1 Axes>"
      ]
     },
     "metadata": {
      "needs_background": "light"
     },
     "output_type": "display_data"
    }
   ],
   "source": [
    "plt.figure(figsize=(15,8))\n",
    "sns.distplot(NonNan_data['Price'], kde = False,hist_kws=dict(edgecolor=\"b\"))"
   ]
  },
  {
   "cell_type": "code",
   "execution_count": 16,
   "id": "69e9c86e",
   "metadata": {},
   "outputs": [
    {
     "data": {
      "text/plain": [
       "Text(0.5, 1.0, 'Method vs Price')"
      ]
     },
     "execution_count": 16,
     "metadata": {},
     "output_type": "execute_result"
    },
    {
     "data": {
      "image/png": "[encoded data removed]",
      "text/plain": [
       "<Figure size 1080x576 with 2 Axes>"
      ]
     },
     "metadata": {
      "needs_background": "light"
     },
     "output_type": "display_data"
    }
   ],
   "source": [
    "plt.figure(figsize =(15,8))\n",
    "\n",
    "ax1 = plt.subplot(1,2,1)\n",
    "sns.boxplot(data=NonNan_data, x='Type', y='Price')\n",
    "ax1.set_xlabel('Type')\n",
    "ax1.set_ylabel('Price')\n",
    "ax1.set_title('Type vs Price')\n",
    "\n",
    "ax2 = plt.subplot(1,2,2,sharey=ax1)\n",
    "sns.boxplot(data=NonNan_data, x='Method', y='Price')\n",
    "ax2.set_xlabel('Method')\n",
    "ax2.set_ylabel('Price')\n",
    "ax2.set_title('Method vs Price')"
   ]
  },
  {
   "cell_type": "code",
   "execution_count": 17,
   "id": "6f28b344",
   "metadata": {},
   "outputs": [
    {
     "data": {
      "text/plain": [
       "<AxesSubplot:xlabel='Year'>"
      ]
     },
     "execution_count": 17,
     "metadata": {},
     "output_type": "execute_result"
    },
    {
     "data": {
      "image/png": "[encoded data removed]",
      "text/plain": [
       "<Figure size 1152x360 with 2 Axes>"
      ]
     },
     "metadata": {
      "needs_background": "light"
     },
     "output_type": "display_data"
    }
   ],
   "source": [
    "#data visualization house price vs months and years\n",
    "fig = plt.figure(figsize=(16,5))\n",
    "fig.add_subplot(1,2,1)\n",
    "NonNan_data.groupby('Month').mean()['Price'].plot()\n",
    "fig.add_subplot(1,2,2)\n",
    "NonNan_data.groupby('Year').mean()['Price'].plot()"
   ]
  },
  {
   "cell_type": "code",
   "execution_count": 18,
   "id": "4c890a1b",
   "metadata": {},
   "outputs": [
    {
     "data": {
      "text/plain": [
       "<AxesSubplot:xlabel='Day'>"
      ]
     },
     "execution_count": 18,
     "metadata": {},
     "output_type": "execute_result"
    },
    {
     "data": {
      "image/png": "[encoded data removed]",
      "text/plain": [
       "<Figure size 432x288 with 1 Axes>"
      ]
     },
     "metadata": {
      "needs_background": "light"
     },
     "output_type": "display_data"
    }
   ],
   "source": [
    "NonNan_data.groupby('Day').mean()['Price'].plot()"
   ]
  },
  {
   "cell_type": "markdown",
   "id": "69c17d62",
   "metadata": {},
   "source": [
    "<h3>Nhận xét</h3>\n",
    "<li>Cột Rooms có hệ số corr cao nhất</li>\n",
    "<li>Cột Postcode có hệ số corr thấp nhất</li>\n",
    "<li>Tháng 3 giá nhà có mức trung bình cao nhất và tháng 7 giá nhà có mức trung bình thấp nhất</li>\n",
    "<li>Từ 2016 đến 2017 thì giá nhà tăng, sau 2017 giá nhà giảm tuyến tính</li>"
   ]
  },
  {
   "cell_type": "markdown",
   "id": "43941ef0",
   "metadata": {},
   "source": [
    "<h2>Preprocessing Data</h2>"
   ]
  },
  {
   "cell_type": "code",
   "execution_count": 19,
   "id": "7455d0b0",
   "metadata": {},
   "outputs": [],
   "source": [
    "def preprocessing(data):\n",
    "    new_data = data[data.columns]\n",
    "    new_data.drop(['Date','Suburb','Postcode','Day'],axis = 1, inplace = True)\n",
    "    one_hot_encode_cols = new_data.dtypes[new_data.dtypes ==np.object]\n",
    "    one_hot_encode_cols = one_hot_encode_cols.index.tolist()\n",
    "    new_data = pd.get_dummies(new_data, columns = one_hot_encode_cols, drop_first = True)\n",
    "    return new_data\n",
    "def preprocessing_Newinput(new_input):\n",
    "    new_input = preprocessing(new_input)\n",
    "    final_Newinput = s_scaler.transform(new_input.astype(np.float))\n",
    "    return final_Newinput"
   ]
  },
  {
   "cell_type": "code",
   "execution_count": 20,
   "id": "6cdec5a4",
   "metadata": {},
   "outputs": [],
   "source": [
    "NonPricing_data = preprocessing(NonPricing_data)\n",
    "NonNan_data = preprocessing(NonNan_data)"
   ]
  },
  {
   "cell_type": "code",
   "execution_count": 21,
   "id": "59ff5509",
   "metadata": {},
   "outputs": [
    {
     "data": {
      "text/plain": [
       "['Method_PN', 'Method_SN', 'Method_SS', 'Method_W']"
      ]
     },
     "execution_count": 21,
     "metadata": {},
     "output_type": "execute_result"
    }
   ],
   "source": [
    "[x for x in NonPricing_data.columns if x not in NonNan_data.columns]"
   ]
  },
  {
   "cell_type": "markdown",
   "id": "cb6e0139",
   "metadata": {},
   "source": [
    "<h3>Nhận xét</h3>\n",
    "<p> Ở cột Method có các phân loại mà NonPricing_data(data cột target là nan) có nhưng NonNan_data (data sau khi drop nan)</p>\n",
    "<p> Do đó ta sẽ encoder các cột phân loại trước xong mới drop nan value</p>"
   ]
  },
  {
   "cell_type": "code",
   "execution_count": 22,
   "id": "26c3a2ad",
   "metadata": {},
   "outputs": [],
   "source": [
    "data = preprocessing(data)"
   ]
  },
  {
   "cell_type": "code",
   "execution_count": 23,
   "id": "481fde8d",
   "metadata": {},
   "outputs": [],
   "source": [
    "new_data = data[data['Price'].isna()] # dữ liệu có cột price là nan"
   ]
  },
  {
   "cell_type": "code",
   "execution_count": 24,
   "id": "25271f69",
   "metadata": {},
   "outputs": [],
   "source": [
    "data = data.dropna(axis=0)"
   ]
  },
  {
   "cell_type": "code",
   "execution_count": 25,
   "id": "f8674ecd",
   "metadata": {},
   "outputs": [
    {
     "data": {
      "text/plain": [
       "Rooms                                         0\n",
       "Price                                         0\n",
       "Distance                                      0\n",
       "Month                                         0\n",
       "Year                                          0\n",
       "Type_t                                        0\n",
       "Type_u                                        0\n",
       "Method_PN                                     0\n",
       "Method_S                                      0\n",
       "Method_SA                                     0\n",
       "Method_SN                                     0\n",
       "Method_SP                                     0\n",
       "Method_SS                                     0\n",
       "Method_VB                                     0\n",
       "Method_W                                      0\n",
       "Regionname_Eastern Victoria                   0\n",
       "Regionname_Northern Metropolitan              0\n",
       "Regionname_Northern Victoria                  0\n",
       "Regionname_South-Eastern Metropolitan         0\n",
       "Regionname_Southern Metropolitan              0\n",
       "Regionname_Western Metropolitan               0\n",
       "Regionname_Western Victoria                   0\n",
       "CouncilArea_Bayside City Council              0\n",
       "CouncilArea_Boroondara City Council           0\n",
       "CouncilArea_Brimbank City Council             0\n",
       "CouncilArea_Cardinia Shire Council            0\n",
       "CouncilArea_Casey City Council                0\n",
       "CouncilArea_Darebin City Council              0\n",
       "CouncilArea_Frankston City Council            0\n",
       "CouncilArea_Glen Eira City Council            0\n",
       "CouncilArea_Greater Dandenong City Council    0\n",
       "CouncilArea_Hobsons Bay City Council          0\n",
       "CouncilArea_Hume City Council                 0\n",
       "CouncilArea_Kingston City Council             0\n",
       "CouncilArea_Knox City Council                 0\n",
       "CouncilArea_Macedon Ranges Shire Council      0\n",
       "CouncilArea_Manningham City Council           0\n",
       "CouncilArea_Maribyrnong City Council          0\n",
       "CouncilArea_Maroondah City Council            0\n",
       "CouncilArea_Melbourne City Council            0\n",
       "CouncilArea_Melton City Council               0\n",
       "CouncilArea_Mitchell Shire Council            0\n",
       "CouncilArea_Monash City Council               0\n",
       "CouncilArea_Moonee Valley City Council        0\n",
       "CouncilArea_Moorabool Shire Council           0\n",
       "CouncilArea_Moreland City Council             0\n",
       "CouncilArea_Murrindindi Shire Council         0\n",
       "CouncilArea_Nillumbik Shire Council           0\n",
       "CouncilArea_Port Phillip City Council         0\n",
       "CouncilArea_Stonnington City Council          0\n",
       "CouncilArea_Whitehorse City Council           0\n",
       "CouncilArea_Whittlesea City Council           0\n",
       "CouncilArea_Wyndham City Council              0\n",
       "CouncilArea_Yarra City Council                0\n",
       "CouncilArea_Yarra Ranges Shire Council        0\n",
       "dtype: int64"
      ]
     },
     "execution_count": 25,
     "metadata": {},
     "output_type": "execute_result"
    }
   ],
   "source": [
    "data.isnull().sum()"
   ]
  },
  {
   "cell_type": "markdown",
   "id": "9e2dc893",
   "metadata": {},
   "source": [
    "<h2>Outliers</h2>"
   ]
  },
  {
   "cell_type": "code",
   "execution_count": 26,
   "id": "22b2f6dd",
   "metadata": {},
   "outputs": [
    {
     "data": {
      "text/plain": [
       "<AxesSubplot:ylabel='Price'>"
      ]
     },
     "execution_count": 26,
     "metadata": {},
     "output_type": "execute_result"
    },
    {
     "data": {
      "image/png": "[encoded data removed]",
      "text/plain": [
       "<Figure size 576x720 with 1 Axes>"
      ]
     },
     "metadata": {
      "needs_background": "light"
     },
     "output_type": "display_data"
    }
   ],
   "source": [
    "plt.figure(figsize=(8,10))\n",
    "sns.boxplot(data = data, y='Price')"
   ]
  },
  {
   "cell_type": "code",
   "execution_count": 27,
   "id": "70c6d37c",
   "metadata": {},
   "outputs": [
    {
     "data": {
      "text/plain": [
       "600000.0"
      ]
     },
     "execution_count": 27,
     "metadata": {},
     "output_type": "execute_result"
    }
   ],
   "source": [
    "from scipy.stats import iqr\n",
    "IQR = iqr(np.array(data.Price),axis = 0)\n",
    "IQR"
   ]
  },
  {
   "cell_type": "code",
   "execution_count": 28,
   "id": "17dcfd28",
   "metadata": {},
   "outputs": [
    {
     "name": "stdout",
     "output_type": "stream",
     "text": [
      "Q1 =  620000.0  || Q3 =  1220000.0\n"
     ]
    }
   ],
   "source": [
    "Q1 = data.Price.quantile(0.25)\n",
    "Q3 = data.Price.quantile(0.75)\n",
    "print('Q1 = ',Q1,' || Q3 = ',Q3)"
   ]
  },
  {
   "cell_type": "code",
   "execution_count": 29,
   "id": "42b7ea00",
   "metadata": {},
   "outputs": [
    {
     "name": "stdout",
     "output_type": "stream",
     "text": [
      "upper_boundary =  2120000.0  || lower_boundary =  -280000.0\n"
     ]
    }
   ],
   "source": [
    "upper_boundary = Q3 + 1.5*IQR\n",
    "lower_boundary = Q1 - 1.5*IQR\n",
    "print('upper_boundary = ',upper_boundary,' || lower_boundary = ',lower_boundary)"
   ]
  },
  {
   "cell_type": "code",
   "execution_count": 30,
   "id": "8e1ce70c",
   "metadata": {},
   "outputs": [],
   "source": [
    "data2=data[~((data.Price<(Q1-1.5*IQR)) | (data.Price>(Q3+1.5*IQR)))]"
   ]
  },
  {
   "cell_type": "code",
   "execution_count": 31,
   "id": "d7333dd0",
   "metadata": {},
   "outputs": [
    {
     "data": {
      "text/html": [
       "<div>\n",
       "<style scoped>\n",
       "    .dataframe tbody tr th:only-of-type {\n",
       "        vertical-align: middle;\n",
       "    }\n",
       "\n",
       "    .dataframe tbody tr th {\n",
       "        vertical-align: top;\n",
       "    }\n",
       "\n",
       "    .dataframe thead th {\n",
       "        text-align: right;\n",
       "    }\n",
       "</style>\n",
       "<table border=\"1\" class=\"dataframe\">\n",
       "  <thead>\n",
       "    <tr style=\"text-align: right;\">\n",
       "      <th></th>\n",
       "      <th>Rooms</th>\n",
       "      <th>Price</th>\n",
       "      <th>Distance</th>\n",
       "      <th>Month</th>\n",
       "      <th>Year</th>\n",
       "      <th>Type_t</th>\n",
       "      <th>Type_u</th>\n",
       "      <th>Method_PN</th>\n",
       "      <th>Method_S</th>\n",
       "      <th>Method_SA</th>\n",
       "      <th>...</th>\n",
       "      <th>CouncilArea_Moreland City Council</th>\n",
       "      <th>CouncilArea_Murrindindi Shire Council</th>\n",
       "      <th>CouncilArea_Nillumbik Shire Council</th>\n",
       "      <th>CouncilArea_Port Phillip City Council</th>\n",
       "      <th>CouncilArea_Stonnington City Council</th>\n",
       "      <th>CouncilArea_Whitehorse City Council</th>\n",
       "      <th>CouncilArea_Whittlesea City Council</th>\n",
       "      <th>CouncilArea_Wyndham City Council</th>\n",
       "      <th>CouncilArea_Yarra City Council</th>\n",
       "      <th>CouncilArea_Yarra Ranges Shire Council</th>\n",
       "    </tr>\n",
       "  </thead>\n",
       "  <tbody>\n",
       "    <tr>\n",
       "      <th>0</th>\n",
       "      <td>3</td>\n",
       "      <td>1490000.0</td>\n",
       "      <td>3.0</td>\n",
       "      <td>1</td>\n",
       "      <td>2017</td>\n",
       "      <td>0</td>\n",
       "      <td>0</td>\n",
       "      <td>0</td>\n",
       "      <td>1</td>\n",
       "      <td>0</td>\n",
       "      <td>...</td>\n",
       "      <td>0</td>\n",
       "      <td>0</td>\n",
       "      <td>0</td>\n",
       "      <td>0</td>\n",
       "      <td>0</td>\n",
       "      <td>0</td>\n",
       "      <td>0</td>\n",
       "      <td>0</td>\n",
       "      <td>1</td>\n",
       "      <td>0</td>\n",
       "    </tr>\n",
       "    <tr>\n",
       "      <th>1</th>\n",
       "      <td>3</td>\n",
       "      <td>1220000.0</td>\n",
       "      <td>3.0</td>\n",
       "      <td>1</td>\n",
       "      <td>2017</td>\n",
       "      <td>0</td>\n",
       "      <td>0</td>\n",
       "      <td>0</td>\n",
       "      <td>1</td>\n",
       "      <td>0</td>\n",
       "      <td>...</td>\n",
       "      <td>0</td>\n",
       "      <td>0</td>\n",
       "      <td>0</td>\n",
       "      <td>0</td>\n",
       "      <td>0</td>\n",
       "      <td>0</td>\n",
       "      <td>0</td>\n",
       "      <td>0</td>\n",
       "      <td>1</td>\n",
       "      <td>0</td>\n",
       "    </tr>\n",
       "    <tr>\n",
       "      <th>2</th>\n",
       "      <td>3</td>\n",
       "      <td>1420000.0</td>\n",
       "      <td>3.0</td>\n",
       "      <td>1</td>\n",
       "      <td>2017</td>\n",
       "      <td>0</td>\n",
       "      <td>0</td>\n",
       "      <td>0</td>\n",
       "      <td>1</td>\n",
       "      <td>0</td>\n",
       "      <td>...</td>\n",
       "      <td>0</td>\n",
       "      <td>0</td>\n",
       "      <td>0</td>\n",
       "      <td>0</td>\n",
       "      <td>0</td>\n",
       "      <td>0</td>\n",
       "      <td>0</td>\n",
       "      <td>0</td>\n",
       "      <td>1</td>\n",
       "      <td>0</td>\n",
       "    </tr>\n",
       "    <tr>\n",
       "      <th>3</th>\n",
       "      <td>3</td>\n",
       "      <td>1515000.0</td>\n",
       "      <td>7.5</td>\n",
       "      <td>1</td>\n",
       "      <td>2017</td>\n",
       "      <td>0</td>\n",
       "      <td>0</td>\n",
       "      <td>0</td>\n",
       "      <td>1</td>\n",
       "      <td>0</td>\n",
       "      <td>...</td>\n",
       "      <td>0</td>\n",
       "      <td>0</td>\n",
       "      <td>0</td>\n",
       "      <td>0</td>\n",
       "      <td>0</td>\n",
       "      <td>0</td>\n",
       "      <td>0</td>\n",
       "      <td>0</td>\n",
       "      <td>0</td>\n",
       "      <td>0</td>\n",
       "    </tr>\n",
       "    <tr>\n",
       "      <th>4</th>\n",
       "      <td>2</td>\n",
       "      <td>670000.0</td>\n",
       "      <td>10.4</td>\n",
       "      <td>1</td>\n",
       "      <td>2017</td>\n",
       "      <td>0</td>\n",
       "      <td>0</td>\n",
       "      <td>0</td>\n",
       "      <td>1</td>\n",
       "      <td>0</td>\n",
       "      <td>...</td>\n",
       "      <td>0</td>\n",
       "      <td>0</td>\n",
       "      <td>0</td>\n",
       "      <td>0</td>\n",
       "      <td>0</td>\n",
       "      <td>0</td>\n",
       "      <td>0</td>\n",
       "      <td>0</td>\n",
       "      <td>0</td>\n",
       "      <td>0</td>\n",
       "    </tr>\n",
       "    <tr>\n",
       "      <th>...</th>\n",
       "      <td>...</td>\n",
       "      <td>...</td>\n",
       "      <td>...</td>\n",
       "      <td>...</td>\n",
       "      <td>...</td>\n",
       "      <td>...</td>\n",
       "      <td>...</td>\n",
       "      <td>...</td>\n",
       "      <td>...</td>\n",
       "      <td>...</td>\n",
       "      <td>...</td>\n",
       "      <td>...</td>\n",
       "      <td>...</td>\n",
       "      <td>...</td>\n",
       "      <td>...</td>\n",
       "      <td>...</td>\n",
       "      <td>...</td>\n",
       "      <td>...</td>\n",
       "      <td>...</td>\n",
       "      <td>...</td>\n",
       "      <td>...</td>\n",
       "    </tr>\n",
       "    <tr>\n",
       "      <th>63016</th>\n",
       "      <td>2</td>\n",
       "      <td>347700.0</td>\n",
       "      <td>38.0</td>\n",
       "      <td>3</td>\n",
       "      <td>2018</td>\n",
       "      <td>0</td>\n",
       "      <td>1</td>\n",
       "      <td>0</td>\n",
       "      <td>0</td>\n",
       "      <td>0</td>\n",
       "      <td>...</td>\n",
       "      <td>0</td>\n",
       "      <td>0</td>\n",
       "      <td>0</td>\n",
       "      <td>0</td>\n",
       "      <td>0</td>\n",
       "      <td>0</td>\n",
       "      <td>0</td>\n",
       "      <td>0</td>\n",
       "      <td>0</td>\n",
       "      <td>0</td>\n",
       "    </tr>\n",
       "    <tr>\n",
       "      <th>63017</th>\n",
       "      <td>3</td>\n",
       "      <td>808000.0</td>\n",
       "      <td>8.4</td>\n",
       "      <td>3</td>\n",
       "      <td>2018</td>\n",
       "      <td>0</td>\n",
       "      <td>0</td>\n",
       "      <td>0</td>\n",
       "      <td>1</td>\n",
       "      <td>0</td>\n",
       "      <td>...</td>\n",
       "      <td>0</td>\n",
       "      <td>0</td>\n",
       "      <td>0</td>\n",
       "      <td>0</td>\n",
       "      <td>0</td>\n",
       "      <td>0</td>\n",
       "      <td>0</td>\n",
       "      <td>0</td>\n",
       "      <td>0</td>\n",
       "      <td>0</td>\n",
       "    </tr>\n",
       "    <tr>\n",
       "      <th>63018</th>\n",
       "      <td>3</td>\n",
       "      <td>566000.0</td>\n",
       "      <td>20.6</td>\n",
       "      <td>3</td>\n",
       "      <td>2018</td>\n",
       "      <td>0</td>\n",
       "      <td>0</td>\n",
       "      <td>0</td>\n",
       "      <td>1</td>\n",
       "      <td>0</td>\n",
       "      <td>...</td>\n",
       "      <td>0</td>\n",
       "      <td>0</td>\n",
       "      <td>0</td>\n",
       "      <td>0</td>\n",
       "      <td>0</td>\n",
       "      <td>0</td>\n",
       "      <td>0</td>\n",
       "      <td>0</td>\n",
       "      <td>0</td>\n",
       "      <td>0</td>\n",
       "    </tr>\n",
       "    <tr>\n",
       "      <th>63019</th>\n",
       "      <td>3</td>\n",
       "      <td>500000.0</td>\n",
       "      <td>20.6</td>\n",
       "      <td>3</td>\n",
       "      <td>2018</td>\n",
       "      <td>0</td>\n",
       "      <td>0</td>\n",
       "      <td>0</td>\n",
       "      <td>1</td>\n",
       "      <td>0</td>\n",
       "      <td>...</td>\n",
       "      <td>0</td>\n",
       "      <td>0</td>\n",
       "      <td>0</td>\n",
       "      <td>0</td>\n",
       "      <td>0</td>\n",
       "      <td>0</td>\n",
       "      <td>0</td>\n",
       "      <td>0</td>\n",
       "      <td>0</td>\n",
       "      <td>0</td>\n",
       "    </tr>\n",
       "    <tr>\n",
       "      <th>63020</th>\n",
       "      <td>3</td>\n",
       "      <td>545000.0</td>\n",
       "      <td>20.6</td>\n",
       "      <td>3</td>\n",
       "      <td>2018</td>\n",
       "      <td>0</td>\n",
       "      <td>0</td>\n",
       "      <td>0</td>\n",
       "      <td>1</td>\n",
       "      <td>0</td>\n",
       "      <td>...</td>\n",
       "      <td>0</td>\n",
       "      <td>0</td>\n",
       "      <td>0</td>\n",
       "      <td>0</td>\n",
       "      <td>0</td>\n",
       "      <td>0</td>\n",
       "      <td>0</td>\n",
       "      <td>0</td>\n",
       "      <td>0</td>\n",
       "      <td>0</td>\n",
       "    </tr>\n",
       "  </tbody>\n",
       "</table>\n",
       "<p>46161 rows × 55 columns</p>\n",
       "</div>"
      ],
      "text/plain": [
       "       Rooms      Price  Distance  Month  Year  Type_t  Type_u  Method_PN  \\\n",
       "0          3  1490000.0       3.0      1  2017       0       0          0   \n",
       "1          3  1220000.0       3.0      1  2017       0       0          0   \n",
       "2          3  1420000.0       3.0      1  2017       0       0          0   \n",
       "3          3  1515000.0       7.5      1  2017       0       0          0   \n",
       "4          2   670000.0      10.4      1  2017       0       0          0   \n",
       "...      ...        ...       ...    ...   ...     ...     ...        ...   \n",
       "63016      2   347700.0      38.0      3  2018       0       1          0   \n",
       "63017      3   808000.0       8.4      3  2018       0       0          0   \n",
       "63018      3   566000.0      20.6      3  2018       0       0          0   \n",
       "63019      3   500000.0      20.6      3  2018       0       0          0   \n",
       "63020      3   545000.0      20.6      3  2018       0       0          0   \n",
       "\n",
       "       Method_S  Method_SA  ...  CouncilArea_Moreland City Council  \\\n",
       "0             1          0  ...                                  0   \n",
       "1             1          0  ...                                  0   \n",
       "2             1          0  ...                                  0   \n",
       "3             1          0  ...                                  0   \n",
       "4             1          0  ...                                  0   \n",
       "...         ...        ...  ...                                ...   \n",
       "63016         0          0  ...                                  0   \n",
       "63017         1          0  ...                                  0   \n",
       "63018         1          0  ...                                  0   \n",
       "63019         1          0  ...                                  0   \n",
       "63020         1          0  ...                                  0   \n",
       "\n",
       "       CouncilArea_Murrindindi Shire Council  \\\n",
       "0                                          0   \n",
       "1                                          0   \n",
       "2                                          0   \n",
       "3                                          0   \n",
       "4                                          0   \n",
       "...                                      ...   \n",
       "63016                                      0   \n",
       "63017                                      0   \n",
       "63018                                      0   \n",
       "63019                                      0   \n",
       "63020                                      0   \n",
       "\n",
       "       CouncilArea_Nillumbik Shire Council  \\\n",
       "0                                        0   \n",
       "1                                        0   \n",
       "2                                        0   \n",
       "3                                        0   \n",
       "4                                        0   \n",
       "...                                    ...   \n",
       "63016                                    0   \n",
       "63017                                    0   \n",
       "63018                                    0   \n",
       "63019                                    0   \n",
       "63020                                    0   \n",
       "\n",
       "       CouncilArea_Port Phillip City Council  \\\n",
       "0                                          0   \n",
       "1                                          0   \n",
       "2                                          0   \n",
       "3                                          0   \n",
       "4                                          0   \n",
       "...                                      ...   \n",
       "63016                                      0   \n",
       "63017                                      0   \n",
       "63018                                      0   \n",
       "63019                                      0   \n",
       "63020                                      0   \n",
       "\n",
       "       CouncilArea_Stonnington City Council  \\\n",
       "0                                         0   \n",
       "1                                         0   \n",
       "2                                         0   \n",
       "3                                         0   \n",
       "4                                         0   \n",
       "...                                     ...   \n",
       "63016                                     0   \n",
       "63017                                     0   \n",
       "63018                                     0   \n",
       "63019                                     0   \n",
       "63020                                     0   \n",
       "\n",
       "       CouncilArea_Whitehorse City Council  \\\n",
       "0                                        0   \n",
       "1                                        0   \n",
       "2                                        0   \n",
       "3                                        0   \n",
       "4                                        0   \n",
       "...                                    ...   \n",
       "63016                                    0   \n",
       "63017                                    0   \n",
       "63018                                    0   \n",
       "63019                                    0   \n",
       "63020                                    0   \n",
       "\n",
       "       CouncilArea_Whittlesea City Council  CouncilArea_Wyndham City Council  \\\n",
       "0                                        0                                 0   \n",
       "1                                        0                                 0   \n",
       "2                                        0                                 0   \n",
       "3                                        0                                 0   \n",
       "4                                        0                                 0   \n",
       "...                                    ...                               ...   \n",
       "63016                                    0                                 0   \n",
       "63017                                    0                                 0   \n",
       "63018                                    0                                 0   \n",
       "63019                                    0                                 0   \n",
       "63020                                    0                                 0   \n",
       "\n",
       "       CouncilArea_Yarra City Council  CouncilArea_Yarra Ranges Shire Council  \n",
       "0                                   1                                       0  \n",
       "1                                   1                                       0  \n",
       "2                                   1                                       0  \n",
       "3                                   0                                       0  \n",
       "4                                   0                                       0  \n",
       "...                               ...                                     ...  \n",
       "63016                               0                                       0  \n",
       "63017                               0                                       0  \n",
       "63018                               0                                       0  \n",
       "63019                               0                                       0  \n",
       "63020                               0                                       0  \n",
       "\n",
       "[46161 rows x 55 columns]"
      ]
     },
     "execution_count": 31,
     "metadata": {},
     "output_type": "execute_result"
    }
   ],
   "source": [
    "data2 "
   ]
  },
  {
   "cell_type": "code",
   "execution_count": 32,
   "id": "de0db456",
   "metadata": {},
   "outputs": [
    {
     "data": {
      "text/plain": [
       "<AxesSubplot:ylabel='Price'>"
      ]
     },
     "execution_count": 32,
     "metadata": {},
     "output_type": "execute_result"
    },
    {
     "data": {
      "image/png": "[encoded data removed]",
      "text/plain": [
       "<Figure size 576x720 with 1 Axes>"
      ]
     },
     "metadata": {
      "needs_background": "light"
     },
     "output_type": "display_data"
    }
   ],
   "source": [
    "plt.figure(figsize=(8,10))\n",
    "sns.boxplot(data = data2, y='Price')"
   ]
  },
  {
   "cell_type": "markdown",
   "id": "71ec2700",
   "metadata": {},
   "source": [
    "<h2>Scaling data</h2>"
   ]
  },
  {
   "cell_type": "code",
   "execution_count": 33,
   "id": "fdda6192",
   "metadata": {},
   "outputs": [
    {
     "name": "stderr",
     "output_type": "stream",
     "text": [
      "C:\\Users\\Admins\\anaconda3\\lib\\site-packages\\pandas\\core\\indexing.py:1597: SettingWithCopyWarning: \n",
      "A value is trying to be set on a copy of a slice from a DataFrame.\n",
      "Try using .loc[row_indexer,col_indexer] = value instead\n",
      "\n",
      "See the caveats in the documentation: https://pandas.pydata.org/pandas-docs/stable/user_guide/indexing.html#returning-a-view-versus-a-copy\n",
      "  self.obj[key] = value\n",
      "C:\\Users\\Admins\\anaconda3\\lib\\site-packages\\pandas\\core\\indexing.py:1676: SettingWithCopyWarning: \n",
      "A value is trying to be set on a copy of a slice from a DataFrame.\n",
      "Try using .loc[row_indexer,col_indexer] = value instead\n",
      "\n",
      "See the caveats in the documentation: https://pandas.pydata.org/pandas-docs/stable/user_guide/indexing.html#returning-a-view-versus-a-copy\n",
      "  self._setitem_single_column(ilocs[0], value, pi)\n"
     ]
    }
   ],
   "source": [
    "data2.describe() # Price có giá trị quá lớn so với các giá trị còn lại\n",
    "data2.loc[:,'Price_div_10e6'] = data2['Price']/10**6"
   ]
  },
  {
   "cell_type": "code",
   "execution_count": 34,
   "id": "48b18f65",
   "metadata": {},
   "outputs": [
    {
     "data": {
      "text/html": [
       "<div>\n",
       "<style scoped>\n",
       "    .dataframe tbody tr th:only-of-type {\n",
       "        vertical-align: middle;\n",
       "    }\n",
       "\n",
       "    .dataframe tbody tr th {\n",
       "        vertical-align: top;\n",
       "    }\n",
       "\n",
       "    .dataframe thead th {\n",
       "        text-align: right;\n",
       "    }\n",
       "</style>\n",
       "<table border=\"1\" class=\"dataframe\">\n",
       "  <thead>\n",
       "    <tr style=\"text-align: right;\">\n",
       "      <th></th>\n",
       "      <th>Rooms</th>\n",
       "      <th>Price</th>\n",
       "      <th>Distance</th>\n",
       "      <th>Month</th>\n",
       "      <th>Year</th>\n",
       "      <th>Type_t</th>\n",
       "      <th>Type_u</th>\n",
       "      <th>Method_PN</th>\n",
       "      <th>Method_S</th>\n",
       "      <th>Method_SA</th>\n",
       "      <th>...</th>\n",
       "      <th>CouncilArea_Murrindindi Shire Council</th>\n",
       "      <th>CouncilArea_Nillumbik Shire Council</th>\n",
       "      <th>CouncilArea_Port Phillip City Council</th>\n",
       "      <th>CouncilArea_Stonnington City Council</th>\n",
       "      <th>CouncilArea_Whitehorse City Council</th>\n",
       "      <th>CouncilArea_Whittlesea City Council</th>\n",
       "      <th>CouncilArea_Wyndham City Council</th>\n",
       "      <th>CouncilArea_Yarra City Council</th>\n",
       "      <th>CouncilArea_Yarra Ranges Shire Council</th>\n",
       "      <th>Price_div_10e6</th>\n",
       "    </tr>\n",
       "  </thead>\n",
       "  <tbody>\n",
       "    <tr>\n",
       "      <th>count</th>\n",
       "      <td>46161.000000</td>\n",
       "      <td>4.616100e+04</td>\n",
       "      <td>46161.000000</td>\n",
       "      <td>46161.00000</td>\n",
       "      <td>46161.000000</td>\n",
       "      <td>46161.000000</td>\n",
       "      <td>46161.000000</td>\n",
       "      <td>46161.0</td>\n",
       "      <td>46161.000000</td>\n",
       "      <td>46161.000000</td>\n",
       "      <td>...</td>\n",
       "      <td>46161.000000</td>\n",
       "      <td>46161.000000</td>\n",
       "      <td>46161.000000</td>\n",
       "      <td>46161.000000</td>\n",
       "      <td>46161.000000</td>\n",
       "      <td>46161.000000</td>\n",
       "      <td>46161.000000</td>\n",
       "      <td>46161.000000</td>\n",
       "      <td>46161.000000</td>\n",
       "      <td>46161.000000</td>\n",
       "    </tr>\n",
       "    <tr>\n",
       "      <th>mean</th>\n",
       "      <td>3.022811</td>\n",
       "      <td>9.064885e+05</td>\n",
       "      <td>12.929012</td>\n",
       "      <td>6.87145</td>\n",
       "      <td>2017.041139</td>\n",
       "      <td>0.106800</td>\n",
       "      <td>0.200559</td>\n",
       "      <td>0.0</td>\n",
       "      <td>0.636251</td>\n",
       "      <td>0.007604</td>\n",
       "      <td>...</td>\n",
       "      <td>0.000022</td>\n",
       "      <td>0.005134</td>\n",
       "      <td>0.025216</td>\n",
       "      <td>0.020602</td>\n",
       "      <td>0.028119</td>\n",
       "      <td>0.044605</td>\n",
       "      <td>0.024999</td>\n",
       "      <td>0.027404</td>\n",
       "      <td>0.003791</td>\n",
       "      <td>0.906489</td>\n",
       "    </tr>\n",
       "    <tr>\n",
       "      <th>std</th>\n",
       "      <td>0.917467</td>\n",
       "      <td>3.977061e+05</td>\n",
       "      <td>7.606447</td>\n",
       "      <td>3.06637</td>\n",
       "      <td>0.762176</td>\n",
       "      <td>0.308862</td>\n",
       "      <td>0.400423</td>\n",
       "      <td>0.0</td>\n",
       "      <td>0.481083</td>\n",
       "      <td>0.086869</td>\n",
       "      <td>...</td>\n",
       "      <td>0.004654</td>\n",
       "      <td>0.071470</td>\n",
       "      <td>0.156783</td>\n",
       "      <td>0.142049</td>\n",
       "      <td>0.165315</td>\n",
       "      <td>0.206437</td>\n",
       "      <td>0.156125</td>\n",
       "      <td>0.163260</td>\n",
       "      <td>0.061456</td>\n",
       "      <td>0.397706</td>\n",
       "    </tr>\n",
       "    <tr>\n",
       "      <th>min</th>\n",
       "      <td>1.000000</td>\n",
       "      <td>8.500000e+04</td>\n",
       "      <td>0.000000</td>\n",
       "      <td>1.00000</td>\n",
       "      <td>2016.000000</td>\n",
       "      <td>0.000000</td>\n",
       "      <td>0.000000</td>\n",
       "      <td>0.0</td>\n",
       "      <td>0.000000</td>\n",
       "      <td>0.000000</td>\n",
       "      <td>...</td>\n",
       "      <td>0.000000</td>\n",
       "      <td>0.000000</td>\n",
       "      <td>0.000000</td>\n",
       "      <td>0.000000</td>\n",
       "      <td>0.000000</td>\n",
       "      <td>0.000000</td>\n",
       "      <td>0.000000</td>\n",
       "      <td>0.000000</td>\n",
       "      <td>0.000000</td>\n",
       "      <td>0.085000</td>\n",
       "    </tr>\n",
       "    <tr>\n",
       "      <th>25%</th>\n",
       "      <td>2.000000</td>\n",
       "      <td>6.100000e+05</td>\n",
       "      <td>7.200000</td>\n",
       "      <td>4.00000</td>\n",
       "      <td>2016.000000</td>\n",
       "      <td>0.000000</td>\n",
       "      <td>0.000000</td>\n",
       "      <td>0.0</td>\n",
       "      <td>0.000000</td>\n",
       "      <td>0.000000</td>\n",
       "      <td>...</td>\n",
       "      <td>0.000000</td>\n",
       "      <td>0.000000</td>\n",
       "      <td>0.000000</td>\n",
       "      <td>0.000000</td>\n",
       "      <td>0.000000</td>\n",
       "      <td>0.000000</td>\n",
       "      <td>0.000000</td>\n",
       "      <td>0.000000</td>\n",
       "      <td>0.000000</td>\n",
       "      <td>0.610000</td>\n",
       "    </tr>\n",
       "    <tr>\n",
       "      <th>50%</th>\n",
       "      <td>3.000000</td>\n",
       "      <td>8.100000e+05</td>\n",
       "      <td>12.000000</td>\n",
       "      <td>7.00000</td>\n",
       "      <td>2017.000000</td>\n",
       "      <td>0.000000</td>\n",
       "      <td>0.000000</td>\n",
       "      <td>0.0</td>\n",
       "      <td>1.000000</td>\n",
       "      <td>0.000000</td>\n",
       "      <td>...</td>\n",
       "      <td>0.000000</td>\n",
       "      <td>0.000000</td>\n",
       "      <td>0.000000</td>\n",
       "      <td>0.000000</td>\n",
       "      <td>0.000000</td>\n",
       "      <td>0.000000</td>\n",
       "      <td>0.000000</td>\n",
       "      <td>0.000000</td>\n",
       "      <td>0.000000</td>\n",
       "      <td>0.810000</td>\n",
       "    </tr>\n",
       "    <tr>\n",
       "      <th>75%</th>\n",
       "      <td>4.000000</td>\n",
       "      <td>1.150000e+06</td>\n",
       "      <td>17.200000</td>\n",
       "      <td>9.00000</td>\n",
       "      <td>2018.000000</td>\n",
       "      <td>0.000000</td>\n",
       "      <td>0.000000</td>\n",
       "      <td>0.0</td>\n",
       "      <td>1.000000</td>\n",
       "      <td>0.000000</td>\n",
       "      <td>...</td>\n",
       "      <td>0.000000</td>\n",
       "      <td>0.000000</td>\n",
       "      <td>0.000000</td>\n",
       "      <td>0.000000</td>\n",
       "      <td>0.000000</td>\n",
       "      <td>0.000000</td>\n",
       "      <td>0.000000</td>\n",
       "      <td>0.000000</td>\n",
       "      <td>0.000000</td>\n",
       "      <td>1.150000</td>\n",
       "    </tr>\n",
       "    <tr>\n",
       "      <th>max</th>\n",
       "      <td>31.000000</td>\n",
       "      <td>2.120000e+06</td>\n",
       "      <td>55.800000</td>\n",
       "      <td>12.00000</td>\n",
       "      <td>2018.000000</td>\n",
       "      <td>1.000000</td>\n",
       "      <td>1.000000</td>\n",
       "      <td>0.0</td>\n",
       "      <td>1.000000</td>\n",
       "      <td>1.000000</td>\n",
       "      <td>...</td>\n",
       "      <td>1.000000</td>\n",
       "      <td>1.000000</td>\n",
       "      <td>1.000000</td>\n",
       "      <td>1.000000</td>\n",
       "      <td>1.000000</td>\n",
       "      <td>1.000000</td>\n",
       "      <td>1.000000</td>\n",
       "      <td>1.000000</td>\n",
       "      <td>1.000000</td>\n",
       "      <td>2.120000</td>\n",
       "    </tr>\n",
       "  </tbody>\n",
       "</table>\n",
       "<p>8 rows × 56 columns</p>\n",
       "</div>"
      ],
      "text/plain": [
       "              Rooms         Price      Distance        Month          Year  \\\n",
       "count  46161.000000  4.616100e+04  46161.000000  46161.00000  46161.000000   \n",
       "mean       3.022811  9.064885e+05     12.929012      6.87145   2017.041139   \n",
       "std        0.917467  3.977061e+05      7.606447      3.06637      0.762176   \n",
       "min        1.000000  8.500000e+04      0.000000      1.00000   2016.000000   \n",
       "25%        2.000000  6.100000e+05      7.200000      4.00000   2016.000000   \n",
       "50%        3.000000  8.100000e+05     12.000000      7.00000   2017.000000   \n",
       "75%        4.000000  1.150000e+06     17.200000      9.00000   2018.000000   \n",
       "max       31.000000  2.120000e+06     55.800000     12.00000   2018.000000   \n",
       "\n",
       "             Type_t        Type_u  Method_PN      Method_S     Method_SA  ...  \\\n",
       "count  46161.000000  46161.000000    46161.0  46161.000000  46161.000000  ...   \n",
       "mean       0.106800      0.200559        0.0      0.636251      0.007604  ...   \n",
       "std        0.308862      0.400423        0.0      0.481083      0.086869  ...   \n",
       "min        0.000000      0.000000        0.0      0.000000      0.000000  ...   \n",
       "25%        0.000000      0.000000        0.0      0.000000      0.000000  ...   \n",
       "50%        0.000000      0.000000        0.0      1.000000      0.000000  ...   \n",
       "75%        0.000000      0.000000        0.0      1.000000      0.000000  ...   \n",
       "max        1.000000      1.000000        0.0      1.000000      1.000000  ...   \n",
       "\n",
       "       CouncilArea_Murrindindi Shire Council  \\\n",
       "count                           46161.000000   \n",
       "mean                                0.000022   \n",
       "std                                 0.004654   \n",
       "min                                 0.000000   \n",
       "25%                                 0.000000   \n",
       "50%                                 0.000000   \n",
       "75%                                 0.000000   \n",
       "max                                 1.000000   \n",
       "\n",
       "       CouncilArea_Nillumbik Shire Council  \\\n",
       "count                         46161.000000   \n",
       "mean                              0.005134   \n",
       "std                               0.071470   \n",
       "min                               0.000000   \n",
       "25%                               0.000000   \n",
       "50%                               0.000000   \n",
       "75%                               0.000000   \n",
       "max                               1.000000   \n",
       "\n",
       "       CouncilArea_Port Phillip City Council  \\\n",
       "count                           46161.000000   \n",
       "mean                                0.025216   \n",
       "std                                 0.156783   \n",
       "min                                 0.000000   \n",
       "25%                                 0.000000   \n",
       "50%                                 0.000000   \n",
       "75%                                 0.000000   \n",
       "max                                 1.000000   \n",
       "\n",
       "       CouncilArea_Stonnington City Council  \\\n",
       "count                          46161.000000   \n",
       "mean                               0.020602   \n",
       "std                                0.142049   \n",
       "min                                0.000000   \n",
       "25%                                0.000000   \n",
       "50%                                0.000000   \n",
       "75%                                0.000000   \n",
       "max                                1.000000   \n",
       "\n",
       "       CouncilArea_Whitehorse City Council  \\\n",
       "count                         46161.000000   \n",
       "mean                              0.028119   \n",
       "std                               0.165315   \n",
       "min                               0.000000   \n",
       "25%                               0.000000   \n",
       "50%                               0.000000   \n",
       "75%                               0.000000   \n",
       "max                               1.000000   \n",
       "\n",
       "       CouncilArea_Whittlesea City Council  CouncilArea_Wyndham City Council  \\\n",
       "count                         46161.000000                      46161.000000   \n",
       "mean                              0.044605                          0.024999   \n",
       "std                               0.206437                          0.156125   \n",
       "min                               0.000000                          0.000000   \n",
       "25%                               0.000000                          0.000000   \n",
       "50%                               0.000000                          0.000000   \n",
       "75%                               0.000000                          0.000000   \n",
       "max                               1.000000                          1.000000   \n",
       "\n",
       "       CouncilArea_Yarra City Council  CouncilArea_Yarra Ranges Shire Council  \\\n",
       "count                    46161.000000                            46161.000000   \n",
       "mean                         0.027404                                0.003791   \n",
       "std                          0.163260                                0.061456   \n",
       "min                          0.000000                                0.000000   \n",
       "25%                          0.000000                                0.000000   \n",
       "50%                          0.000000                                0.000000   \n",
       "75%                          0.000000                                0.000000   \n",
       "max                          1.000000                                1.000000   \n",
       "\n",
       "       Price_div_10e6  \n",
       "count    46161.000000  \n",
       "mean         0.906489  \n",
       "std          0.397706  \n",
       "min          0.085000  \n",
       "25%          0.610000  \n",
       "50%          0.810000  \n",
       "75%          1.150000  \n",
       "max          2.120000  \n",
       "\n",
       "[8 rows x 56 columns]"
      ]
     },
     "execution_count": 34,
     "metadata": {},
     "output_type": "execute_result"
    }
   ],
   "source": [
    "data2.describe()"
   ]
  },
  {
   "cell_type": "code",
   "execution_count": 35,
   "id": "d42e1ed0",
   "metadata": {},
   "outputs": [
    {
     "data": {
      "text/html": [
       "<div>\n",
       "<style scoped>\n",
       "    .dataframe tbody tr th:only-of-type {\n",
       "        vertical-align: middle;\n",
       "    }\n",
       "\n",
       "    .dataframe tbody tr th {\n",
       "        vertical-align: top;\n",
       "    }\n",
       "\n",
       "    .dataframe thead th {\n",
       "        text-align: right;\n",
       "    }\n",
       "</style>\n",
       "<table border=\"1\" class=\"dataframe\">\n",
       "  <thead>\n",
       "    <tr style=\"text-align: right;\">\n",
       "      <th></th>\n",
       "      <th>Rooms</th>\n",
       "      <th>Distance</th>\n",
       "      <th>Month</th>\n",
       "      <th>Year</th>\n",
       "      <th>Type_t</th>\n",
       "      <th>Type_u</th>\n",
       "      <th>Method_PN</th>\n",
       "      <th>Method_S</th>\n",
       "      <th>Method_SA</th>\n",
       "      <th>Method_SN</th>\n",
       "      <th>...</th>\n",
       "      <th>CouncilArea_Moreland City Council</th>\n",
       "      <th>CouncilArea_Murrindindi Shire Council</th>\n",
       "      <th>CouncilArea_Nillumbik Shire Council</th>\n",
       "      <th>CouncilArea_Port Phillip City Council</th>\n",
       "      <th>CouncilArea_Stonnington City Council</th>\n",
       "      <th>CouncilArea_Whitehorse City Council</th>\n",
       "      <th>CouncilArea_Whittlesea City Council</th>\n",
       "      <th>CouncilArea_Wyndham City Council</th>\n",
       "      <th>CouncilArea_Yarra City Council</th>\n",
       "      <th>CouncilArea_Yarra Ranges Shire Council</th>\n",
       "    </tr>\n",
       "  </thead>\n",
       "  <tbody>\n",
       "    <tr>\n",
       "      <th>0</th>\n",
       "      <td>3</td>\n",
       "      <td>3.0</td>\n",
       "      <td>1</td>\n",
       "      <td>2017</td>\n",
       "      <td>0</td>\n",
       "      <td>0</td>\n",
       "      <td>0</td>\n",
       "      <td>1</td>\n",
       "      <td>0</td>\n",
       "      <td>0</td>\n",
       "      <td>...</td>\n",
       "      <td>0</td>\n",
       "      <td>0</td>\n",
       "      <td>0</td>\n",
       "      <td>0</td>\n",
       "      <td>0</td>\n",
       "      <td>0</td>\n",
       "      <td>0</td>\n",
       "      <td>0</td>\n",
       "      <td>1</td>\n",
       "      <td>0</td>\n",
       "    </tr>\n",
       "    <tr>\n",
       "      <th>1</th>\n",
       "      <td>3</td>\n",
       "      <td>3.0</td>\n",
       "      <td>1</td>\n",
       "      <td>2017</td>\n",
       "      <td>0</td>\n",
       "      <td>0</td>\n",
       "      <td>0</td>\n",
       "      <td>1</td>\n",
       "      <td>0</td>\n",
       "      <td>0</td>\n",
       "      <td>...</td>\n",
       "      <td>0</td>\n",
       "      <td>0</td>\n",
       "      <td>0</td>\n",
       "      <td>0</td>\n",
       "      <td>0</td>\n",
       "      <td>0</td>\n",
       "      <td>0</td>\n",
       "      <td>0</td>\n",
       "      <td>1</td>\n",
       "      <td>0</td>\n",
       "    </tr>\n",
       "    <tr>\n",
       "      <th>2</th>\n",
       "      <td>3</td>\n",
       "      <td>3.0</td>\n",
       "      <td>1</td>\n",
       "      <td>2017</td>\n",
       "      <td>0</td>\n",
       "      <td>0</td>\n",
       "      <td>0</td>\n",
       "      <td>1</td>\n",
       "      <td>0</td>\n",
       "      <td>0</td>\n",
       "      <td>...</td>\n",
       "      <td>0</td>\n",
       "      <td>0</td>\n",
       "      <td>0</td>\n",
       "      <td>0</td>\n",
       "      <td>0</td>\n",
       "      <td>0</td>\n",
       "      <td>0</td>\n",
       "      <td>0</td>\n",
       "      <td>1</td>\n",
       "      <td>0</td>\n",
       "    </tr>\n",
       "    <tr>\n",
       "      <th>3</th>\n",
       "      <td>3</td>\n",
       "      <td>7.5</td>\n",
       "      <td>1</td>\n",
       "      <td>2017</td>\n",
       "      <td>0</td>\n",
       "      <td>0</td>\n",
       "      <td>0</td>\n",
       "      <td>1</td>\n",
       "      <td>0</td>\n",
       "      <td>0</td>\n",
       "      <td>...</td>\n",
       "      <td>0</td>\n",
       "      <td>0</td>\n",
       "      <td>0</td>\n",
       "      <td>0</td>\n",
       "      <td>0</td>\n",
       "      <td>0</td>\n",
       "      <td>0</td>\n",
       "      <td>0</td>\n",
       "      <td>0</td>\n",
       "      <td>0</td>\n",
       "    </tr>\n",
       "    <tr>\n",
       "      <th>4</th>\n",
       "      <td>2</td>\n",
       "      <td>10.4</td>\n",
       "      <td>1</td>\n",
       "      <td>2017</td>\n",
       "      <td>0</td>\n",
       "      <td>0</td>\n",
       "      <td>0</td>\n",
       "      <td>1</td>\n",
       "      <td>0</td>\n",
       "      <td>0</td>\n",
       "      <td>...</td>\n",
       "      <td>0</td>\n",
       "      <td>0</td>\n",
       "      <td>0</td>\n",
       "      <td>0</td>\n",
       "      <td>0</td>\n",
       "      <td>0</td>\n",
       "      <td>0</td>\n",
       "      <td>0</td>\n",
       "      <td>0</td>\n",
       "      <td>0</td>\n",
       "    </tr>\n",
       "  </tbody>\n",
       "</table>\n",
       "<p>5 rows × 54 columns</p>\n",
       "</div>"
      ],
      "text/plain": [
       "   Rooms  Distance  Month  Year  Type_t  Type_u  Method_PN  Method_S  \\\n",
       "0      3       3.0      1  2017       0       0          0         1   \n",
       "1      3       3.0      1  2017       0       0          0         1   \n",
       "2      3       3.0      1  2017       0       0          0         1   \n",
       "3      3       7.5      1  2017       0       0          0         1   \n",
       "4      2      10.4      1  2017       0       0          0         1   \n",
       "\n",
       "   Method_SA  Method_SN  ...  CouncilArea_Moreland City Council  \\\n",
       "0          0          0  ...                                  0   \n",
       "1          0          0  ...                                  0   \n",
       "2          0          0  ...                                  0   \n",
       "3          0          0  ...                                  0   \n",
       "4          0          0  ...                                  0   \n",
       "\n",
       "   CouncilArea_Murrindindi Shire Council  CouncilArea_Nillumbik Shire Council  \\\n",
       "0                                      0                                    0   \n",
       "1                                      0                                    0   \n",
       "2                                      0                                    0   \n",
       "3                                      0                                    0   \n",
       "4                                      0                                    0   \n",
       "\n",
       "   CouncilArea_Port Phillip City Council  \\\n",
       "0                                      0   \n",
       "1                                      0   \n",
       "2                                      0   \n",
       "3                                      0   \n",
       "4                                      0   \n",
       "\n",
       "   CouncilArea_Stonnington City Council  CouncilArea_Whitehorse City Council  \\\n",
       "0                                     0                                    0   \n",
       "1                                     0                                    0   \n",
       "2                                     0                                    0   \n",
       "3                                     0                                    0   \n",
       "4                                     0                                    0   \n",
       "\n",
       "   CouncilArea_Whittlesea City Council  CouncilArea_Wyndham City Council  \\\n",
       "0                                    0                                 0   \n",
       "1                                    0                                 0   \n",
       "2                                    0                                 0   \n",
       "3                                    0                                 0   \n",
       "4                                    0                                 0   \n",
       "\n",
       "   CouncilArea_Yarra City Council  CouncilArea_Yarra Ranges Shire Council  \n",
       "0                               1                                       0  \n",
       "1                               1                                       0  \n",
       "2                               1                                       0  \n",
       "3                               0                                       0  \n",
       "4                               0                                       0  \n",
       "\n",
       "[5 rows x 54 columns]"
      ]
     },
     "execution_count": 35,
     "metadata": {},
     "output_type": "execute_result"
    }
   ],
   "source": [
    "X = data2.drop(['Price','Price_div_10e6'], axis=1)\n",
    "y = data2['Price_div_10e6']\n",
    "X.head()"
   ]
  },
  {
   "cell_type": "code",
   "execution_count": 36,
   "id": "c9bc4de4",
   "metadata": {},
   "outputs": [
    {
     "name": "stderr",
     "output_type": "stream",
     "text": [
      "C:\\Users\\Admins\\anaconda3\\lib\\site-packages\\seaborn\\distributions.py:2557: FutureWarning: `distplot` is a deprecated function and will be removed in a future version. Please adapt your code to use either `displot` (a figure-level function with similar flexibility) or `histplot` (an axes-level function for histograms).\n",
      "  warnings.warn(msg, FutureWarning)\n"
     ]
    },
    {
     "data": {
      "text/plain": [
       "<AxesSubplot:xlabel='Price_div_10e6', ylabel='Density'>"
      ]
     },
     "execution_count": 36,
     "metadata": {},
     "output_type": "execute_result"
    },
    {
     "data": {
      "image/png": "[encoded data removed]",
      "text/plain": [
       "<Figure size 1080x576 with 1 Axes>"
      ]
     },
     "metadata": {
      "needs_background": "light"
     },
     "output_type": "display_data"
    }
   ],
   "source": [
    "plt.figure(figsize=(15,8))\n",
    "sns.distplot(y, kde = True,hist_kws=dict(edgecolor=\"b\"))"
   ]
  },
  {
   "cell_type": "code",
   "execution_count": 37,
   "id": "4d7073e4",
   "metadata": {},
   "outputs": [],
   "source": [
    "#standardization scaler - fit&transform on train, fit only on test\n",
    "from sklearn.preprocessing import StandardScaler\n",
    "s_scaler = StandardScaler()\n",
    "X = s_scaler.fit_transform(X.astype(np.float))"
   ]
  },
  {
   "cell_type": "markdown",
   "id": "8e86ff48",
   "metadata": {},
   "source": [
    "<h2>Split Data</h2>"
   ]
  },
  {
   "cell_type": "code",
   "execution_count": 38,
   "id": "df6f5056",
   "metadata": {},
   "outputs": [],
   "source": [
    "#import regression libraries\n",
    "from sklearn import preprocessing \n",
    "from sklearn.model_selection import train_test_split"
   ]
  },
  {
   "cell_type": "code",
   "execution_count": 39,
   "id": "86f91d80",
   "metadata": {},
   "outputs": [],
   "source": [
    "X_train,X_valid,y_train,y_valid = train_test_split(X,y,test_size=0.3,random_state=42)"
   ]
  },
  {
   "cell_type": "code",
   "execution_count": 40,
   "id": "9d612bcc",
   "metadata": {},
   "outputs": [],
   "source": [
    "X_train,X_test,y_train,y_test = train_test_split(X_train,y_train,test_size=0.2,random_state=12)"
   ]
  },
  {
   "cell_type": "code",
   "execution_count": 41,
   "id": "f2135e9f",
   "metadata": {},
   "outputs": [
    {
     "name": "stdout",
     "output_type": "stream",
     "text": [
      "Train shape:  (25849, 54)\n",
      "Valid shape:  (13849, 54)\n",
      "Test shape:  (6463, 54)\n"
     ]
    }
   ],
   "source": [
    "print('Train shape: ',X_train.shape)\n",
    "print('Valid shape: ',X_valid.shape)\n",
    "print('Test shape: ',X_test.shape)"
   ]
  },
  {
   "cell_type": "markdown",
   "id": "8ac1ccd5",
   "metadata": {},
   "source": [
    "<h2>Training and Evaluation Model</h2>\n",
    "<h3>Model1</h3>"
   ]
  },
  {
   "cell_type": "code",
   "execution_count": 42,
   "id": "6bcad051",
   "metadata": {},
   "outputs": [],
   "source": [
    "# Creating a Neural Network Model\n",
    "from tensorflow.keras.models import Sequential\n",
    "from tensorflow.keras.layers import Dense, Activation,Dropout,BatchNormalization\n",
    "from tensorflow.keras.optimizers import Adam\n",
    "from tensorflow.keras.callbacks import EarlyStopping,ModelCheckpoint, ReduceLROnPlateau"
   ]
  },
  {
   "cell_type": "code",
   "execution_count": 43,
   "id": "3e84d758",
   "metadata": {},
   "outputs": [
    {
     "name": "stdout",
     "output_type": "stream",
     "text": [
      "Model: \"sequential\"\n",
      "_________________________________________________________________\n",
      "Layer (type)                 Output Shape              Param #   \n",
      "=================================================================\n",
      "dense (Dense)                (None, 50)                2750      \n",
      "_________________________________________________________________\n",
      "dense_1 (Dense)              (None, 30)                1530      \n",
      "_________________________________________________________________\n",
      "dense_2 (Dense)              (None, 16)                496       \n",
      "_________________________________________________________________\n",
      "dense_3 (Dense)              (None, 10)                170       \n",
      "_________________________________________________________________\n",
      "dense_4 (Dense)              (None, 1)                 11        \n",
      "=================================================================\n",
      "Total params: 4,957\n",
      "Trainable params: 4,957\n",
      "Non-trainable params: 0\n",
      "_________________________________________________________________\n"
     ]
    }
   ],
   "source": [
    "# having 19 neuron is based on the number of available features\n",
    "model = Sequential()\n",
    "model.add(Dense(50,input_dim=54, kernel_initializer='normal',activation='relu'))\n",
    "model.add(Dense(30,activation='relu'))\n",
    "model.add(Dense(16,activation='relu'))\n",
    "model.add(Dense(10,activation='relu'))\n",
    "model.add(Dense(1,activation='linear'))\n",
    "model.compile(optimizer='Adam',loss='mse',metrics=['mae','mse'])\n",
    "model.summary()"
   ]
  },
  {
   "cell_type": "code",
   "execution_count": 44,
   "id": "7a8af6c5",
   "metadata": {},
   "outputs": [],
   "source": [
    "checkpoint = ModelCheckpoint('./checkpoint/Ex1/Model1.h5',monitor='val_loss',save_best_only=True,save_weights_only=True,mode='min')\n",
    "learning_rate = ReduceLROnPlateau(patience=5,verbose=1,factor=0.5,min_delta=0.000001)\n",
    "early_stopping = EarlyStopping(patience=30,monitor='val_loss',verbose=1,restore_best_weights=True,mode='min')"
   ]
  },
  {
   "cell_type": "code",
   "execution_count": 45,
   "id": "c49707b6",
   "metadata": {},
   "outputs": [
    {
     "name": "stdout",
     "output_type": "stream",
     "text": [
      "Epoch 1/500\n",
      "404/404 [==============================] - 3s 5ms/step - loss: 0.0788 - mae: 0.1952 - mse: 0.0788 - val_loss: 0.0498 - val_mae: 0.1610 - val_mse: 0.0498\n",
      "Epoch 2/500\n",
      "404/404 [==============================] - 2s 5ms/step - loss: 0.0492 - mae: 0.1606 - mse: 0.0492 - val_loss: 0.0489 - val_mae: 0.1579 - val_mse: 0.0489\n",
      "Epoch 3/500\n",
      "404/404 [==============================] - 2s 5ms/step - loss: 0.0475 - mae: 0.1574 - mse: 0.0475 - val_loss: 0.0476 - val_mae: 0.1541 - val_mse: 0.0476\n",
      "Epoch 4/500\n",
      "404/404 [==============================] - 2s 5ms/step - loss: 0.0464 - mae: 0.1559 - mse: 0.0464 - val_loss: 0.0471 - val_mae: 0.1564 - val_mse: 0.0471\n",
      "Epoch 5/500\n",
      "404/404 [==============================] - 2s 5ms/step - loss: 0.0456 - mae: 0.1538 - mse: 0.0456 - val_loss: 0.0467 - val_mae: 0.1564 - val_mse: 0.0467\n",
      "Epoch 6/500\n",
      "404/404 [==============================] - 2s 5ms/step - loss: 0.0450 - mae: 0.1529 - mse: 0.0450 - val_loss: 0.0467 - val_mae: 0.1553 - val_mse: 0.0467\n",
      "Epoch 7/500\n",
      "404/404 [==============================] - 2s 5ms/step - loss: 0.0447 - mae: 0.1526 - mse: 0.0447 - val_loss: 0.0460 - val_mae: 0.1520 - val_mse: 0.0460\n",
      "Epoch 8/500\n",
      "404/404 [==============================] - 2s 5ms/step - loss: 0.0442 - mae: 0.1511 - mse: 0.0442 - val_loss: 0.0460 - val_mae: 0.1537 - val_mse: 0.0460\n",
      "Epoch 9/500\n",
      "404/404 [==============================] - 2s 5ms/step - loss: 0.0440 - mae: 0.1508 - mse: 0.0440 - val_loss: 0.0459 - val_mae: 0.1516 - val_mse: 0.0459\n",
      "Epoch 10/500\n",
      "404/404 [==============================] - 2s 5ms/step - loss: 0.0436 - mae: 0.1501 - mse: 0.0436 - val_loss: 0.0465 - val_mae: 0.1504 - val_mse: 0.0465\n",
      "Epoch 11/500\n",
      "404/404 [==============================] - 2s 5ms/step - loss: 0.0437 - mae: 0.1500 - mse: 0.0437 - val_loss: 0.0453 - val_mae: 0.1494 - val_mse: 0.0453\n",
      "Epoch 12/500\n",
      "404/404 [==============================] - 2s 5ms/step - loss: 0.0433 - mae: 0.1493 - mse: 0.0433 - val_loss: 0.0454 - val_mae: 0.1516 - val_mse: 0.0454\n",
      "Epoch 13/500\n",
      "404/404 [==============================] - 2s 6ms/step - loss: 0.0430 - mae: 0.1488 - mse: 0.0430 - val_loss: 0.0458 - val_mae: 0.1529 - val_mse: 0.0458\n",
      "Epoch 14/500\n",
      "404/404 [==============================] - 2s 6ms/step - loss: 0.0430 - mae: 0.1490 - mse: 0.0430 - val_loss: 0.0453 - val_mae: 0.1545 - val_mse: 0.0453\n",
      "Epoch 15/500\n",
      "404/404 [==============================] - 2s 5ms/step - loss: 0.0427 - mae: 0.1483 - mse: 0.0427 - val_loss: 0.0453 - val_mae: 0.1519 - val_mse: 0.0453\n",
      "Epoch 16/500\n",
      "404/404 [==============================] - 2s 5ms/step - loss: 0.0425 - mae: 0.1477 - mse: 0.0425 - val_loss: 0.0449 - val_mae: 0.1505 - val_mse: 0.0449\n",
      "Epoch 17/500\n",
      "404/404 [==============================] - 2s 5ms/step - loss: 0.0425 - mae: 0.1477 - mse: 0.0425 - val_loss: 0.0445 - val_mae: 0.1502 - val_mse: 0.0445\n",
      "Epoch 18/500\n",
      "404/404 [==============================] - 2s 5ms/step - loss: 0.0422 - mae: 0.1474 - mse: 0.0422 - val_loss: 0.0459 - val_mae: 0.1493 - val_mse: 0.0459\n",
      "Epoch 19/500\n",
      "404/404 [==============================] - 2s 5ms/step - loss: 0.0420 - mae: 0.1469 - mse: 0.0420 - val_loss: 0.0448 - val_mae: 0.1501 - val_mse: 0.0448\n",
      "Epoch 20/500\n",
      "404/404 [==============================] - 2s 5ms/step - loss: 0.0422 - mae: 0.1473 - mse: 0.0422 - val_loss: 0.0460 - val_mae: 0.1556 - val_mse: 0.0460\n",
      "Epoch 21/500\n",
      "404/404 [==============================] - 2s 5ms/step - loss: 0.0418 - mae: 0.1465 - mse: 0.0418 - val_loss: 0.0445 - val_mae: 0.1514 - val_mse: 0.0445\n",
      "Epoch 22/500\n",
      "404/404 [==============================] - 2s 6ms/step - loss: 0.0416 - mae: 0.1462 - mse: 0.0416 - val_loss: 0.0446 - val_mae: 0.1502 - val_mse: 0.0446\n",
      "\n",
      "Epoch 00022: ReduceLROnPlateau reducing learning rate to 0.0005000000237487257.\n",
      "Epoch 23/500\n",
      "404/404 [==============================] - 2s 6ms/step - loss: 0.0403 - mae: 0.1435 - mse: 0.0403 - val_loss: 0.0441 - val_mae: 0.1496 - val_mse: 0.0441\n",
      "Epoch 24/500\n",
      "404/404 [==============================] - 2s 5ms/step - loss: 0.0400 - mae: 0.1431 - mse: 0.0400 - val_loss: 0.0442 - val_mae: 0.1480 - val_mse: 0.0442\n",
      "Epoch 25/500\n",
      "404/404 [==============================] - 2s 5ms/step - loss: 0.0400 - mae: 0.1430 - mse: 0.0400 - val_loss: 0.0442 - val_mae: 0.1500 - val_mse: 0.0442\n",
      "Epoch 26/500\n",
      "404/404 [==============================] - 2s 5ms/step - loss: 0.0399 - mae: 0.1428 - mse: 0.0399 - val_loss: 0.0444 - val_mae: 0.1505 - val_mse: 0.0444\n",
      "Epoch 27/500\n",
      "404/404 [==============================] - 2s 5ms/step - loss: 0.0397 - mae: 0.1425 - mse: 0.0397 - val_loss: 0.0444 - val_mae: 0.1487 - val_mse: 0.0444\n",
      "Epoch 28/500\n",
      "404/404 [==============================] - 2s 6ms/step - loss: 0.0396 - mae: 0.1424 - mse: 0.0396 - val_loss: 0.0444 - val_mae: 0.1481 - val_mse: 0.0444\n",
      "\n",
      "Epoch 00028: ReduceLROnPlateau reducing learning rate to 0.0002500000118743628.\n",
      "Epoch 29/500\n",
      "404/404 [==============================] - 2s 5ms/step - loss: 0.0388 - mae: 0.1409 - mse: 0.0388 - val_loss: 0.0440 - val_mae: 0.1502 - val_mse: 0.0440\n",
      "Epoch 30/500\n",
      "404/404 [==============================] - 2s 6ms/step - loss: 0.0387 - mae: 0.1406 - mse: 0.0387 - val_loss: 0.0437 - val_mae: 0.1487 - val_mse: 0.0437\n",
      "Epoch 31/500\n",
      "404/404 [==============================] - 2s 6ms/step - loss: 0.0386 - mae: 0.1403 - mse: 0.0386 - val_loss: 0.0438 - val_mae: 0.1487 - val_mse: 0.0438\n",
      "Epoch 32/500\n",
      "404/404 [==============================] - 2s 5ms/step - loss: 0.0385 - mae: 0.1403 - mse: 0.0385 - val_loss: 0.0441 - val_mae: 0.1503 - val_mse: 0.0441\n",
      "Epoch 33/500\n",
      "404/404 [==============================] - 2s 5ms/step - loss: 0.0385 - mae: 0.1402 - mse: 0.0385 - val_loss: 0.0443 - val_mae: 0.1506 - val_mse: 0.0443\n",
      "Epoch 34/500\n",
      "404/404 [==============================] - 2s 5ms/step - loss: 0.0384 - mae: 0.1402 - mse: 0.0384 - val_loss: 0.0438 - val_mae: 0.1475 - val_mse: 0.0438\n",
      "Epoch 35/500\n",
      "404/404 [==============================] - 2s 5ms/step - loss: 0.0384 - mae: 0.1402 - mse: 0.0384 - val_loss: 0.0438 - val_mae: 0.1480 - val_mse: 0.0438\n",
      "\n",
      "Epoch 00035: ReduceLROnPlateau reducing learning rate to 0.0001250000059371814.\n",
      "Epoch 36/500\n",
      "404/404 [==============================] - 2s 5ms/step - loss: 0.0379 - mae: 0.1391 - mse: 0.0379 - val_loss: 0.0437 - val_mae: 0.1481 - val_mse: 0.0437\n",
      "Epoch 37/500\n",
      "404/404 [==============================] - 2s 6ms/step - loss: 0.0379 - mae: 0.1392 - mse: 0.0379 - val_loss: 0.0438 - val_mae: 0.1475 - val_mse: 0.0438\n",
      "Epoch 38/500\n",
      "404/404 [==============================] - 2s 5ms/step - loss: 0.0378 - mae: 0.1389 - mse: 0.0378 - val_loss: 0.0438 - val_mae: 0.1493 - val_mse: 0.0438\n",
      "Epoch 39/500\n",
      "404/404 [==============================] - 2s 6ms/step - loss: 0.0378 - mae: 0.1389 - mse: 0.0378 - val_loss: 0.0438 - val_mae: 0.1478 - val_mse: 0.0438\n",
      "Epoch 40/500\n",
      "404/404 [==============================] - 2s 5ms/step - loss: 0.0378 - mae: 0.1389 - mse: 0.0378 - val_loss: 0.0438 - val_mae: 0.1498 - val_mse: 0.0438\n",
      "Epoch 41/500\n",
      "404/404 [==============================] - 2s 5ms/step - loss: 0.0378 - mae: 0.1389 - mse: 0.0378 - val_loss: 0.0437 - val_mae: 0.1478 - val_mse: 0.0437\n",
      "\n",
      "Epoch 00041: ReduceLROnPlateau reducing learning rate to 6.25000029685907e-05.\n",
      "Epoch 42/500\n",
      "404/404 [==============================] - 2s 5ms/step - loss: 0.0375 - mae: 0.1384 - mse: 0.0375 - val_loss: 0.0437 - val_mae: 0.1483 - val_mse: 0.0437\n",
      "Epoch 43/500\n",
      "404/404 [==============================] - 2s 5ms/step - loss: 0.0375 - mae: 0.1383 - mse: 0.0375 - val_loss: 0.0437 - val_mae: 0.1487 - val_mse: 0.0437\n",
      "Epoch 44/500\n",
      "404/404 [==============================] - 2s 5ms/step - loss: 0.0374 - mae: 0.1382 - mse: 0.0374 - val_loss: 0.0437 - val_mae: 0.1482 - val_mse: 0.0437\n",
      "Epoch 45/500\n",
      "404/404 [==============================] - 2s 6ms/step - loss: 0.0374 - mae: 0.1381 - mse: 0.0374 - val_loss: 0.0439 - val_mae: 0.1499 - val_mse: 0.0439\n",
      "Epoch 46/500\n",
      "404/404 [==============================] - 2s 5ms/step - loss: 0.0374 - mae: 0.1383 - mse: 0.0374 - val_loss: 0.0437 - val_mae: 0.1480 - val_mse: 0.0437\n",
      "Epoch 47/500\n",
      "404/404 [==============================] - 2s 6ms/step - loss: 0.0374 - mae: 0.1382 - mse: 0.0374 - val_loss: 0.0437 - val_mae: 0.1480 - val_mse: 0.0437\n",
      "Epoch 48/500\n"
     ]
    },
    {
     "name": "stdout",
     "output_type": "stream",
     "text": [
      "404/404 [==============================] - 2s 6ms/step - loss: 0.0374 - mae: 0.1381 - mse: 0.0374 - val_loss: 0.0437 - val_mae: 0.1478 - val_mse: 0.0437\n",
      "Epoch 49/500\n",
      "404/404 [==============================] - 2s 5ms/step - loss: 0.0374 - mae: 0.1381 - mse: 0.0374 - val_loss: 0.0437 - val_mae: 0.1483 - val_mse: 0.0437\n",
      "Epoch 50/500\n",
      "404/404 [==============================] - 2s 5ms/step - loss: 0.0373 - mae: 0.1381 - mse: 0.0373 - val_loss: 0.0437 - val_mae: 0.1483 - val_mse: 0.0437\n",
      "Epoch 51/500\n",
      "404/404 [==============================] - 2s 5ms/step - loss: 0.0373 - mae: 0.1380 - mse: 0.0373 - val_loss: 0.0438 - val_mae: 0.1493 - val_mse: 0.0438\n",
      "\n",
      "Epoch 00051: ReduceLROnPlateau reducing learning rate to 3.125000148429535e-05.\n",
      "Epoch 52/500\n",
      "404/404 [==============================] - 2s 5ms/step - loss: 0.0372 - mae: 0.1378 - mse: 0.0372 - val_loss: 0.0438 - val_mae: 0.1487 - val_mse: 0.0438\n",
      "Epoch 53/500\n",
      "404/404 [==============================] - 2s 5ms/step - loss: 0.0372 - mae: 0.1378 - mse: 0.0372 - val_loss: 0.0437 - val_mae: 0.1486 - val_mse: 0.0437\n",
      "Epoch 54/500\n",
      "404/404 [==============================] - 2s 6ms/step - loss: 0.0372 - mae: 0.1378 - mse: 0.0372 - val_loss: 0.0437 - val_mae: 0.1481 - val_mse: 0.0437\n",
      "Epoch 55/500\n",
      "404/404 [==============================] - 2s 6ms/step - loss: 0.0372 - mae: 0.1377 - mse: 0.0372 - val_loss: 0.0437 - val_mae: 0.1484 - val_mse: 0.0437\n",
      "Epoch 56/500\n",
      "404/404 [==============================] - 2s 5ms/step - loss: 0.0372 - mae: 0.1377 - mse: 0.0372 - val_loss: 0.0437 - val_mae: 0.1480 - val_mse: 0.0437\n",
      "\n",
      "Epoch 00056: ReduceLROnPlateau reducing learning rate to 1.5625000742147677e-05.\n",
      "Epoch 57/500\n",
      "404/404 [==============================] - 2s 5ms/step - loss: 0.0371 - mae: 0.1375 - mse: 0.0371 - val_loss: 0.0437 - val_mae: 0.1485 - val_mse: 0.0437\n",
      "Epoch 58/500\n",
      "404/404 [==============================] - 2s 5ms/step - loss: 0.0371 - mae: 0.1376 - mse: 0.0371 - val_loss: 0.0437 - val_mae: 0.1481 - val_mse: 0.0437\n",
      "Epoch 59/500\n",
      "404/404 [==============================] - 2s 5ms/step - loss: 0.0371 - mae: 0.1375 - mse: 0.0371 - val_loss: 0.0437 - val_mae: 0.1484 - val_mse: 0.0437\n",
      "Epoch 60/500\n",
      "404/404 [==============================] - 2s 5ms/step - loss: 0.0371 - mae: 0.1375 - mse: 0.0371 - val_loss: 0.0437 - val_mae: 0.1481 - val_mse: 0.0437\n",
      "Epoch 61/500\n",
      "404/404 [==============================] - 2s 5ms/step - loss: 0.0371 - mae: 0.1376 - mse: 0.0371 - val_loss: 0.0437 - val_mae: 0.1483 - val_mse: 0.0437\n",
      "\n",
      "Epoch 00061: ReduceLROnPlateau reducing learning rate to 7.812500371073838e-06.\n",
      "Epoch 62/500\n",
      "404/404 [==============================] - 2s 5ms/step - loss: 0.0370 - mae: 0.1374 - mse: 0.0370 - val_loss: 0.0437 - val_mae: 0.1484 - val_mse: 0.0437\n",
      "Epoch 63/500\n",
      "404/404 [==============================] - 2s 5ms/step - loss: 0.0370 - mae: 0.1375 - mse: 0.0370 - val_loss: 0.0437 - val_mae: 0.1484 - val_mse: 0.0437\n",
      "Epoch 64/500\n",
      "404/404 [==============================] - 2s 5ms/step - loss: 0.0370 - mae: 0.1375 - mse: 0.0370 - val_loss: 0.0437 - val_mae: 0.1484 - val_mse: 0.0437\n",
      "Epoch 65/500\n",
      "404/404 [==============================] - 2s 5ms/step - loss: 0.0370 - mae: 0.1374 - mse: 0.0370 - val_loss: 0.0437 - val_mae: 0.1486 - val_mse: 0.0437\n",
      "Epoch 66/500\n",
      "404/404 [==============================] - 2s 5ms/step - loss: 0.0370 - mae: 0.1375 - mse: 0.0370 - val_loss: 0.0437 - val_mae: 0.1484 - val_mse: 0.0437\n",
      "\n",
      "Epoch 00066: ReduceLROnPlateau reducing learning rate to 3.906250185536919e-06.\n",
      "Epoch 67/500\n",
      "404/404 [==============================] - 2s 5ms/step - loss: 0.0370 - mae: 0.1374 - mse: 0.0370 - val_loss: 0.0437 - val_mae: 0.1484 - val_mse: 0.0437\n",
      "Epoch 68/500\n",
      "404/404 [==============================] - 2s 5ms/step - loss: 0.0370 - mae: 0.1374 - mse: 0.0370 - val_loss: 0.0437 - val_mae: 0.1484 - val_mse: 0.0437\n",
      "Epoch 69/500\n",
      "404/404 [==============================] - 2s 5ms/step - loss: 0.0370 - mae: 0.1374 - mse: 0.0370 - val_loss: 0.0437 - val_mae: 0.1484 - val_mse: 0.0437\n",
      "Epoch 70/500\n",
      "404/404 [==============================] - 2s 5ms/step - loss: 0.0370 - mae: 0.1374 - mse: 0.0370 - val_loss: 0.0437 - val_mae: 0.1484 - val_mse: 0.0437\n",
      "Epoch 71/500\n",
      "404/404 [==============================] - 2s 5ms/step - loss: 0.0370 - mae: 0.1374 - mse: 0.0370 - val_loss: 0.0437 - val_mae: 0.1484 - val_mse: 0.0437\n",
      "\n",
      "Epoch 00071: ReduceLROnPlateau reducing learning rate to 1.9531250927684596e-06.\n",
      "Epoch 72/500\n",
      "404/404 [==============================] - 2s 5ms/step - loss: 0.0370 - mae: 0.1374 - mse: 0.0370 - val_loss: 0.0437 - val_mae: 0.1484 - val_mse: 0.0437\n",
      "Epoch 73/500\n",
      "404/404 [==============================] - 2s 5ms/step - loss: 0.0370 - mae: 0.1374 - mse: 0.0370 - val_loss: 0.0437 - val_mae: 0.1484 - val_mse: 0.0437\n",
      "Epoch 74/500\n",
      "404/404 [==============================] - 2s 5ms/step - loss: 0.0370 - mae: 0.1374 - mse: 0.0370 - val_loss: 0.0437 - val_mae: 0.1484 - val_mse: 0.0437\n",
      "Epoch 75/500\n",
      "404/404 [==============================] - 2s 5ms/step - loss: 0.0370 - mae: 0.1374 - mse: 0.0370 - val_loss: 0.0437 - val_mae: 0.1484 - val_mse: 0.0437\n",
      "Epoch 76/500\n",
      "404/404 [==============================] - 2s 5ms/step - loss: 0.0370 - mae: 0.1374 - mse: 0.0370 - val_loss: 0.0437 - val_mae: 0.1484 - val_mse: 0.0437\n",
      "Restoring model weights from the end of the best epoch.\n",
      "\n",
      "Epoch 00076: ReduceLROnPlateau reducing learning rate to 9.765625463842298e-07.\n",
      "Epoch 00076: early stopping\n"
     ]
    }
   ],
   "source": [
    "import time\n",
    "pre_train1 = time.time()\n",
    "history = model.fit(X_train,y_train,validation_data=(X_valid,y_valid),\n",
    "                    epochs=500,batch_size = 64,callbacks=[early_stopping,learning_rate,checkpoint])\n",
    "time_training1 = time.time() - pre_train1"
   ]
  },
  {
   "cell_type": "code",
   "execution_count": 46,
   "id": "2d6e4f2c",
   "metadata": {},
   "outputs": [
    {
     "name": "stdout",
     "output_type": "stream",
     "text": [
      "Time training model1: 159.8 (s)\n"
     ]
    }
   ],
   "source": [
    "print('Time training model1: %.1f (s)'%(time_training1))"
   ]
  },
  {
   "cell_type": "code",
   "execution_count": 47,
   "id": "15c74c34",
   "metadata": {},
   "outputs": [
    {
     "data": {
      "image/png": "[encoded data removed]",
      "text/plain": [
       "<Figure size 432x288 with 1 Axes>"
      ]
     },
     "metadata": {
      "needs_background": "light"
     },
     "output_type": "display_data"
    }
   ],
   "source": [
    "plt.plot(history.history['loss'])\n",
    "plt.plot(history.history['val_loss'])\n",
    "plt.title('Model1 loss')\n",
    "plt.ylabel('loss')\n",
    "plt.xlabel('Epoch')\n",
    "plt.legend(['Train','Validation'],loc='upper left')\n",
    "plt.show()"
   ]
  },
  {
   "cell_type": "code",
   "execution_count": 48,
   "id": "c1d2bb08",
   "metadata": {},
   "outputs": [
    {
     "name": "stdout",
     "output_type": "stream",
     "text": [
      "202/202 [==============================] - 0s 2ms/step - loss: 0.0438 - mae: 0.1488 - mse: 0.0438\n"
     ]
    },
    {
     "data": {
      "text/plain": [
       "[0.04376937821507454, 0.14878897368907928, 0.04376937821507454]"
      ]
     },
     "execution_count": 48,
     "metadata": {},
     "output_type": "execute_result"
    }
   ],
   "source": [
    "scores1 = model.evaluate(X_test,y_test)\n",
    "scores1"
   ]
  },
  {
   "cell_type": "markdown",
   "id": "3852e091",
   "metadata": {},
   "source": [
    "<h3>Model2</h3>"
   ]
  },
  {
   "cell_type": "code",
   "execution_count": 50,
   "id": "9707c37f",
   "metadata": {},
   "outputs": [
    {
     "name": "stdout",
     "output_type": "stream",
     "text": [
      "Model: \"sequential_2\"\n",
      "_________________________________________________________________\n",
      "Layer (type)                 Output Shape              Param #   \n",
      "=================================================================\n",
      "dense_10 (Dense)             (None, 27)                1485      \n",
      "_________________________________________________________________\n",
      "dropout_2 (Dropout)          (None, 27)                0         \n",
      "_________________________________________________________________\n",
      "dense_11 (Dense)             (None, 20)                560       \n",
      "_________________________________________________________________\n",
      "dense_12 (Dense)             (None, 15)                315       \n",
      "_________________________________________________________________\n",
      "dropout_3 (Dropout)          (None, 15)                0         \n",
      "_________________________________________________________________\n",
      "dense_13 (Dense)             (None, 10)                160       \n",
      "_________________________________________________________________\n",
      "dense_14 (Dense)             (None, 1)                 11        \n",
      "=================================================================\n",
      "Total params: 2,531\n",
      "Trainable params: 2,531\n",
      "Non-trainable params: 0\n",
      "_________________________________________________________________\n"
     ]
    }
   ],
   "source": [
    "# model2\n",
    "# having 19 neuron is based on the number of available features\n",
    "model2 = Sequential()\n",
    "model2.add(Dense(27,input_dim=54, kernel_initializer='normal',activation='relu'))\n",
    "model2.add(Dropout(0.5))\n",
    "model2.add(Dense(20,activation='relu'))\n",
    "model2.add(Dense(15,activation='relu'))\n",
    "model2.add(Dropout(0.2))\n",
    "model2.add(Dense(10,activation='relu'))\n",
    "model2.add(Dense(1,activation='linear'))\n",
    "model2.compile(optimizer='Adam',loss='mse',metrics=['mae','mse'])\n",
    "model2.summary()"
   ]
  },
  {
   "cell_type": "code",
   "execution_count": 51,
   "id": "425e7b5a",
   "metadata": {},
   "outputs": [],
   "source": [
    "checkpoint2 = ModelCheckpoint('./checkpoint/Ex1/Model2.h5',monitor='val_loss',save_best_only=True,save_weights_only=True,mode='min')\n",
    "learning_rate2 = ReduceLROnPlateau(patience=5,verbose=1,factor=0.5,min_delta=0.000001)\n",
    "early_stopping2 = EarlyStopping(patience=30,monitor='val_loss',verbose=1,restore_best_weights=True,mode='min')"
   ]
  },
  {
   "cell_type": "code",
   "execution_count": 53,
   "id": "944b4988",
   "metadata": {},
   "outputs": [
    {
     "name": "stdout",
     "output_type": "stream",
     "text": [
      "Epoch 1/500\n",
      "404/404 [==============================] - 3s 6ms/step - loss: 0.1533 - mae: 0.2832 - mse: 0.1533 - val_loss: 0.0639 - val_mae: 0.1785 - val_mse: 0.0639\n",
      "Epoch 2/500\n",
      "404/404 [==============================] - 2s 5ms/step - loss: 0.0761 - mae: 0.2002 - mse: 0.0761 - val_loss: 0.0598 - val_mae: 0.1726 - val_mse: 0.0598\n",
      "Epoch 3/500\n",
      "404/404 [==============================] - 2s 5ms/step - loss: 0.0648 - mae: 0.1856 - mse: 0.0648 - val_loss: 0.0586 - val_mae: 0.1746 - val_mse: 0.0586\n",
      "Epoch 4/500\n",
      "404/404 [==============================] - 2s 5ms/step - loss: 0.0607 - mae: 0.1796 - mse: 0.0607 - val_loss: 0.0536 - val_mae: 0.1688 - val_mse: 0.0536\n",
      "Epoch 5/500\n",
      "404/404 [==============================] - 2s 5ms/step - loss: 0.0595 - mae: 0.1771 - mse: 0.0595 - val_loss: 0.0549 - val_mae: 0.1700 - val_mse: 0.0549\n",
      "Epoch 6/500\n",
      "404/404 [==============================] - 2s 6ms/step - loss: 0.0563 - mae: 0.1743 - mse: 0.0563 - val_loss: 0.0528 - val_mae: 0.1683 - val_mse: 0.0528\n",
      "Epoch 7/500\n",
      "404/404 [==============================] - 2s 5ms/step - loss: 0.0546 - mae: 0.1711 - mse: 0.0546 - val_loss: 0.0508 - val_mae: 0.1644 - val_mse: 0.0508\n",
      "Epoch 8/500\n",
      "404/404 [==============================] - 2s 5ms/step - loss: 0.0542 - mae: 0.1702 - mse: 0.0542 - val_loss: 0.0543 - val_mae: 0.1706 - val_mse: 0.0543\n",
      "Epoch 9/500\n",
      "404/404 [==============================] - 2s 5ms/step - loss: 0.0540 - mae: 0.1687 - mse: 0.0540 - val_loss: 0.0531 - val_mae: 0.1681 - val_mse: 0.0531\n",
      "Epoch 10/500\n",
      "404/404 [==============================] - 2s 6ms/step - loss: 0.0534 - mae: 0.1688 - mse: 0.0534 - val_loss: 0.0498 - val_mae: 0.1655 - val_mse: 0.0498\n",
      "Epoch 11/500\n",
      "404/404 [==============================] - 2s 5ms/step - loss: 0.0521 - mae: 0.1674 - mse: 0.0521 - val_loss: 0.0528 - val_mae: 0.1703 - val_mse: 0.0528\n",
      "Epoch 12/500\n",
      "404/404 [==============================] - 2s 6ms/step - loss: 0.0523 - mae: 0.1676 - mse: 0.0523 - val_loss: 0.0509 - val_mae: 0.1714 - val_mse: 0.0509\n",
      "Epoch 13/500\n",
      "404/404 [==============================] - 2s 5ms/step - loss: 0.0527 - mae: 0.1676 - mse: 0.0527 - val_loss: 0.0516 - val_mae: 0.1721 - val_mse: 0.0516\n",
      "Epoch 14/500\n",
      "404/404 [==============================] - 2s 5ms/step - loss: 0.0512 - mae: 0.1654 - mse: 0.0512 - val_loss: 0.0520 - val_mae: 0.1700 - val_mse: 0.0520\n",
      "Epoch 15/500\n",
      "404/404 [==============================] - 2s 5ms/step - loss: 0.0513 - mae: 0.1652 - mse: 0.0513 - val_loss: 0.0543 - val_mae: 0.1786 - val_mse: 0.0543\n",
      "\n",
      "Epoch 00015: ReduceLROnPlateau reducing learning rate to 0.0005000000237487257.\n",
      "Epoch 16/500\n",
      "404/404 [==============================] - 2s 6ms/step - loss: 0.0507 - mae: 0.1634 - mse: 0.0507 - val_loss: 0.0538 - val_mae: 0.1743 - val_mse: 0.0538\n",
      "Epoch 17/500\n",
      "404/404 [==============================] - 2s 5ms/step - loss: 0.0503 - mae: 0.1634 - mse: 0.0503 - val_loss: 0.0548 - val_mae: 0.1794 - val_mse: 0.0548\n",
      "Epoch 18/500\n",
      "404/404 [==============================] - 2s 5ms/step - loss: 0.0495 - mae: 0.1626 - mse: 0.0495 - val_loss: 0.0542 - val_mae: 0.1775 - val_mse: 0.0542\n",
      "Epoch 19/500\n",
      "404/404 [==============================] - 2s 5ms/step - loss: 0.0497 - mae: 0.1624 - mse: 0.0497 - val_loss: 0.0549 - val_mae: 0.1782 - val_mse: 0.0549\n",
      "Epoch 20/500\n",
      "404/404 [==============================] - 2s 5ms/step - loss: 0.0494 - mae: 0.1618 - mse: 0.0494 - val_loss: 0.0546 - val_mae: 0.1798 - val_mse: 0.0546\n",
      "\n",
      "Epoch 00020: ReduceLROnPlateau reducing learning rate to 0.0002500000118743628.\n",
      "Epoch 21/500\n",
      "404/404 [==============================] - 2s 6ms/step - loss: 0.0492 - mae: 0.1612 - mse: 0.0492 - val_loss: 0.0545 - val_mae: 0.1775 - val_mse: 0.0545\n",
      "Epoch 22/500\n",
      "404/404 [==============================] - 2s 5ms/step - loss: 0.0485 - mae: 0.1607 - mse: 0.0485 - val_loss: 0.0536 - val_mae: 0.1770 - val_mse: 0.0536\n",
      "Epoch 23/500\n",
      "404/404 [==============================] - 2s 5ms/step - loss: 0.0488 - mae: 0.1605 - mse: 0.0488 - val_loss: 0.0545 - val_mae: 0.1812 - val_mse: 0.0545\n",
      "Epoch 24/500\n",
      "404/404 [==============================] - 2s 5ms/step - loss: 0.0485 - mae: 0.1599 - mse: 0.0485 - val_loss: 0.0543 - val_mae: 0.1806 - val_mse: 0.0543\n",
      "Epoch 25/500\n",
      "404/404 [==============================] - 2s 5ms/step - loss: 0.0483 - mae: 0.1600 - mse: 0.0483 - val_loss: 0.0552 - val_mae: 0.1818 - val_mse: 0.0552\n",
      "\n",
      "Epoch 00025: ReduceLROnPlateau reducing learning rate to 0.0001250000059371814.\n",
      "Epoch 26/500\n",
      "404/404 [==============================] - 2s 5ms/step - loss: 0.0483 - mae: 0.1595 - mse: 0.0483 - val_loss: 0.0555 - val_mae: 0.1837 - val_mse: 0.0555\n",
      "Epoch 27/500\n",
      "404/404 [==============================] - 2s 5ms/step - loss: 0.0483 - mae: 0.1601 - mse: 0.0483 - val_loss: 0.0547 - val_mae: 0.1823 - val_mse: 0.0547\n",
      "Epoch 28/500\n",
      "404/404 [==============================] - 2s 5ms/step - loss: 0.0481 - mae: 0.1594 - mse: 0.0481 - val_loss: 0.0542 - val_mae: 0.1803 - val_mse: 0.0542\n",
      "Epoch 29/500\n",
      "404/404 [==============================] - 2s 6ms/step - loss: 0.0482 - mae: 0.1596 - mse: 0.0482 - val_loss: 0.0543 - val_mae: 0.1809 - val_mse: 0.0543\n",
      "Epoch 30/500\n",
      "404/404 [==============================] - 2s 6ms/step - loss: 0.0479 - mae: 0.1594 - mse: 0.0479 - val_loss: 0.0544 - val_mae: 0.1811 - val_mse: 0.0544\n",
      "\n",
      "Epoch 00030: ReduceLROnPlateau reducing learning rate to 6.25000029685907e-05.\n",
      "Epoch 31/500\n",
      "404/404 [==============================] - 2s 6ms/step - loss: 0.0480 - mae: 0.1596 - mse: 0.0480 - val_loss: 0.0550 - val_mae: 0.1822 - val_mse: 0.0550\n",
      "Epoch 32/500\n",
      "404/404 [==============================] - 2s 6ms/step - loss: 0.0479 - mae: 0.1594 - mse: 0.0479 - val_loss: 0.0545 - val_mae: 0.1814 - val_mse: 0.0545\n",
      "Epoch 33/500\n",
      "404/404 [==============================] - 2s 6ms/step - loss: 0.0482 - mae: 0.1591 - mse: 0.0482 - val_loss: 0.0550 - val_mae: 0.1827 - val_mse: 0.0550\n",
      "Epoch 34/500\n",
      "404/404 [==============================] - 2s 6ms/step - loss: 0.0479 - mae: 0.1591 - mse: 0.0479 - val_loss: 0.0544 - val_mae: 0.1810 - val_mse: 0.0544\n",
      "Epoch 35/500\n",
      "404/404 [==============================] - 2s 6ms/step - loss: 0.0479 - mae: 0.1593 - mse: 0.0479 - val_loss: 0.0546 - val_mae: 0.1817 - val_mse: 0.0546\n",
      "\n",
      "Epoch 00035: ReduceLROnPlateau reducing learning rate to 3.125000148429535e-05.\n",
      "Epoch 36/500\n",
      "404/404 [==============================] - 2s 6ms/step - loss: 0.0476 - mae: 0.1590 - mse: 0.0476 - val_loss: 0.0545 - val_mae: 0.1816 - val_mse: 0.0545\n",
      "Epoch 37/500\n",
      "404/404 [==============================] - 2s 6ms/step - loss: 0.0475 - mae: 0.1585 - mse: 0.0475 - val_loss: 0.0546 - val_mae: 0.1819 - val_mse: 0.0546\n",
      "Epoch 38/500\n",
      "404/404 [==============================] - 2s 6ms/step - loss: 0.0480 - mae: 0.1591 - mse: 0.0480 - val_loss: 0.0546 - val_mae: 0.1823 - val_mse: 0.0546\n",
      "Epoch 39/500\n",
      "404/404 [==============================] - 2s 6ms/step - loss: 0.0474 - mae: 0.1586 - mse: 0.0474 - val_loss: 0.0545 - val_mae: 0.1819 - val_mse: 0.0545\n",
      "Epoch 40/500\n",
      "404/404 [==============================] - 2s 6ms/step - loss: 0.0478 - mae: 0.1588 - mse: 0.0478 - val_loss: 0.0547 - val_mae: 0.1824 - val_mse: 0.0547\n",
      "Restoring model weights from the end of the best epoch.\n",
      "\n",
      "Epoch 00040: ReduceLROnPlateau reducing learning rate to 1.5625000742147677e-05.\n",
      "Epoch 00040: early stopping\n"
     ]
    }
   ],
   "source": [
    "pre_train = time.time()\n",
    "history2 = model2.fit(X_train,y_train,validation_data=(X_valid,y_valid),\n",
    "                    epochs=500,batch_size = 64,callbacks=[early_stopping2,learning_rate2,checkpoint2])\n",
    "time_training2 = time.time() - pre_train"
   ]
  },
  {
   "cell_type": "code",
   "execution_count": 54,
   "id": "feb93018",
   "metadata": {},
   "outputs": [
    {
     "name": "stdout",
     "output_type": "stream",
     "text": [
      "Time training model1: 90.8 (s)\n"
     ]
    }
   ],
   "source": [
    "print('Time training model1: %.1f (s)'%(time_training2))"
   ]
  },
  {
   "cell_type": "code",
   "execution_count": 55,
   "id": "b3c91372",
   "metadata": {},
   "outputs": [
    {
     "data": {
      "image/png": "[encoded data removed]",
      "text/plain": [
       "<Figure size 432x288 with 1 Axes>"
      ]
     },
     "metadata": {
      "needs_background": "light"
     },
     "output_type": "display_data"
    }
   ],
   "source": [
    "plt.plot(history2.history['loss'])\n",
    "plt.plot(history2.history['val_loss'])\n",
    "plt.title('Model2 loss')\n",
    "plt.ylabel('loss')\n",
    "plt.xlabel('Epoch')\n",
    "plt.legend(['Train','Validation'],loc='upper left')\n",
    "plt.show()"
   ]
  },
  {
   "cell_type": "code",
   "execution_count": 56,
   "id": "fbd1fd7c",
   "metadata": {},
   "outputs": [
    {
     "name": "stdout",
     "output_type": "stream",
     "text": [
      "202/202 [==============================] - 0s 2ms/step - loss: 0.1008 - mae: 0.1668 - mse: 0.1008\n"
     ]
    },
    {
     "data": {
      "text/plain": [
       "[0.10083014518022537, 0.166776642203331, 0.10083014518022537]"
      ]
     },
     "execution_count": 56,
     "metadata": {},
     "output_type": "execute_result"
    }
   ],
   "source": [
    "scores2 = model2.evaluate(X_test,y_test)\n",
    "scores2"
   ]
  },
  {
   "cell_type": "markdown",
   "id": "a8ec818a",
   "metadata": {},
   "source": [
    "<h3>Model3</h3>"
   ]
  },
  {
   "cell_type": "code",
   "execution_count": 57,
   "id": "488f4ca7",
   "metadata": {},
   "outputs": [
    {
     "name": "stdout",
     "output_type": "stream",
     "text": [
      "Model: \"sequential_3\"\n",
      "_________________________________________________________________\n",
      "Layer (type)                 Output Shape              Param #   \n",
      "=================================================================\n",
      "dense_15 (Dense)             (None, 54)                2970      \n",
      "_________________________________________________________________\n",
      "dropout_4 (Dropout)          (None, 54)                0         \n",
      "_________________________________________________________________\n",
      "dense_16 (Dense)             (None, 34)                1870      \n",
      "_________________________________________________________________\n",
      "dense_17 (Dense)             (None, 25)                875       \n",
      "_________________________________________________________________\n",
      "dropout_5 (Dropout)          (None, 25)                0         \n",
      "_________________________________________________________________\n",
      "dense_18 (Dense)             (None, 15)                390       \n",
      "_________________________________________________________________\n",
      "dense_19 (Dense)             (None, 5)                 80        \n",
      "_________________________________________________________________\n",
      "dense_20 (Dense)             (None, 1)                 6         \n",
      "=================================================================\n",
      "Total params: 6,191\n",
      "Trainable params: 6,191\n",
      "Non-trainable params: 0\n",
      "_________________________________________________________________\n"
     ]
    }
   ],
   "source": [
    "# model2\n",
    "# having 19 neuron is based on the number of available features\n",
    "model3 = Sequential()\n",
    "model3.add(Dense(54,input_dim=54, kernel_initializer='normal',activation='relu'))\n",
    "model3.add(Dropout(0.3))\n",
    "model3.add(Dense(34,activation='relu'))\n",
    "model3.add(Dense(25,activation='relu'))\n",
    "model3.add(Dropout(0.2))\n",
    "model3.add(Dense(15,activation='relu'))\n",
    "model3.add(Dense(5,activation='relu'))\n",
    "model3.add(Dense(1,activation='linear'))\n",
    "model3.compile(optimizer='Adam',loss='mse',metrics=['mae','mse'])\n",
    "model3.summary()"
   ]
  },
  {
   "cell_type": "code",
   "execution_count": 58,
   "id": "fba737d7",
   "metadata": {},
   "outputs": [],
   "source": [
    "checkpoint3 = ModelCheckpoint('./checkpoint/Ex1/Model3.h5',monitor='val_loss',save_best_only=True,save_weights_only=True,mode='min')\n",
    "learning_rate3 = ReduceLROnPlateau(patience=5,verbose=1,factor=0.5,min_delta=0.000001)\n",
    "early_stopping3 = EarlyStopping(patience=30,monitor='val_loss',verbose=1,restore_best_weights=True,mode='min')"
   ]
  },
  {
   "cell_type": "code",
   "execution_count": 59,
   "id": "11606a10",
   "metadata": {},
   "outputs": [
    {
     "name": "stdout",
     "output_type": "stream",
     "text": [
      "Epoch 1/500\n",
      "404/404 [==============================] - 3s 7ms/step - loss: 0.1301 - mae: 0.2539 - mse: 0.1301 - val_loss: 0.0551 - val_mae: 0.1683 - val_mse: 0.0551\n",
      "Epoch 2/500\n",
      "404/404 [==============================] - 2s 6ms/step - loss: 0.0619 - mae: 0.1814 - mse: 0.0619 - val_loss: 0.0503 - val_mae: 0.1646 - val_mse: 0.0503\n",
      "Epoch 3/500\n",
      "404/404 [==============================] - 2s 6ms/step - loss: 0.0574 - mae: 0.1740 - mse: 0.0574 - val_loss: 0.0542 - val_mae: 0.1645 - val_mse: 0.0542\n",
      "Epoch 4/500\n",
      "404/404 [==============================] - 2s 6ms/step - loss: 0.0534 - mae: 0.1687 - mse: 0.0534 - val_loss: 0.0502 - val_mae: 0.1599 - val_mse: 0.0502\n",
      "Epoch 5/500\n",
      "404/404 [==============================] - 2s 6ms/step - loss: 0.0526 - mae: 0.1666 - mse: 0.0526 - val_loss: 0.0533 - val_mae: 0.1614 - val_mse: 0.0533\n",
      "Epoch 6/500\n",
      "404/404 [==============================] - 2s 6ms/step - loss: 0.0510 - mae: 0.1646 - mse: 0.0510 - val_loss: 0.0470 - val_mae: 0.1564 - val_mse: 0.0470\n",
      "Epoch 7/500\n",
      "404/404 [==============================] - 2s 6ms/step - loss: 0.0499 - mae: 0.1620 - mse: 0.0499 - val_loss: 0.0488 - val_mae: 0.1580 - val_mse: 0.0488\n",
      "Epoch 8/500\n",
      "404/404 [==============================] - 2s 6ms/step - loss: 0.0495 - mae: 0.1613 - mse: 0.0495 - val_loss: 0.0478 - val_mae: 0.1606 - val_mse: 0.0478\n",
      "Epoch 9/500\n",
      "404/404 [==============================] - 2s 6ms/step - loss: 0.0486 - mae: 0.1602 - mse: 0.0486 - val_loss: 0.0490 - val_mae: 0.1560 - val_mse: 0.0490\n",
      "Epoch 10/500\n",
      "404/404 [==============================] - 2s 6ms/step - loss: 0.0483 - mae: 0.1592 - mse: 0.0483 - val_loss: 0.0496 - val_mae: 0.1597 - val_mse: 0.0496\n",
      "Epoch 11/500\n",
      "404/404 [==============================] - 2s 6ms/step - loss: 0.0481 - mae: 0.1592 - mse: 0.0481 - val_loss: 0.0496 - val_mae: 0.1611 - val_mse: 0.0496\n",
      "\n",
      "Epoch 00011: ReduceLROnPlateau reducing learning rate to 0.0005000000237487257.\n",
      "Epoch 12/500\n",
      "404/404 [==============================] - 2s 6ms/step - loss: 0.0461 - mae: 0.1563 - mse: 0.0461 - val_loss: 0.0474 - val_mae: 0.1565 - val_mse: 0.0474\n",
      "Epoch 13/500\n",
      "404/404 [==============================] - 2s 6ms/step - loss: 0.0463 - mae: 0.1562 - mse: 0.0463 - val_loss: 0.0487 - val_mae: 0.1597 - val_mse: 0.0487\n",
      "Epoch 14/500\n",
      "404/404 [==============================] - 2s 6ms/step - loss: 0.0460 - mae: 0.1555 - mse: 0.0460 - val_loss: 0.0492 - val_mae: 0.1611 - val_mse: 0.0492\n",
      "Epoch 15/500\n",
      "404/404 [==============================] - 2s 6ms/step - loss: 0.0461 - mae: 0.1555 - mse: 0.0461 - val_loss: 0.0491 - val_mae: 0.1599 - val_mse: 0.0491\n",
      "Epoch 16/500\n",
      "404/404 [==============================] - 2s 6ms/step - loss: 0.0456 - mae: 0.1546 - mse: 0.0456 - val_loss: 0.0476 - val_mae: 0.1596 - val_mse: 0.0476\n",
      "\n",
      "Epoch 00016: ReduceLROnPlateau reducing learning rate to 0.0002500000118743628.\n",
      "Epoch 17/500\n",
      "404/404 [==============================] - 3s 6ms/step - loss: 0.0450 - mae: 0.1538 - mse: 0.0450 - val_loss: 0.0469 - val_mae: 0.1572 - val_mse: 0.0469\n",
      "Epoch 18/500\n",
      "404/404 [==============================] - 3s 6ms/step - loss: 0.0449 - mae: 0.1537 - mse: 0.0449 - val_loss: 0.0481 - val_mae: 0.1589 - val_mse: 0.0481\n",
      "Epoch 19/500\n",
      "404/404 [==============================] - 3s 6ms/step - loss: 0.0451 - mae: 0.1541 - mse: 0.0451 - val_loss: 0.0476 - val_mae: 0.1596 - val_mse: 0.0476\n",
      "Epoch 20/500\n",
      "404/404 [==============================] - 3s 6ms/step - loss: 0.0449 - mae: 0.1534 - mse: 0.0449 - val_loss: 0.0487 - val_mae: 0.1610 - val_mse: 0.0487\n",
      "Epoch 21/500\n",
      "404/404 [==============================] - 3s 6ms/step - loss: 0.0448 - mae: 0.1530 - mse: 0.0448 - val_loss: 0.0489 - val_mae: 0.1601 - val_mse: 0.0489\n",
      "Epoch 22/500\n",
      "404/404 [==============================] - 3s 6ms/step - loss: 0.0448 - mae: 0.1531 - mse: 0.0448 - val_loss: 0.0475 - val_mae: 0.1584 - val_mse: 0.0475\n",
      "\n",
      "Epoch 00022: ReduceLROnPlateau reducing learning rate to 0.0001250000059371814.\n",
      "Epoch 23/500\n",
      "404/404 [==============================] - 3s 6ms/step - loss: 0.0441 - mae: 0.1521 - mse: 0.0441 - val_loss: 0.0468 - val_mae: 0.1582 - val_mse: 0.0468\n",
      "Epoch 24/500\n",
      "404/404 [==============================] - 3s 7ms/step - loss: 0.0443 - mae: 0.1522 - mse: 0.0443 - val_loss: 0.0480 - val_mae: 0.1586 - val_mse: 0.0480\n",
      "Epoch 25/500\n",
      "404/404 [==============================] - 3s 6ms/step - loss: 0.0441 - mae: 0.1514 - mse: 0.0441 - val_loss: 0.0483 - val_mae: 0.1602 - val_mse: 0.0483\n",
      "Epoch 26/500\n",
      "404/404 [==============================] - 3s 6ms/step - loss: 0.0438 - mae: 0.1512 - mse: 0.0438 - val_loss: 0.0479 - val_mae: 0.1597 - val_mse: 0.0479\n",
      "Epoch 27/500\n",
      "404/404 [==============================] - 3s 6ms/step - loss: 0.0441 - mae: 0.1517 - mse: 0.0441 - val_loss: 0.0478 - val_mae: 0.1586 - val_mse: 0.0478\n",
      "Epoch 28/500\n",
      "404/404 [==============================] - 3s 6ms/step - loss: 0.0437 - mae: 0.1510 - mse: 0.0437 - val_loss: 0.0478 - val_mae: 0.1585 - val_mse: 0.0478\n",
      "\n",
      "Epoch 00028: ReduceLROnPlateau reducing learning rate to 6.25000029685907e-05.\n",
      "Epoch 29/500\n",
      "404/404 [==============================] - 3s 6ms/step - loss: 0.0435 - mae: 0.1509 - mse: 0.0435 - val_loss: 0.0486 - val_mae: 0.1600 - val_mse: 0.0486\n",
      "Epoch 30/500\n",
      "404/404 [==============================] - 3s 6ms/step - loss: 0.0439 - mae: 0.1511 - mse: 0.0439 - val_loss: 0.0475 - val_mae: 0.1601 - val_mse: 0.0475\n",
      "Epoch 31/500\n",
      "404/404 [==============================] - 3s 6ms/step - loss: 0.0436 - mae: 0.1510 - mse: 0.0436 - val_loss: 0.0488 - val_mae: 0.1599 - val_mse: 0.0488\n",
      "Epoch 32/500\n",
      "404/404 [==============================] - 3s 6ms/step - loss: 0.0439 - mae: 0.1513 - mse: 0.0439 - val_loss: 0.0476 - val_mae: 0.1604 - val_mse: 0.0476\n",
      "Epoch 33/500\n",
      "404/404 [==============================] - 2s 6ms/step - loss: 0.0434 - mae: 0.1508 - mse: 0.0434 - val_loss: 0.0480 - val_mae: 0.1602 - val_mse: 0.0480\n",
      "\n",
      "Epoch 00033: ReduceLROnPlateau reducing learning rate to 3.125000148429535e-05.\n",
      "Epoch 34/500\n",
      "404/404 [==============================] - 3s 6ms/step - loss: 0.0434 - mae: 0.1506 - mse: 0.0434 - val_loss: 0.0479 - val_mae: 0.1595 - val_mse: 0.0479\n",
      "Epoch 35/500\n",
      "404/404 [==============================] - 3s 6ms/step - loss: 0.0433 - mae: 0.1504 - mse: 0.0433 - val_loss: 0.0474 - val_mae: 0.1593 - val_mse: 0.0474\n",
      "Epoch 36/500\n",
      "404/404 [==============================] - 3s 6ms/step - loss: 0.0434 - mae: 0.1506 - mse: 0.0434 - val_loss: 0.0478 - val_mae: 0.1595 - val_mse: 0.0478\n",
      "Epoch 37/500\n",
      "404/404 [==============================] - 3s 6ms/step - loss: 0.0433 - mae: 0.1505 - mse: 0.0433 - val_loss: 0.0478 - val_mae: 0.1596 - val_mse: 0.0478\n",
      "Epoch 38/500\n",
      "404/404 [==============================] - 3s 6ms/step - loss: 0.0432 - mae: 0.1502 - mse: 0.0432 - val_loss: 0.0476 - val_mae: 0.1594 - val_mse: 0.0476\n",
      "\n",
      "Epoch 00038: ReduceLROnPlateau reducing learning rate to 1.5625000742147677e-05.\n",
      "Epoch 39/500\n",
      "404/404 [==============================] - 3s 6ms/step - loss: 0.0431 - mae: 0.1500 - mse: 0.0431 - val_loss: 0.0477 - val_mae: 0.1592 - val_mse: 0.0477\n",
      "Epoch 40/500\n",
      "404/404 [==============================] - 3s 6ms/step - loss: 0.0434 - mae: 0.1504 - mse: 0.0434 - val_loss: 0.0477 - val_mae: 0.1595 - val_mse: 0.0477\n",
      "Epoch 41/500\n",
      "404/404 [==============================] - 2s 6ms/step - loss: 0.0429 - mae: 0.1499 - mse: 0.0429 - val_loss: 0.0477 - val_mae: 0.1595 - val_mse: 0.0477\n",
      "Epoch 42/500\n",
      "404/404 [==============================] - 3s 6ms/step - loss: 0.0433 - mae: 0.1507 - mse: 0.0433 - val_loss: 0.0482 - val_mae: 0.1600 - val_mse: 0.0482\n",
      "Epoch 43/500\n",
      "404/404 [==============================] - 2s 6ms/step - loss: 0.0433 - mae: 0.1504 - mse: 0.0433 - val_loss: 0.0477 - val_mae: 0.1594 - val_mse: 0.0477\n",
      "\n",
      "Epoch 00043: ReduceLROnPlateau reducing learning rate to 7.812500371073838e-06.\n",
      "Epoch 44/500\n",
      "404/404 [==============================] - 2s 5ms/step - loss: 0.0435 - mae: 0.1506 - mse: 0.0435 - val_loss: 0.0477 - val_mae: 0.1594 - val_mse: 0.0477\n",
      "Epoch 45/500\n",
      "404/404 [==============================] - 2s 6ms/step - loss: 0.0433 - mae: 0.1506 - mse: 0.0433 - val_loss: 0.0479 - val_mae: 0.1594 - val_mse: 0.0479\n",
      "Epoch 46/500\n",
      "404/404 [==============================] - 2s 6ms/step - loss: 0.0431 - mae: 0.1500 - mse: 0.0431 - val_loss: 0.0479 - val_mae: 0.1596 - val_mse: 0.0479\n"
     ]
    },
    {
     "name": "stdout",
     "output_type": "stream",
     "text": [
      "Epoch 47/500\n",
      "404/404 [==============================] - 2s 6ms/step - loss: 0.0436 - mae: 0.1506 - mse: 0.0436 - val_loss: 0.0478 - val_mae: 0.1595 - val_mse: 0.0478\n",
      "Epoch 48/500\n",
      "404/404 [==============================] - 2s 6ms/step - loss: 0.0435 - mae: 0.1506 - mse: 0.0435 - val_loss: 0.0479 - val_mae: 0.1596 - val_mse: 0.0479\n",
      "\n",
      "Epoch 00048: ReduceLROnPlateau reducing learning rate to 3.906250185536919e-06.\n",
      "Epoch 49/500\n",
      "404/404 [==============================] - 2s 6ms/step - loss: 0.0432 - mae: 0.1502 - mse: 0.0432 - val_loss: 0.0478 - val_mae: 0.1594 - val_mse: 0.0478\n",
      "Epoch 50/500\n",
      "404/404 [==============================] - 2s 6ms/step - loss: 0.0432 - mae: 0.1501 - mse: 0.0432 - val_loss: 0.0478 - val_mae: 0.1594 - val_mse: 0.0478\n",
      "Epoch 51/500\n",
      "404/404 [==============================] - 2s 6ms/step - loss: 0.0432 - mae: 0.1503 - mse: 0.0432 - val_loss: 0.0479 - val_mae: 0.1596 - val_mse: 0.0479\n",
      "Epoch 52/500\n",
      "404/404 [==============================] - 2s 6ms/step - loss: 0.0432 - mae: 0.1500 - mse: 0.0432 - val_loss: 0.0478 - val_mae: 0.1596 - val_mse: 0.0478\n",
      "Epoch 53/500\n",
      "404/404 [==============================] - 2s 6ms/step - loss: 0.0432 - mae: 0.1500 - mse: 0.0432 - val_loss: 0.0479 - val_mae: 0.1596 - val_mse: 0.0479\n",
      "Restoring model weights from the end of the best epoch.\n",
      "\n",
      "Epoch 00053: ReduceLROnPlateau reducing learning rate to 1.9531250927684596e-06.\n",
      "Epoch 00053: early stopping\n"
     ]
    }
   ],
   "source": [
    "pre_train = time.time()\n",
    "history3 = model3.fit(X_train,y_train,validation_data=(X_valid,y_valid),\n",
    "                    epochs=500,batch_size = 64,callbacks=[early_stopping3,learning_rate3,checkpoint3])\n",
    "time_training3 = time.time() - pre_train"
   ]
  },
  {
   "cell_type": "code",
   "execution_count": 60,
   "id": "62727352",
   "metadata": {},
   "outputs": [
    {
     "name": "stdout",
     "output_type": "stream",
     "text": [
      "Time training model3: 131.7 (s)\n"
     ]
    }
   ],
   "source": [
    "print('Time training model3: %.1f (s)'%(time_training3))"
   ]
  },
  {
   "cell_type": "code",
   "execution_count": 61,
   "id": "87e5af80",
   "metadata": {},
   "outputs": [
    {
     "data": {
      "image/png": "[encoded data removed]",
      "text/plain": [
       "<Figure size 432x288 with 1 Axes>"
      ]
     },
     "metadata": {
      "needs_background": "light"
     },
     "output_type": "display_data"
    }
   ],
   "source": [
    "plt.plot(history3.history['loss'])\n",
    "plt.plot(history3.history['val_loss'])\n",
    "plt.title('Model3 loss')\n",
    "plt.ylabel('loss')\n",
    "plt.xlabel('Epoch')\n",
    "plt.legend(['Train','Validation'],loc='upper left')\n",
    "plt.show()"
   ]
  },
  {
   "cell_type": "code",
   "execution_count": 62,
   "id": "b7a33118",
   "metadata": {},
   "outputs": [
    {
     "name": "stdout",
     "output_type": "stream",
     "text": [
      "202/202 [==============================] - 0s 2ms/step - loss: 0.0621 - mae: 0.1595 - mse: 0.0621\n"
     ]
    },
    {
     "data": {
      "text/plain": [
       "[0.0620717853307724, 0.15951073169708252, 0.0620717853307724]"
      ]
     },
     "execution_count": 62,
     "metadata": {},
     "output_type": "execute_result"
    }
   ],
   "source": [
    "scores3 = model3.evaluate(X_test,y_test)\n",
    "scores3"
   ]
  },
  {
   "cell_type": "markdown",
   "id": "f22fe7cc",
   "metadata": {},
   "source": [
    "<h3>Nhận xét</h3>\n",
    "<li>Model1 có dấu hiệu overfiting nhưng lại chạy khá tốt trên tập test</li>\n",
    "<li>Model2 trong quá trình training không có dấu hiệu overfiting nhưng trong test có loss khá cao</li>\n",
    "<li>Model3 hoạt động hiệu quả hơn 2 model trên trong cả 3 tập train,valid và test</li>"
   ]
  },
  {
   "cell_type": "markdown",
   "id": "cfde9db1",
   "metadata": {},
   "source": [
    "<h3>Dự đoán giá trị mới</h3>"
   ]
  },
  {
   "cell_type": "code",
   "execution_count": 64,
   "id": "ee9ad941",
   "metadata": {},
   "outputs": [],
   "source": [
    "X_new = new_data.drop(['Price'], axis=1)"
   ]
  },
  {
   "cell_type": "code",
   "execution_count": 65,
   "id": "8a26994b",
   "metadata": {},
   "outputs": [
    {
     "data": {
      "text/plain": [
       "Index(['Rooms', 'Distance', 'Month', 'Year', 'Type_t', 'Type_u', 'Method_PN',\n",
       "       'Method_S', 'Method_SA', 'Method_SN', 'Method_SP', 'Method_SS',\n",
       "       'Method_VB', 'Method_W', 'Regionname_Eastern Victoria',\n",
       "       'Regionname_Northern Metropolitan', 'Regionname_Northern Victoria',\n",
       "       'Regionname_South-Eastern Metropolitan',\n",
       "       'Regionname_Southern Metropolitan', 'Regionname_Western Metropolitan',\n",
       "       'Regionname_Western Victoria', 'CouncilArea_Bayside City Council',\n",
       "       'CouncilArea_Boroondara City Council',\n",
       "       'CouncilArea_Brimbank City Council',\n",
       "       'CouncilArea_Cardinia Shire Council', 'CouncilArea_Casey City Council',\n",
       "       'CouncilArea_Darebin City Council',\n",
       "       'CouncilArea_Frankston City Council',\n",
       "       'CouncilArea_Glen Eira City Council',\n",
       "       'CouncilArea_Greater Dandenong City Council',\n",
       "       'CouncilArea_Hobsons Bay City Council', 'CouncilArea_Hume City Council',\n",
       "       'CouncilArea_Kingston City Council', 'CouncilArea_Knox City Council',\n",
       "       'CouncilArea_Macedon Ranges Shire Council',\n",
       "       'CouncilArea_Manningham City Council',\n",
       "       'CouncilArea_Maribyrnong City Council',\n",
       "       'CouncilArea_Maroondah City Council',\n",
       "       'CouncilArea_Melbourne City Council', 'CouncilArea_Melton City Council',\n",
       "       'CouncilArea_Mitchell Shire Council', 'CouncilArea_Monash City Council',\n",
       "       'CouncilArea_Moonee Valley City Council',\n",
       "       'CouncilArea_Moorabool Shire Council',\n",
       "       'CouncilArea_Moreland City Council',\n",
       "       'CouncilArea_Murrindindi Shire Council',\n",
       "       'CouncilArea_Nillumbik Shire Council',\n",
       "       'CouncilArea_Port Phillip City Council',\n",
       "       'CouncilArea_Stonnington City Council',\n",
       "       'CouncilArea_Whitehorse City Council',\n",
       "       'CouncilArea_Whittlesea City Council',\n",
       "       'CouncilArea_Wyndham City Council', 'CouncilArea_Yarra City Council',\n",
       "       'CouncilArea_Yarra Ranges Shire Council'],\n",
       "      dtype='object')"
      ]
     },
     "execution_count": 65,
     "metadata": {},
     "output_type": "execute_result"
    }
   ],
   "source": [
    "X_new.columns"
   ]
  },
  {
   "cell_type": "code",
   "execution_count": 67,
   "id": "83fc47e0",
   "metadata": {},
   "outputs": [],
   "source": [
    "X_new = s_scaler.transform(X_new)"
   ]
  },
  {
   "cell_type": "code",
   "execution_count": 68,
   "id": "20c965de",
   "metadata": {},
   "outputs": [
    {
     "data": {
      "text/plain": [
       "array([[ 3.24504408,  0.14080163, -1.91480918, ..., -0.16012637,\n",
       "        -0.16785777, -0.06168878],\n",
       "       [ 1.0651055 ,  0.33800492, -1.91480918, ..., -0.16012637,\n",
       "        -0.16785777, -0.06168878],\n",
       "       [ 1.0651055 , -0.35878002, -1.91480918, ..., -0.16012637,\n",
       "        -0.16785777, -0.06168878],\n",
       "       ...,\n",
       "       [ 1.0651055 , -0.33248625, -1.26256512, ..., -0.16012637,\n",
       "        -0.16785777, -0.06168878],\n",
       "       [-0.0248638 ,  0.31171114, -1.26256512, ..., -0.16012637,\n",
       "        -0.16785777, -0.06168878],\n",
       "       [ 1.0651055 ,  0.61408951, -1.26256512, ...,  6.24506738,\n",
       "        -0.16785777, -0.06168878]])"
      ]
     },
     "execution_count": 68,
     "metadata": {},
     "output_type": "execute_result"
    }
   ],
   "source": [
    "X_new"
   ]
  },
  {
   "cell_type": "code",
   "execution_count": 69,
   "id": "15a14434",
   "metadata": {},
   "outputs": [],
   "source": [
    "y_new = model3.predict(X_new)"
   ]
  },
  {
   "cell_type": "code",
   "execution_count": 70,
   "id": "18d681ca",
   "metadata": {},
   "outputs": [
    {
     "data": {
      "text/plain": [
       "array([[0.8510285 ],\n",
       "       [0.7571755 ],\n",
       "       [1.5694507 ],\n",
       "       ...,\n",
       "       [1.3033525 ],\n",
       "       [0.5502228 ],\n",
       "       [0.68509203]], dtype=float32)"
      ]
     },
     "execution_count": 70,
     "metadata": {},
     "output_type": "execute_result"
    }
   ],
   "source": [
    "y_new"
   ]
  },
  {
   "cell_type": "code",
   "execution_count": null,
   "id": "c3c5abf3",
   "metadata": {},
   "outputs": [],
   "source": []
  }
 ],
 "metadata": {
  "kernelspec": {
   "display_name": "Python 3",
   "language": "python",
   "name": "python3"
  },
  "language_info": {
   "codemirror_mode": {
    "name": "ipython",
    "version": 3
   },
   "file_extension": ".py",
   "mimetype": "text/x-python",
   "name": "python",
   "nbconvert_exporter": "python",
   "pygments_lexer": "ipython3",
   "version": "3.8.8"
  }
 },
 "nbformat": 4,
 "nbformat_minor": 5
}
