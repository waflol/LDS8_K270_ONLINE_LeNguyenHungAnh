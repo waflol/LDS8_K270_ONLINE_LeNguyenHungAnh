{
 "cells": [
  {
   "cell_type": "code",
   "execution_count": 11,
   "id": "87a78de7",
   "metadata": {},
   "outputs": [],
   "source": [
    "import tensorflow as tf\n",
    "from tensorflow import keras\n",
    "from tensorflow.keras import Sequential\n",
    "from tensorflow.keras.layers import Dense\n",
    "import numpy as np\n",
    "import pandas as pd\n",
    "import matplotlib.pyplot as plt"
   ]
  },
  {
   "cell_type": "code",
   "execution_count": 2,
   "id": "47304048",
   "metadata": {},
   "outputs": [
    {
     "name": "stdout",
     "output_type": "stream",
     "text": [
      "<class 'pandas.core.frame.DataFrame'>\n",
      "RangeIndex: 3197 entries, 0 to 3196\n",
      "Data columns (total 4 columns):\n",
      " #   Column                Non-Null Count  Dtype  \n",
      "---  ------                --------------  -----  \n",
      " 0   compositeHourlyWages  3197 non-null   float64\n",
      " 1   age                   3197 non-null   int64  \n",
      " 2   yearsEducation        3197 non-null   int64  \n",
      " 3   sex1M0F               3197 non-null   int64  \n",
      "dtypes: float64(1), int64(3)\n",
      "memory usage: 100.0 KB\n"
     ]
    }
   ],
   "source": [
    "df = pd.read_csv(\"all/Income_training.csv\")\n",
    "df.info()"
   ]
  },
  {
   "cell_type": "code",
   "execution_count": 3,
   "id": "ed291ed8",
   "metadata": {},
   "outputs": [
    {
     "data": {
      "text/html": [
       "<div>\n",
       "<style scoped>\n",
       "    .dataframe tbody tr th:only-of-type {\n",
       "        vertical-align: middle;\n",
       "    }\n",
       "\n",
       "    .dataframe tbody tr th {\n",
       "        vertical-align: top;\n",
       "    }\n",
       "\n",
       "    .dataframe thead th {\n",
       "        text-align: right;\n",
       "    }\n",
       "</style>\n",
       "<table border=\"1\" class=\"dataframe\">\n",
       "  <thead>\n",
       "    <tr style=\"text-align: right;\">\n",
       "      <th></th>\n",
       "      <th>compositeHourlyWages</th>\n",
       "      <th>age</th>\n",
       "      <th>yearsEducation</th>\n",
       "      <th>sex1M0F</th>\n",
       "    </tr>\n",
       "  </thead>\n",
       "  <tbody>\n",
       "    <tr>\n",
       "      <th>0</th>\n",
       "      <td>21.38</td>\n",
       "      <td>58</td>\n",
       "      <td>10</td>\n",
       "      <td>1</td>\n",
       "    </tr>\n",
       "    <tr>\n",
       "      <th>1</th>\n",
       "      <td>25.15</td>\n",
       "      <td>42</td>\n",
       "      <td>16</td>\n",
       "      <td>1</td>\n",
       "    </tr>\n",
       "    <tr>\n",
       "      <th>2</th>\n",
       "      <td>8.57</td>\n",
       "      <td>31</td>\n",
       "      <td>12</td>\n",
       "      <td>0</td>\n",
       "    </tr>\n",
       "    <tr>\n",
       "      <th>3</th>\n",
       "      <td>12.07</td>\n",
       "      <td>43</td>\n",
       "      <td>13</td>\n",
       "      <td>0</td>\n",
       "    </tr>\n",
       "    <tr>\n",
       "      <th>4</th>\n",
       "      <td>10.97</td>\n",
       "      <td>46</td>\n",
       "      <td>12</td>\n",
       "      <td>0</td>\n",
       "    </tr>\n",
       "  </tbody>\n",
       "</table>\n",
       "</div>"
      ],
      "text/plain": [
       "   compositeHourlyWages  age  yearsEducation  sex1M0F\n",
       "0                 21.38   58              10        1\n",
       "1                 25.15   42              16        1\n",
       "2                  8.57   31              12        0\n",
       "3                 12.07   43              13        0\n",
       "4                 10.97   46              12        0"
      ]
     },
     "execution_count": 3,
     "metadata": {},
     "output_type": "execute_result"
    }
   ],
   "source": [
    "df.head()"
   ]
  },
  {
   "cell_type": "code",
   "execution_count": 4,
   "id": "999eafbf",
   "metadata": {},
   "outputs": [
    {
     "data": {
      "text/html": [
       "<div>\n",
       "<style scoped>\n",
       "    .dataframe tbody tr th:only-of-type {\n",
       "        vertical-align: middle;\n",
       "    }\n",
       "\n",
       "    .dataframe tbody tr th {\n",
       "        vertical-align: top;\n",
       "    }\n",
       "\n",
       "    .dataframe thead th {\n",
       "        text-align: right;\n",
       "    }\n",
       "</style>\n",
       "<table border=\"1\" class=\"dataframe\">\n",
       "  <thead>\n",
       "    <tr style=\"text-align: right;\">\n",
       "      <th></th>\n",
       "      <th>age</th>\n",
       "      <th>yearsEducation</th>\n",
       "      <th>sex1M0F</th>\n",
       "    </tr>\n",
       "  </thead>\n",
       "  <tbody>\n",
       "    <tr>\n",
       "      <th>0</th>\n",
       "      <td>58</td>\n",
       "      <td>10</td>\n",
       "      <td>1</td>\n",
       "    </tr>\n",
       "    <tr>\n",
       "      <th>1</th>\n",
       "      <td>42</td>\n",
       "      <td>16</td>\n",
       "      <td>1</td>\n",
       "    </tr>\n",
       "    <tr>\n",
       "      <th>2</th>\n",
       "      <td>31</td>\n",
       "      <td>12</td>\n",
       "      <td>0</td>\n",
       "    </tr>\n",
       "    <tr>\n",
       "      <th>3</th>\n",
       "      <td>43</td>\n",
       "      <td>13</td>\n",
       "      <td>0</td>\n",
       "    </tr>\n",
       "    <tr>\n",
       "      <th>4</th>\n",
       "      <td>46</td>\n",
       "      <td>12</td>\n",
       "      <td>0</td>\n",
       "    </tr>\n",
       "  </tbody>\n",
       "</table>\n",
       "</div>"
      ],
      "text/plain": [
       "   age  yearsEducation  sex1M0F\n",
       "0   58              10        1\n",
       "1   42              16        1\n",
       "2   31              12        0\n",
       "3   43              13        0\n",
       "4   46              12        0"
      ]
     },
     "execution_count": 4,
     "metadata": {},
     "output_type": "execute_result"
    }
   ],
   "source": [
    "#create a dataframe with all training data except the target column\n",
    "train_X = df.drop(columns=['compositeHourlyWages'])\n",
    "#check that the target variable has been removed\n",
    "train_X.head()\n"
   ]
  },
  {
   "cell_type": "code",
   "execution_count": 5,
   "id": "1b642aa5",
   "metadata": {},
   "outputs": [
    {
     "data": {
      "text/html": [
       "<div>\n",
       "<style scoped>\n",
       "    .dataframe tbody tr th:only-of-type {\n",
       "        vertical-align: middle;\n",
       "    }\n",
       "\n",
       "    .dataframe tbody tr th {\n",
       "        vertical-align: top;\n",
       "    }\n",
       "\n",
       "    .dataframe thead th {\n",
       "        text-align: right;\n",
       "    }\n",
       "</style>\n",
       "<table border=\"1\" class=\"dataframe\">\n",
       "  <thead>\n",
       "    <tr style=\"text-align: right;\">\n",
       "      <th></th>\n",
       "      <th>compositeHourlyWages</th>\n",
       "    </tr>\n",
       "  </thead>\n",
       "  <tbody>\n",
       "    <tr>\n",
       "      <th>0</th>\n",
       "      <td>21.38</td>\n",
       "    </tr>\n",
       "    <tr>\n",
       "      <th>1</th>\n",
       "      <td>25.15</td>\n",
       "    </tr>\n",
       "    <tr>\n",
       "      <th>2</th>\n",
       "      <td>8.57</td>\n",
       "    </tr>\n",
       "    <tr>\n",
       "      <th>3</th>\n",
       "      <td>12.07</td>\n",
       "    </tr>\n",
       "    <tr>\n",
       "      <th>4</th>\n",
       "      <td>10.97</td>\n",
       "    </tr>\n",
       "  </tbody>\n",
       "</table>\n",
       "</div>"
      ],
      "text/plain": [
       "   compositeHourlyWages\n",
       "0                 21.38\n",
       "1                 25.15\n",
       "2                  8.57\n",
       "3                 12.07\n",
       "4                 10.97"
      ]
     },
     "execution_count": 5,
     "metadata": {},
     "output_type": "execute_result"
    }
   ],
   "source": [
    "#create a dataframe with only the target column\n",
    "train_y = df[['compositeHourlyWages']]\n",
    "#view dataframe\n",
    "train_y.head()\n"
   ]
  },
  {
   "cell_type": "code",
   "execution_count": 6,
   "id": "83fac088",
   "metadata": {},
   "outputs": [
    {
     "name": "stdout",
     "output_type": "stream",
     "text": [
      "3\n"
     ]
    }
   ],
   "source": [
    "#get number of columns in training data\n",
    "n_cols = train_X.shape[1]\n",
    "print(n_cols)\n"
   ]
  },
  {
   "cell_type": "code",
   "execution_count": 7,
   "id": "d4e44423",
   "metadata": {},
   "outputs": [],
   "source": [
    "#create model\n",
    "model = Sequential()\n",
    "#add model layers\n",
    "model.add(Dense(16, activation='relu', input_shape=(n_cols,))) # (3+1)^2\n",
    "model.add(Dense(8, activation='relu'))\n",
    "model.add(Dense(8, activation='relu')) # cải tiến bằng cách thử cho học sâu hơn, \n",
    "model.add(Dense(1))\n"
   ]
  },
  {
   "cell_type": "code",
   "execution_count": 8,
   "id": "984439e2",
   "metadata": {},
   "outputs": [],
   "source": [
    "#compile model using mse as a measure of model performance\n",
    "model.compile(optimizer='adam', loss='mean_squared_error')\n"
   ]
  },
  {
   "cell_type": "code",
   "execution_count": 9,
   "id": "0040bfd2",
   "metadata": {},
   "outputs": [
    {
     "name": "stdout",
     "output_type": "stream",
     "text": [
      "Epoch 1/300\n",
      "80/80 [==============================] - 1s 4ms/step - loss: 276.4043 - val_loss: 209.9545\n",
      "Epoch 2/300\n",
      "80/80 [==============================] - 0s 3ms/step - loss: 125.5437 - val_loss: 49.1092\n",
      "Epoch 3/300\n",
      "80/80 [==============================] - 0s 3ms/step - loss: 47.8065 - val_loss: 42.3751\n",
      "Epoch 4/300\n",
      "80/80 [==============================] - 0s 3ms/step - loss: 46.4846 - val_loss: 41.8133\n",
      "Epoch 5/300\n",
      "80/80 [==============================] - 0s 3ms/step - loss: 45.6811 - val_loss: 41.5530\n",
      "Epoch 6/300\n",
      "80/80 [==============================] - 0s 3ms/step - loss: 45.4019 - val_loss: 41.0349\n",
      "Epoch 7/300\n",
      "80/80 [==============================] - 0s 3ms/step - loss: 45.0117 - val_loss: 40.6444\n",
      "Epoch 8/300\n",
      "80/80 [==============================] - 0s 3ms/step - loss: 44.4927 - val_loss: 40.4724\n",
      "Epoch 9/300\n",
      "80/80 [==============================] - 0s 3ms/step - loss: 44.2562 - val_loss: 40.1562\n",
      "Epoch 10/300\n",
      "80/80 [==============================] - 0s 3ms/step - loss: 43.8708 - val_loss: 40.0295\n",
      "Epoch 11/300\n",
      "80/80 [==============================] - 0s 3ms/step - loss: 43.5830 - val_loss: 39.6537\n",
      "Epoch 12/300\n",
      "80/80 [==============================] - 0s 3ms/step - loss: 43.3859 - val_loss: 39.5497\n",
      "Epoch 13/300\n",
      "80/80 [==============================] - 0s 3ms/step - loss: 43.0897 - val_loss: 39.4173\n",
      "Epoch 14/300\n",
      "80/80 [==============================] - 0s 3ms/step - loss: 42.8523 - val_loss: 39.1302\n",
      "Epoch 15/300\n",
      "80/80 [==============================] - 0s 3ms/step - loss: 42.6522 - val_loss: 38.9285\n",
      "Epoch 16/300\n",
      "80/80 [==============================] - 0s 3ms/step - loss: 42.4088 - val_loss: 38.7697\n",
      "Epoch 17/300\n",
      "80/80 [==============================] - 0s 3ms/step - loss: 42.3448 - val_loss: 38.7854\n",
      "Epoch 18/300\n",
      "80/80 [==============================] - 0s 3ms/step - loss: 42.0762 - val_loss: 38.7244\n",
      "Epoch 19/300\n",
      "80/80 [==============================] - 0s 3ms/step - loss: 42.3352 - val_loss: 38.3884\n",
      "Epoch 20/300\n",
      "80/80 [==============================] - 0s 3ms/step - loss: 42.0076 - val_loss: 38.3975\n",
      "Epoch 21/300\n",
      "80/80 [==============================] - 0s 3ms/step - loss: 41.9040 - val_loss: 38.2296\n",
      "Epoch 22/300\n",
      "80/80 [==============================] - 0s 3ms/step - loss: 41.8158 - val_loss: 38.1099\n",
      "Epoch 23/300\n",
      "80/80 [==============================] - 0s 3ms/step - loss: 41.6284 - val_loss: 37.9598\n",
      "Epoch 24/300\n",
      "80/80 [==============================] - 0s 3ms/step - loss: 41.6072 - val_loss: 37.8678\n",
      "Epoch 25/300\n",
      "80/80 [==============================] - 0s 3ms/step - loss: 41.5871 - val_loss: 37.7391\n",
      "Epoch 26/300\n",
      "80/80 [==============================] - 0s 3ms/step - loss: 41.5103 - val_loss: 37.8634\n",
      "Epoch 27/300\n",
      "80/80 [==============================] - 0s 3ms/step - loss: 41.3542 - val_loss: 37.6772\n",
      "Epoch 28/300\n",
      "80/80 [==============================] - 0s 3ms/step - loss: 41.3677 - val_loss: 37.7607\n",
      "Epoch 29/300\n",
      "80/80 [==============================] - 0s 3ms/step - loss: 41.1814 - val_loss: 37.9387\n",
      "Epoch 30/300\n",
      "80/80 [==============================] - 0s 3ms/step - loss: 41.1243 - val_loss: 37.4713\n",
      "Epoch 31/300\n",
      "80/80 [==============================] - 0s 3ms/step - loss: 41.0199 - val_loss: 37.1881\n",
      "Epoch 32/300\n",
      "80/80 [==============================] - 0s 3ms/step - loss: 40.9479 - val_loss: 37.3951\n",
      "Epoch 33/300\n",
      "80/80 [==============================] - 0s 3ms/step - loss: 40.9887 - val_loss: 37.1193\n",
      "Epoch 34/300\n",
      "80/80 [==============================] - 0s 3ms/step - loss: 40.7311 - val_loss: 37.2754\n",
      "Epoch 35/300\n",
      "80/80 [==============================] - 0s 3ms/step - loss: 40.6779 - val_loss: 36.9052\n",
      "Epoch 36/300\n",
      "80/80 [==============================] - 0s 3ms/step - loss: 40.8373 - val_loss: 36.7662\n",
      "Epoch 37/300\n",
      "80/80 [==============================] - 0s 3ms/step - loss: 40.7339 - val_loss: 36.8503\n",
      "Epoch 38/300\n",
      "80/80 [==============================] - 0s 3ms/step - loss: 40.5946 - val_loss: 37.0423\n",
      "Epoch 39/300\n",
      "80/80 [==============================] - 0s 3ms/step - loss: 40.7464 - val_loss: 36.5048\n",
      "Epoch 40/300\n",
      "80/80 [==============================] - 0s 3ms/step - loss: 40.4127 - val_loss: 36.7363\n",
      "Epoch 41/300\n",
      "80/80 [==============================] - 0s 3ms/step - loss: 40.2682 - val_loss: 36.5493\n",
      "Epoch 42/300\n",
      "80/80 [==============================] - 0s 3ms/step - loss: 40.5146 - val_loss: 36.3642\n",
      "Epoch 43/300\n",
      "80/80 [==============================] - 0s 3ms/step - loss: 40.3305 - val_loss: 36.3044\n",
      "Epoch 44/300\n",
      "80/80 [==============================] - 0s 3ms/step - loss: 40.3973 - val_loss: 36.4692\n",
      "Epoch 45/300\n",
      "80/80 [==============================] - 0s 3ms/step - loss: 40.3276 - val_loss: 36.3483\n",
      "Epoch 46/300\n",
      "80/80 [==============================] - 0s 3ms/step - loss: 40.2444 - val_loss: 36.2912\n",
      "Epoch 47/300\n",
      "80/80 [==============================] - 0s 3ms/step - loss: 40.2136 - val_loss: 36.4890\n",
      "Epoch 48/300\n",
      "80/80 [==============================] - 0s 3ms/step - loss: 40.2278 - val_loss: 36.2472\n",
      "Epoch 49/300\n",
      "80/80 [==============================] - 0s 3ms/step - loss: 40.3140 - val_loss: 36.1384\n",
      "Epoch 50/300\n",
      "80/80 [==============================] - 0s 3ms/step - loss: 40.0222 - val_loss: 36.1070\n",
      "Epoch 51/300\n",
      "80/80 [==============================] - 0s 3ms/step - loss: 40.0917 - val_loss: 36.0597\n",
      "Epoch 52/300\n",
      "80/80 [==============================] - 0s 3ms/step - loss: 40.2343 - val_loss: 36.0272\n",
      "Epoch 53/300\n",
      "80/80 [==============================] - 0s 3ms/step - loss: 40.0352 - val_loss: 35.9378\n",
      "Epoch 54/300\n",
      "80/80 [==============================] - 0s 3ms/step - loss: 40.0138 - val_loss: 36.0150\n",
      "Epoch 55/300\n",
      "80/80 [==============================] - 0s 3ms/step - loss: 39.9501 - val_loss: 36.3174\n",
      "Epoch 56/300\n",
      "80/80 [==============================] - 0s 3ms/step - loss: 40.0256 - val_loss: 36.0078\n",
      "Epoch 57/300\n",
      "80/80 [==============================] - 0s 3ms/step - loss: 40.1952 - val_loss: 35.9299\n",
      "Epoch 58/300\n",
      "80/80 [==============================] - 0s 3ms/step - loss: 40.0960 - val_loss: 35.9659\n",
      "Epoch 59/300\n",
      "80/80 [==============================] - 0s 3ms/step - loss: 39.8728 - val_loss: 35.7202\n",
      "Epoch 60/300\n",
      "80/80 [==============================] - 0s 3ms/step - loss: 39.9849 - val_loss: 36.0376\n",
      "Epoch 61/300\n",
      "80/80 [==============================] - 0s 3ms/step - loss: 39.9822 - val_loss: 35.7161\n",
      "Epoch 62/300\n",
      "80/80 [==============================] - 0s 3ms/step - loss: 40.0934 - val_loss: 35.8785\n",
      "Epoch 63/300\n",
      "80/80 [==============================] - 0s 3ms/step - loss: 39.8523 - val_loss: 35.7681\n",
      "Epoch 64/300\n",
      "80/80 [==============================] - 0s 3ms/step - loss: 39.9616 - val_loss: 35.7922\n",
      "Epoch 65/300\n",
      "80/80 [==============================] - 0s 3ms/step - loss: 39.8457 - val_loss: 35.8275\n",
      "Epoch 66/300\n",
      "80/80 [==============================] - 0s 3ms/step - loss: 40.1240 - val_loss: 35.6432\n",
      "Epoch 67/300\n",
      "80/80 [==============================] - 0s 3ms/step - loss: 39.8868 - val_loss: 35.8496\n",
      "Epoch 68/300\n",
      "80/80 [==============================] - 0s 3ms/step - loss: 39.6692 - val_loss: 36.0425\n",
      "Epoch 69/300\n",
      "80/80 [==============================] - 0s 3ms/step - loss: 39.9402 - val_loss: 36.1328\n",
      "Epoch 70/300\n",
      "80/80 [==============================] - 0s 3ms/step - loss: 39.8355 - val_loss: 35.6454\n",
      "Epoch 71/300\n",
      "80/80 [==============================] - 0s 3ms/step - loss: 39.7444 - val_loss: 35.6826\n",
      "Epoch 72/300\n",
      "80/80 [==============================] - 0s 3ms/step - loss: 39.6906 - val_loss: 35.5643\n",
      "Epoch 73/300\n",
      "80/80 [==============================] - 0s 3ms/step - loss: 39.7004 - val_loss: 35.6658\n",
      "Epoch 74/300\n",
      "80/80 [==============================] - 0s 3ms/step - loss: 39.7401 - val_loss: 35.9048\n",
      "Epoch 75/300\n",
      "80/80 [==============================] - 0s 3ms/step - loss: 39.6543 - val_loss: 35.6331\n",
      "Epoch 76/300\n",
      "80/80 [==============================] - 0s 3ms/step - loss: 39.7294 - val_loss: 35.5993\n",
      "Epoch 77/300\n",
      "80/80 [==============================] - 0s 3ms/step - loss: 39.7741 - val_loss: 35.7745\n",
      "Epoch 78/300\n",
      "80/80 [==============================] - 0s 3ms/step - loss: 39.6575 - val_loss: 35.5643\n",
      "Epoch 79/300\n",
      "80/80 [==============================] - 0s 3ms/step - loss: 39.8236 - val_loss: 35.7493\n",
      "Epoch 80/300\n",
      "80/80 [==============================] - 0s 3ms/step - loss: 39.8374 - val_loss: 35.6032\n",
      "Epoch 81/300\n"
     ]
    },
    {
     "name": "stdout",
     "output_type": "stream",
     "text": [
      "80/80 [==============================] - 0s 3ms/step - loss: 39.6950 - val_loss: 35.7802\n",
      "Epoch 82/300\n",
      "80/80 [==============================] - 0s 3ms/step - loss: 39.6548 - val_loss: 35.7790\n",
      "Epoch 83/300\n",
      "80/80 [==============================] - 0s 3ms/step - loss: 39.7475 - val_loss: 35.6570\n",
      "Epoch 84/300\n",
      "80/80 [==============================] - 0s 3ms/step - loss: 39.5889 - val_loss: 36.1409\n",
      "Epoch 85/300\n",
      "80/80 [==============================] - 0s 3ms/step - loss: 39.9999 - val_loss: 35.9251\n",
      "Epoch 86/300\n",
      "80/80 [==============================] - 0s 3ms/step - loss: 39.8180 - val_loss: 35.5869\n",
      "Epoch 87/300\n",
      "80/80 [==============================] - 0s 3ms/step - loss: 39.7816 - val_loss: 35.5522\n",
      "Epoch 88/300\n",
      "80/80 [==============================] - 0s 3ms/step - loss: 39.8483 - val_loss: 35.9493\n",
      "Epoch 89/300\n",
      "80/80 [==============================] - 0s 3ms/step - loss: 39.6107 - val_loss: 35.7183\n",
      "Epoch 90/300\n",
      "80/80 [==============================] - 0s 3ms/step - loss: 39.5835 - val_loss: 35.4643\n",
      "Epoch 91/300\n",
      "80/80 [==============================] - 0s 3ms/step - loss: 39.5349 - val_loss: 35.6837\n",
      "Epoch 92/300\n",
      "80/80 [==============================] - 0s 3ms/step - loss: 39.3870 - val_loss: 35.5097\n",
      "Epoch 93/300\n",
      "80/80 [==============================] - 0s 3ms/step - loss: 39.7519 - val_loss: 35.6491\n",
      "Epoch 94/300\n",
      "80/80 [==============================] - 0s 3ms/step - loss: 39.6254 - val_loss: 35.5610\n",
      "Epoch 95/300\n",
      "80/80 [==============================] - 0s 3ms/step - loss: 39.6958 - val_loss: 35.5790\n",
      "Epoch 96/300\n",
      "80/80 [==============================] - 0s 3ms/step - loss: 39.5675 - val_loss: 36.3684\n",
      "Epoch 97/300\n",
      "80/80 [==============================] - 0s 3ms/step - loss: 39.6342 - val_loss: 35.9575\n",
      "Epoch 98/300\n",
      "80/80 [==============================] - 0s 3ms/step - loss: 39.5333 - val_loss: 36.0087\n",
      "Epoch 99/300\n",
      "80/80 [==============================] - 0s 3ms/step - loss: 39.4245 - val_loss: 35.8881\n",
      "Epoch 100/300\n",
      "80/80 [==============================] - 0s 3ms/step - loss: 39.7027 - val_loss: 35.7240\n"
     ]
    }
   ],
   "source": [
    "from tensorflow.keras.callbacks import EarlyStopping\n",
    "#set early stopping monitor so the model stops training when it won't improve any\n",
    "early_stopping_monitor = EarlyStopping(patience=10)\n",
    "#train model\n",
    "history = model.fit(train_X, train_y, epochs=300, \n",
    "                    batch_size=32, validation_split=0.2, \n",
    "                    callbacks=[early_stopping_monitor])\n"
   ]
  },
  {
   "cell_type": "code",
   "execution_count": 12,
   "id": "b648b815",
   "metadata": {},
   "outputs": [
    {
     "name": "stdout",
     "output_type": "stream",
     "text": [
      "dict_keys(['loss', 'val_loss'])\n"
     ]
    },
    {
     "data": {
      "image/png": "[encoded data removed]",
      "text/plain": [
       "<Figure size 432x288 with 1 Axes>"
      ]
     },
     "metadata": {
      "needs_background": "light"
     },
     "output_type": "display_data"
    }
   ],
   "source": [
    "print(history.history.keys())\n",
    "# \"Loss\"\n",
    "plt.plot(history.history['loss'])\n",
    "plt.plot(history.history['val_loss'])\n",
    "plt.title('model loss')\n",
    "plt.ylabel('loss')\n",
    "plt.xlabel('epoch')\n",
    "plt.legend(['train', 'validation'], loc='upper left')\n",
    "plt.show()"
   ]
  },
  {
   "cell_type": "code",
   "execution_count": 13,
   "id": "6686b255",
   "metadata": {},
   "outputs": [
    {
     "name": "stdout",
     "output_type": "stream",
     "text": [
      "100/100 [==============================] - 0s 1ms/step - loss: 38.6354\n",
      "38.63536071777344\n"
     ]
    }
   ],
   "source": [
    "# evaluate the model\n",
    "scores = model.evaluate(train_X, train_y)\n",
    "print(scores)"
   ]
  },
  {
   "cell_type": "code",
   "execution_count": 14,
   "id": "c509cabe",
   "metadata": {},
   "outputs": [
    {
     "name": "stdout",
     "output_type": "stream",
     "text": [
      "<class 'pandas.core.frame.DataFrame'>\n",
      "RangeIndex: 800 entries, 0 to 799\n",
      "Data columns (total 4 columns):\n",
      " #   Column          Non-Null Count  Dtype\n",
      "---  ------          --------------  -----\n",
      " 0   ID              800 non-null    int64\n",
      " 1   age             800 non-null    int64\n",
      " 2   yearsEducation  800 non-null    int64\n",
      " 3   sex1M0F         800 non-null    int64\n",
      "dtypes: int64(4)\n",
      "memory usage: 25.1 KB\n"
     ]
    }
   ],
   "source": [
    "# Making predict on new data\n",
    "df_test = pd.read_csv(\"all/Income_testing.csv\")\n",
    "df_test.info()\n"
   ]
  },
  {
   "cell_type": "code",
   "execution_count": 15,
   "id": "7a5ff9a2",
   "metadata": {},
   "outputs": [
    {
     "data": {
      "text/html": [
       "<div>\n",
       "<style scoped>\n",
       "    .dataframe tbody tr th:only-of-type {\n",
       "        vertical-align: middle;\n",
       "    }\n",
       "\n",
       "    .dataframe tbody tr th {\n",
       "        vertical-align: top;\n",
       "    }\n",
       "\n",
       "    .dataframe thead th {\n",
       "        text-align: right;\n",
       "    }\n",
       "</style>\n",
       "<table border=\"1\" class=\"dataframe\">\n",
       "  <thead>\n",
       "    <tr style=\"text-align: right;\">\n",
       "      <th></th>\n",
       "      <th>ID</th>\n",
       "      <th>age</th>\n",
       "      <th>yearsEducation</th>\n",
       "      <th>sex1M0F</th>\n",
       "    </tr>\n",
       "  </thead>\n",
       "  <tbody>\n",
       "    <tr>\n",
       "      <th>0</th>\n",
       "      <td>1</td>\n",
       "      <td>36</td>\n",
       "      <td>20</td>\n",
       "      <td>0</td>\n",
       "    </tr>\n",
       "    <tr>\n",
       "      <th>1</th>\n",
       "      <td>2</td>\n",
       "      <td>38</td>\n",
       "      <td>17</td>\n",
       "      <td>0</td>\n",
       "    </tr>\n",
       "    <tr>\n",
       "      <th>2</th>\n",
       "      <td>3</td>\n",
       "      <td>24</td>\n",
       "      <td>10</td>\n",
       "      <td>0</td>\n",
       "    </tr>\n",
       "    <tr>\n",
       "      <th>3</th>\n",
       "      <td>4</td>\n",
       "      <td>39</td>\n",
       "      <td>12</td>\n",
       "      <td>1</td>\n",
       "    </tr>\n",
       "    <tr>\n",
       "      <th>4</th>\n",
       "      <td>5</td>\n",
       "      <td>50</td>\n",
       "      <td>12</td>\n",
       "      <td>0</td>\n",
       "    </tr>\n",
       "  </tbody>\n",
       "</table>\n",
       "</div>"
      ],
      "text/plain": [
       "   ID  age  yearsEducation  sex1M0F\n",
       "0   1   36              20        0\n",
       "1   2   38              17        0\n",
       "2   3   24              10        0\n",
       "3   4   39              12        1\n",
       "4   5   50              12        0"
      ]
     },
     "execution_count": 15,
     "metadata": {},
     "output_type": "execute_result"
    }
   ],
   "source": [
    "df_test.head()"
   ]
  },
  {
   "cell_type": "code",
   "execution_count": 16,
   "id": "7207fe3c",
   "metadata": {},
   "outputs": [],
   "source": [
    "test_X = df_test.drop(columns=[\"ID\"])\n"
   ]
  },
  {
   "cell_type": "code",
   "execution_count": 17,
   "id": "1d801ce6",
   "metadata": {},
   "outputs": [],
   "source": [
    "test_y_predictions = model.predict(test_X)"
   ]
  },
  {
   "cell_type": "code",
   "execution_count": 18,
   "id": "d9a1a741",
   "metadata": {},
   "outputs": [
    {
     "data": {
      "text/plain": [
       "array([[20.745283 ],\n",
       "       [19.198248 ],\n",
       "       [10.535824 ],\n",
       "       [18.107248 ],\n",
       "       [13.5775795],\n",
       "       [18.604898 ],\n",
       "       [18.202951 ],\n",
       "       [19.402927 ],\n",
       "       [13.18818  ],\n",
       "       [13.684984 ]], dtype=float32)"
      ]
     },
     "execution_count": 18,
     "metadata": {},
     "output_type": "execute_result"
    }
   ],
   "source": [
    "test_y_predictions[:10]"
   ]
  },
  {
   "cell_type": "code",
   "execution_count": null,
   "id": "39b1c8e2",
   "metadata": {},
   "outputs": [],
   "source": []
  }
 ],
 "metadata": {
  "kernelspec": {
   "display_name": "Python 3",
   "language": "python",
   "name": "python3"
  },
  "language_info": {
   "codemirror_mode": {
    "name": "ipython",
    "version": 3
   },
   "file_extension": ".py",
   "mimetype": "text/x-python",
   "name": "python",
   "nbconvert_exporter": "python",
   "pygments_lexer": "ipython3",
   "version": "3.8.8"
  }
 },
 "nbformat": 4,
 "nbformat_minor": 5
}
