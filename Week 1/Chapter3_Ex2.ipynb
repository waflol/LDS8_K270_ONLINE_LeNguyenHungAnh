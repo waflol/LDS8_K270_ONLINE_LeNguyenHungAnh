{
 "cells": [
  {
   "cell_type": "code",
   "execution_count": 9,
   "id": "9206c351",
   "metadata": {},
   "outputs": [],
   "source": [
    "import tensorflow as tf\n",
    "from tensorflow import keras\n",
    "from tensorflow.keras import Sequential\n",
    "from tensorflow.keras.layers import Dense\n",
    "import numpy\n",
    "import matplotlib.pyplot as plt"
   ]
  },
  {
   "cell_type": "code",
   "execution_count": 2,
   "id": "1833d292",
   "metadata": {},
   "outputs": [
    {
     "data": {
      "text/plain": [
       "array([  5.   , 116.   ,  74.   ,   0.   ,   0.   ,  25.6  ,   0.201,\n",
       "        30.   ,   0.   ])"
      ]
     },
     "execution_count": 2,
     "metadata": {},
     "output_type": "execute_result"
    }
   ],
   "source": [
    "numpy.random.seed(7)\n",
    "# load pima indians dataset\n",
    "dataset = numpy.loadtxt(\"pima-indians-diabetes.csv\", delimiter=\",\")\n",
    "dataset[5]"
   ]
  },
  {
   "cell_type": "code",
   "execution_count": 3,
   "id": "a56074dc",
   "metadata": {},
   "outputs": [
    {
     "data": {
      "text/plain": [
       "6912"
      ]
     },
     "execution_count": 3,
     "metadata": {},
     "output_type": "execute_result"
    }
   ],
   "source": [
    "dataset.size"
   ]
  },
  {
   "cell_type": "code",
   "execution_count": 4,
   "id": "2410fdc9",
   "metadata": {},
   "outputs": [],
   "source": [
    "# split into input (X) and output (Y) variables\n",
    "X = dataset[:,0:8]\n",
    "Y = dataset[:,8]"
   ]
  },
  {
   "cell_type": "code",
   "execution_count": 5,
   "id": "06e15ca5",
   "metadata": {},
   "outputs": [],
   "source": [
    "# create model\n",
    "model = Sequential()\n",
    "model.add(Dense(12, input_dim=8, activation='relu'))\n",
    "model.add(Dense(8, activation='relu'))\n",
    "model.add(Dense(1, activation='sigmoid'))"
   ]
  },
  {
   "cell_type": "code",
   "execution_count": 6,
   "id": "a3b5b765",
   "metadata": {},
   "outputs": [],
   "source": [
    "# Compile model\n",
    "model.compile(loss='binary_crossentropy', optimizer='adam', metrics=['accuracy'])"
   ]
  },
  {
   "cell_type": "code",
   "execution_count": 7,
   "id": "0f7f5155",
   "metadata": {},
   "outputs": [
    {
     "name": "stdout",
     "output_type": "stream",
     "text": [
      "Epoch 1/200\n",
      "17/17 [==============================] - 1s 11ms/step - loss: 9.0234 - accuracy: 0.3520 - val_loss: 5.3565 - val_accuracy: 0.3377\n",
      "Epoch 2/200\n",
      "17/17 [==============================] - 0s 5ms/step - loss: 3.3598 - accuracy: 0.3426 - val_loss: 1.4420 - val_accuracy: 0.3593\n",
      "Epoch 3/200\n",
      "17/17 [==============================] - 0s 5ms/step - loss: 1.3981 - accuracy: 0.4413 - val_loss: 1.2551 - val_accuracy: 0.5455\n",
      "Epoch 4/200\n",
      "17/17 [==============================] - 0s 4ms/step - loss: 1.2156 - accuracy: 0.4525 - val_loss: 1.0627 - val_accuracy: 0.4459\n",
      "Epoch 5/200\n",
      "17/17 [==============================] - 0s 4ms/step - loss: 1.0946 - accuracy: 0.3855 - val_loss: 1.0117 - val_accuracy: 0.4286\n",
      "Epoch 6/200\n",
      "17/17 [==============================] - 0s 4ms/step - loss: 1.0265 - accuracy: 0.4097 - val_loss: 0.9599 - val_accuracy: 0.4675\n",
      "Epoch 7/200\n",
      "17/17 [==============================] - 0s 4ms/step - loss: 0.9795 - accuracy: 0.4469 - val_loss: 0.9275 - val_accuracy: 0.4675\n",
      "Epoch 8/200\n",
      "17/17 [==============================] - 0s 4ms/step - loss: 0.9336 - accuracy: 0.4302 - val_loss: 0.8983 - val_accuracy: 0.4805\n",
      "Epoch 9/200\n",
      "17/17 [==============================] - 0s 4ms/step - loss: 0.9023 - accuracy: 0.4581 - val_loss: 0.8729 - val_accuracy: 0.4762\n",
      "Epoch 10/200\n",
      "17/17 [==============================] - 0s 4ms/step - loss: 0.8729 - accuracy: 0.4544 - val_loss: 0.8511 - val_accuracy: 0.4892\n",
      "Epoch 11/200\n",
      "17/17 [==============================] - 0s 5ms/step - loss: 0.8479 - accuracy: 0.4749 - val_loss: 0.8328 - val_accuracy: 0.5195\n",
      "Epoch 12/200\n",
      "17/17 [==============================] - 0s 4ms/step - loss: 0.8240 - accuracy: 0.5251 - val_loss: 0.8216 - val_accuracy: 0.4459\n",
      "Epoch 13/200\n",
      "17/17 [==============================] - 0s 5ms/step - loss: 0.8041 - accuracy: 0.4749 - val_loss: 0.7980 - val_accuracy: 0.5238\n",
      "Epoch 14/200\n",
      "17/17 [==============================] - 0s 5ms/step - loss: 0.7856 - accuracy: 0.5568 - val_loss: 0.7943 - val_accuracy: 0.4372\n",
      "Epoch 15/200\n",
      "17/17 [==============================] - 0s 5ms/step - loss: 0.7704 - accuracy: 0.4972 - val_loss: 0.7710 - val_accuracy: 0.5628\n",
      "Epoch 16/200\n",
      "17/17 [==============================] - 0s 5ms/step - loss: 0.7569 - accuracy: 0.5251 - val_loss: 0.7561 - val_accuracy: 0.5325\n",
      "Epoch 17/200\n",
      "17/17 [==============================] - 0s 5ms/step - loss: 0.7396 - accuracy: 0.5959 - val_loss: 0.7495 - val_accuracy: 0.5108\n",
      "Epoch 18/200\n",
      "17/17 [==============================] - 0s 5ms/step - loss: 0.7293 - accuracy: 0.5568 - val_loss: 0.7408 - val_accuracy: 0.6017\n",
      "Epoch 19/200\n",
      "17/17 [==============================] - 0s 4ms/step - loss: 0.7156 - accuracy: 0.5624 - val_loss: 0.7222 - val_accuracy: 0.5758\n",
      "Epoch 20/200\n",
      "17/17 [==============================] - 0s 4ms/step - loss: 0.7001 - accuracy: 0.6425 - val_loss: 0.7180 - val_accuracy: 0.5325\n",
      "Epoch 21/200\n",
      "17/17 [==============================] - 0s 4ms/step - loss: 0.6844 - accuracy: 0.6294 - val_loss: 0.7033 - val_accuracy: 0.5887\n",
      "Epoch 22/200\n",
      "17/17 [==============================] - 0s 4ms/step - loss: 0.6715 - accuracy: 0.6406 - val_loss: 0.6961 - val_accuracy: 0.6017\n",
      "Epoch 23/200\n",
      "17/17 [==============================] - 0s 4ms/step - loss: 0.6670 - accuracy: 0.6443 - val_loss: 0.6897 - val_accuracy: 0.6017\n",
      "Epoch 24/200\n",
      "17/17 [==============================] - 0s 4ms/step - loss: 0.6661 - accuracy: 0.6406 - val_loss: 0.6873 - val_accuracy: 0.6537\n",
      "Epoch 25/200\n",
      "17/17 [==============================] - 0s 5ms/step - loss: 0.6551 - accuracy: 0.6555 - val_loss: 0.6893 - val_accuracy: 0.5801\n",
      "Epoch 26/200\n",
      "17/17 [==============================] - 0s 5ms/step - loss: 0.6565 - accuracy: 0.6331 - val_loss: 0.6704 - val_accuracy: 0.6537\n",
      "Epoch 27/200\n",
      "17/17 [==============================] - 0s 5ms/step - loss: 0.6431 - accuracy: 0.6667 - val_loss: 0.6659 - val_accuracy: 0.6667\n",
      "Epoch 28/200\n",
      "17/17 [==============================] - 0s 4ms/step - loss: 0.6387 - accuracy: 0.6648 - val_loss: 0.6644 - val_accuracy: 0.6494\n",
      "Epoch 29/200\n",
      "17/17 [==============================] - 0s 5ms/step - loss: 0.6511 - accuracy: 0.6518 - val_loss: 0.6679 - val_accuracy: 0.6364\n",
      "Epoch 30/200\n",
      "17/17 [==============================] - 0s 5ms/step - loss: 0.6379 - accuracy: 0.6648 - val_loss: 0.6562 - val_accuracy: 0.6537\n",
      "Epoch 31/200\n",
      "17/17 [==============================] - 0s 5ms/step - loss: 0.6304 - accuracy: 0.6853 - val_loss: 0.6553 - val_accuracy: 0.6450\n",
      "Epoch 32/200\n",
      "17/17 [==============================] - 0s 4ms/step - loss: 0.6304 - accuracy: 0.6629 - val_loss: 0.6567 - val_accuracy: 0.6320\n",
      "Epoch 33/200\n",
      "17/17 [==============================] - 0s 4ms/step - loss: 0.6313 - accuracy: 0.6480 - val_loss: 0.6567 - val_accuracy: 0.6234\n",
      "Epoch 34/200\n",
      "17/17 [==============================] - 0s 5ms/step - loss: 0.6310 - accuracy: 0.6648 - val_loss: 0.6493 - val_accuracy: 0.6364\n",
      "Epoch 35/200\n",
      "17/17 [==============================] - 0s 4ms/step - loss: 0.6297 - accuracy: 0.6723 - val_loss: 0.6464 - val_accuracy: 0.6623\n",
      "Epoch 36/200\n",
      "17/17 [==============================] - 0s 4ms/step - loss: 0.6212 - accuracy: 0.6890 - val_loss: 0.6534 - val_accuracy: 0.6494\n",
      "Epoch 37/200\n",
      "17/17 [==============================] - 0s 4ms/step - loss: 0.6150 - accuracy: 0.6685 - val_loss: 0.6408 - val_accuracy: 0.6494\n",
      "Epoch 38/200\n",
      "17/17 [==============================] - 0s 4ms/step - loss: 0.6197 - accuracy: 0.6834 - val_loss: 0.6377 - val_accuracy: 0.6580\n",
      "Epoch 39/200\n",
      "17/17 [==============================] - 0s 4ms/step - loss: 0.6091 - accuracy: 0.7020 - val_loss: 0.6374 - val_accuracy: 0.6580\n",
      "Epoch 40/200\n",
      "17/17 [==============================] - 0s 5ms/step - loss: 0.6082 - accuracy: 0.6853 - val_loss: 0.6330 - val_accuracy: 0.6580\n",
      "Epoch 41/200\n",
      "17/17 [==============================] - 0s 4ms/step - loss: 0.6062 - accuracy: 0.6853 - val_loss: 0.6355 - val_accuracy: 0.6450\n",
      "Epoch 42/200\n",
      "17/17 [==============================] - 0s 4ms/step - loss: 0.6053 - accuracy: 0.6778 - val_loss: 0.6291 - val_accuracy: 0.6667\n",
      "Epoch 43/200\n",
      "17/17 [==============================] - 0s 5ms/step - loss: 0.6070 - accuracy: 0.6853 - val_loss: 0.6494 - val_accuracy: 0.6494\n",
      "Epoch 44/200\n",
      "17/17 [==============================] - 0s 5ms/step - loss: 0.6035 - accuracy: 0.6872 - val_loss: 0.6294 - val_accuracy: 0.6580\n",
      "Epoch 45/200\n",
      "17/17 [==============================] - 0s 5ms/step - loss: 0.6116 - accuracy: 0.6778 - val_loss: 0.6409 - val_accuracy: 0.6364\n",
      "Epoch 46/200\n",
      "17/17 [==============================] - 0s 5ms/step - loss: 0.6031 - accuracy: 0.6983 - val_loss: 0.6351 - val_accuracy: 0.6623\n",
      "Epoch 47/200\n",
      "17/17 [==============================] - 0s 5ms/step - loss: 0.6013 - accuracy: 0.6927 - val_loss: 0.6239 - val_accuracy: 0.6537\n",
      "Epoch 48/200\n",
      "17/17 [==============================] - 0s 4ms/step - loss: 0.5999 - accuracy: 0.6797 - val_loss: 0.6334 - val_accuracy: 0.6580\n",
      "Epoch 49/200\n",
      "17/17 [==============================] - 0s 4ms/step - loss: 0.5915 - accuracy: 0.7002 - val_loss: 0.6216 - val_accuracy: 0.6753\n",
      "Epoch 50/200\n",
      "17/17 [==============================] - 0s 5ms/step - loss: 0.5935 - accuracy: 0.6816 - val_loss: 0.6183 - val_accuracy: 0.6710\n",
      "Epoch 51/200\n",
      "17/17 [==============================] - 0s 5ms/step - loss: 0.5924 - accuracy: 0.6983 - val_loss: 0.6170 - val_accuracy: 0.6710\n",
      "Epoch 52/200\n",
      "17/17 [==============================] - 0s 5ms/step - loss: 0.5883 - accuracy: 0.7076 - val_loss: 0.6158 - val_accuracy: 0.6753\n",
      "Epoch 53/200\n",
      "17/17 [==============================] - 0s 5ms/step - loss: 0.5913 - accuracy: 0.6909 - val_loss: 0.6132 - val_accuracy: 0.6623\n",
      "Epoch 54/200\n",
      "17/17 [==============================] - 0s 5ms/step - loss: 0.5940 - accuracy: 0.6983 - val_loss: 0.6166 - val_accuracy: 0.6580\n",
      "Epoch 55/200\n",
      "17/17 [==============================] - 0s 5ms/step - loss: 0.5825 - accuracy: 0.7114 - val_loss: 0.6100 - val_accuracy: 0.6753\n",
      "Epoch 56/200\n",
      "17/17 [==============================] - 0s 4ms/step - loss: 0.5853 - accuracy: 0.7095 - val_loss: 0.6104 - val_accuracy: 0.6667\n",
      "Epoch 57/200\n",
      "17/17 [==============================] - 0s 5ms/step - loss: 0.5907 - accuracy: 0.7002 - val_loss: 0.6161 - val_accuracy: 0.6753\n",
      "Epoch 58/200\n",
      "17/17 [==============================] - 0s 4ms/step - loss: 0.5916 - accuracy: 0.6965 - val_loss: 0.6125 - val_accuracy: 0.6753\n"
     ]
    },
    {
     "name": "stdout",
     "output_type": "stream",
     "text": [
      "Epoch 59/200\n",
      "17/17 [==============================] - 0s 4ms/step - loss: 0.5825 - accuracy: 0.7151 - val_loss: 0.6043 - val_accuracy: 0.6710\n",
      "Epoch 60/200\n",
      "17/17 [==============================] - 0s 4ms/step - loss: 0.5843 - accuracy: 0.6946 - val_loss: 0.6061 - val_accuracy: 0.6710\n",
      "Epoch 61/200\n",
      "17/17 [==============================] - 0s 4ms/step - loss: 0.5785 - accuracy: 0.7188 - val_loss: 0.6087 - val_accuracy: 0.6667\n",
      "Epoch 62/200\n",
      "17/17 [==============================] - 0s 4ms/step - loss: 0.5801 - accuracy: 0.7151 - val_loss: 0.6016 - val_accuracy: 0.6797\n",
      "Epoch 63/200\n",
      "17/17 [==============================] - 0s 4ms/step - loss: 0.5766 - accuracy: 0.7132 - val_loss: 0.6053 - val_accuracy: 0.6797\n",
      "Epoch 64/200\n",
      "17/17 [==============================] - 0s 4ms/step - loss: 0.5750 - accuracy: 0.7337 - val_loss: 0.6019 - val_accuracy: 0.6753\n",
      "Epoch 65/200\n",
      "17/17 [==============================] - 0s 4ms/step - loss: 0.5749 - accuracy: 0.7207 - val_loss: 0.5983 - val_accuracy: 0.6883\n",
      "Epoch 66/200\n",
      "17/17 [==============================] - 0s 5ms/step - loss: 0.5835 - accuracy: 0.7114 - val_loss: 0.6071 - val_accuracy: 0.6753\n",
      "Epoch 67/200\n",
      "17/17 [==============================] - 0s 5ms/step - loss: 0.5806 - accuracy: 0.7151 - val_loss: 0.6186 - val_accuracy: 0.6667\n",
      "Epoch 68/200\n",
      "17/17 [==============================] - 0s 5ms/step - loss: 0.5927 - accuracy: 0.6890 - val_loss: 0.5943 - val_accuracy: 0.6883\n",
      "Epoch 69/200\n",
      "17/17 [==============================] - 0s 5ms/step - loss: 0.5779 - accuracy: 0.7132 - val_loss: 0.6086 - val_accuracy: 0.6883\n",
      "Epoch 70/200\n",
      "17/17 [==============================] - 0s 5ms/step - loss: 0.5779 - accuracy: 0.7020 - val_loss: 0.5974 - val_accuracy: 0.6753\n",
      "Epoch 71/200\n",
      "17/17 [==============================] - 0s 4ms/step - loss: 0.5740 - accuracy: 0.7114 - val_loss: 0.5941 - val_accuracy: 0.6797\n",
      "Epoch 72/200\n",
      "17/17 [==============================] - 0s 4ms/step - loss: 0.5768 - accuracy: 0.7225 - val_loss: 0.5905 - val_accuracy: 0.6840\n",
      "Epoch 73/200\n",
      "17/17 [==============================] - 0s 4ms/step - loss: 0.5750 - accuracy: 0.7132 - val_loss: 0.6038 - val_accuracy: 0.6797\n",
      "Epoch 74/200\n",
      "17/17 [==============================] - 0s 4ms/step - loss: 0.5774 - accuracy: 0.7114 - val_loss: 0.6010 - val_accuracy: 0.6840\n",
      "Epoch 75/200\n",
      "17/17 [==============================] - 0s 4ms/step - loss: 0.5653 - accuracy: 0.7393 - val_loss: 0.6126 - val_accuracy: 0.7056\n",
      "Epoch 76/200\n",
      "17/17 [==============================] - 0s 4ms/step - loss: 0.5691 - accuracy: 0.7151 - val_loss: 0.5988 - val_accuracy: 0.6926\n",
      "Epoch 77/200\n",
      "17/17 [==============================] - 0s 4ms/step - loss: 0.5671 - accuracy: 0.7207 - val_loss: 0.5901 - val_accuracy: 0.6710\n",
      "Epoch 78/200\n",
      "17/17 [==============================] - 0s 4ms/step - loss: 0.5731 - accuracy: 0.7058 - val_loss: 0.6508 - val_accuracy: 0.6797\n",
      "Epoch 79/200\n",
      "17/17 [==============================] - 0s 4ms/step - loss: 0.5827 - accuracy: 0.7114 - val_loss: 0.5880 - val_accuracy: 0.6797\n",
      "Epoch 80/200\n",
      "17/17 [==============================] - 0s 5ms/step - loss: 0.5751 - accuracy: 0.7169 - val_loss: 0.6002 - val_accuracy: 0.6926\n",
      "Epoch 81/200\n",
      "17/17 [==============================] - 0s 5ms/step - loss: 0.5665 - accuracy: 0.7058 - val_loss: 0.5937 - val_accuracy: 0.6970\n",
      "Epoch 82/200\n",
      "17/17 [==============================] - 0s 4ms/step - loss: 0.5697 - accuracy: 0.7207 - val_loss: 0.5867 - val_accuracy: 0.6797\n",
      "Epoch 83/200\n",
      "17/17 [==============================] - 0s 5ms/step - loss: 0.5743 - accuracy: 0.7318 - val_loss: 0.5975 - val_accuracy: 0.6926\n",
      "Epoch 84/200\n",
      "17/17 [==============================] - 0s 4ms/step - loss: 0.5723 - accuracy: 0.6965 - val_loss: 0.6279 - val_accuracy: 0.6883\n",
      "Epoch 85/200\n",
      "17/17 [==============================] - 0s 4ms/step - loss: 0.5687 - accuracy: 0.7337 - val_loss: 0.5863 - val_accuracy: 0.6840\n",
      "Epoch 86/200\n",
      "17/17 [==============================] - 0s 5ms/step - loss: 0.5698 - accuracy: 0.7188 - val_loss: 0.5995 - val_accuracy: 0.6840\n",
      "Epoch 87/200\n",
      "17/17 [==============================] - 0s 4ms/step - loss: 0.5700 - accuracy: 0.7207 - val_loss: 0.6016 - val_accuracy: 0.6840\n",
      "Epoch 88/200\n",
      "17/17 [==============================] - 0s 4ms/step - loss: 0.5619 - accuracy: 0.7207 - val_loss: 0.5923 - val_accuracy: 0.6753\n",
      "Epoch 89/200\n",
      "17/17 [==============================] - 0s 4ms/step - loss: 0.5619 - accuracy: 0.7300 - val_loss: 0.5852 - val_accuracy: 0.6797\n",
      "Epoch 90/200\n",
      "17/17 [==============================] - 0s 5ms/step - loss: 0.5574 - accuracy: 0.7356 - val_loss: 0.5832 - val_accuracy: 0.6753\n",
      "Epoch 91/200\n",
      "17/17 [==============================] - 0s 4ms/step - loss: 0.5631 - accuracy: 0.7281 - val_loss: 0.5831 - val_accuracy: 0.6753\n",
      "Epoch 92/200\n",
      "17/17 [==============================] - 0s 5ms/step - loss: 0.5622 - accuracy: 0.7095 - val_loss: 0.6143 - val_accuracy: 0.6623\n",
      "Epoch 93/200\n",
      "17/17 [==============================] - 0s 5ms/step - loss: 0.5717 - accuracy: 0.7169 - val_loss: 0.5846 - val_accuracy: 0.7229\n",
      "Epoch 94/200\n",
      "17/17 [==============================] - 0s 5ms/step - loss: 0.5649 - accuracy: 0.7281 - val_loss: 0.5833 - val_accuracy: 0.6753\n",
      "Epoch 95/200\n",
      "17/17 [==============================] - 0s 4ms/step - loss: 0.5554 - accuracy: 0.7393 - val_loss: 0.6050 - val_accuracy: 0.6883\n",
      "Epoch 96/200\n",
      "17/17 [==============================] - 0s 5ms/step - loss: 0.5576 - accuracy: 0.7263 - val_loss: 0.5881 - val_accuracy: 0.6710\n",
      "Epoch 97/200\n",
      "17/17 [==============================] - 0s 4ms/step - loss: 0.5633 - accuracy: 0.7188 - val_loss: 0.5932 - val_accuracy: 0.6926\n",
      "Epoch 98/200\n",
      "17/17 [==============================] - 0s 5ms/step - loss: 0.5584 - accuracy: 0.7244 - val_loss: 0.5818 - val_accuracy: 0.6753\n",
      "Epoch 99/200\n",
      "17/17 [==============================] - 0s 5ms/step - loss: 0.5546 - accuracy: 0.7449 - val_loss: 0.5794 - val_accuracy: 0.6797\n",
      "Epoch 100/200\n",
      "17/17 [==============================] - 0s 5ms/step - loss: 0.5623 - accuracy: 0.7393 - val_loss: 0.5913 - val_accuracy: 0.6926\n",
      "Epoch 101/200\n",
      "17/17 [==============================] - 0s 4ms/step - loss: 0.5635 - accuracy: 0.7207 - val_loss: 0.5829 - val_accuracy: 0.6753\n",
      "Epoch 102/200\n",
      "17/17 [==============================] - 0s 5ms/step - loss: 0.5688 - accuracy: 0.7225 - val_loss: 0.5975 - val_accuracy: 0.6926\n",
      "Epoch 103/200\n",
      "17/17 [==============================] - 0s 5ms/step - loss: 0.5477 - accuracy: 0.7318 - val_loss: 0.6064 - val_accuracy: 0.6667\n",
      "Epoch 104/200\n",
      "17/17 [==============================] - 0s 5ms/step - loss: 0.5666 - accuracy: 0.7151 - val_loss: 0.5772 - val_accuracy: 0.6710\n",
      "Epoch 105/200\n",
      "17/17 [==============================] - 0s 5ms/step - loss: 0.5504 - accuracy: 0.7412 - val_loss: 0.5795 - val_accuracy: 0.7186\n",
      "Epoch 106/200\n",
      "17/17 [==============================] - 0s 5ms/step - loss: 0.5476 - accuracy: 0.7505 - val_loss: 0.5921 - val_accuracy: 0.6926\n",
      "Epoch 107/200\n",
      "17/17 [==============================] - 0s 5ms/step - loss: 0.5516 - accuracy: 0.7505 - val_loss: 0.6112 - val_accuracy: 0.6623\n",
      "Epoch 108/200\n",
      "17/17 [==============================] - 0s 4ms/step - loss: 0.5701 - accuracy: 0.7207 - val_loss: 0.5784 - val_accuracy: 0.7186\n",
      "Epoch 109/200\n",
      "17/17 [==============================] - 0s 5ms/step - loss: 0.5504 - accuracy: 0.7356 - val_loss: 0.5815 - val_accuracy: 0.7229\n",
      "Epoch 110/200\n",
      "17/17 [==============================] - 0s 4ms/step - loss: 0.5566 - accuracy: 0.7281 - val_loss: 0.5790 - val_accuracy: 0.7100\n",
      "Epoch 111/200\n",
      "17/17 [==============================] - 0s 4ms/step - loss: 0.5605 - accuracy: 0.7151 - val_loss: 0.5771 - val_accuracy: 0.7186\n",
      "Epoch 112/200\n",
      "17/17 [==============================] - 0s 5ms/step - loss: 0.5572 - accuracy: 0.7412 - val_loss: 0.5790 - val_accuracy: 0.6840\n",
      "Epoch 113/200\n",
      "17/17 [==============================] - 0s 5ms/step - loss: 0.5644 - accuracy: 0.7169 - val_loss: 0.6133 - val_accuracy: 0.7013\n",
      "Epoch 114/200\n",
      "17/17 [==============================] - 0s 4ms/step - loss: 0.5623 - accuracy: 0.7263 - val_loss: 0.5771 - val_accuracy: 0.6710\n",
      "Epoch 115/200\n",
      "17/17 [==============================] - 0s 4ms/step - loss: 0.5521 - accuracy: 0.7300 - val_loss: 0.5903 - val_accuracy: 0.6883\n",
      "Epoch 116/200\n"
     ]
    },
    {
     "name": "stdout",
     "output_type": "stream",
     "text": [
      "17/17 [==============================] - 0s 5ms/step - loss: 0.5514 - accuracy: 0.7300 - val_loss: 0.5784 - val_accuracy: 0.7273\n",
      "Epoch 117/200\n",
      "17/17 [==============================] - 0s 4ms/step - loss: 0.5532 - accuracy: 0.7225 - val_loss: 0.5857 - val_accuracy: 0.7143\n",
      "Epoch 118/200\n",
      "17/17 [==============================] - 0s 4ms/step - loss: 0.5569 - accuracy: 0.7374 - val_loss: 0.5824 - val_accuracy: 0.7229\n",
      "Epoch 119/200\n",
      "17/17 [==============================] - 0s 4ms/step - loss: 0.5429 - accuracy: 0.7449 - val_loss: 0.5889 - val_accuracy: 0.6883\n",
      "Epoch 120/200\n",
      "17/17 [==============================] - 0s 4ms/step - loss: 0.5471 - accuracy: 0.7281 - val_loss: 0.5748 - val_accuracy: 0.7186\n",
      "Epoch 121/200\n",
      "17/17 [==============================] - 0s 4ms/step - loss: 0.5494 - accuracy: 0.7393 - val_loss: 0.5739 - val_accuracy: 0.6883\n",
      "Epoch 122/200\n",
      "17/17 [==============================] - 0s 4ms/step - loss: 0.5513 - accuracy: 0.7356 - val_loss: 0.5795 - val_accuracy: 0.7273\n",
      "Epoch 123/200\n",
      "17/17 [==============================] - 0s 4ms/step - loss: 0.5450 - accuracy: 0.7449 - val_loss: 0.5733 - val_accuracy: 0.6840\n",
      "Epoch 124/200\n",
      "17/17 [==============================] - 0s 5ms/step - loss: 0.5435 - accuracy: 0.7393 - val_loss: 0.5728 - val_accuracy: 0.7316\n",
      "Epoch 125/200\n",
      "17/17 [==============================] - 0s 4ms/step - loss: 0.5458 - accuracy: 0.7393 - val_loss: 0.5706 - val_accuracy: 0.7229\n",
      "Epoch 126/200\n",
      "17/17 [==============================] - 0s 4ms/step - loss: 0.5416 - accuracy: 0.7374 - val_loss: 0.5784 - val_accuracy: 0.6840\n",
      "Epoch 127/200\n",
      "17/17 [==============================] - 0s 5ms/step - loss: 0.5453 - accuracy: 0.7486 - val_loss: 0.5731 - val_accuracy: 0.7013\n",
      "Epoch 128/200\n",
      "17/17 [==============================] - 0s 4ms/step - loss: 0.5507 - accuracy: 0.7318 - val_loss: 0.5705 - val_accuracy: 0.7359\n",
      "Epoch 129/200\n",
      "17/17 [==============================] - 0s 4ms/step - loss: 0.5418 - accuracy: 0.7486 - val_loss: 0.5743 - val_accuracy: 0.7316\n",
      "Epoch 130/200\n",
      "17/17 [==============================] - 0s 4ms/step - loss: 0.5408 - accuracy: 0.7542 - val_loss: 0.5765 - val_accuracy: 0.6883\n",
      "Epoch 131/200\n",
      "17/17 [==============================] - 0s 4ms/step - loss: 0.5493 - accuracy: 0.7412 - val_loss: 0.5855 - val_accuracy: 0.7013\n",
      "Epoch 132/200\n",
      "17/17 [==============================] - 0s 4ms/step - loss: 0.5517 - accuracy: 0.7374 - val_loss: 0.5703 - val_accuracy: 0.7273\n",
      "Epoch 133/200\n",
      "17/17 [==============================] - 0s 4ms/step - loss: 0.5459 - accuracy: 0.7393 - val_loss: 0.5850 - val_accuracy: 0.7186\n",
      "Epoch 134/200\n",
      "17/17 [==============================] - 0s 4ms/step - loss: 0.5427 - accuracy: 0.7318 - val_loss: 0.5697 - val_accuracy: 0.7316\n",
      "Epoch 135/200\n",
      "17/17 [==============================] - 0s 4ms/step - loss: 0.5429 - accuracy: 0.7374 - val_loss: 0.5784 - val_accuracy: 0.7229\n",
      "Epoch 136/200\n",
      "17/17 [==============================] - 0s 4ms/step - loss: 0.5421 - accuracy: 0.7412 - val_loss: 0.5814 - val_accuracy: 0.6797\n",
      "Epoch 137/200\n",
      "17/17 [==============================] - 0s 4ms/step - loss: 0.5406 - accuracy: 0.7412 - val_loss: 0.5680 - val_accuracy: 0.7446\n",
      "Epoch 138/200\n",
      "17/17 [==============================] - 0s 4ms/step - loss: 0.5490 - accuracy: 0.7430 - val_loss: 0.5891 - val_accuracy: 0.7143\n",
      "Epoch 139/200\n",
      "17/17 [==============================] - 0s 4ms/step - loss: 0.5473 - accuracy: 0.7412 - val_loss: 0.5773 - val_accuracy: 0.7273\n",
      "Epoch 140/200\n",
      "17/17 [==============================] - 0s 4ms/step - loss: 0.5403 - accuracy: 0.7318 - val_loss: 0.5712 - val_accuracy: 0.7056\n",
      "Epoch 141/200\n",
      "17/17 [==============================] - 0s 4ms/step - loss: 0.5412 - accuracy: 0.7467 - val_loss: 0.5711 - val_accuracy: 0.7316\n",
      "Epoch 142/200\n",
      "17/17 [==============================] - 0s 4ms/step - loss: 0.5423 - accuracy: 0.7393 - val_loss: 0.5717 - val_accuracy: 0.7446\n",
      "Epoch 143/200\n",
      "17/17 [==============================] - 0s 4ms/step - loss: 0.5425 - accuracy: 0.7356 - val_loss: 0.5793 - val_accuracy: 0.7489\n",
      "Epoch 144/200\n",
      "17/17 [==============================] - 0s 4ms/step - loss: 0.5463 - accuracy: 0.7467 - val_loss: 0.5745 - val_accuracy: 0.7316\n",
      "Epoch 145/200\n",
      "17/17 [==============================] - 0s 5ms/step - loss: 0.5379 - accuracy: 0.7561 - val_loss: 0.5751 - val_accuracy: 0.6840\n",
      "Epoch 146/200\n",
      "17/17 [==============================] - 0s 5ms/step - loss: 0.5339 - accuracy: 0.7393 - val_loss: 0.5685 - val_accuracy: 0.7316\n",
      "Epoch 147/200\n",
      "17/17 [==============================] - 0s 4ms/step - loss: 0.5368 - accuracy: 0.7337 - val_loss: 0.5697 - val_accuracy: 0.7403\n",
      "Epoch 148/200\n",
      "17/17 [==============================] - 0s 5ms/step - loss: 0.5341 - accuracy: 0.7449 - val_loss: 0.5674 - val_accuracy: 0.7446\n",
      "Epoch 149/200\n",
      "17/17 [==============================] - 0s 4ms/step - loss: 0.5346 - accuracy: 0.7542 - val_loss: 0.5683 - val_accuracy: 0.7489\n",
      "Epoch 150/200\n",
      "17/17 [==============================] - 0s 4ms/step - loss: 0.5344 - accuracy: 0.7430 - val_loss: 0.5675 - val_accuracy: 0.7359\n",
      "Epoch 151/200\n",
      "17/17 [==============================] - 0s 4ms/step - loss: 0.5379 - accuracy: 0.7505 - val_loss: 0.5711 - val_accuracy: 0.7359\n",
      "Epoch 152/200\n",
      "17/17 [==============================] - 0s 4ms/step - loss: 0.5478 - accuracy: 0.7300 - val_loss: 0.6234 - val_accuracy: 0.7013\n",
      "Epoch 153/200\n",
      "17/17 [==============================] - 0s 4ms/step - loss: 0.5372 - accuracy: 0.7356 - val_loss: 0.5682 - val_accuracy: 0.7359\n",
      "Epoch 154/200\n",
      "17/17 [==============================] - 0s 4ms/step - loss: 0.5368 - accuracy: 0.7486 - val_loss: 0.5795 - val_accuracy: 0.6840\n",
      "Epoch 155/200\n",
      "17/17 [==============================] - 0s 4ms/step - loss: 0.5426 - accuracy: 0.7393 - val_loss: 0.5697 - val_accuracy: 0.7359\n",
      "Epoch 156/200\n",
      "17/17 [==============================] - 0s 4ms/step - loss: 0.5315 - accuracy: 0.7430 - val_loss: 0.5705 - val_accuracy: 0.7489\n",
      "Epoch 157/200\n",
      "17/17 [==============================] - 0s 5ms/step - loss: 0.5324 - accuracy: 0.7412 - val_loss: 0.5721 - val_accuracy: 0.7403\n",
      "Epoch 158/200\n",
      "17/17 [==============================] - 0s 5ms/step - loss: 0.5317 - accuracy: 0.7505 - val_loss: 0.5726 - val_accuracy: 0.6926\n",
      "Epoch 159/200\n",
      "17/17 [==============================] - 0s 4ms/step - loss: 0.5289 - accuracy: 0.7356 - val_loss: 0.5703 - val_accuracy: 0.7446\n",
      "Epoch 160/200\n",
      "17/17 [==============================] - 0s 5ms/step - loss: 0.5326 - accuracy: 0.7374 - val_loss: 0.5675 - val_accuracy: 0.7186\n",
      "Epoch 161/200\n",
      "17/17 [==============================] - 0s 4ms/step - loss: 0.5304 - accuracy: 0.7542 - val_loss: 0.5664 - val_accuracy: 0.7359\n",
      "Epoch 162/200\n",
      "17/17 [==============================] - 0s 5ms/step - loss: 0.5389 - accuracy: 0.7263 - val_loss: 0.5743 - val_accuracy: 0.6926\n",
      "Epoch 163/200\n",
      "17/17 [==============================] - 0s 5ms/step - loss: 0.5372 - accuracy: 0.7412 - val_loss: 0.5788 - val_accuracy: 0.6883\n",
      "Epoch 164/200\n",
      "17/17 [==============================] - 0s 4ms/step - loss: 0.5341 - accuracy: 0.7486 - val_loss: 0.5659 - val_accuracy: 0.7403\n",
      "Epoch 165/200\n",
      "17/17 [==============================] - 0s 4ms/step - loss: 0.5453 - accuracy: 0.7412 - val_loss: 0.5723 - val_accuracy: 0.7013\n",
      "Epoch 166/200\n",
      "17/17 [==============================] - 0s 4ms/step - loss: 0.5423 - accuracy: 0.7207 - val_loss: 0.5681 - val_accuracy: 0.7359\n",
      "Epoch 167/200\n",
      "17/17 [==============================] - 0s 4ms/step - loss: 0.5301 - accuracy: 0.7561 - val_loss: 0.5759 - val_accuracy: 0.7489\n",
      "Epoch 168/200\n",
      "17/17 [==============================] - 0s 4ms/step - loss: 0.5342 - accuracy: 0.7374 - val_loss: 0.5676 - val_accuracy: 0.7489\n",
      "Epoch 169/200\n",
      "17/17 [==============================] - 0s 4ms/step - loss: 0.5328 - accuracy: 0.7430 - val_loss: 0.5717 - val_accuracy: 0.6926\n",
      "Epoch 170/200\n",
      "17/17 [==============================] - 0s 4ms/step - loss: 0.5303 - accuracy: 0.7467 - val_loss: 0.5720 - val_accuracy: 0.7056\n",
      "Epoch 171/200\n",
      "17/17 [==============================] - 0s 4ms/step - loss: 0.5312 - accuracy: 0.7561 - val_loss: 0.5663 - val_accuracy: 0.7056\n",
      "Epoch 172/200\n",
      "17/17 [==============================] - 0s 4ms/step - loss: 0.5361 - accuracy: 0.7356 - val_loss: 0.5859 - val_accuracy: 0.7403\n",
      "Epoch 173/200\n"
     ]
    },
    {
     "name": "stdout",
     "output_type": "stream",
     "text": [
      "17/17 [==============================] - 0s 4ms/step - loss: 0.5290 - accuracy: 0.7374 - val_loss: 0.5732 - val_accuracy: 0.7403\n",
      "Epoch 174/200\n",
      "17/17 [==============================] - 0s 5ms/step - loss: 0.5341 - accuracy: 0.7300 - val_loss: 0.5912 - val_accuracy: 0.7056\n",
      "Epoch 175/200\n",
      "17/17 [==============================] - 0s 5ms/step - loss: 0.5490 - accuracy: 0.7169 - val_loss: 0.6416 - val_accuracy: 0.7013\n",
      "Epoch 176/200\n",
      "17/17 [==============================] - 0s 5ms/step - loss: 0.5614 - accuracy: 0.7169 - val_loss: 0.5822 - val_accuracy: 0.7143\n",
      "Epoch 177/200\n",
      "17/17 [==============================] - 0s 5ms/step - loss: 0.5309 - accuracy: 0.7467 - val_loss: 0.5736 - val_accuracy: 0.7489\n",
      "Epoch 178/200\n",
      "17/17 [==============================] - 0s 5ms/step - loss: 0.5275 - accuracy: 0.7467 - val_loss: 0.5740 - val_accuracy: 0.7359\n",
      "Epoch 179/200\n",
      "17/17 [==============================] - 0s 5ms/step - loss: 0.5240 - accuracy: 0.7561 - val_loss: 0.5827 - val_accuracy: 0.6970\n",
      "Epoch 180/200\n",
      "17/17 [==============================] - 0s 4ms/step - loss: 0.5284 - accuracy: 0.7430 - val_loss: 0.5729 - val_accuracy: 0.7186\n",
      "Epoch 181/200\n",
      "17/17 [==============================] - 0s 5ms/step - loss: 0.5244 - accuracy: 0.7523 - val_loss: 0.5883 - val_accuracy: 0.6926\n",
      "Epoch 182/200\n",
      "17/17 [==============================] - 0s 4ms/step - loss: 0.5355 - accuracy: 0.7393 - val_loss: 0.5745 - val_accuracy: 0.7143\n",
      "Epoch 183/200\n",
      "17/17 [==============================] - 0s 4ms/step - loss: 0.5290 - accuracy: 0.7561 - val_loss: 0.5792 - val_accuracy: 0.6883\n",
      "Epoch 184/200\n",
      "17/17 [==============================] - 0s 4ms/step - loss: 0.5212 - accuracy: 0.7467 - val_loss: 0.5804 - val_accuracy: 0.7359\n",
      "Epoch 185/200\n",
      "17/17 [==============================] - 0s 5ms/step - loss: 0.5341 - accuracy: 0.7486 - val_loss: 0.5711 - val_accuracy: 0.7403\n",
      "Epoch 186/200\n",
      "17/17 [==============================] - 0s 5ms/step - loss: 0.5305 - accuracy: 0.7412 - val_loss: 0.5662 - val_accuracy: 0.7403\n",
      "Epoch 187/200\n",
      "17/17 [==============================] - 0s 4ms/step - loss: 0.5388 - accuracy: 0.7244 - val_loss: 0.5935 - val_accuracy: 0.7489\n",
      "Epoch 188/200\n",
      "17/17 [==============================] - 0s 4ms/step - loss: 0.5272 - accuracy: 0.7449 - val_loss: 0.5671 - val_accuracy: 0.7403\n",
      "Epoch 189/200\n",
      "17/17 [==============================] - 0s 4ms/step - loss: 0.5220 - accuracy: 0.7486 - val_loss: 0.5763 - val_accuracy: 0.7403\n",
      "Epoch 190/200\n",
      "17/17 [==============================] - 0s 4ms/step - loss: 0.5302 - accuracy: 0.7300 - val_loss: 0.6167 - val_accuracy: 0.6840\n",
      "Epoch 191/200\n",
      "17/17 [==============================] - 0s 4ms/step - loss: 0.5258 - accuracy: 0.7486 - val_loss: 0.5899 - val_accuracy: 0.7143\n",
      "Epoch 192/200\n",
      "17/17 [==============================] - 0s 4ms/step - loss: 0.5274 - accuracy: 0.7467 - val_loss: 0.5706 - val_accuracy: 0.7316\n",
      "Epoch 193/200\n",
      "17/17 [==============================] - 0s 4ms/step - loss: 0.5210 - accuracy: 0.7486 - val_loss: 0.5717 - val_accuracy: 0.7446\n",
      "Epoch 194/200\n",
      "17/17 [==============================] - 0s 5ms/step - loss: 0.5236 - accuracy: 0.7505 - val_loss: 0.5697 - val_accuracy: 0.7532\n",
      "Epoch 195/200\n",
      "17/17 [==============================] - 0s 4ms/step - loss: 0.5143 - accuracy: 0.7579 - val_loss: 0.5975 - val_accuracy: 0.7186\n",
      "Epoch 196/200\n",
      "17/17 [==============================] - 0s 4ms/step - loss: 0.5329 - accuracy: 0.7430 - val_loss: 0.5726 - val_accuracy: 0.7359\n",
      "Epoch 197/200\n",
      "17/17 [==============================] - 0s 4ms/step - loss: 0.5249 - accuracy: 0.7467 - val_loss: 0.5682 - val_accuracy: 0.7403\n",
      "Epoch 198/200\n",
      "17/17 [==============================] - 0s 5ms/step - loss: 0.5187 - accuracy: 0.7505 - val_loss: 0.5784 - val_accuracy: 0.7100\n",
      "Epoch 199/200\n",
      "17/17 [==============================] - 0s 4ms/step - loss: 0.5220 - accuracy: 0.7561 - val_loss: 0.5735 - val_accuracy: 0.7489\n",
      "Epoch 200/200\n",
      "17/17 [==============================] - 0s 4ms/step - loss: 0.5252 - accuracy: 0.7393 - val_loss: 0.5977 - val_accuracy: 0.7229\n"
     ]
    }
   ],
   "source": [
    "# Fit the model\n",
    "history = model.fit(X, Y, epochs=200, \n",
    "                    batch_size=32,verbose=1, \n",
    "                    validation_split=0.3)"
   ]
  },
  {
   "cell_type": "code",
   "execution_count": 8,
   "id": "683d5dcd",
   "metadata": {},
   "outputs": [
    {
     "name": "stdout",
     "output_type": "stream",
     "text": [
      "24/24 [==============================] - 0s 2ms/step - loss: 0.5588 - accuracy: 0.7240\n",
      "[0.55877286195755, 0.7239583134651184]\n"
     ]
    }
   ],
   "source": [
    "scores = model.evaluate(X, Y)\n",
    "print(scores)"
   ]
  },
  {
   "cell_type": "code",
   "execution_count": 10,
   "id": "e9f5ab42",
   "metadata": {},
   "outputs": [
    {
     "name": "stdout",
     "output_type": "stream",
     "text": [
      "dict_keys(['loss', 'accuracy', 'val_loss', 'val_accuracy'])\n"
     ]
    },
    {
     "data": {
      "image/png": "[encoded data removed]",
      "text/plain": [
       "<Figure size 432x288 with 1 Axes>"
      ]
     },
     "metadata": {
      "needs_background": "light"
     },
     "output_type": "display_data"
    }
   ],
   "source": [
    "print(history.history.keys())\n",
    "# \"Loss\"\n",
    "plt.plot(history.history['loss'])\n",
    "plt.plot(history.history['val_loss'])\n",
    "plt.title('model loss')\n",
    "plt.ylabel('loss')\n",
    "plt.xlabel('epoch')\n",
    "plt.legend(['train', 'validation'], loc='upper left')\n",
    "plt.show()"
   ]
  },
  {
   "cell_type": "code",
   "execution_count": 11,
   "id": "23eeae0e",
   "metadata": {},
   "outputs": [
    {
     "name": "stdout",
     "output_type": "stream",
     "text": [
      "[0, 0, 1, 0, 1]\n"
     ]
    }
   ],
   "source": [
    "predictions = model.predict(X)\n",
    "# round predictions\n",
    "rounded = [round(x[0]) for x in predictions]\n",
    "print(rounded[:5])"
   ]
  },
  {
   "cell_type": "code",
   "execution_count": 12,
   "id": "7db05cfe",
   "metadata": {},
   "outputs": [
    {
     "data": {
      "text/plain": [
       "array([[6.000e+00, 1.480e+02, 7.200e+01, 3.500e+01, 0.000e+00, 3.360e+01,\n",
       "        6.270e-01, 5.000e+01],\n",
       "       [1.000e+00, 8.500e+01, 6.600e+01, 2.900e+01, 0.000e+00, 2.660e+01,\n",
       "        3.510e-01, 3.100e+01],\n",
       "       [8.000e+00, 1.830e+02, 6.400e+01, 0.000e+00, 0.000e+00, 2.330e+01,\n",
       "        6.720e-01, 3.200e+01],\n",
       "       [1.000e+00, 8.900e+01, 6.600e+01, 2.300e+01, 9.400e+01, 2.810e+01,\n",
       "        1.670e-01, 2.100e+01],\n",
       "       [0.000e+00, 1.370e+02, 4.000e+01, 3.500e+01, 1.680e+02, 4.310e+01,\n",
       "        2.288e+00, 3.300e+01]])"
      ]
     },
     "execution_count": 12,
     "metadata": {},
     "output_type": "execute_result"
    }
   ],
   "source": [
    "X_new= X[0:5, :]\n",
    "X_new\n"
   ]
  },
  {
   "cell_type": "code",
   "execution_count": 13,
   "id": "708b2c64",
   "metadata": {},
   "outputs": [
    {
     "name": "stdout",
     "output_type": "stream",
     "text": [
      "[0, 0, 1, 0, 1]\n"
     ]
    }
   ],
   "source": [
    "y_new = model.predict(X_new)\n",
    "# round predictions\n",
    "rounded = [round(x[0]) for x in y_new]\n",
    "print(rounded)"
   ]
  },
  {
   "cell_type": "code",
   "execution_count": 14,
   "id": "854b32b0",
   "metadata": {},
   "outputs": [
    {
     "data": {
      "text/plain": [
       "array([1., 0., 1., 0., 1.])"
      ]
     },
     "execution_count": 14,
     "metadata": {},
     "output_type": "execute_result"
    }
   ],
   "source": [
    "y = Y[0:5]\n",
    "y"
   ]
  },
  {
   "cell_type": "code",
   "execution_count": null,
   "id": "c66d5254",
   "metadata": {},
   "outputs": [],
   "source": []
  }
 ],
 "metadata": {
  "kernelspec": {
   "display_name": "Python 3",
   "language": "python",
   "name": "python3"
  },
  "language_info": {
   "codemirror_mode": {
    "name": "ipython",
    "version": 3
   },
   "file_extension": ".py",
   "mimetype": "text/x-python",
   "name": "python",
   "nbconvert_exporter": "python",
   "pygments_lexer": "ipython3",
   "version": "3.8.8"
  }
 },
 "nbformat": 4,
 "nbformat_minor": 5
}
