{
 "cells": [
  {
   "cell_type": "code",
   "execution_count": 1,
   "id": "56e2c7da",
   "metadata": {},
   "outputs": [],
   "source": [
    "import pandas as pd\n",
    "from sklearn.datasets import load_iris\n",
    "from tensorflow.keras.layers import Dense\n",
    "from tensorflow.keras import Input,Model\n",
    "import tensorflow as tf"
   ]
  },
  {
   "cell_type": "code",
   "execution_count": 2,
   "id": "eb96578b",
   "metadata": {},
   "outputs": [],
   "source": [
    "data = pd.read_excel(\"Iris.xls\")"
   ]
  },
  {
   "cell_type": "code",
   "execution_count": 3,
   "id": "cc504e7f",
   "metadata": {},
   "outputs": [
    {
     "data": {
      "text/html": [
       "<div>\n",
       "<style scoped>\n",
       "    .dataframe tbody tr th:only-of-type {\n",
       "        vertical-align: middle;\n",
       "    }\n",
       "\n",
       "    .dataframe tbody tr th {\n",
       "        vertical-align: top;\n",
       "    }\n",
       "\n",
       "    .dataframe thead th {\n",
       "        text-align: right;\n",
       "    }\n",
       "</style>\n",
       "<table border=\"1\" class=\"dataframe\">\n",
       "  <thead>\n",
       "    <tr style=\"text-align: right;\">\n",
       "      <th></th>\n",
       "      <th>sepallength</th>\n",
       "      <th>sepalwidth</th>\n",
       "      <th>petallength</th>\n",
       "      <th>petalwidth</th>\n",
       "      <th>iris</th>\n",
       "    </tr>\n",
       "  </thead>\n",
       "  <tbody>\n",
       "    <tr>\n",
       "      <th>0</th>\n",
       "      <td>5.1</td>\n",
       "      <td>3.5</td>\n",
       "      <td>1.4</td>\n",
       "      <td>0.2</td>\n",
       "      <td>Iris-setosa</td>\n",
       "    </tr>\n",
       "    <tr>\n",
       "      <th>1</th>\n",
       "      <td>4.9</td>\n",
       "      <td>3.0</td>\n",
       "      <td>1.4</td>\n",
       "      <td>0.2</td>\n",
       "      <td>Iris-setosa</td>\n",
       "    </tr>\n",
       "    <tr>\n",
       "      <th>2</th>\n",
       "      <td>4.7</td>\n",
       "      <td>3.2</td>\n",
       "      <td>1.3</td>\n",
       "      <td>0.2</td>\n",
       "      <td>Iris-setosa</td>\n",
       "    </tr>\n",
       "    <tr>\n",
       "      <th>3</th>\n",
       "      <td>4.6</td>\n",
       "      <td>3.1</td>\n",
       "      <td>1.5</td>\n",
       "      <td>0.2</td>\n",
       "      <td>Iris-setosa</td>\n",
       "    </tr>\n",
       "    <tr>\n",
       "      <th>4</th>\n",
       "      <td>5.0</td>\n",
       "      <td>3.6</td>\n",
       "      <td>1.4</td>\n",
       "      <td>0.2</td>\n",
       "      <td>Iris-setosa</td>\n",
       "    </tr>\n",
       "  </tbody>\n",
       "</table>\n",
       "</div>"
      ],
      "text/plain": [
       "   sepallength  sepalwidth  petallength  petalwidth         iris\n",
       "0          5.1         3.5          1.4         0.2  Iris-setosa\n",
       "1          4.9         3.0          1.4         0.2  Iris-setosa\n",
       "2          4.7         3.2          1.3         0.2  Iris-setosa\n",
       "3          4.6         3.1          1.5         0.2  Iris-setosa\n",
       "4          5.0         3.6          1.4         0.2  Iris-setosa"
      ]
     },
     "execution_count": 3,
     "metadata": {},
     "output_type": "execute_result"
    }
   ],
   "source": [
    "data.head()"
   ]
  },
  {
   "cell_type": "code",
   "execution_count": 4,
   "id": "c53c0673",
   "metadata": {},
   "outputs": [
    {
     "data": {
      "text/html": [
       "<div>\n",
       "<style scoped>\n",
       "    .dataframe tbody tr th:only-of-type {\n",
       "        vertical-align: middle;\n",
       "    }\n",
       "\n",
       "    .dataframe tbody tr th {\n",
       "        vertical-align: top;\n",
       "    }\n",
       "\n",
       "    .dataframe thead th {\n",
       "        text-align: right;\n",
       "    }\n",
       "</style>\n",
       "<table border=\"1\" class=\"dataframe\">\n",
       "  <thead>\n",
       "    <tr style=\"text-align: right;\">\n",
       "      <th></th>\n",
       "      <th>sepallength</th>\n",
       "      <th>sepalwidth</th>\n",
       "      <th>petallength</th>\n",
       "      <th>petalwidth</th>\n",
       "      <th>iris</th>\n",
       "    </tr>\n",
       "  </thead>\n",
       "  <tbody>\n",
       "    <tr>\n",
       "      <th>0</th>\n",
       "      <td>5.1</td>\n",
       "      <td>3.5</td>\n",
       "      <td>1.4</td>\n",
       "      <td>0.2</td>\n",
       "      <td>Iris-setosa</td>\n",
       "    </tr>\n",
       "    <tr>\n",
       "      <th>1</th>\n",
       "      <td>4.9</td>\n",
       "      <td>3.0</td>\n",
       "      <td>1.4</td>\n",
       "      <td>0.2</td>\n",
       "      <td>Iris-setosa</td>\n",
       "    </tr>\n",
       "    <tr>\n",
       "      <th>2</th>\n",
       "      <td>4.7</td>\n",
       "      <td>3.2</td>\n",
       "      <td>1.3</td>\n",
       "      <td>0.2</td>\n",
       "      <td>Iris-setosa</td>\n",
       "    </tr>\n",
       "    <tr>\n",
       "      <th>3</th>\n",
       "      <td>4.6</td>\n",
       "      <td>3.1</td>\n",
       "      <td>1.5</td>\n",
       "      <td>0.2</td>\n",
       "      <td>Iris-setosa</td>\n",
       "    </tr>\n",
       "    <tr>\n",
       "      <th>4</th>\n",
       "      <td>5.0</td>\n",
       "      <td>3.6</td>\n",
       "      <td>1.4</td>\n",
       "      <td>0.2</td>\n",
       "      <td>Iris-setosa</td>\n",
       "    </tr>\n",
       "    <tr>\n",
       "      <th>...</th>\n",
       "      <td>...</td>\n",
       "      <td>...</td>\n",
       "      <td>...</td>\n",
       "      <td>...</td>\n",
       "      <td>...</td>\n",
       "    </tr>\n",
       "    <tr>\n",
       "      <th>145</th>\n",
       "      <td>6.7</td>\n",
       "      <td>3.0</td>\n",
       "      <td>5.2</td>\n",
       "      <td>2.3</td>\n",
       "      <td>Iris-virginica</td>\n",
       "    </tr>\n",
       "    <tr>\n",
       "      <th>146</th>\n",
       "      <td>6.3</td>\n",
       "      <td>2.5</td>\n",
       "      <td>5.0</td>\n",
       "      <td>1.9</td>\n",
       "      <td>Iris-virginica</td>\n",
       "    </tr>\n",
       "    <tr>\n",
       "      <th>147</th>\n",
       "      <td>6.5</td>\n",
       "      <td>3.0</td>\n",
       "      <td>5.2</td>\n",
       "      <td>2.0</td>\n",
       "      <td>Iris-virginica</td>\n",
       "    </tr>\n",
       "    <tr>\n",
       "      <th>148</th>\n",
       "      <td>6.2</td>\n",
       "      <td>3.4</td>\n",
       "      <td>5.4</td>\n",
       "      <td>2.3</td>\n",
       "      <td>Iris-virginica</td>\n",
       "    </tr>\n",
       "    <tr>\n",
       "      <th>149</th>\n",
       "      <td>5.9</td>\n",
       "      <td>3.0</td>\n",
       "      <td>5.1</td>\n",
       "      <td>1.8</td>\n",
       "      <td>Iris-virginica</td>\n",
       "    </tr>\n",
       "  </tbody>\n",
       "</table>\n",
       "<p>150 rows × 5 columns</p>\n",
       "</div>"
      ],
      "text/plain": [
       "     sepallength  sepalwidth  petallength  petalwidth            iris\n",
       "0            5.1         3.5          1.4         0.2     Iris-setosa\n",
       "1            4.9         3.0          1.4         0.2     Iris-setosa\n",
       "2            4.7         3.2          1.3         0.2     Iris-setosa\n",
       "3            4.6         3.1          1.5         0.2     Iris-setosa\n",
       "4            5.0         3.6          1.4         0.2     Iris-setosa\n",
       "..           ...         ...          ...         ...             ...\n",
       "145          6.7         3.0          5.2         2.3  Iris-virginica\n",
       "146          6.3         2.5          5.0         1.9  Iris-virginica\n",
       "147          6.5         3.0          5.2         2.0  Iris-virginica\n",
       "148          6.2         3.4          5.4         2.3  Iris-virginica\n",
       "149          5.9         3.0          5.1         1.8  Iris-virginica\n",
       "\n",
       "[150 rows x 5 columns]"
      ]
     },
     "execution_count": 4,
     "metadata": {},
     "output_type": "execute_result"
    }
   ],
   "source": [
    "data"
   ]
  },
  {
   "cell_type": "code",
   "execution_count": 5,
   "id": "4cd260fa",
   "metadata": {},
   "outputs": [
    {
     "data": {
      "text/html": [
       "<div>\n",
       "<style scoped>\n",
       "    .dataframe tbody tr th:only-of-type {\n",
       "        vertical-align: middle;\n",
       "    }\n",
       "\n",
       "    .dataframe tbody tr th {\n",
       "        vertical-align: top;\n",
       "    }\n",
       "\n",
       "    .dataframe thead th {\n",
       "        text-align: right;\n",
       "    }\n",
       "</style>\n",
       "<table border=\"1\" class=\"dataframe\">\n",
       "  <thead>\n",
       "    <tr style=\"text-align: right;\">\n",
       "      <th></th>\n",
       "      <th>sepallength</th>\n",
       "      <th>sepalwidth</th>\n",
       "      <th>petallength</th>\n",
       "      <th>petalwidth</th>\n",
       "      <th>iris</th>\n",
       "      <th>species_num</th>\n",
       "    </tr>\n",
       "  </thead>\n",
       "  <tbody>\n",
       "    <tr>\n",
       "      <th>0</th>\n",
       "      <td>5.1</td>\n",
       "      <td>3.5</td>\n",
       "      <td>1.4</td>\n",
       "      <td>0.2</td>\n",
       "      <td>Iris-setosa</td>\n",
       "      <td>0</td>\n",
       "    </tr>\n",
       "    <tr>\n",
       "      <th>1</th>\n",
       "      <td>4.9</td>\n",
       "      <td>3.0</td>\n",
       "      <td>1.4</td>\n",
       "      <td>0.2</td>\n",
       "      <td>Iris-setosa</td>\n",
       "      <td>0</td>\n",
       "    </tr>\n",
       "    <tr>\n",
       "      <th>2</th>\n",
       "      <td>4.7</td>\n",
       "      <td>3.2</td>\n",
       "      <td>1.3</td>\n",
       "      <td>0.2</td>\n",
       "      <td>Iris-setosa</td>\n",
       "      <td>0</td>\n",
       "    </tr>\n",
       "    <tr>\n",
       "      <th>3</th>\n",
       "      <td>4.6</td>\n",
       "      <td>3.1</td>\n",
       "      <td>1.5</td>\n",
       "      <td>0.2</td>\n",
       "      <td>Iris-setosa</td>\n",
       "      <td>0</td>\n",
       "    </tr>\n",
       "    <tr>\n",
       "      <th>4</th>\n",
       "      <td>5.0</td>\n",
       "      <td>3.6</td>\n",
       "      <td>1.4</td>\n",
       "      <td>0.2</td>\n",
       "      <td>Iris-setosa</td>\n",
       "      <td>0</td>\n",
       "    </tr>\n",
       "  </tbody>\n",
       "</table>\n",
       "</div>"
      ],
      "text/plain": [
       "   sepallength  sepalwidth  petallength  petalwidth         iris  species_num\n",
       "0          5.1         3.5          1.4         0.2  Iris-setosa            0\n",
       "1          4.9         3.0          1.4         0.2  Iris-setosa            0\n",
       "2          4.7         3.2          1.3         0.2  Iris-setosa            0\n",
       "3          4.6         3.1          1.5         0.2  Iris-setosa            0\n",
       "4          5.0         3.6          1.4         0.2  Iris-setosa            0"
      ]
     },
     "execution_count": 5,
     "metadata": {},
     "output_type": "execute_result"
    }
   ],
   "source": [
    "iris_class = {'Iris-setosa':0,'Iris-versicolor':1,'Iris-virginica':2}\n",
    "data['species_num'] = [iris_class[i] for i in data.iris]\n",
    "data.head()"
   ]
  },
  {
   "cell_type": "code",
   "execution_count": 6,
   "id": "6e1840ff",
   "metadata": {},
   "outputs": [],
   "source": [
    "df_train = data.sample(frac = 0.7,random_state=12)\n",
    "df_valid = data.drop(df_train.index)"
   ]
  },
  {
   "cell_type": "code",
   "execution_count": 7,
   "id": "bcd253d8",
   "metadata": {},
   "outputs": [
    {
     "data": {
      "text/plain": [
       "(45, 6)"
      ]
     },
     "execution_count": 7,
     "metadata": {},
     "output_type": "execute_result"
    }
   ],
   "source": [
    "df_valid.shape"
   ]
  },
  {
   "cell_type": "code",
   "execution_count": 8,
   "id": "7a5f19e2",
   "metadata": {},
   "outputs": [],
   "source": [
    "X_train = df_train.drop(['petallength','iris','species_num'],axis = 1)\n",
    "X_valid = df_valid.drop(['petallength','iris','species_num'],axis = 1)\n",
    "\n",
    "y_train = df_train['petallength']\n",
    "y_valid = df_valid['petallength']\n",
    "\n",
    "z_train = df_train['species_num']\n",
    "z_valid = df_valid['species_num']"
   ]
  },
  {
   "cell_type": "code",
   "execution_count": 9,
   "id": "903cc7b6",
   "metadata": {},
   "outputs": [
    {
     "name": "stdout",
     "output_type": "stream",
     "text": [
      "(105, 3) (105,) (105,)\n",
      "(45, 3) (45,) (45,)\n"
     ]
    }
   ],
   "source": [
    "print(X_train.shape,y_train.shape,z_train.shape)\n",
    "print(X_valid.shape,y_valid.shape,z_valid.shape)"
   ]
  },
  {
   "cell_type": "code",
   "execution_count": 10,
   "id": "56874028",
   "metadata": {},
   "outputs": [],
   "source": [
    "inputs = Input(shape=(3,),name='input')\n",
    "x = Dense(16,activation='relu',name='16')(inputs)\n",
    "x = Dense(32,activation='relu',name='32')(x)\n",
    "output1 = Dense(1,name='cont_out')(x)\n",
    "output2 = Dense(3,activation='softmax',name='cat_out')(x)"
   ]
  },
  {
   "cell_type": "code",
   "execution_count": 11,
   "id": "a78dcdf6",
   "metadata": {},
   "outputs": [],
   "source": [
    "model = Model(inputs=inputs,outputs=[output1,output2])"
   ]
  },
  {
   "cell_type": "code",
   "execution_count": 12,
   "id": "71ea3518",
   "metadata": {},
   "outputs": [],
   "source": [
    "model.compile(loss={'cont_out':'mean_absolute_error',\n",
    "                   'cat_out':'sparse_categorical_crossentropy'},\n",
    "             optimizer='adam')"
   ]
  },
  {
   "cell_type": "code",
   "execution_count": 13,
   "id": "aba1f990",
   "metadata": {},
   "outputs": [
    {
     "name": "stdout",
     "output_type": "stream",
     "text": [
      "Model: \"model\"\n",
      "__________________________________________________________________________________________________\n",
      "Layer (type)                    Output Shape         Param #     Connected to                     \n",
      "==================================================================================================\n",
      "input (InputLayer)              [(None, 3)]          0                                            \n",
      "__________________________________________________________________________________________________\n",
      "16 (Dense)                      (None, 16)           64          input[0][0]                      \n",
      "__________________________________________________________________________________________________\n",
      "32 (Dense)                      (None, 32)           544         16[0][0]                         \n",
      "__________________________________________________________________________________________________\n",
      "cont_out (Dense)                (None, 1)            33          32[0][0]                         \n",
      "__________________________________________________________________________________________________\n",
      "cat_out (Dense)                 (None, 3)            99          32[0][0]                         \n",
      "==================================================================================================\n",
      "Total params: 740\n",
      "Trainable params: 740\n",
      "Non-trainable params: 0\n",
      "__________________________________________________________________________________________________\n"
     ]
    }
   ],
   "source": [
    "model.summary()"
   ]
  },
  {
   "cell_type": "code",
   "execution_count": 14,
   "id": "a2c01774",
   "metadata": {},
   "outputs": [
    {
     "data": {
      "image/png": "[encoded data removed]",
      "text/plain": [
       "<IPython.core.display.Image object>"
      ]
     },
     "execution_count": 14,
     "metadata": {},
     "output_type": "execute_result"
    }
   ],
   "source": [
    "from tensorflow.keras.utils import plot_model\n",
    "plot_model(model)"
   ]
  },
  {
   "cell_type": "code",
   "execution_count": 15,
   "id": "3718c1b7",
   "metadata": {},
   "outputs": [
    {
     "name": "stdout",
     "output_type": "stream",
     "text": [
      "Epoch 1/100\n",
      "4/4 [==============================] - 2s 61ms/step - loss: 4.5290 - cont_out_loss: 2.3468 - cat_out_loss: 2.1821 - val_loss: 4.2383 - val_cont_out_loss: 2.3959 - val_cat_out_loss: 1.8424\n",
      "Epoch 2/100\n",
      "4/4 [==============================] - 0s 11ms/step - loss: 4.0497 - cont_out_loss: 2.0310 - cat_out_loss: 2.0187 - val_loss: 3.8315 - val_cont_out_loss: 2.1064 - val_cat_out_loss: 1.7251\n",
      "Epoch 3/100\n",
      "4/4 [==============================] - 0s 11ms/step - loss: 3.6579 - cont_out_loss: 1.7804 - cat_out_loss: 1.8775 - val_loss: 3.5505 - val_cont_out_loss: 1.9213 - val_cat_out_loss: 1.6292\n",
      "Epoch 4/100\n",
      "4/4 [==============================] - 0s 11ms/step - loss: 3.4123 - cont_out_loss: 1.6590 - cat_out_loss: 1.7534 - val_loss: 3.3552 - val_cont_out_loss: 1.8099 - val_cat_out_loss: 1.5453\n",
      "Epoch 5/100\n",
      "4/4 [==============================] - 0s 11ms/step - loss: 3.2313 - cont_out_loss: 1.5912 - cat_out_loss: 1.6401 - val_loss: 3.1923 - val_cont_out_loss: 1.7142 - val_cat_out_loss: 1.4781\n",
      "Epoch 6/100\n",
      "4/4 [==============================] - 0s 11ms/step - loss: 3.0869 - cont_out_loss: 1.5308 - cat_out_loss: 1.5561 - val_loss: 3.0394 - val_cont_out_loss: 1.6229 - val_cat_out_loss: 1.4165\n",
      "Epoch 7/100\n",
      "4/4 [==============================] - 0s 10ms/step - loss: 2.9335 - cont_out_loss: 1.4627 - cat_out_loss: 1.4708 - val_loss: 2.8977 - val_cont_out_loss: 1.5349 - val_cat_out_loss: 1.3628\n",
      "Epoch 8/100\n",
      "4/4 [==============================] - 0s 11ms/step - loss: 2.8088 - cont_out_loss: 1.3990 - cat_out_loss: 1.4098 - val_loss: 2.7545 - val_cont_out_loss: 1.4433 - val_cat_out_loss: 1.3111\n",
      "Epoch 9/100\n",
      "4/4 [==============================] - 0s 10ms/step - loss: 2.6800 - cont_out_loss: 1.3297 - cat_out_loss: 1.3503 - val_loss: 2.6059 - val_cont_out_loss: 1.3433 - val_cat_out_loss: 1.2626\n",
      "Epoch 10/100\n",
      "4/4 [==============================] - 0s 11ms/step - loss: 2.5401 - cont_out_loss: 1.2474 - cat_out_loss: 1.2927 - val_loss: 2.4562 - val_cont_out_loss: 1.2387 - val_cat_out_loss: 1.2175\n",
      "Epoch 11/100\n",
      "4/4 [==============================] - 0s 11ms/step - loss: 2.4156 - cont_out_loss: 1.1701 - cat_out_loss: 1.2455 - val_loss: 2.2946 - val_cont_out_loss: 1.1184 - val_cat_out_loss: 1.1762\n",
      "Epoch 12/100\n",
      "4/4 [==============================] - 0s 11ms/step - loss: 2.2797 - cont_out_loss: 1.0780 - cat_out_loss: 1.2017 - val_loss: 2.1503 - val_cont_out_loss: 1.0047 - val_cat_out_loss: 1.1456\n",
      "Epoch 13/100\n",
      "4/4 [==============================] - 0s 10ms/step - loss: 2.1652 - cont_out_loss: 0.9935 - cat_out_loss: 1.1717 - val_loss: 2.0192 - val_cont_out_loss: 0.8982 - val_cat_out_loss: 1.1210\n",
      "Epoch 14/100\n",
      "4/4 [==============================] - 0s 11ms/step - loss: 2.0808 - cont_out_loss: 0.9317 - cat_out_loss: 1.1491 - val_loss: 1.9384 - val_cont_out_loss: 0.8371 - val_cat_out_loss: 1.1013\n",
      "Epoch 15/100\n",
      "4/4 [==============================] - 0s 9ms/step - loss: 2.0276 - cont_out_loss: 0.9005 - cat_out_loss: 1.1271 - val_loss: 1.9113 - val_cont_out_loss: 0.8250 - val_cat_out_loss: 1.0863\n",
      "Epoch 16/100\n",
      "4/4 [==============================] - 0s 11ms/step - loss: 2.0011 - cont_out_loss: 0.8946 - cat_out_loss: 1.1065 - val_loss: 1.8937 - val_cont_out_loss: 0.8154 - val_cat_out_loss: 1.0783\n",
      "Epoch 17/100\n",
      "4/4 [==============================] - 0s 10ms/step - loss: 1.9682 - cont_out_loss: 0.8791 - cat_out_loss: 1.0891 - val_loss: 1.8792 - val_cont_out_loss: 0.8024 - val_cat_out_loss: 1.0768\n",
      "Epoch 18/100\n",
      "4/4 [==============================] - 0s 11ms/step - loss: 1.9559 - cont_out_loss: 0.8716 - cat_out_loss: 1.0843 - val_loss: 1.8770 - val_cont_out_loss: 0.7989 - val_cat_out_loss: 1.0781\n",
      "Epoch 19/100\n",
      "4/4 [==============================] - 0s 10ms/step - loss: 1.9296 - cont_out_loss: 0.8538 - cat_out_loss: 1.0758 - val_loss: 1.8621 - val_cont_out_loss: 0.7897 - val_cat_out_loss: 1.0724\n",
      "Epoch 20/100\n",
      "4/4 [==============================] - 0s 10ms/step - loss: 1.9118 - cont_out_loss: 0.8445 - cat_out_loss: 1.0673 - val_loss: 1.8465 - val_cont_out_loss: 0.7798 - val_cat_out_loss: 1.0667\n",
      "Epoch 21/100\n",
      "4/4 [==============================] - 0s 11ms/step - loss: 1.8948 - cont_out_loss: 0.8344 - cat_out_loss: 1.0604 - val_loss: 1.8299 - val_cont_out_loss: 0.7706 - val_cat_out_loss: 1.0593\n",
      "Epoch 22/100\n",
      "4/4 [==============================] - 0s 9ms/step - loss: 1.8775 - cont_out_loss: 0.8251 - cat_out_loss: 1.0524 - val_loss: 1.8082 - val_cont_out_loss: 0.7598 - val_cat_out_loss: 1.0484\n",
      "Epoch 23/100\n",
      "4/4 [==============================] - 0s 12ms/step - loss: 1.8602 - cont_out_loss: 0.8148 - cat_out_loss: 1.0454 - val_loss: 1.7899 - val_cont_out_loss: 0.7503 - val_cat_out_loss: 1.0397\n",
      "Epoch 24/100\n",
      "4/4 [==============================] - 0s 15ms/step - loss: 1.8406 - cont_out_loss: 0.8043 - cat_out_loss: 1.0363 - val_loss: 1.7696 - val_cont_out_loss: 0.7413 - val_cat_out_loss: 1.0283\n",
      "Epoch 25/100\n",
      "4/4 [==============================] - 0s 14ms/step - loss: 1.8227 - cont_out_loss: 0.7930 - cat_out_loss: 1.0297 - val_loss: 1.7461 - val_cont_out_loss: 0.7315 - val_cat_out_loss: 1.0146\n",
      "Epoch 26/100\n",
      "4/4 [==============================] - 0s 11ms/step - loss: 1.8109 - cont_out_loss: 0.7864 - cat_out_loss: 1.0245 - val_loss: 1.7265 - val_cont_out_loss: 0.7231 - val_cat_out_loss: 1.0034\n",
      "Epoch 27/100\n",
      "4/4 [==============================] - 0s 10ms/step - loss: 1.7902 - cont_out_loss: 0.7741 - cat_out_loss: 1.0161 - val_loss: 1.7085 - val_cont_out_loss: 0.7128 - val_cat_out_loss: 0.9957\n",
      "Epoch 28/100\n",
      "4/4 [==============================] - 0s 10ms/step - loss: 1.7692 - cont_out_loss: 0.7608 - cat_out_loss: 1.0084 - val_loss: 1.6925 - val_cont_out_loss: 0.7036 - val_cat_out_loss: 0.9889\n",
      "Epoch 29/100\n",
      "4/4 [==============================] - 0s 11ms/step - loss: 1.7503 - cont_out_loss: 0.7499 - cat_out_loss: 1.0003 - val_loss: 1.6807 - val_cont_out_loss: 0.6969 - val_cat_out_loss: 0.9839\n",
      "Epoch 30/100\n",
      "4/4 [==============================] - 0s 10ms/step - loss: 1.7254 - cont_out_loss: 0.7342 - cat_out_loss: 0.9912 - val_loss: 1.6619 - val_cont_out_loss: 0.6846 - val_cat_out_loss: 0.9772\n",
      "Epoch 31/100\n",
      "4/4 [==============================] - 0s 10ms/step - loss: 1.7075 - cont_out_loss: 0.7243 - cat_out_loss: 0.9831 - val_loss: 1.6404 - val_cont_out_loss: 0.6717 - val_cat_out_loss: 0.9687\n",
      "Epoch 32/100\n",
      "4/4 [==============================] - 0s 10ms/step - loss: 1.6828 - cont_out_loss: 0.7089 - cat_out_loss: 0.9739 - val_loss: 1.6254 - val_cont_out_loss: 0.6615 - val_cat_out_loss: 0.9640\n",
      "Epoch 33/100\n",
      "4/4 [==============================] - 0s 10ms/step - loss: 1.6608 - cont_out_loss: 0.6955 - cat_out_loss: 0.9653 - val_loss: 1.6141 - val_cont_out_loss: 0.6531 - val_cat_out_loss: 0.9610\n",
      "Epoch 34/100\n",
      "4/4 [==============================] - 0s 10ms/step - loss: 1.6387 - cont_out_loss: 0.6823 - cat_out_loss: 0.9565 - val_loss: 1.5945 - val_cont_out_loss: 0.6395 - val_cat_out_loss: 0.9551\n",
      "Epoch 35/100\n",
      "4/4 [==============================] - 0s 9ms/step - loss: 1.6164 - cont_out_loss: 0.6687 - cat_out_loss: 0.9476 - val_loss: 1.5674 - val_cont_out_loss: 0.6229 - val_cat_out_loss: 0.9446\n",
      "Epoch 36/100\n",
      "4/4 [==============================] - 0s 10ms/step - loss: 1.5915 - cont_out_loss: 0.6533 - cat_out_loss: 0.9382 - val_loss: 1.5468 - val_cont_out_loss: 0.6097 - val_cat_out_loss: 0.9371\n",
      "Epoch 37/100\n",
      "4/4 [==============================] - 0s 9ms/step - loss: 1.5643 - cont_out_loss: 0.6356 - cat_out_loss: 0.9287 - val_loss: 1.5256 - val_cont_out_loss: 0.5986 - val_cat_out_loss: 0.9271\n",
      "Epoch 38/100\n",
      "4/4 [==============================] - 0s 10ms/step - loss: 1.5388 - cont_out_loss: 0.6201 - cat_out_loss: 0.9187 - val_loss: 1.5067 - val_cont_out_loss: 0.5880 - val_cat_out_loss: 0.9186\n",
      "Epoch 39/100\n",
      "4/4 [==============================] - 0s 10ms/step - loss: 1.5132 - cont_out_loss: 0.6043 - cat_out_loss: 0.9090 - val_loss: 1.4779 - val_cont_out_loss: 0.5693 - val_cat_out_loss: 0.9087\n",
      "Epoch 40/100\n",
      "4/4 [==============================] - 0s 10ms/step - loss: 1.4830 - cont_out_loss: 0.5847 - cat_out_loss: 0.8983 - val_loss: 1.4495 - val_cont_out_loss: 0.5510 - val_cat_out_loss: 0.8985\n",
      "Epoch 41/100\n",
      "4/4 [==============================] - 0s 9ms/step - loss: 1.4606 - cont_out_loss: 0.5719 - cat_out_loss: 0.8887 - val_loss: 1.4247 - val_cont_out_loss: 0.5357 - val_cat_out_loss: 0.8890\n"
     ]
    },
    {
     "name": "stdout",
     "output_type": "stream",
     "text": [
      "Epoch 42/100\n",
      "4/4 [==============================] - 0s 9ms/step - loss: 1.4304 - cont_out_loss: 0.5530 - cat_out_loss: 0.8774 - val_loss: 1.3975 - val_cont_out_loss: 0.5208 - val_cat_out_loss: 0.8767\n",
      "Epoch 43/100\n",
      "4/4 [==============================] - 0s 10ms/step - loss: 1.3985 - cont_out_loss: 0.5312 - cat_out_loss: 0.8674 - val_loss: 1.3629 - val_cont_out_loss: 0.4955 - val_cat_out_loss: 0.8674\n",
      "Epoch 44/100\n",
      "4/4 [==============================] - 0s 11ms/step - loss: 1.3540 - cont_out_loss: 0.4949 - cat_out_loss: 0.8591 - val_loss: 1.3159 - val_cont_out_loss: 0.4592 - val_cat_out_loss: 0.8567\n",
      "Epoch 45/100\n",
      "4/4 [==============================] - 0s 10ms/step - loss: 1.3092 - cont_out_loss: 0.4591 - cat_out_loss: 0.8501 - val_loss: 1.2810 - val_cont_out_loss: 0.4313 - val_cat_out_loss: 0.8497\n",
      "Epoch 46/100\n",
      "4/4 [==============================] - 0s 11ms/step - loss: 1.2682 - cont_out_loss: 0.4304 - cat_out_loss: 0.8378 - val_loss: 1.2516 - val_cont_out_loss: 0.4136 - val_cat_out_loss: 0.8381\n",
      "Epoch 47/100\n",
      "4/4 [==============================] - 0s 10ms/step - loss: 1.2290 - cont_out_loss: 0.4055 - cat_out_loss: 0.8236 - val_loss: 1.2088 - val_cont_out_loss: 0.3860 - val_cat_out_loss: 0.8228\n",
      "Epoch 48/100\n",
      "4/4 [==============================] - 0s 11ms/step - loss: 1.1993 - cont_out_loss: 0.3877 - cat_out_loss: 0.8117 - val_loss: 1.1765 - val_cont_out_loss: 0.3698 - val_cat_out_loss: 0.8067\n",
      "Epoch 49/100\n",
      "4/4 [==============================] - 0s 9ms/step - loss: 1.1649 - cont_out_loss: 0.3672 - cat_out_loss: 0.7977 - val_loss: 1.1383 - val_cont_out_loss: 0.3422 - val_cat_out_loss: 0.7961\n",
      "Epoch 50/100\n",
      "4/4 [==============================] - 0s 9ms/step - loss: 1.1295 - cont_out_loss: 0.3460 - cat_out_loss: 0.7835 - val_loss: 1.1352 - val_cont_out_loss: 0.3463 - val_cat_out_loss: 0.7889\n",
      "Epoch 51/100\n",
      "4/4 [==============================] - 0s 9ms/step - loss: 1.1003 - cont_out_loss: 0.3315 - cat_out_loss: 0.7688 - val_loss: 1.1072 - val_cont_out_loss: 0.3294 - val_cat_out_loss: 0.7778\n",
      "Epoch 52/100\n",
      "4/4 [==============================] - 0s 9ms/step - loss: 1.0636 - cont_out_loss: 0.3065 - cat_out_loss: 0.7571 - val_loss: 1.0476 - val_cont_out_loss: 0.2855 - val_cat_out_loss: 0.7621\n",
      "Epoch 53/100\n",
      "4/4 [==============================] - 0s 10ms/step - loss: 1.0202 - cont_out_loss: 0.2767 - cat_out_loss: 0.7435 - val_loss: 1.0225 - val_cont_out_loss: 0.2750 - val_cat_out_loss: 0.7475\n",
      "Epoch 54/100\n",
      "4/4 [==============================] - 0s 9ms/step - loss: 0.9945 - cont_out_loss: 0.2648 - cat_out_loss: 0.7297 - val_loss: 0.9968 - val_cont_out_loss: 0.2616 - val_cat_out_loss: 0.7352\n",
      "Epoch 55/100\n",
      "4/4 [==============================] - 0s 9ms/step - loss: 0.9651 - cont_out_loss: 0.2494 - cat_out_loss: 0.7157 - val_loss: 0.9894 - val_cont_out_loss: 0.2666 - val_cat_out_loss: 0.7228\n",
      "Epoch 56/100\n",
      "4/4 [==============================] - 0s 10ms/step - loss: 0.9375 - cont_out_loss: 0.2345 - cat_out_loss: 0.7030 - val_loss: 0.9588 - val_cont_out_loss: 0.2510 - val_cat_out_loss: 0.7078\n",
      "Epoch 57/100\n",
      "4/4 [==============================] - 0s 10ms/step - loss: 0.9185 - cont_out_loss: 0.2269 - cat_out_loss: 0.6915 - val_loss: 0.9441 - val_cont_out_loss: 0.2495 - val_cat_out_loss: 0.6946\n",
      "Epoch 58/100\n",
      "4/4 [==============================] - 0s 11ms/step - loss: 0.8997 - cont_out_loss: 0.2198 - cat_out_loss: 0.6799 - val_loss: 0.9358 - val_cont_out_loss: 0.2551 - val_cat_out_loss: 0.6807\n",
      "Epoch 59/100\n",
      "4/4 [==============================] - 0s 10ms/step - loss: 0.8866 - cont_out_loss: 0.2225 - cat_out_loss: 0.6641 - val_loss: 0.9141 - val_cont_out_loss: 0.2502 - val_cat_out_loss: 0.6640\n",
      "Epoch 60/100\n",
      "4/4 [==============================] - 0s 10ms/step - loss: 0.8662 - cont_out_loss: 0.2177 - cat_out_loss: 0.6486 - val_loss: 0.9078 - val_cont_out_loss: 0.2526 - val_cat_out_loss: 0.6553\n",
      "Epoch 61/100\n",
      "4/4 [==============================] - 0s 10ms/step - loss: 0.8548 - cont_out_loss: 0.2167 - cat_out_loss: 0.6381 - val_loss: 0.8982 - val_cont_out_loss: 0.2509 - val_cat_out_loss: 0.6474\n",
      "Epoch 62/100\n",
      "4/4 [==============================] - 0s 9ms/step - loss: 0.8418 - cont_out_loss: 0.2155 - cat_out_loss: 0.6263 - val_loss: 0.8907 - val_cont_out_loss: 0.2528 - val_cat_out_loss: 0.6380\n",
      "Epoch 63/100\n",
      "4/4 [==============================] - 0s 9ms/step - loss: 0.8307 - cont_out_loss: 0.2141 - cat_out_loss: 0.6167 - val_loss: 0.8830 - val_cont_out_loss: 0.2538 - val_cat_out_loss: 0.6292\n",
      "Epoch 64/100\n",
      "4/4 [==============================] - 0s 9ms/step - loss: 0.8181 - cont_out_loss: 0.2121 - cat_out_loss: 0.6060 - val_loss: 0.8774 - val_cont_out_loss: 0.2559 - val_cat_out_loss: 0.6215\n",
      "Epoch 65/100\n",
      "4/4 [==============================] - 0s 10ms/step - loss: 0.8060 - cont_out_loss: 0.2092 - cat_out_loss: 0.5969 - val_loss: 0.8655 - val_cont_out_loss: 0.2536 - val_cat_out_loss: 0.6119\n",
      "Epoch 66/100\n",
      "4/4 [==============================] - 0s 9ms/step - loss: 0.8091 - cont_out_loss: 0.2209 - cat_out_loss: 0.5882 - val_loss: 0.8565 - val_cont_out_loss: 0.2528 - val_cat_out_loss: 0.6037\n",
      "Epoch 67/100\n",
      "4/4 [==============================] - 0s 9ms/step - loss: 0.7938 - cont_out_loss: 0.2173 - cat_out_loss: 0.5766 - val_loss: 0.8652 - val_cont_out_loss: 0.2681 - val_cat_out_loss: 0.5971\n",
      "Epoch 68/100\n",
      "4/4 [==============================] - 0s 9ms/step - loss: 0.7895 - cont_out_loss: 0.2207 - cat_out_loss: 0.5688 - val_loss: 0.8380 - val_cont_out_loss: 0.2532 - val_cat_out_loss: 0.5848\n",
      "Epoch 69/100\n",
      "4/4 [==============================] - 0s 10ms/step - loss: 0.7748 - cont_out_loss: 0.2134 - cat_out_loss: 0.5614 - val_loss: 0.8308 - val_cont_out_loss: 0.2527 - val_cat_out_loss: 0.5781\n",
      "Epoch 70/100\n",
      "4/4 [==============================] - 0s 11ms/step - loss: 0.7647 - cont_out_loss: 0.2120 - cat_out_loss: 0.5528 - val_loss: 0.8263 - val_cont_out_loss: 0.2544 - val_cat_out_loss: 0.5720\n",
      "Epoch 71/100\n",
      "4/4 [==============================] - 0s 11ms/step - loss: 0.7547 - cont_out_loss: 0.2090 - cat_out_loss: 0.5456 - val_loss: 0.8204 - val_cont_out_loss: 0.2544 - val_cat_out_loss: 0.5660\n",
      "Epoch 72/100\n",
      "4/4 [==============================] - 0s 10ms/step - loss: 0.7535 - cont_out_loss: 0.2141 - cat_out_loss: 0.5395 - val_loss: 0.8157 - val_cont_out_loss: 0.2552 - val_cat_out_loss: 0.5605\n",
      "Epoch 73/100\n",
      "4/4 [==============================] - 0s 10ms/step - loss: 0.7435 - cont_out_loss: 0.2107 - cat_out_loss: 0.5327 - val_loss: 0.8155 - val_cont_out_loss: 0.2565 - val_cat_out_loss: 0.5590\n",
      "Epoch 74/100\n",
      "4/4 [==============================] - 0s 10ms/step - loss: 0.7486 - cont_out_loss: 0.2219 - cat_out_loss: 0.5267 - val_loss: 0.8168 - val_cont_out_loss: 0.2596 - val_cat_out_loss: 0.5572\n",
      "Epoch 75/100\n",
      "4/4 [==============================] - 0s 9ms/step - loss: 0.7264 - cont_out_loss: 0.2071 - cat_out_loss: 0.5192 - val_loss: 0.7993 - val_cont_out_loss: 0.2545 - val_cat_out_loss: 0.5448\n",
      "Epoch 76/100\n",
      "4/4 [==============================] - 0s 9ms/step - loss: 0.7456 - cont_out_loss: 0.2323 - cat_out_loss: 0.5133 - val_loss: 0.7916 - val_cont_out_loss: 0.2548 - val_cat_out_loss: 0.5368\n",
      "Epoch 77/100\n",
      "4/4 [==============================] - 0s 10ms/step - loss: 0.7247 - cont_out_loss: 0.2191 - cat_out_loss: 0.5056 - val_loss: 0.7938 - val_cont_out_loss: 0.2599 - val_cat_out_loss: 0.5339\n",
      "Epoch 78/100\n",
      "4/4 [==============================] - 0s 9ms/step - loss: 0.7230 - cont_out_loss: 0.2238 - cat_out_loss: 0.4992 - val_loss: 0.8041 - val_cont_out_loss: 0.2721 - val_cat_out_loss: 0.5320\n",
      "Epoch 79/100\n",
      "4/4 [==============================] - 0s 9ms/step - loss: 0.7105 - cont_out_loss: 0.2169 - cat_out_loss: 0.4936 - val_loss: 0.7741 - val_cont_out_loss: 0.2513 - val_cat_out_loss: 0.5228\n",
      "Epoch 80/100\n",
      "4/4 [==============================] - 0s 10ms/step - loss: 0.7082 - cont_out_loss: 0.2194 - cat_out_loss: 0.4888 - val_loss: 0.7699 - val_cont_out_loss: 0.2533 - val_cat_out_loss: 0.5165\n",
      "Epoch 81/100\n",
      "4/4 [==============================] - 0s 9ms/step - loss: 0.6958 - cont_out_loss: 0.2117 - cat_out_loss: 0.4841 - val_loss: 0.7712 - val_cont_out_loss: 0.2585 - val_cat_out_loss: 0.5127\n",
      "Epoch 82/100\n",
      "4/4 [==============================] - 0s 11ms/step - loss: 0.6931 - cont_out_loss: 0.2149 - cat_out_loss: 0.4782 - val_loss: 0.7643 - val_cont_out_loss: 0.2582 - val_cat_out_loss: 0.5060\n"
     ]
    },
    {
     "name": "stdout",
     "output_type": "stream",
     "text": [
      "Epoch 83/100\n",
      "4/4 [==============================] - 0s 10ms/step - loss: 0.6835 - cont_out_loss: 0.2099 - cat_out_loss: 0.4736 - val_loss: 0.7543 - val_cont_out_loss: 0.2561 - val_cat_out_loss: 0.4982\n",
      "Epoch 84/100\n",
      "4/4 [==============================] - 0s 12ms/step - loss: 0.6850 - cont_out_loss: 0.2145 - cat_out_loss: 0.4705 - val_loss: 0.7494 - val_cont_out_loss: 0.2545 - val_cat_out_loss: 0.4949\n",
      "Epoch 85/100\n",
      "4/4 [==============================] - 0s 11ms/step - loss: 0.6753 - cont_out_loss: 0.2103 - cat_out_loss: 0.4650 - val_loss: 0.7586 - val_cont_out_loss: 0.2635 - val_cat_out_loss: 0.4951\n",
      "Epoch 86/100\n",
      "4/4 [==============================] - 0s 11ms/step - loss: 0.6773 - cont_out_loss: 0.2172 - cat_out_loss: 0.4601 - val_loss: 0.7465 - val_cont_out_loss: 0.2560 - val_cat_out_loss: 0.4905\n",
      "Epoch 87/100\n",
      "4/4 [==============================] - 0s 9ms/step - loss: 0.6612 - cont_out_loss: 0.2065 - cat_out_loss: 0.4548 - val_loss: 0.7395 - val_cont_out_loss: 0.2538 - val_cat_out_loss: 0.4857\n",
      "Epoch 88/100\n",
      "4/4 [==============================] - 0s 9ms/step - loss: 0.6579 - cont_out_loss: 0.2087 - cat_out_loss: 0.4492 - val_loss: 0.7383 - val_cont_out_loss: 0.2540 - val_cat_out_loss: 0.4843\n",
      "Epoch 89/100\n",
      "4/4 [==============================] - 0s 9ms/step - loss: 0.6514 - cont_out_loss: 0.2066 - cat_out_loss: 0.4448 - val_loss: 0.7393 - val_cont_out_loss: 0.2557 - val_cat_out_loss: 0.4837\n",
      "Epoch 90/100\n",
      "4/4 [==============================] - 0s 9ms/step - loss: 0.6493 - cont_out_loss: 0.2084 - cat_out_loss: 0.4409 - val_loss: 0.7352 - val_cont_out_loss: 0.2559 - val_cat_out_loss: 0.4793\n",
      "Epoch 91/100\n",
      "4/4 [==============================] - 0s 9ms/step - loss: 0.6438 - cont_out_loss: 0.2076 - cat_out_loss: 0.4362 - val_loss: 0.7291 - val_cont_out_loss: 0.2564 - val_cat_out_loss: 0.4728\n",
      "Epoch 92/100\n",
      "4/4 [==============================] - 0s 9ms/step - loss: 0.6403 - cont_out_loss: 0.2089 - cat_out_loss: 0.4313 - val_loss: 0.7208 - val_cont_out_loss: 0.2558 - val_cat_out_loss: 0.4650\n",
      "Epoch 93/100\n",
      "4/4 [==============================] - 0s 9ms/step - loss: 0.6346 - cont_out_loss: 0.2076 - cat_out_loss: 0.4271 - val_loss: 0.7144 - val_cont_out_loss: 0.2552 - val_cat_out_loss: 0.4591\n",
      "Epoch 94/100\n",
      "4/4 [==============================] - 0s 10ms/step - loss: 0.6307 - cont_out_loss: 0.2075 - cat_out_loss: 0.4232 - val_loss: 0.7109 - val_cont_out_loss: 0.2549 - val_cat_out_loss: 0.4560\n",
      "Epoch 95/100\n",
      "4/4 [==============================] - 0s 10ms/step - loss: 0.6260 - cont_out_loss: 0.2070 - cat_out_loss: 0.4190 - val_loss: 0.7059 - val_cont_out_loss: 0.2525 - val_cat_out_loss: 0.4534\n",
      "Epoch 96/100\n",
      "4/4 [==============================] - 0s 10ms/step - loss: 0.6220 - cont_out_loss: 0.2064 - cat_out_loss: 0.4156 - val_loss: 0.7036 - val_cont_out_loss: 0.2524 - val_cat_out_loss: 0.4513\n",
      "Epoch 97/100\n",
      "4/4 [==============================] - 0s 9ms/step - loss: 0.6190 - cont_out_loss: 0.2068 - cat_out_loss: 0.4122 - val_loss: 0.7016 - val_cont_out_loss: 0.2530 - val_cat_out_loss: 0.4486\n",
      "Epoch 98/100\n",
      "4/4 [==============================] - 0s 10ms/step - loss: 0.6146 - cont_out_loss: 0.2062 - cat_out_loss: 0.4084 - val_loss: 0.6948 - val_cont_out_loss: 0.2530 - val_cat_out_loss: 0.4418\n",
      "Epoch 99/100\n",
      "4/4 [==============================] - 0s 10ms/step - loss: 0.6100 - cont_out_loss: 0.2058 - cat_out_loss: 0.4042 - val_loss: 0.6940 - val_cont_out_loss: 0.2545 - val_cat_out_loss: 0.4395\n",
      "Epoch 100/100\n",
      "4/4 [==============================] - 0s 11ms/step - loss: 0.6067 - cont_out_loss: 0.2063 - cat_out_loss: 0.4004 - val_loss: 0.6913 - val_cont_out_loss: 0.2541 - val_cat_out_loss: 0.4372\n"
     ]
    }
   ],
   "source": [
    "history = model.fit(X_train,{'cont_out':y_train,'cat_out':z_train},\n",
    "                   validation_data=(X_valid,{'cont_out':y_valid,'cat_out':z_valid}),\n",
    "                   epochs=100, batch_size = 32)"
   ]
  },
  {
   "cell_type": "code",
   "execution_count": 18,
   "id": "c7ce6dc6",
   "metadata": {},
   "outputs": [
    {
     "data": {
      "text/html": [
       "<div>\n",
       "<style scoped>\n",
       "    .dataframe tbody tr th:only-of-type {\n",
       "        vertical-align: middle;\n",
       "    }\n",
       "\n",
       "    .dataframe tbody tr th {\n",
       "        vertical-align: top;\n",
       "    }\n",
       "\n",
       "    .dataframe thead th {\n",
       "        text-align: right;\n",
       "    }\n",
       "</style>\n",
       "<table border=\"1\" class=\"dataframe\">\n",
       "  <thead>\n",
       "    <tr style=\"text-align: right;\">\n",
       "      <th></th>\n",
       "      <th>loss</th>\n",
       "      <th>cont_out_loss</th>\n",
       "      <th>cat_out_loss</th>\n",
       "      <th>val_loss</th>\n",
       "      <th>val_cont_out_loss</th>\n",
       "      <th>val_cat_out_loss</th>\n",
       "    </tr>\n",
       "  </thead>\n",
       "  <tbody>\n",
       "    <tr>\n",
       "      <th>0</th>\n",
       "      <td>4.528968</td>\n",
       "      <td>2.346840</td>\n",
       "      <td>2.182128</td>\n",
       "      <td>4.238306</td>\n",
       "      <td>2.395901</td>\n",
       "      <td>1.842404</td>\n",
       "    </tr>\n",
       "    <tr>\n",
       "      <th>1</th>\n",
       "      <td>4.049661</td>\n",
       "      <td>2.031000</td>\n",
       "      <td>2.018661</td>\n",
       "      <td>3.831524</td>\n",
       "      <td>2.106404</td>\n",
       "      <td>1.725119</td>\n",
       "    </tr>\n",
       "    <tr>\n",
       "      <th>2</th>\n",
       "      <td>3.657858</td>\n",
       "      <td>1.780354</td>\n",
       "      <td>1.877504</td>\n",
       "      <td>3.550509</td>\n",
       "      <td>1.921350</td>\n",
       "      <td>1.629160</td>\n",
       "    </tr>\n",
       "    <tr>\n",
       "      <th>3</th>\n",
       "      <td>3.412330</td>\n",
       "      <td>1.658960</td>\n",
       "      <td>1.753370</td>\n",
       "      <td>3.355200</td>\n",
       "      <td>1.809926</td>\n",
       "      <td>1.545274</td>\n",
       "    </tr>\n",
       "    <tr>\n",
       "      <th>4</th>\n",
       "      <td>3.231350</td>\n",
       "      <td>1.591213</td>\n",
       "      <td>1.640137</td>\n",
       "      <td>3.192290</td>\n",
       "      <td>1.714205</td>\n",
       "      <td>1.478085</td>\n",
       "    </tr>\n",
       "    <tr>\n",
       "      <th>...</th>\n",
       "      <td>...</td>\n",
       "      <td>...</td>\n",
       "      <td>...</td>\n",
       "      <td>...</td>\n",
       "      <td>...</td>\n",
       "      <td>...</td>\n",
       "    </tr>\n",
       "    <tr>\n",
       "      <th>95</th>\n",
       "      <td>0.621986</td>\n",
       "      <td>0.206377</td>\n",
       "      <td>0.415610</td>\n",
       "      <td>0.703637</td>\n",
       "      <td>0.252367</td>\n",
       "      <td>0.451270</td>\n",
       "    </tr>\n",
       "    <tr>\n",
       "      <th>96</th>\n",
       "      <td>0.619000</td>\n",
       "      <td>0.206758</td>\n",
       "      <td>0.412242</td>\n",
       "      <td>0.701584</td>\n",
       "      <td>0.252960</td>\n",
       "      <td>0.448624</td>\n",
       "    </tr>\n",
       "    <tr>\n",
       "      <th>97</th>\n",
       "      <td>0.614632</td>\n",
       "      <td>0.206184</td>\n",
       "      <td>0.408449</td>\n",
       "      <td>0.694818</td>\n",
       "      <td>0.252969</td>\n",
       "      <td>0.441849</td>\n",
       "    </tr>\n",
       "    <tr>\n",
       "      <th>98</th>\n",
       "      <td>0.609988</td>\n",
       "      <td>0.205820</td>\n",
       "      <td>0.404168</td>\n",
       "      <td>0.694029</td>\n",
       "      <td>0.254497</td>\n",
       "      <td>0.439532</td>\n",
       "    </tr>\n",
       "    <tr>\n",
       "      <th>99</th>\n",
       "      <td>0.606703</td>\n",
       "      <td>0.206258</td>\n",
       "      <td>0.400444</td>\n",
       "      <td>0.691345</td>\n",
       "      <td>0.254098</td>\n",
       "      <td>0.437247</td>\n",
       "    </tr>\n",
       "  </tbody>\n",
       "</table>\n",
       "<p>100 rows × 6 columns</p>\n",
       "</div>"
      ],
      "text/plain": [
       "        loss  cont_out_loss  cat_out_loss  val_loss  val_cont_out_loss  \\\n",
       "0   4.528968       2.346840      2.182128  4.238306           2.395901   \n",
       "1   4.049661       2.031000      2.018661  3.831524           2.106404   \n",
       "2   3.657858       1.780354      1.877504  3.550509           1.921350   \n",
       "3   3.412330       1.658960      1.753370  3.355200           1.809926   \n",
       "4   3.231350       1.591213      1.640137  3.192290           1.714205   \n",
       "..       ...            ...           ...       ...                ...   \n",
       "95  0.621986       0.206377      0.415610  0.703637           0.252367   \n",
       "96  0.619000       0.206758      0.412242  0.701584           0.252960   \n",
       "97  0.614632       0.206184      0.408449  0.694818           0.252969   \n",
       "98  0.609988       0.205820      0.404168  0.694029           0.254497   \n",
       "99  0.606703       0.206258      0.400444  0.691345           0.254098   \n",
       "\n",
       "    val_cat_out_loss  \n",
       "0           1.842404  \n",
       "1           1.725119  \n",
       "2           1.629160  \n",
       "3           1.545274  \n",
       "4           1.478085  \n",
       "..               ...  \n",
       "95          0.451270  \n",
       "96          0.448624  \n",
       "97          0.441849  \n",
       "98          0.439532  \n",
       "99          0.437247  \n",
       "\n",
       "[100 rows x 6 columns]"
      ]
     },
     "execution_count": 18,
     "metadata": {},
     "output_type": "execute_result"
    }
   ],
   "source": [
    "history_df = pd.DataFrame(history.history)\n",
    "history_df"
   ]
  },
  {
   "cell_type": "code",
   "execution_count": 19,
   "id": "2b9eeb23",
   "metadata": {},
   "outputs": [
    {
     "name": "stdout",
     "output_type": "stream",
     "text": [
      "Minimun loss: 0.6067026853561401\n"
     ]
    },
    {
     "data": {
      "image/png": "[encoded data removed]",
      "text/plain": [
       "<Figure size 432x288 with 1 Axes>"
      ]
     },
     "metadata": {
      "needs_background": "light"
     },
     "output_type": "display_data"
    }
   ],
   "source": [
    "history_df.loc[:,['loss','cont_out_loss','cat_out_loss']].plot()\n",
    "print(\"Minimun loss: {}\".format(history_df['loss'].min()))"
   ]
  },
  {
   "cell_type": "code",
   "execution_count": 20,
   "id": "139369d6",
   "metadata": {},
   "outputs": [],
   "source": [
    "y_z_hat_valid = model.predict(X_valid)"
   ]
  },
  {
   "cell_type": "code",
   "execution_count": 21,
   "id": "0df63a3d",
   "metadata": {},
   "outputs": [
    {
     "data": {
      "text/plain": [
       "array([[1.3267771],\n",
       "       [1.3097765],\n",
       "       [1.0579454],\n",
       "       [1.057724 ],\n",
       "       [1.63243  ]], dtype=float32)"
      ]
     },
     "execution_count": 21,
     "metadata": {},
     "output_type": "execute_result"
    }
   ],
   "source": [
    "y_z_hat_valid[0][:5]"
   ]
  },
  {
   "cell_type": "code",
   "execution_count": 22,
   "id": "07c13ac3",
   "metadata": {},
   "outputs": [
    {
     "data": {
      "text/plain": [
       "array([[0.88657725, 0.09699778, 0.01642496],\n",
       "       [0.92842823, 0.06217298, 0.00939884],\n",
       "       [0.90670305, 0.08029944, 0.01299754],\n",
       "       [0.9385188 , 0.05248027, 0.00900087],\n",
       "       [0.8532523 , 0.12772448, 0.01902329]], dtype=float32)"
      ]
     },
     "execution_count": 22,
     "metadata": {},
     "output_type": "execute_result"
    }
   ],
   "source": [
    "y_z_hat_valid[1][:5]"
   ]
  },
  {
   "cell_type": "code",
   "execution_count": 23,
   "id": "284201ab",
   "metadata": {},
   "outputs": [
    {
     "data": {
      "text/plain": [
       "array([[4.7209253],\n",
       "       [4.529364 ],\n",
       "       [5.9716935],\n",
       "       [4.9486437],\n",
       "       [5.4117856]], dtype=float32)"
      ]
     },
     "execution_count": 23,
     "metadata": {},
     "output_type": "execute_result"
    }
   ],
   "source": [
    "y_z_hat_valid[0][-5:]"
   ]
  },
  {
   "cell_type": "code",
   "execution_count": 24,
   "id": "9b3931d0",
   "metadata": {},
   "outputs": [],
   "source": [
    "import numpy as np"
   ]
  },
  {
   "cell_type": "code",
   "execution_count": 25,
   "id": "6843f3c7",
   "metadata": {},
   "outputs": [],
   "source": [
    "z_hat_valid = np.argmax(y_z_hat_valid[1],axis =-1)"
   ]
  },
  {
   "cell_type": "code",
   "execution_count": 26,
   "id": "f6096554",
   "metadata": {},
   "outputs": [
    {
     "data": {
      "text/plain": [
       "array([0, 0, 0, 0, 0], dtype=int64)"
      ]
     },
     "execution_count": 26,
     "metadata": {},
     "output_type": "execute_result"
    }
   ],
   "source": [
    "z_hat_valid[:5]"
   ]
  },
  {
   "cell_type": "code",
   "execution_count": 29,
   "id": "f5b05830",
   "metadata": {},
   "outputs": [
    {
     "data": {
      "text/plain": [
       "array([1, 1, 2, 2, 2], dtype=int64)"
      ]
     },
     "execution_count": 29,
     "metadata": {},
     "output_type": "execute_result"
    }
   ],
   "source": [
    "z_hat_valid[-5:]"
   ]
  },
  {
   "cell_type": "code",
   "execution_count": 30,
   "id": "8ab285a7",
   "metadata": {},
   "outputs": [
    {
     "data": {
      "text/plain": [
       "3     1.5\n",
       "4     1.4\n",
       "13    1.1\n",
       "22    1.0\n",
       "25    1.6\n",
       "Name: petallength, dtype: float64"
      ]
     },
     "execution_count": 30,
     "metadata": {},
     "output_type": "execute_result"
    }
   ],
   "source": [
    "y_valid[:5]"
   ]
  },
  {
   "cell_type": "code",
   "execution_count": 31,
   "id": "99bf329e",
   "metadata": {},
   "outputs": [
    {
     "data": {
      "text/plain": [
       "40     0\n",
       "146    2\n",
       "38     0\n",
       "99     1\n",
       "143    2\n",
       "Name: species_num, dtype: int64"
      ]
     },
     "execution_count": 31,
     "metadata": {},
     "output_type": "execute_result"
    }
   ],
   "source": [
    "z_train[:5]"
   ]
  },
  {
   "cell_type": "code",
   "execution_count": 32,
   "id": "9dcacefb",
   "metadata": {},
   "outputs": [],
   "source": [
    "from sklearn.metrics import confusion_matrix"
   ]
  },
  {
   "cell_type": "code",
   "execution_count": 33,
   "id": "95ae37b6",
   "metadata": {},
   "outputs": [
    {
     "data": {
      "text/plain": [
       "array([[13,  0,  0],\n",
       "       [ 0, 14,  0],\n",
       "       [ 0,  5, 13]], dtype=int64)"
      ]
     },
     "execution_count": 33,
     "metadata": {},
     "output_type": "execute_result"
    }
   ],
   "source": [
    "confusion_matrix(z_valid,z_hat_valid)"
   ]
  },
  {
   "cell_type": "code",
   "execution_count": null,
   "id": "46938069",
   "metadata": {},
   "outputs": [],
   "source": []
  }
 ],
 "metadata": {
  "kernelspec": {
   "display_name": "Python 3",
   "language": "python",
   "name": "python3"
  },
  "language_info": {
   "codemirror_mode": {
    "name": "ipython",
    "version": 3
   },
   "file_extension": ".py",
   "mimetype": "text/x-python",
   "name": "python",
   "nbconvert_exporter": "python",
   "pygments_lexer": "ipython3",
   "version": "3.8.8"
  }
 },
 "nbformat": 4,
 "nbformat_minor": 5
}
