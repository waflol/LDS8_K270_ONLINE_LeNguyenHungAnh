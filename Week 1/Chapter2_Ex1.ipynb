{
 "cells": [
  {
   "cell_type": "code",
   "execution_count": 1,
   "id": "53cd1603",
   "metadata": {},
   "outputs": [],
   "source": [
    "import warnings\n",
    "warnings.filterwarnings('ignore')"
   ]
  },
  {
   "cell_type": "code",
   "execution_count": 2,
   "id": "5cd2ec45",
   "metadata": {},
   "outputs": [],
   "source": [
    "from __future__ import print_function\n",
    "import tensorflow as tf\n",
    "import numpy as np"
   ]
  },
  {
   "cell_type": "markdown",
   "id": "519f9d8a",
   "metadata": {},
   "source": [
    "<h1>Constant Value Tensors</h1>\n",
    "<h2> Câu 1: Tạo một tensor có shape [2, 3] với tất cả các phần tử ban đầu = 0 </h2>"
   ]
  },
  {
   "cell_type": "code",
   "execution_count": 3,
   "id": "a89bea5d",
   "metadata": {},
   "outputs": [],
   "source": [
    "tensor = tf.zeros((2,3))"
   ]
  },
  {
   "cell_type": "code",
   "execution_count": 4,
   "id": "3c25d5ed",
   "metadata": {},
   "outputs": [
    {
     "data": {
      "text/plain": [
       "<tf.Tensor: shape=(2, 3), dtype=float32, numpy=\n",
       "array([[0., 0., 0.],\n",
       "       [0., 0., 0.]], dtype=float32)>"
      ]
     },
     "execution_count": 4,
     "metadata": {},
     "output_type": "execute_result"
    }
   ],
   "source": [
    "tensor"
   ]
  },
  {
   "cell_type": "markdown",
   "id": "5cc39ec4",
   "metadata": {},
   "source": [
    "<h2>Câu 2: Cho X là một tensor như sau [[1,2,3], [4,5,6]]. Tạo 1 tensor có cùng shape và dtype như X với các phần tử ban đầu = 0</h2>"
   ]
  },
  {
   "cell_type": "code",
   "execution_count": 5,
   "id": "0e0ebdbb",
   "metadata": {},
   "outputs": [],
   "source": [
    "tensor2_1 = tf.constant([[1,2,3],[4,5,6]],)"
   ]
  },
  {
   "cell_type": "code",
   "execution_count": 6,
   "id": "6b3885b0",
   "metadata": {},
   "outputs": [
    {
     "data": {
      "text/plain": [
       "<tf.Tensor: shape=(2, 3), dtype=int32, numpy=\n",
       "array([[1, 2, 3],\n",
       "       [4, 5, 6]])>"
      ]
     },
     "execution_count": 6,
     "metadata": {},
     "output_type": "execute_result"
    }
   ],
   "source": [
    "tensor2_1"
   ]
  },
  {
   "cell_type": "code",
   "execution_count": 7,
   "id": "e409eda2",
   "metadata": {},
   "outputs": [
    {
     "data": {
      "text/plain": [
       "<tf.Tensor: shape=(2, 3), dtype=float32, numpy=\n",
       "array([[0., 0., 0.],\n",
       "       [0., 0., 0.]], dtype=float32)>"
      ]
     },
     "execution_count": 7,
     "metadata": {},
     "output_type": "execute_result"
    }
   ],
   "source": [
    "tensor2_2 = tf.zeros(tensor2_1.shape)\n",
    "tensor2_2"
   ]
  },
  {
   "cell_type": "markdown",
   "id": "a77eb9df",
   "metadata": {},
   "source": [
    "<h2>Câu 3: Tạo một tensor có shape [2, 3] với tất cả các phần tử ban đầu là 1</h2>"
   ]
  },
  {
   "cell_type": "code",
   "execution_count": 8,
   "id": "396208c5",
   "metadata": {},
   "outputs": [
    {
     "data": {
      "text/plain": [
       "<tf.Tensor: shape=(2, 3), dtype=float32, numpy=\n",
       "array([[1., 1., 1.],\n",
       "       [1., 1., 1.]], dtype=float32)>"
      ]
     },
     "execution_count": 8,
     "metadata": {},
     "output_type": "execute_result"
    }
   ],
   "source": [
    "tensor3 = tf.ones((2,3))\n",
    "tensor3"
   ]
  },
  {
   "cell_type": "markdown",
   "id": "09290de7",
   "metadata": {},
   "source": [
    "<h2>Câu 4: Cho X là một tensor như sau [[1,2,3], [4,5,6]]. Tạo 1 tensor có cùng shape và dtype như X với các phần tử ban đầu = 1</h2>"
   ]
  },
  {
   "cell_type": "code",
   "execution_count": 9,
   "id": "4f9a021d",
   "metadata": {},
   "outputs": [
    {
     "data": {
      "text/plain": [
       "<tf.Tensor: shape=(2, 3), dtype=int32, numpy=\n",
       "array([[1, 2, 3],\n",
       "       [4, 5, 6]])>"
      ]
     },
     "execution_count": 9,
     "metadata": {},
     "output_type": "execute_result"
    }
   ],
   "source": [
    "tensor4_1 = tf.constant([[1,2,3],[4,5,6]])\n",
    "tensor4_1"
   ]
  },
  {
   "cell_type": "code",
   "execution_count": 10,
   "id": "9e4b1e99",
   "metadata": {},
   "outputs": [
    {
     "data": {
      "text/plain": [
       "<tf.Tensor: shape=(2, 3), dtype=float32, numpy=\n",
       "array([[1., 1., 1.],\n",
       "       [1., 1., 1.]], dtype=float32)>"
      ]
     },
     "execution_count": 10,
     "metadata": {},
     "output_type": "execute_result"
    }
   ],
   "source": [
    "tensor4_2 = tf.ones(tensor4_1.shape)\n",
    "tensor4_2"
   ]
  },
  {
   "cell_type": "markdown",
   "id": "8af8b43d",
   "metadata": {},
   "source": [
    "<h2>Câu 5: Tạo một tensor có shape [3, 2] với tất cả các phần tử ban đầu là 5</h2>"
   ]
  },
  {
   "cell_type": "code",
   "execution_count": 11,
   "id": "8fc681b9",
   "metadata": {},
   "outputs": [],
   "source": [
    "tensor5 = tf.ones((3,2))*5"
   ]
  },
  {
   "cell_type": "code",
   "execution_count": 12,
   "id": "e16f18f9",
   "metadata": {},
   "outputs": [
    {
     "data": {
      "text/plain": [
       "<tf.Tensor: shape=(3, 2), dtype=float32, numpy=\n",
       "array([[5., 5.],\n",
       "       [5., 5.],\n",
       "       [5., 5.]], dtype=float32)>"
      ]
     },
     "execution_count": 12,
     "metadata": {},
     "output_type": "execute_result"
    }
   ],
   "source": [
    "tensor5"
   ]
  },
  {
   "cell_type": "markdown",
   "id": "b08f4995",
   "metadata": {},
   "source": [
    "<h2>Câu 6: Tạo một constant tensor [[1, 3, 5], [4, 6, 8]], dtype=float32</h2>"
   ]
  },
  {
   "cell_type": "code",
   "execution_count": 13,
   "id": "fb173f55",
   "metadata": {},
   "outputs": [
    {
     "data": {
      "text/plain": [
       "<tf.Tensor: shape=(2, 3), dtype=float32, numpy=\n",
       "array([[1., 3., 5.],\n",
       "       [4., 6., 8.]], dtype=float32)>"
      ]
     },
     "execution_count": 13,
     "metadata": {},
     "output_type": "execute_result"
    }
   ],
   "source": [
    "tensor6 = tf.constant([[1,3,5],[4,6,8]],dtype='float32')\n",
    "tensor6"
   ]
  },
  {
   "cell_type": "markdown",
   "id": "ae6c7f31",
   "metadata": {},
   "source": [
    "<h2>Câu 7: Tạo một constant tensor có shape [2, 3], với tất cả các phần tử ban đầu là 4</h2>"
   ]
  },
  {
   "cell_type": "code",
   "execution_count": 14,
   "id": "24cd4954",
   "metadata": {},
   "outputs": [
    {
     "data": {
      "text/plain": [
       "<tf.Tensor: shape=(2, 3), dtype=float32, numpy=\n",
       "array([[4., 4., 4.],\n",
       "       [4., 4., 4.]], dtype=float32)>"
      ]
     },
     "execution_count": 14,
     "metadata": {},
     "output_type": "execute_result"
    }
   ],
   "source": [
    "tensor7 = tf.ones((2,3))*4\n",
    "tensor7"
   ]
  },
  {
   "cell_type": "markdown",
   "id": "9820b29c",
   "metadata": {},
   "source": [
    "<h1>Sequence</h1>\n",
    "<h2>Câu 1: Tạo 1-D tensor gồm 50 phần tử khoảng cách đều nhau từ 5 đến 10</h2>"
   ]
  },
  {
   "cell_type": "code",
   "execution_count": 15,
   "id": "9f911592",
   "metadata": {},
   "outputs": [
    {
     "data": {
      "text/plain": [
       "<tf.Tensor: shape=(11,), dtype=int32, numpy=array([ 0,  5, 10, 15, 20, 25, 30, 35, 40, 45, 50])>"
      ]
     },
     "execution_count": 15,
     "metadata": {},
     "output_type": "execute_result"
    }
   ],
   "source": [
    "tensorS_1 = tf.constant([x for x in range(51) if x%5 == 0])\n",
    "tensorS_1"
   ]
  },
  {
   "cell_type": "markdown",
   "id": "7f9def8c",
   "metadata": {},
   "source": [
    "<h2>Câu 2: Tạo 1 tensor như sau: [10, 12, 14, 16, ..., 100]</h2>"
   ]
  },
  {
   "cell_type": "code",
   "execution_count": 16,
   "id": "7664c9ee",
   "metadata": {},
   "outputs": [
    {
     "data": {
      "text/plain": [
       "<tf.Tensor: shape=(46,), dtype=int32, numpy=\n",
       "array([ 10,  12,  14,  16,  18,  20,  22,  24,  26,  28,  30,  32,  34,\n",
       "        36,  38,  40,  42,  44,  46,  48,  50,  52,  54,  56,  58,  60,\n",
       "        62,  64,  66,  68,  70,  72,  74,  76,  78,  80,  82,  84,  86,\n",
       "        88,  90,  92,  94,  96,  98, 100])>"
      ]
     },
     "execution_count": 16,
     "metadata": {},
     "output_type": "execute_result"
    }
   ],
   "source": [
    "tensorS_2 = tf.constant([x for x in range(101) if x >= 10 and x %2 == 0])\n",
    "tensorS_2"
   ]
  },
  {
   "cell_type": "markdown",
   "id": "1322195a",
   "metadata": {},
   "source": [
    "<h1>Random Tensor</h1>\n",
    "<h2>Câu 1: Tạo một tensor ngẫu nhiên có shape [3, 2], với các phần tử từ phân bố chuẩn của giá\n",
    "trị trung bình = 0 (normal distribution of mean), độ lệch chuẩn = 2 (standard deviation)</h2>"
   ]
  },
  {
   "cell_type": "code",
   "execution_count": 19,
   "id": "6b4a63ea",
   "metadata": {},
   "outputs": [
    {
     "data": {
      "text/plain": [
       "[4.224221244631331,\n",
       " -1.3348601642141702,\n",
       " 4.947399467080647,\n",
       " 0.7505069823240245,\n",
       " -0.9842961075146182,\n",
       " 1.0857023487639779]"
      ]
     },
     "execution_count": 19,
     "metadata": {},
     "output_type": "execute_result"
    }
   ],
   "source": [
    "import random\n",
    "import math\n",
    "list_x = [random.gauss(0,2) for i in range(6)]\n",
    "list_x"
   ]
  },
  {
   "cell_type": "code",
   "execution_count": 20,
   "id": "ea7ba6f0",
   "metadata": {},
   "outputs": [],
   "source": [
    "tensorR_1 = tf.constant(list_x,shape=(3,2))"
   ]
  },
  {
   "cell_type": "code",
   "execution_count": 21,
   "id": "9b2153ab",
   "metadata": {},
   "outputs": [
    {
     "data": {
      "text/plain": [
       "<tf.Tensor: shape=(3, 2), dtype=float32, numpy=\n",
       "array([[ 4.224221 , -1.3348602],\n",
       "       [ 4.9473996,  0.750507 ],\n",
       "       [-0.9842961,  1.0857023]], dtype=float32)>"
      ]
     },
     "execution_count": 21,
     "metadata": {},
     "output_type": "execute_result"
    }
   ],
   "source": [
    "tensorR_1"
   ]
  },
  {
   "cell_type": "markdown",
   "id": "90f26bbb",
   "metadata": {},
   "source": [
    "<h2>Câu 2: Tạo một random tensor có shape [3, 2], với các phần tử nằm trong một uniform distribution trong khoảng từ 0 đến 2.</h2>"
   ]
  },
  {
   "cell_type": "code",
   "execution_count": 26,
   "id": "c77d76ed",
   "metadata": {},
   "outputs": [
    {
     "data": {
      "text/plain": [
       "[0.8489060743117474,\n",
       " 1.391054489613894,\n",
       " 0.08624532481157465,\n",
       " 0.6525202035660977,\n",
       " 0.4876313481221013,\n",
       " 0.4202519267515181]"
      ]
     },
     "execution_count": 26,
     "metadata": {},
     "output_type": "execute_result"
    }
   ],
   "source": [
    "list_x2 = []\n",
    "while len(list_x2) < 6:\n",
    "    x = random.gauss(2,4)\n",
    "    if x <= 2 and x>=0:\n",
    "        list_x2.append(x)\n",
    "list_x2"
   ]
  },
  {
   "cell_type": "code",
   "execution_count": null,
   "id": "d8be186f",
   "metadata": {},
   "outputs": [],
   "source": [
    "tem"
   ]
  }
 ],
 "metadata": {
  "kernelspec": {
   "display_name": "Python 3",
   "language": "python",
   "name": "python3"
  },
  "language_info": {
   "codemirror_mode": {
    "name": "ipython",
    "version": 3
   },
   "file_extension": ".py",
   "mimetype": "text/x-python",
   "name": "python",
   "nbconvert_exporter": "python",
   "pygments_lexer": "ipython3",
   "version": "3.8.8"
  }
 },
 "nbformat": 4,
 "nbformat_minor": 5
}
