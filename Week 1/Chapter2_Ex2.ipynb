{
 "cells": [
  {
   "cell_type": "code",
   "execution_count": 1,
   "id": "a7d567ae",
   "metadata": {},
   "outputs": [],
   "source": [
    "import warnings\n",
    "warnings.filterwarnings('ignore')"
   ]
  },
  {
   "cell_type": "code",
   "execution_count": 2,
   "id": "391874c1",
   "metadata": {},
   "outputs": [],
   "source": [
    "from __future__ import print_function\n",
    "import tensorflow as tf\n",
    "import numpy as np\n"
   ]
  },
  {
   "cell_type": "markdown",
   "id": "5cede890",
   "metadata": {},
   "source": [
    "### Cộng"
   ]
  },
  {
   "cell_type": "code",
   "execution_count": 3,
   "id": "26532a02",
   "metadata": {},
   "outputs": [
    {
     "name": "stdout",
     "output_type": "stream",
     "text": [
      "Tensor Add: [0 0 0]\n",
      "Numpy Add: array([0, 0, 0])\n"
     ]
    }
   ],
   "source": [
    "_x = np.array([1, 2, 3])\n",
    "_y = np.array([-1, -2, -3])\n",
    "x = tf.convert_to_tensor(_x)\n",
    "y = tf.convert_to_tensor(_y)\n",
    "out1 = tf.add(x, y)\n",
    "out2 = x + y \n",
    "tf.print(\"Tensor Add:\", out1)\n",
    "_out = np.add(_x, _y)\n",
    "tf.print(\"Numpy Add:\", _out)\n"
   ]
  },
  {
   "cell_type": "markdown",
   "id": "e09947cd",
   "metadata": {},
   "source": [
    "### Trừ"
   ]
  },
  {
   "cell_type": "code",
   "execution_count": 4,
   "id": "66dbd9a2",
   "metadata": {},
   "outputs": [
    {
     "name": "stdout",
     "output_type": "stream",
     "text": [
      "Tensor Sub: [0 1 2]\n",
      "Numpy Sub: array([0, 1, 2])\n"
     ]
    }
   ],
   "source": [
    "_x = np.array([3, 4, 5])\n",
    "_y = np.array(3)\n",
    "x = tf.convert_to_tensor(_x)\n",
    "y = tf.convert_to_tensor(_y)\n",
    "out1 = tf.subtract(x, y)\n",
    "out2 = x - y\n",
    "tf.print(\"Tensor Sub:\", out1)\n",
    "_out = np.subtract(_x, _y)\n",
    "tf.print(\"Numpy Sub:\", _out)"
   ]
  },
  {
   "cell_type": "markdown",
   "id": "166afed6",
   "metadata": {},
   "source": [
    "### Nhân"
   ]
  },
  {
   "cell_type": "code",
   "execution_count": 5,
   "id": "d7fe9f05",
   "metadata": {},
   "outputs": [
    {
     "name": "stdout",
     "output_type": "stream",
     "text": [
      "Tensor Mul: [3 0 -5]\n",
      "Numpy Mul: array([ 3,  0, -5])\n"
     ]
    }
   ],
   "source": [
    "_x = np.array([3, 4, 5])\n",
    "_y = np.array([1, 0, -1])\n",
    "x = tf.convert_to_tensor(_x)\n",
    "y = tf.convert_to_tensor(_y)\n",
    "out1 = tf.multiply(x, y)\n",
    "out2 = x * y\n",
    "tf.print(\"Tensor Mul:\", out1)\n",
    "_out = np.multiply(_x, _y)\n",
    "tf.print(\"Numpy Mul:\", _out)"
   ]
  },
  {
   "cell_type": "markdown",
   "id": "c53b8cc5",
   "metadata": {},
   "source": [
    "### Chia"
   ]
  },
  {
   "cell_type": "code",
   "execution_count": 6,
   "id": "6c6a7c1e",
   "metadata": {},
   "outputs": [
    {
     "name": "stdout",
     "output_type": "stream",
     "text": [
      "Tensor Divide: [5 6.666666666666667 6]\n",
      "Tensor True Div: [5 6.666666666666667 6]\n"
     ]
    }
   ],
   "source": [
    "_x = np.array([10, 20, 30], np.int32)\n",
    "_y = np.array([2, 3, 5], np.int32)\n",
    "x = tf.convert_to_tensor(_x)\n",
    "y = tf.convert_to_tensor(_y)\n",
    "out1 = tf.divide(x, y)\n",
    "out2 = tf.truediv(x, y)\n",
    "tf.print(\"Tensor Divide:\", out1)\n",
    "tf.print(\"Tensor True Div:\", out2)"
   ]
  },
  {
   "cell_type": "code",
   "execution_count": 7,
   "id": "0561402f",
   "metadata": {},
   "outputs": [
    {
     "name": "stdout",
     "output_type": "stream",
     "text": [
      "Numpy Div: array([5, 6, 6], dtype=int32)\n",
      "Numpy True Div: array([5.        , 6.66666667, 6.        ])\n"
     ]
    }
   ],
   "source": [
    "_out1 = _x / _y\n",
    "_out2 = _x // _y\n",
    "tf.print(\"Numpy Div:\", _out2)\n",
    "tf.print(\"Numpy True Div:\", _out1)\n"
   ]
  },
  {
   "cell_type": "markdown",
   "id": "dda526a6",
   "metadata": {},
   "source": [
    "### Các hàm toán học cơ bản"
   ]
  },
  {
   "cell_type": "code",
   "execution_count": 8,
   "id": "b6885f15",
   "metadata": {},
   "outputs": [
    {
     "name": "stdout",
     "output_type": "stream",
     "text": [
      "[12 15 18]\n",
      "[12 15 18]\n"
     ]
    }
   ],
   "source": [
    "_x = np.array([1, 2, 3], np.int32)\n",
    "_y = np.array([4, 5, 6], np.int32)\n",
    "_z = np.array([7, 8, 9], np.int32)\n",
    "x = tf.convert_to_tensor(_x)\n",
    "y = tf.convert_to_tensor(_y)\n",
    "z = tf.convert_to_tensor(_z)\n",
    "out1 = tf.add_n([x, y, z])\n",
    "out2 = x + y + z\n",
    "tf.print(out1)\n",
    "tf.print(out2)\n"
   ]
  },
  {
   "cell_type": "code",
   "execution_count": 9,
   "id": "7c9b87a8",
   "metadata": {},
   "outputs": [
    {
     "name": "stdout",
     "output_type": "stream",
     "text": [
      "[[1 1]\n",
      " [3 3]]\r\n"
     ]
    }
   ],
   "source": [
    "_X = np.array([[1, -1], [3, -3]])\n",
    "X = tf.convert_to_tensor(_X)\n",
    "out = tf.abs(X)\n",
    "tf.print(out)"
   ]
  },
  {
   "cell_type": "code",
   "execution_count": 10,
   "id": "848830b7",
   "metadata": {},
   "outputs": [
    {
     "name": "stdout",
     "output_type": "stream",
     "text": [
      "[-1 1]\n",
      "[-1 1]\n"
     ]
    }
   ],
   "source": [
    "_x = np.array([1, -1])\n",
    "x = tf.convert_to_tensor(_x)\n",
    "out1 = tf.negative(x)\n",
    "out2 = -x\n",
    "tf.print(out1)\n",
    "tf.print(out2)\n"
   ]
  },
  {
   "cell_type": "code",
   "execution_count": 12,
   "id": "418aeba2",
   "metadata": {},
   "outputs": [
    {
     "name": "stdout",
     "output_type": "stream",
     "text": [
      "[1 1 0 -1 -1]\n",
      "array([ 1,  1,  0, -1, -1])\n"
     ]
    }
   ],
   "source": [
    "_x = np.array([1, 3, 0, -1, -3])\n",
    "x = tf.convert_to_tensor(_x)\n",
    "out = tf.sign(x)\n",
    "tf.print(out)\n",
    "_out = np.sign(_x)\n",
    "tf.print(_out)"
   ]
  },
  {
   "cell_type": "code",
   "execution_count": 13,
   "id": "99d3bd67",
   "metadata": {},
   "outputs": [
    {
     "name": "stdout",
     "output_type": "stream",
     "text": [
      "[1 4 1]\n",
      "array([1, 4, 1], dtype=int32)\n"
     ]
    }
   ],
   "source": [
    "_x = np.array([1, 2, -1])\n",
    "x = tf.convert_to_tensor(_x)\n",
    "out1 = tf.square(x)\n",
    "out2 = x * x\n",
    "tf.print(out1)\n",
    "_out = np.square(_x)\n",
    "tf.print(_out)"
   ]
  },
  {
   "cell_type": "code",
   "execution_count": 14,
   "id": "e60ec4d7",
   "metadata": {},
   "outputs": [
    {
     "name": "stdout",
     "output_type": "stream",
     "text": [
      "[2 2 2 ... -2 -2 -3]\n",
      "[2 1 2 ... -3 -3 -3]\n"
     ]
    }
   ],
   "source": [
    "_x = np.array([2.1, 1.5, 2.5, 2.9, -2.1, -2.5, -2.9])\n",
    "x = tf.convert_to_tensor(_x)\n",
    "out1 = tf.round(x)\n",
    "out2 = tf.floor(x)\n",
    "tf.print(out1)\n",
    "tf.print(out2)\n"
   ]
  },
  {
   "cell_type": "code",
   "execution_count": 15,
   "id": "9bea4baa",
   "metadata": {},
   "outputs": [
    {
     "name": "stdout",
     "output_type": "stream",
     "text": [
      "[1 2 3]\r\n"
     ]
    }
   ],
   "source": [
    "_x = np.array([1, 4, 9], dtype=np.float32)\n",
    "x = tf.convert_to_tensor(_x)\n",
    "out = tf.sqrt(x)\n",
    "tf.print(out)\n"
   ]
  },
  {
   "cell_type": "code",
   "execution_count": 16,
   "id": "0758506b",
   "metadata": {},
   "outputs": [
    {
     "name": "stdout",
     "output_type": "stream",
     "text": [
      "[[1 4]\n",
      " [3 16]]\r\n"
     ]
    }
   ],
   "source": [
    "_x = np.array([[1, 2], [3, 4]])\n",
    "_y = np.array([[1, 2], [1, 2]])\n",
    "x = tf.convert_to_tensor(_x)\n",
    "y = tf.convert_to_tensor(_y)\n",
    "out = tf.pow(x, y)\n",
    "tf.print(out)"
   ]
  },
  {
   "cell_type": "code",
   "execution_count": 21,
   "id": "0dacb8d6",
   "metadata": {},
   "outputs": [
    {
     "data": {
      "text/plain": [
       "<tf.Tensor: shape=(3,), dtype=int32, numpy=array([2, 3, 4])>"
      ]
     },
     "execution_count": 21,
     "metadata": {},
     "output_type": "execute_result"
    }
   ],
   "source": [
    "x = np.array([1., 2., 3.], np.float32)\n",
    "x = tf.convert_to_tensor(_x)\n",
    "x"
   ]
  },
  {
   "cell_type": "code",
   "execution_count": 22,
   "id": "a2492a5f",
   "metadata": {},
   "outputs": [
    {
     "ename": "InvalidArgumentError",
     "evalue": "Value for attr 'T' of int32 is not in the list of allowed values: bfloat16, half, float, double, complex64, complex128\n\t; NodeDef: {{node Exp}}; Op<name=Exp; signature=x:T -> y:T; attr=T:type,allowed=[DT_BFLOAT16, DT_HALF, DT_FLOAT, DT_DOUBLE, DT_COMPLEX64, DT_COMPLEX128]> [Op:Exp]",
     "output_type": "error",
     "traceback": [
      "\u001b[1;31m---------------------------------------------------------------------------\u001b[0m",
      "\u001b[1;31mInvalidArgumentError\u001b[0m                      Traceback (most recent call last)",
      "\u001b[1;32m<ipython-input-22-aa5f48f8c090>\u001b[0m in \u001b[0;36m<module>\u001b[1;34m\u001b[0m\n\u001b[1;32m----> 1\u001b[1;33m \u001b[0mout1\u001b[0m \u001b[1;33m=\u001b[0m \u001b[0mtf\u001b[0m\u001b[1;33m.\u001b[0m\u001b[0mmath\u001b[0m\u001b[1;33m.\u001b[0m\u001b[0mexp\u001b[0m\u001b[1;33m(\u001b[0m\u001b[0mx\u001b[0m\u001b[1;33m)\u001b[0m\u001b[1;33m\u001b[0m\u001b[1;33m\u001b[0m\u001b[0m\n\u001b[0m\u001b[0;32m      2\u001b[0m \u001b[0mout2\u001b[0m \u001b[1;33m=\u001b[0m \u001b[0mtf\u001b[0m\u001b[1;33m.\u001b[0m\u001b[0mmath\u001b[0m\u001b[1;33m.\u001b[0m\u001b[0mpow\u001b[0m\u001b[1;33m(\u001b[0m\u001b[0mnp\u001b[0m\u001b[1;33m.\u001b[0m\u001b[0me\u001b[0m\u001b[1;33m,\u001b[0m \u001b[0mx\u001b[0m\u001b[1;33m)\u001b[0m \u001b[1;31m#np.e = 2.718281828459045\u001b[0m\u001b[1;33m\u001b[0m\u001b[1;33m\u001b[0m\u001b[0m\n\u001b[0;32m      3\u001b[0m \u001b[0mtf\u001b[0m\u001b[1;33m.\u001b[0m\u001b[0mprint\u001b[0m\u001b[1;33m(\u001b[0m\u001b[0mout1\u001b[0m\u001b[1;33m)\u001b[0m\u001b[1;33m\u001b[0m\u001b[1;33m\u001b[0m\u001b[0m\n",
      "\u001b[1;32m~\\AppData\\Roaming\\Python\\Python38\\site-packages\\tensorflow\\python\\util\\dispatch.py\u001b[0m in \u001b[0;36mwrapper\u001b[1;34m(*args, **kwargs)\u001b[0m\n\u001b[0;32m    204\u001b[0m     \u001b[1;34m\"\"\"Call target, and fall back on dispatchers if there is a TypeError.\"\"\"\u001b[0m\u001b[1;33m\u001b[0m\u001b[1;33m\u001b[0m\u001b[0m\n\u001b[0;32m    205\u001b[0m     \u001b[1;32mtry\u001b[0m\u001b[1;33m:\u001b[0m\u001b[1;33m\u001b[0m\u001b[1;33m\u001b[0m\u001b[0m\n\u001b[1;32m--> 206\u001b[1;33m       \u001b[1;32mreturn\u001b[0m \u001b[0mtarget\u001b[0m\u001b[1;33m(\u001b[0m\u001b[1;33m*\u001b[0m\u001b[0margs\u001b[0m\u001b[1;33m,\u001b[0m \u001b[1;33m**\u001b[0m\u001b[0mkwargs\u001b[0m\u001b[1;33m)\u001b[0m\u001b[1;33m\u001b[0m\u001b[1;33m\u001b[0m\u001b[0m\n\u001b[0m\u001b[0;32m    207\u001b[0m     \u001b[1;32mexcept\u001b[0m \u001b[1;33m(\u001b[0m\u001b[0mTypeError\u001b[0m\u001b[1;33m,\u001b[0m \u001b[0mValueError\u001b[0m\u001b[1;33m)\u001b[0m\u001b[1;33m:\u001b[0m\u001b[1;33m\u001b[0m\u001b[1;33m\u001b[0m\u001b[0m\n\u001b[0;32m    208\u001b[0m       \u001b[1;31m# Note: convert_to_eager_tensor currently raises a ValueError, not a\u001b[0m\u001b[1;33m\u001b[0m\u001b[1;33m\u001b[0m\u001b[1;33m\u001b[0m\u001b[0m\n",
      "\u001b[1;32m~\\AppData\\Roaming\\Python\\Python38\\site-packages\\tensorflow\\python\\ops\\math_ops.py\u001b[0m in \u001b[0;36mexp\u001b[1;34m(x, name)\u001b[0m\n\u001b[0;32m   5374\u001b[0m   \u001b[1;33m@\u001b[0m\u001b[0mend_compatibility\u001b[0m\u001b[1;33m\u001b[0m\u001b[1;33m\u001b[0m\u001b[0m\n\u001b[0;32m   5375\u001b[0m   \"\"\"\n\u001b[1;32m-> 5376\u001b[1;33m   \u001b[1;32mreturn\u001b[0m \u001b[0mgen_math_ops\u001b[0m\u001b[1;33m.\u001b[0m\u001b[0mexp\u001b[0m\u001b[1;33m(\u001b[0m\u001b[0mx\u001b[0m\u001b[1;33m,\u001b[0m \u001b[0mname\u001b[0m\u001b[1;33m)\u001b[0m\u001b[1;33m\u001b[0m\u001b[1;33m\u001b[0m\u001b[0m\n\u001b[0m\u001b[0;32m   5377\u001b[0m \u001b[1;33m\u001b[0m\u001b[0m\n\u001b[0;32m   5378\u001b[0m \u001b[1;33m\u001b[0m\u001b[0m\n",
      "\u001b[1;32m~\\AppData\\Roaming\\Python\\Python38\\site-packages\\tensorflow\\python\\ops\\gen_math_ops.py\u001b[0m in \u001b[0;36mexp\u001b[1;34m(x, name)\u001b[0m\n\u001b[0;32m   3572\u001b[0m       \u001b[1;32mreturn\u001b[0m \u001b[0m_result\u001b[0m\u001b[1;33m\u001b[0m\u001b[1;33m\u001b[0m\u001b[0m\n\u001b[0;32m   3573\u001b[0m     \u001b[1;32mexcept\u001b[0m \u001b[0m_core\u001b[0m\u001b[1;33m.\u001b[0m\u001b[0m_NotOkStatusException\u001b[0m \u001b[1;32mas\u001b[0m \u001b[0me\u001b[0m\u001b[1;33m:\u001b[0m\u001b[1;33m\u001b[0m\u001b[1;33m\u001b[0m\u001b[0m\n\u001b[1;32m-> 3574\u001b[1;33m       \u001b[0m_ops\u001b[0m\u001b[1;33m.\u001b[0m\u001b[0mraise_from_not_ok_status\u001b[0m\u001b[1;33m(\u001b[0m\u001b[0me\u001b[0m\u001b[1;33m,\u001b[0m \u001b[0mname\u001b[0m\u001b[1;33m)\u001b[0m\u001b[1;33m\u001b[0m\u001b[1;33m\u001b[0m\u001b[0m\n\u001b[0m\u001b[0;32m   3575\u001b[0m     \u001b[1;32mexcept\u001b[0m \u001b[0m_core\u001b[0m\u001b[1;33m.\u001b[0m\u001b[0m_FallbackException\u001b[0m\u001b[1;33m:\u001b[0m\u001b[1;33m\u001b[0m\u001b[1;33m\u001b[0m\u001b[0m\n\u001b[0;32m   3576\u001b[0m       \u001b[1;32mpass\u001b[0m\u001b[1;33m\u001b[0m\u001b[1;33m\u001b[0m\u001b[0m\n",
      "\u001b[1;32m~\\AppData\\Roaming\\Python\\Python38\\site-packages\\tensorflow\\python\\framework\\ops.py\u001b[0m in \u001b[0;36mraise_from_not_ok_status\u001b[1;34m(e, name)\u001b[0m\n\u001b[0;32m   6939\u001b[0m   \u001b[0mmessage\u001b[0m \u001b[1;33m=\u001b[0m \u001b[0me\u001b[0m\u001b[1;33m.\u001b[0m\u001b[0mmessage\u001b[0m \u001b[1;33m+\u001b[0m \u001b[1;33m(\u001b[0m\u001b[1;34m\" name: \"\u001b[0m \u001b[1;33m+\u001b[0m \u001b[0mname\u001b[0m \u001b[1;32mif\u001b[0m \u001b[0mname\u001b[0m \u001b[1;32mis\u001b[0m \u001b[1;32mnot\u001b[0m \u001b[1;32mNone\u001b[0m \u001b[1;32melse\u001b[0m \u001b[1;34m\"\"\u001b[0m\u001b[1;33m)\u001b[0m\u001b[1;33m\u001b[0m\u001b[1;33m\u001b[0m\u001b[0m\n\u001b[0;32m   6940\u001b[0m   \u001b[1;31m# pylint: disable=protected-access\u001b[0m\u001b[1;33m\u001b[0m\u001b[1;33m\u001b[0m\u001b[1;33m\u001b[0m\u001b[0m\n\u001b[1;32m-> 6941\u001b[1;33m   \u001b[0msix\u001b[0m\u001b[1;33m.\u001b[0m\u001b[0mraise_from\u001b[0m\u001b[1;33m(\u001b[0m\u001b[0mcore\u001b[0m\u001b[1;33m.\u001b[0m\u001b[0m_status_to_exception\u001b[0m\u001b[1;33m(\u001b[0m\u001b[0me\u001b[0m\u001b[1;33m.\u001b[0m\u001b[0mcode\u001b[0m\u001b[1;33m,\u001b[0m \u001b[0mmessage\u001b[0m\u001b[1;33m)\u001b[0m\u001b[1;33m,\u001b[0m \u001b[1;32mNone\u001b[0m\u001b[1;33m)\u001b[0m\u001b[1;33m\u001b[0m\u001b[1;33m\u001b[0m\u001b[0m\n\u001b[0m\u001b[0;32m   6942\u001b[0m   \u001b[1;31m# pylint: enable=protected-access\u001b[0m\u001b[1;33m\u001b[0m\u001b[1;33m\u001b[0m\u001b[1;33m\u001b[0m\u001b[0m\n\u001b[0;32m   6943\u001b[0m \u001b[1;33m\u001b[0m\u001b[0m\n",
      "\u001b[1;32m~\\anaconda3\\lib\\site-packages\\six.py\u001b[0m in \u001b[0;36mraise_from\u001b[1;34m(value, from_value)\u001b[0m\n",
      "\u001b[1;31mInvalidArgumentError\u001b[0m: Value for attr 'T' of int32 is not in the list of allowed values: bfloat16, half, float, double, complex64, complex128\n\t; NodeDef: {{node Exp}}; Op<name=Exp; signature=x:T -> y:T; attr=T:type,allowed=[DT_BFLOAT16, DT_HALF, DT_FLOAT, DT_DOUBLE, DT_COMPLEX64, DT_COMPLEX128]> [Op:Exp]"
     ]
    }
   ],
   "source": [
    "out1 = tf.math.exp(_x)\n",
    "out2 = tf.math.pow(np.e, _x) #np.e = 2.718281828459045\n",
    "tf.print(out1)"
   ]
  },
  {
   "cell_type": "code",
   "execution_count": 18,
   "id": "651a2799",
   "metadata": {},
   "outputs": [
    {
     "name": "stdout",
     "output_type": "stream",
     "text": [
      "[2 5 4]\n",
      "[2 5 4]\n"
     ]
    }
   ],
   "source": [
    "_x = np.array([2, 3, 4])\n",
    "_y = np.array([1, 5, 2])\n",
    "x = tf.convert_to_tensor(_x)\n",
    "y = tf.convert_to_tensor(_y)\n",
    "out1 = tf.maximum(x, y)\n",
    "out2 = tf.where(x > y, x, y)\n",
    "tf.print(out1)\n",
    "tf.print(out2)"
   ]
  },
  {
   "cell_type": "code",
   "execution_count": null,
   "id": "c9fde9de",
   "metadata": {},
   "outputs": [],
   "source": []
  }
 ],
 "metadata": {
  "kernelspec": {
   "display_name": "Python 3",
   "language": "python",
   "name": "python3"
  },
  "language_info": {
   "codemirror_mode": {
    "name": "ipython",
    "version": 3
   },
   "file_extension": ".py",
   "mimetype": "text/x-python",
   "name": "python",
   "nbconvert_exporter": "python",
   "pygments_lexer": "ipython3",
   "version": "3.8.8"
  }
 },
 "nbformat": 4,
 "nbformat_minor": 5
}
